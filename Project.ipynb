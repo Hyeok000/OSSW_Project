{
 "cells": [
  {
   "cell_type": "code",
   "execution_count": 1,
   "id": "778ec32c",
   "metadata": {},
   "outputs": [],
   "source": [
    "import pandas as pd\n",
    "import numpy as np"
   ]
  },
  {
   "cell_type": "code",
   "execution_count": 2,
   "id": "b74f6ee1",
   "metadata": {},
   "outputs": [
    {
     "name": "stdout",
     "output_type": "stream",
     "text": [
      "<class 'pandas.core.frame.DataFrame'>\n",
      "RangeIndex: 56191 entries, 0 to 56190\n",
      "Data columns (total 17 columns):\n",
      " #   Column             Non-Null Count  Dtype              \n",
      "---  ------             --------------  -----              \n",
      " 0   video_id           56191 non-null  object             \n",
      " 1   title              56191 non-null  object             \n",
      " 2   publishedAt        56191 non-null  datetime64[ns, UTC]\n",
      " 3   channelId          56191 non-null  object             \n",
      " 4   channelTitle       56191 non-null  object             \n",
      " 5   categoryId         56191 non-null  int64              \n",
      " 6   trending_date      56191 non-null  datetime64[ns, UTC]\n",
      " 7   tags               56191 non-null  object             \n",
      " 8   view_count         56191 non-null  int64              \n",
      " 9   likes              56191 non-null  int64              \n",
      " 10  dislikes           56191 non-null  int64              \n",
      " 11  comment_count      56191 non-null  int64              \n",
      " 12  thumbnail_link     56191 non-null  object             \n",
      " 13  comments_disabled  56191 non-null  bool               \n",
      " 14  ratings_disabled   56191 non-null  bool               \n",
      " 15  description        55701 non-null  object             \n",
      " 16  country            56191 non-null  object             \n",
      "dtypes: bool(2), datetime64[ns, UTC](2), int64(5), object(8)\n",
      "memory usage: 6.5+ MB\n"
     ]
    }
   ],
   "source": [
    "#한국은 나중에 추가 예정\n",
    "countries = ['US']#, 'KR']\n",
    "\n",
    "df = pd.DataFrame()\n",
    "df1 = pd.DataFrame()\n",
    "\n",
    "for c in countries:\n",
    "    path = c + '_youtube_trending_data.csv'\n",
    "    df1 = pd.read_csv(path, parse_dates=['publishedAt','trending_date'])\n",
    "    df1['country'] = c\n",
    "    df = pd.concat([df, df1])\n",
    "\n",
    "#df = pd.read_csv('KR_youtube_trending_data.csv')\n",
    "df.info()"
   ]
  },
  {
   "cell_type": "code",
   "execution_count": 3,
   "id": "2ec50ada",
   "metadata": {},
   "outputs": [],
   "source": [
    "#카테고리 ID를 통해 카테고리 이름 추가\n",
    "import plotly.express as px\n",
    "import json\n",
    "\n",
    "with open(\"US_category_id.json\") as f:\n",
    "    categories = json.load(f)[\"items\"]\n",
    "cat_dict = {}\n",
    "for cat in categories:\n",
    "    cat_dict[int(cat[\"id\"])] = cat[\"snippet\"][\"title\"]\n",
    "df['category_name'] = df['categoryId'].map(cat_dict)"
   ]
  },
  {
   "cell_type": "code",
   "execution_count": 4,
   "id": "ed93bfc1",
   "metadata": {},
   "outputs": [
    {
     "name": "stdout",
     "output_type": "stream",
     "text": [
      "<class 'pandas.core.frame.DataFrame'>\n",
      "RangeIndex: 56191 entries, 0 to 56190\n",
      "Data columns (total 18 columns):\n",
      " #   Column             Non-Null Count  Dtype              \n",
      "---  ------             --------------  -----              \n",
      " 0   video_id           56191 non-null  object             \n",
      " 1   title              56191 non-null  object             \n",
      " 2   publishedAt        56191 non-null  datetime64[ns, UTC]\n",
      " 3   channelId          56191 non-null  object             \n",
      " 4   channelTitle       56191 non-null  object             \n",
      " 5   categoryId         56191 non-null  int64              \n",
      " 6   trending_date      56191 non-null  datetime64[ns, UTC]\n",
      " 7   tags               56191 non-null  object             \n",
      " 8   view_count         56191 non-null  int64              \n",
      " 9   likes              56191 non-null  int64              \n",
      " 10  dislikes           56191 non-null  int64              \n",
      " 11  comment_count      56191 non-null  int64              \n",
      " 12  thumbnail_link     56191 non-null  object             \n",
      " 13  comments_disabled  56191 non-null  bool               \n",
      " 14  ratings_disabled   56191 non-null  bool               \n",
      " 15  description        55701 non-null  object             \n",
      " 16  country            56191 non-null  object             \n",
      " 17  category_name      56191 non-null  object             \n",
      "dtypes: bool(2), datetime64[ns, UTC](2), int64(5), object(9)\n",
      "memory usage: 7.0+ MB\n"
     ]
    }
   ],
   "source": [
    "df.info()"
   ]
  },
  {
   "cell_type": "code",
   "execution_count": 5,
   "id": "65cefd0f",
   "metadata": {},
   "outputs": [
    {
     "data": {
      "text/html": [
       "<div>\n",
       "<style scoped>\n",
       "    .dataframe tbody tr th:only-of-type {\n",
       "        vertical-align: middle;\n",
       "    }\n",
       "\n",
       "    .dataframe tbody tr th {\n",
       "        vertical-align: top;\n",
       "    }\n",
       "\n",
       "    .dataframe thead th {\n",
       "        text-align: right;\n",
       "    }\n",
       "</style>\n",
       "<table border=\"1\" class=\"dataframe\">\n",
       "  <thead>\n",
       "    <tr style=\"text-align: right;\">\n",
       "      <th></th>\n",
       "      <th>video_id</th>\n",
       "      <th>title</th>\n",
       "      <th>publishedAt</th>\n",
       "      <th>channelId</th>\n",
       "      <th>channelTitle</th>\n",
       "      <th>categoryId</th>\n",
       "      <th>trending_date</th>\n",
       "      <th>tags</th>\n",
       "      <th>view_count</th>\n",
       "      <th>likes</th>\n",
       "      <th>dislikes</th>\n",
       "      <th>comment_count</th>\n",
       "      <th>thumbnail_link</th>\n",
       "      <th>comments_disabled</th>\n",
       "      <th>ratings_disabled</th>\n",
       "      <th>description</th>\n",
       "      <th>country</th>\n",
       "      <th>category_name</th>\n",
       "    </tr>\n",
       "  </thead>\n",
       "  <tbody>\n",
       "    <tr>\n",
       "      <th>0</th>\n",
       "      <td>3C66w5Z0ixs</td>\n",
       "      <td>I ASKED HER TO BE MY GIRLFRIEND...</td>\n",
       "      <td>2020-08-11 19:20:14+00:00</td>\n",
       "      <td>UCvtRTOMP2TqYqu51xNrqAzg</td>\n",
       "      <td>Brawadis</td>\n",
       "      <td>22</td>\n",
       "      <td>2020-08-12 00:00:00+00:00</td>\n",
       "      <td>brawadis|prank|basketball|skits|ghost|funny vi...</td>\n",
       "      <td>1514614</td>\n",
       "      <td>156908</td>\n",
       "      <td>5855</td>\n",
       "      <td>35313</td>\n",
       "      <td>https://i.ytimg.com/vi/3C66w5Z0ixs/default.jpg</td>\n",
       "      <td>False</td>\n",
       "      <td>False</td>\n",
       "      <td>SUBSCRIBE to BRAWADIS ▶ http://bit.ly/Subscrib...</td>\n",
       "      <td>US</td>\n",
       "      <td>People &amp; Blogs</td>\n",
       "    </tr>\n",
       "    <tr>\n",
       "      <th>1</th>\n",
       "      <td>M9Pmf9AB4Mo</td>\n",
       "      <td>Apex Legends | Stories from the Outlands – “Th...</td>\n",
       "      <td>2020-08-11 17:00:10+00:00</td>\n",
       "      <td>UC0ZV6M2THA81QT9hrVWJG3A</td>\n",
       "      <td>Apex Legends</td>\n",
       "      <td>20</td>\n",
       "      <td>2020-08-12 00:00:00+00:00</td>\n",
       "      <td>Apex Legends|Apex Legends characters|new Apex ...</td>\n",
       "      <td>2381688</td>\n",
       "      <td>146739</td>\n",
       "      <td>2794</td>\n",
       "      <td>16549</td>\n",
       "      <td>https://i.ytimg.com/vi/M9Pmf9AB4Mo/default.jpg</td>\n",
       "      <td>False</td>\n",
       "      <td>False</td>\n",
       "      <td>While running her own modding shop, Ramya Pare...</td>\n",
       "      <td>US</td>\n",
       "      <td>Gaming</td>\n",
       "    </tr>\n",
       "    <tr>\n",
       "      <th>2</th>\n",
       "      <td>J78aPJ3VyNs</td>\n",
       "      <td>I left youtube for a month and THIS is what ha...</td>\n",
       "      <td>2020-08-11 16:34:06+00:00</td>\n",
       "      <td>UCYzPXprvl5Y-Sf0g4vX-m6g</td>\n",
       "      <td>jacksepticeye</td>\n",
       "      <td>24</td>\n",
       "      <td>2020-08-12 00:00:00+00:00</td>\n",
       "      <td>jacksepticeye|funny|funny meme|memes|jacksepti...</td>\n",
       "      <td>2038853</td>\n",
       "      <td>353787</td>\n",
       "      <td>2628</td>\n",
       "      <td>40221</td>\n",
       "      <td>https://i.ytimg.com/vi/J78aPJ3VyNs/default.jpg</td>\n",
       "      <td>False</td>\n",
       "      <td>False</td>\n",
       "      <td>I left youtube for a month and this is what ha...</td>\n",
       "      <td>US</td>\n",
       "      <td>Entertainment</td>\n",
       "    </tr>\n",
       "    <tr>\n",
       "      <th>3</th>\n",
       "      <td>kXLn3HkpjaA</td>\n",
       "      <td>XXL 2020 Freshman Class Revealed - Official An...</td>\n",
       "      <td>2020-08-11 16:38:55+00:00</td>\n",
       "      <td>UCbg_UMjlHJg_19SZckaKajg</td>\n",
       "      <td>XXL</td>\n",
       "      <td>10</td>\n",
       "      <td>2020-08-12 00:00:00+00:00</td>\n",
       "      <td>xxl freshman|xxl freshmen|2020 xxl freshman|20...</td>\n",
       "      <td>496771</td>\n",
       "      <td>23251</td>\n",
       "      <td>1856</td>\n",
       "      <td>7647</td>\n",
       "      <td>https://i.ytimg.com/vi/kXLn3HkpjaA/default.jpg</td>\n",
       "      <td>False</td>\n",
       "      <td>False</td>\n",
       "      <td>Subscribe to XXL → http://bit.ly/subscribe-xxl...</td>\n",
       "      <td>US</td>\n",
       "      <td>Music</td>\n",
       "    </tr>\n",
       "    <tr>\n",
       "      <th>4</th>\n",
       "      <td>VIUo6yapDbc</td>\n",
       "      <td>Ultimate DIY Home Movie Theater for The LaBran...</td>\n",
       "      <td>2020-08-11 15:10:05+00:00</td>\n",
       "      <td>UCDVPcEbVLQgLZX0Rt6jo34A</td>\n",
       "      <td>Mr. Kate</td>\n",
       "      <td>26</td>\n",
       "      <td>2020-08-12 00:00:00+00:00</td>\n",
       "      <td>The LaBrant Family|DIY|Interior Design|Makeove...</td>\n",
       "      <td>1123889</td>\n",
       "      <td>45802</td>\n",
       "      <td>964</td>\n",
       "      <td>2196</td>\n",
       "      <td>https://i.ytimg.com/vi/VIUo6yapDbc/default.jpg</td>\n",
       "      <td>False</td>\n",
       "      <td>False</td>\n",
       "      <td>Transforming The LaBrant Family's empty white ...</td>\n",
       "      <td>US</td>\n",
       "      <td>Howto &amp; Style</td>\n",
       "    </tr>\n",
       "  </tbody>\n",
       "</table>\n",
       "</div>"
      ],
      "text/plain": [
       "      video_id                                              title  \\\n",
       "0  3C66w5Z0ixs                 I ASKED HER TO BE MY GIRLFRIEND...   \n",
       "1  M9Pmf9AB4Mo  Apex Legends | Stories from the Outlands – “Th...   \n",
       "2  J78aPJ3VyNs  I left youtube for a month and THIS is what ha...   \n",
       "3  kXLn3HkpjaA  XXL 2020 Freshman Class Revealed - Official An...   \n",
       "4  VIUo6yapDbc  Ultimate DIY Home Movie Theater for The LaBran...   \n",
       "\n",
       "                publishedAt                 channelId   channelTitle  \\\n",
       "0 2020-08-11 19:20:14+00:00  UCvtRTOMP2TqYqu51xNrqAzg       Brawadis   \n",
       "1 2020-08-11 17:00:10+00:00  UC0ZV6M2THA81QT9hrVWJG3A   Apex Legends   \n",
       "2 2020-08-11 16:34:06+00:00  UCYzPXprvl5Y-Sf0g4vX-m6g  jacksepticeye   \n",
       "3 2020-08-11 16:38:55+00:00  UCbg_UMjlHJg_19SZckaKajg            XXL   \n",
       "4 2020-08-11 15:10:05+00:00  UCDVPcEbVLQgLZX0Rt6jo34A       Mr. Kate   \n",
       "\n",
       "   categoryId             trending_date  \\\n",
       "0          22 2020-08-12 00:00:00+00:00   \n",
       "1          20 2020-08-12 00:00:00+00:00   \n",
       "2          24 2020-08-12 00:00:00+00:00   \n",
       "3          10 2020-08-12 00:00:00+00:00   \n",
       "4          26 2020-08-12 00:00:00+00:00   \n",
       "\n",
       "                                                tags  view_count   likes  \\\n",
       "0  brawadis|prank|basketball|skits|ghost|funny vi...     1514614  156908   \n",
       "1  Apex Legends|Apex Legends characters|new Apex ...     2381688  146739   \n",
       "2  jacksepticeye|funny|funny meme|memes|jacksepti...     2038853  353787   \n",
       "3  xxl freshman|xxl freshmen|2020 xxl freshman|20...      496771   23251   \n",
       "4  The LaBrant Family|DIY|Interior Design|Makeove...     1123889   45802   \n",
       "\n",
       "   dislikes  comment_count                                  thumbnail_link  \\\n",
       "0      5855          35313  https://i.ytimg.com/vi/3C66w5Z0ixs/default.jpg   \n",
       "1      2794          16549  https://i.ytimg.com/vi/M9Pmf9AB4Mo/default.jpg   \n",
       "2      2628          40221  https://i.ytimg.com/vi/J78aPJ3VyNs/default.jpg   \n",
       "3      1856           7647  https://i.ytimg.com/vi/kXLn3HkpjaA/default.jpg   \n",
       "4       964           2196  https://i.ytimg.com/vi/VIUo6yapDbc/default.jpg   \n",
       "\n",
       "   comments_disabled  ratings_disabled  \\\n",
       "0              False             False   \n",
       "1              False             False   \n",
       "2              False             False   \n",
       "3              False             False   \n",
       "4              False             False   \n",
       "\n",
       "                                         description country   category_name  \n",
       "0  SUBSCRIBE to BRAWADIS ▶ http://bit.ly/Subscrib...      US  People & Blogs  \n",
       "1  While running her own modding shop, Ramya Pare...      US          Gaming  \n",
       "2  I left youtube for a month and this is what ha...      US   Entertainment  \n",
       "3  Subscribe to XXL → http://bit.ly/subscribe-xxl...      US           Music  \n",
       "4  Transforming The LaBrant Family's empty white ...      US   Howto & Style  "
      ]
     },
     "execution_count": 5,
     "metadata": {},
     "output_type": "execute_result"
    }
   ],
   "source": [
    "df.head()"
   ]
  },
  {
   "cell_type": "code",
   "execution_count": 6,
   "id": "1ad37ef5",
   "metadata": {},
   "outputs": [
    {
     "data": {
      "text/plain": [
       "(56191, 18)"
      ]
     },
     "execution_count": 6,
     "metadata": {},
     "output_type": "execute_result"
    }
   ],
   "source": [
    "df.shape"
   ]
  },
  {
   "cell_type": "code",
   "execution_count": 7,
   "id": "e1746577",
   "metadata": {
    "scrolled": true
   },
   "outputs": [
    {
     "data": {
      "text/plain": [
       "Index(['video_id', 'title', 'publishedAt', 'channelId', 'channelTitle',\n",
       "       'categoryId', 'trending_date', 'tags', 'view_count', 'likes',\n",
       "       'dislikes', 'comment_count', 'thumbnail_link', 'comments_disabled',\n",
       "       'ratings_disabled', 'description', 'country', 'category_name'],\n",
       "      dtype='object')"
      ]
     },
     "execution_count": 7,
     "metadata": {},
     "output_type": "execute_result"
    }
   ],
   "source": [
    "df.columns"
   ]
  },
  {
   "cell_type": "code",
   "execution_count": 8,
   "id": "5f61ed5a",
   "metadata": {},
   "outputs": [],
   "source": [
    "#사용하지 않는 열 삭제\n",
    "df = df.drop(columns=['video_id', 'publishedAt', 'channelId',\n",
    "       'categoryId', 'trending_date', 'view_count', 'likes',\n",
    "       'dislikes', 'comment_count', 'thumbnail_link', 'comments_disabled',\n",
    "       'ratings_disabled'])"
   ]
  },
  {
   "cell_type": "code",
   "execution_count": 9,
   "id": "2adc9759",
   "metadata": {},
   "outputs": [
    {
     "data": {
      "text/plain": [
       "Index(['title', 'channelTitle', 'tags', 'description', 'country',\n",
       "       'category_name'],\n",
       "      dtype='object')"
      ]
     },
     "execution_count": 9,
     "metadata": {},
     "output_type": "execute_result"
    }
   ],
   "source": [
    "df.columns"
   ]
  },
  {
   "cell_type": "code",
   "execution_count": 10,
   "id": "dd9f9f5c",
   "metadata": {
    "scrolled": false
   },
   "outputs": [
    {
     "name": "stdout",
     "output_type": "stream",
     "text": [
      "<class 'pandas.core.frame.DataFrame'>\n",
      "RangeIndex: 56191 entries, 0 to 56190\n",
      "Data columns (total 6 columns):\n",
      " #   Column         Non-Null Count  Dtype \n",
      "---  ------         --------------  ----- \n",
      " 0   title          56191 non-null  object\n",
      " 1   channelTitle   56191 non-null  object\n",
      " 2   tags           56191 non-null  object\n",
      " 3   description    55701 non-null  object\n",
      " 4   country        56191 non-null  object\n",
      " 5   category_name  56191 non-null  object\n",
      "dtypes: object(6)\n",
      "memory usage: 2.6+ MB\n"
     ]
    }
   ],
   "source": [
    "df.info()"
   ]
  },
  {
   "cell_type": "code",
   "execution_count": 11,
   "id": "6ce6f41f",
   "metadata": {},
   "outputs": [
    {
     "data": {
      "text/plain": [
       "title              0\n",
       "channelTitle       0\n",
       "tags               0\n",
       "description      490\n",
       "country            0\n",
       "category_name      0\n",
       "dtype: int64"
      ]
     },
     "execution_count": 11,
     "metadata": {},
     "output_type": "execute_result"
    }
   ],
   "source": [
    "#null 값의 개수 확인\n",
    "df.isnull().sum()"
   ]
  },
  {
   "cell_type": "code",
   "execution_count": 12,
   "id": "98f5c65e",
   "metadata": {},
   "outputs": [],
   "source": [
    "#title이 중복되는 행 삭제\n",
    "df = df.drop_duplicates(subset='title', keep=\"first\")"
   ]
  },
  {
   "cell_type": "code",
   "execution_count": 13,
   "id": "485a3d78",
   "metadata": {
    "scrolled": true
   },
   "outputs": [
    {
     "name": "stdout",
     "output_type": "stream",
     "text": [
      "<class 'pandas.core.frame.DataFrame'>\n",
      "Int64Index: 9863 entries, 0 to 56125\n",
      "Data columns (total 6 columns):\n",
      " #   Column         Non-Null Count  Dtype \n",
      "---  ------         --------------  ----- \n",
      " 0   title          9863 non-null   object\n",
      " 1   channelTitle   9863 non-null   object\n",
      " 2   tags           9863 non-null   object\n",
      " 3   description    9774 non-null   object\n",
      " 4   country        9863 non-null   object\n",
      " 5   category_name  9863 non-null   object\n",
      "dtypes: object(6)\n",
      "memory usage: 539.4+ KB\n"
     ]
    }
   ],
   "source": [
    "df.info()"
   ]
  },
  {
   "cell_type": "code",
   "execution_count": 14,
   "id": "8d1d1ef9",
   "metadata": {},
   "outputs": [
    {
     "data": {
      "text/plain": [
       "title             0\n",
       "channelTitle      0\n",
       "tags              0\n",
       "description      89\n",
       "country           0\n",
       "category_name     0\n",
       "dtype: int64"
      ]
     },
     "execution_count": 14,
     "metadata": {},
     "output_type": "execute_result"
    }
   ],
   "source": [
    "df.isnull().sum()"
   ]
  },
  {
   "cell_type": "code",
   "execution_count": 15,
   "id": "0fefb717",
   "metadata": {},
   "outputs": [],
   "source": [
    "#NaN 값을 공백으로 채움\n",
    "df = df.fillna('')"
   ]
  },
  {
   "cell_type": "code",
   "execution_count": 16,
   "id": "aa0f5dc5",
   "metadata": {},
   "outputs": [
    {
     "data": {
      "text/plain": [
       "title            0\n",
       "channelTitle     0\n",
       "tags             0\n",
       "description      0\n",
       "country          0\n",
       "category_name    0\n",
       "dtype: int64"
      ]
     },
     "execution_count": 16,
     "metadata": {},
     "output_type": "execute_result"
    }
   ],
   "source": [
    "#null 값 존재X\n",
    "df.isnull().sum()"
   ]
  },
  {
   "cell_type": "code",
   "execution_count": 17,
   "id": "3da2d9ad",
   "metadata": {},
   "outputs": [
    {
     "name": "stdout",
     "output_type": "stream",
     "text": [
      "<class 'pandas.core.frame.DataFrame'>\n",
      "Int64Index: 9863 entries, 0 to 56125\n",
      "Data columns (total 6 columns):\n",
      " #   Column         Non-Null Count  Dtype \n",
      "---  ------         --------------  ----- \n",
      " 0   title          9863 non-null   object\n",
      " 1   channelTitle   9863 non-null   object\n",
      " 2   tags           9863 non-null   object\n",
      " 3   description    9863 non-null   object\n",
      " 4   country        9863 non-null   object\n",
      " 5   category_name  9863 non-null   object\n",
      "dtypes: object(6)\n",
      "memory usage: 539.4+ KB\n"
     ]
    }
   ],
   "source": [
    "df.info()"
   ]
  },
  {
   "cell_type": "code",
   "execution_count": 18,
   "id": "f615f01d",
   "metadata": {},
   "outputs": [],
   "source": [
    "#제목,채널 이름, 태그, 설명, 국가, 카테고리를 개요로 그룹화\n",
    "df['overview'] = df['title']+\" \"+df['channelTitle']+\" \"+ df['tags']+\" \"+df['description']+\" \"+df['country']+\" \"+df['category_name'] "
   ]
  },
  {
   "cell_type": "code",
   "execution_count": 19,
   "id": "2fdb25e2",
   "metadata": {},
   "outputs": [
    {
     "data": {
      "text/html": [
       "<div>\n",
       "<style scoped>\n",
       "    .dataframe tbody tr th:only-of-type {\n",
       "        vertical-align: middle;\n",
       "    }\n",
       "\n",
       "    .dataframe tbody tr th {\n",
       "        vertical-align: top;\n",
       "    }\n",
       "\n",
       "    .dataframe thead th {\n",
       "        text-align: right;\n",
       "    }\n",
       "</style>\n",
       "<table border=\"1\" class=\"dataframe\">\n",
       "  <thead>\n",
       "    <tr style=\"text-align: right;\">\n",
       "      <th></th>\n",
       "      <th>title</th>\n",
       "      <th>channelTitle</th>\n",
       "      <th>tags</th>\n",
       "      <th>description</th>\n",
       "      <th>country</th>\n",
       "      <th>category_name</th>\n",
       "      <th>overview</th>\n",
       "    </tr>\n",
       "  </thead>\n",
       "  <tbody>\n",
       "    <tr>\n",
       "      <th>0</th>\n",
       "      <td>I ASKED HER TO BE MY GIRLFRIEND...</td>\n",
       "      <td>Brawadis</td>\n",
       "      <td>brawadis|prank|basketball|skits|ghost|funny vi...</td>\n",
       "      <td>SUBSCRIBE to BRAWADIS ▶ http://bit.ly/Subscrib...</td>\n",
       "      <td>US</td>\n",
       "      <td>People &amp; Blogs</td>\n",
       "      <td>I ASKED HER TO BE MY GIRLFRIEND... Brawadis br...</td>\n",
       "    </tr>\n",
       "    <tr>\n",
       "      <th>1</th>\n",
       "      <td>Apex Legends | Stories from the Outlands – “Th...</td>\n",
       "      <td>Apex Legends</td>\n",
       "      <td>Apex Legends|Apex Legends characters|new Apex ...</td>\n",
       "      <td>While running her own modding shop, Ramya Pare...</td>\n",
       "      <td>US</td>\n",
       "      <td>Gaming</td>\n",
       "      <td>Apex Legends | Stories from the Outlands – “Th...</td>\n",
       "    </tr>\n",
       "    <tr>\n",
       "      <th>2</th>\n",
       "      <td>I left youtube for a month and THIS is what ha...</td>\n",
       "      <td>jacksepticeye</td>\n",
       "      <td>jacksepticeye|funny|funny meme|memes|jacksepti...</td>\n",
       "      <td>I left youtube for a month and this is what ha...</td>\n",
       "      <td>US</td>\n",
       "      <td>Entertainment</td>\n",
       "      <td>I left youtube for a month and THIS is what ha...</td>\n",
       "    </tr>\n",
       "    <tr>\n",
       "      <th>3</th>\n",
       "      <td>XXL 2020 Freshman Class Revealed - Official An...</td>\n",
       "      <td>XXL</td>\n",
       "      <td>xxl freshman|xxl freshmen|2020 xxl freshman|20...</td>\n",
       "      <td>Subscribe to XXL → http://bit.ly/subscribe-xxl...</td>\n",
       "      <td>US</td>\n",
       "      <td>Music</td>\n",
       "      <td>XXL 2020 Freshman Class Revealed - Official An...</td>\n",
       "    </tr>\n",
       "    <tr>\n",
       "      <th>4</th>\n",
       "      <td>Ultimate DIY Home Movie Theater for The LaBran...</td>\n",
       "      <td>Mr. Kate</td>\n",
       "      <td>The LaBrant Family|DIY|Interior Design|Makeove...</td>\n",
       "      <td>Transforming The LaBrant Family's empty white ...</td>\n",
       "      <td>US</td>\n",
       "      <td>Howto &amp; Style</td>\n",
       "      <td>Ultimate DIY Home Movie Theater for The LaBran...</td>\n",
       "    </tr>\n",
       "  </tbody>\n",
       "</table>\n",
       "</div>"
      ],
      "text/plain": [
       "                                               title   channelTitle  \\\n",
       "0                 I ASKED HER TO BE MY GIRLFRIEND...       Brawadis   \n",
       "1  Apex Legends | Stories from the Outlands – “Th...   Apex Legends   \n",
       "2  I left youtube for a month and THIS is what ha...  jacksepticeye   \n",
       "3  XXL 2020 Freshman Class Revealed - Official An...            XXL   \n",
       "4  Ultimate DIY Home Movie Theater for The LaBran...       Mr. Kate   \n",
       "\n",
       "                                                tags  \\\n",
       "0  brawadis|prank|basketball|skits|ghost|funny vi...   \n",
       "1  Apex Legends|Apex Legends characters|new Apex ...   \n",
       "2  jacksepticeye|funny|funny meme|memes|jacksepti...   \n",
       "3  xxl freshman|xxl freshmen|2020 xxl freshman|20...   \n",
       "4  The LaBrant Family|DIY|Interior Design|Makeove...   \n",
       "\n",
       "                                         description country   category_name  \\\n",
       "0  SUBSCRIBE to BRAWADIS ▶ http://bit.ly/Subscrib...      US  People & Blogs   \n",
       "1  While running her own modding shop, Ramya Pare...      US          Gaming   \n",
       "2  I left youtube for a month and this is what ha...      US   Entertainment   \n",
       "3  Subscribe to XXL → http://bit.ly/subscribe-xxl...      US           Music   \n",
       "4  Transforming The LaBrant Family's empty white ...      US   Howto & Style   \n",
       "\n",
       "                                            overview  \n",
       "0  I ASKED HER TO BE MY GIRLFRIEND... Brawadis br...  \n",
       "1  Apex Legends | Stories from the Outlands – “Th...  \n",
       "2  I left youtube for a month and THIS is what ha...  \n",
       "3  XXL 2020 Freshman Class Revealed - Official An...  \n",
       "4  Ultimate DIY Home Movie Theater for The LaBran...  "
      ]
     },
     "execution_count": 19,
     "metadata": {},
     "output_type": "execute_result"
    }
   ],
   "source": [
    "df.head()"
   ]
  },
  {
   "cell_type": "code",
   "execution_count": 20,
   "id": "169b0c43",
   "metadata": {},
   "outputs": [
    {
     "data": {
      "text/html": [
       "<div>\n",
       "<style scoped>\n",
       "    .dataframe tbody tr th:only-of-type {\n",
       "        vertical-align: middle;\n",
       "    }\n",
       "\n",
       "    .dataframe tbody tr th {\n",
       "        vertical-align: top;\n",
       "    }\n",
       "\n",
       "    .dataframe thead th {\n",
       "        text-align: right;\n",
       "    }\n",
       "</style>\n",
       "<table border=\"1\" class=\"dataframe\">\n",
       "  <thead>\n",
       "    <tr style=\"text-align: right;\">\n",
       "      <th></th>\n",
       "      <th>title</th>\n",
       "      <th>overview</th>\n",
       "    </tr>\n",
       "  </thead>\n",
       "  <tbody>\n",
       "    <tr>\n",
       "      <th>0</th>\n",
       "      <td>I ASKED HER TO BE MY GIRLFRIEND...</td>\n",
       "      <td>I ASKED HER TO BE MY GIRLFRIEND... Brawadis br...</td>\n",
       "    </tr>\n",
       "    <tr>\n",
       "      <th>1</th>\n",
       "      <td>Apex Legends | Stories from the Outlands – “Th...</td>\n",
       "      <td>Apex Legends | Stories from the Outlands – “Th...</td>\n",
       "    </tr>\n",
       "    <tr>\n",
       "      <th>2</th>\n",
       "      <td>I left youtube for a month and THIS is what ha...</td>\n",
       "      <td>I left youtube for a month and THIS is what ha...</td>\n",
       "    </tr>\n",
       "    <tr>\n",
       "      <th>3</th>\n",
       "      <td>XXL 2020 Freshman Class Revealed - Official An...</td>\n",
       "      <td>XXL 2020 Freshman Class Revealed - Official An...</td>\n",
       "    </tr>\n",
       "    <tr>\n",
       "      <th>4</th>\n",
       "      <td>Ultimate DIY Home Movie Theater for The LaBran...</td>\n",
       "      <td>Ultimate DIY Home Movie Theater for The LaBran...</td>\n",
       "    </tr>\n",
       "  </tbody>\n",
       "</table>\n",
       "</div>"
      ],
      "text/plain": [
       "                                               title  \\\n",
       "0                 I ASKED HER TO BE MY GIRLFRIEND...   \n",
       "1  Apex Legends | Stories from the Outlands – “Th...   \n",
       "2  I left youtube for a month and THIS is what ha...   \n",
       "3  XXL 2020 Freshman Class Revealed - Official An...   \n",
       "4  Ultimate DIY Home Movie Theater for The LaBran...   \n",
       "\n",
       "                                            overview  \n",
       "0  I ASKED HER TO BE MY GIRLFRIEND... Brawadis br...  \n",
       "1  Apex Legends | Stories from the Outlands – “Th...  \n",
       "2  I left youtube for a month and THIS is what ha...  \n",
       "3  XXL 2020 Freshman Class Revealed - Official An...  \n",
       "4  Ultimate DIY Home Movie Theater for The LaBran...  "
      ]
     },
     "execution_count": 20,
     "metadata": {},
     "output_type": "execute_result"
    }
   ],
   "source": [
    "#채널 이름, 태그. 설명, 국가, 카테고리 열 삭제\n",
    "df.drop(columns=['channelTitle', 'tags', 'description', 'country', 'category_name'], inplace=True)\n",
    "df.head()"
   ]
  },
  {
   "cell_type": "code",
   "execution_count": 21,
   "id": "1c2570a0",
   "metadata": {},
   "outputs": [
    {
     "name": "stderr",
     "output_type": "stream",
     "text": [
      "C:\\Users\\hyok0\\anaconda3\\lib\\site-packages\\past\\builtins\\misc.py:45: DeprecationWarning: the imp module is deprecated in favour of importlib; see the module's documentation for alternative uses\n",
      "  from imp import reload\n"
     ]
    }
   ],
   "source": [
    "import warnings\n",
    "warnings.filterwarnings(\"ignore\")\n",
    "\n",
    "# Importing modules\n",
    "import pandas as pd\n",
    "import numpy as np\n",
    "import os\n",
    "import re\n",
    "\n",
    "# LDA Model\n",
    "import gensim\n",
    "from gensim.utils import simple_preprocess\n",
    "import gensim.corpora as corpora\n",
    "from pprint import pprint\n",
    "from gensim.models import CoherenceModel\n",
    "import spacy\n",
    "from nltk.corpus import stopwords\n",
    "\n",
    "# Import the wordcloud library\n",
    "from wordcloud import WordCloud\n",
    "#!pip install pyLDAvis\n",
    "#!python -m spacy download en\n",
    "\n",
    "# Visualize the topics\n",
    "import pyLDAvis\n",
    "import pyLDAvis.gensim_models\n",
    "import pickle \n",
    "import pyLDAvis"
   ]
  },
  {
   "cell_type": "code",
   "execution_count": 22,
   "id": "092f2bd8",
   "metadata": {},
   "outputs": [],
   "source": [
    "# Remove Non-english words\n",
    "\n",
    "df['overview']= df['overview'].map(lambda x: re.sub('([^\\x00-\\x7F])+ ','', x))\n",
    "\n",
    "# Tokenization(토큰화)\n",
    "def sentence_to_words(sentences):\n",
    " for sentence in sentences:\n",
    "  yield(gensim.utils.simple_preprocess(str(sentence), deacc=True)) # deacc=True removes punctuations and special characters\n",
    "\n",
    "all_words = list(sentence_to_words(df['overview']))\n",
    "\n",
    "# remove stopwords(불용어 제거)\n",
    "import nltk\n",
    "#nltk.download('stopwords')\n",
    "\n",
    "stop_words = stopwords.words('english')\n",
    "\n",
    "# stop_words.extend(['']) #extend existing stop word list if needed\n",
    "def remove_stopwords(texts):\n",
    " return [[word for word in simple_preprocess(str(doc)) if word not in stop_words] for doc in texts]\n",
    "\n",
    "# Building  the bigram \n",
    "bigram = gensim.models.Phrases(all_words, min_count=5, threshold=10) \n",
    "\n",
    "bigram_mod = gensim.models.phrases.Phraser(bigram)\n",
    "def create_bigrams(texts):\n",
    " return [bigram_mod[doc] for doc in texts]\n",
    "\n",
    "# Lemmatization(명사, 형용사, 동사, 부사 표제어 추출)\n",
    "def lemmatization(texts, allowed_postags=['NOUN', 'ADJ', 'VERB', 'ADV']):\n",
    " texts_out = []\n",
    " for sent in texts:\n",
    "  doc = nlp(\" \".join(sent)) \n",
    "  texts_out.append([token.lemma_ for token in doc if token.pos_ in allowed_postags])\n",
    " return texts_out"
   ]
  },
  {
   "cell_type": "code",
   "execution_count": 23,
   "id": "dec5baf5",
   "metadata": {},
   "outputs": [
    {
     "name": "stdout",
     "output_type": "stream",
     "text": [
      "[['ask', 'girlfriend', 'prank', 'basketball_skit', 'ghost', 'funny_video', 'vlog_vlogge', 'brother_mama', 'rug', 'subscribe', 'brawadi', 'http_bit', 'ly', 'follow', 'social', 'twitter', 'https', 'www_instagram', 'com', 'brandon_awadi', 'make', 'dope_vlog', 'pranks_reaction', 'challenge', 'basketball', 'video', 'forget', 'subscribe', 'come', 'part', 'brawadsquad', 'us_people', 'blog']]\n"
     ]
    }
   ],
   "source": [
    "all_words_nostops = remove_stopwords(all_words)\n",
    "all_words_bigrams = create_bigrams(all_words_nostops)\n",
    "nlp = spacy.load(\"en_core_web_sm\", disable=['parser', 'ner'])\n",
    "data_lemmatized = lemmatization(all_words_bigrams, allowed_postags=['NOUN', 'ADJ', 'VERB', 'ADV'])\n",
    "print(data_lemmatized[:1])"
   ]
  },
  {
   "cell_type": "code",
   "execution_count": 24,
   "id": "ee9e6ca9",
   "metadata": {},
   "outputs": [
    {
     "name": "stdout",
     "output_type": "stream",
     "text": [
      "basketball\n",
      "['apex_legend', 'story', 'outland', 'endorsementapex', 'legends_character', 'new', 'apex_legend', 'apex_legend', 'apex_legend', 'boost', 'season_battle', 'legend', 'new', 'season_apex', 'legend', 'game_respawn', 'apex_legend', 'game', 'battle_royale', 'games_squad', 'legends_ps', 'apex_legend', 'legends_pc', 'apex_legend', 'entertainment_electronic', 'arts_titanfall', 'fun', 'run', 'modding', 'shop', 'ramya', 'aka', 'build', 'circuit', 'success', 'way', 'make', 'enemy', 'good', 'thing', 'know', 'use', 'fancy', 'weapon', 'upgrade', 'free', 'play', 'battle_royale', 'game', 'legendary_character', 'battle', 'glory_fame', 'fortune', 'fringe', 'frontier_play', 'free', 'apex_legend', 'season_booste', 'com', 'check', 'channel', 'follow', 'twitter', 'https', 'twitter', 'follow', 'meetrampart', 'apexlegends_us', 'gaming']\n",
      "[(9, 1), (12, 2), (18, 1), (20, 1), (27, 2), (32, 1), (33, 8), (34, 1), (35, 1), (36, 1), (37, 2), (38, 1), (39, 1), (40, 1), (41, 1), (42, 1), (43, 1), (44, 1), (45, 1), (46, 1), (47, 2), (48, 1), (49, 1), (50, 1), (51, 2), (52, 1), (53, 1), (54, 1), (55, 1), (56, 1), (57, 1), (58, 2), (59, 1), (60, 1), (61, 1), (62, 1), (63, 1), (64, 2), (65, 1), (66, 1), (67, 1), (68, 1), (69, 1), (70, 1), (71, 1), (72, 1), (73, 1), (74, 1), (75, 1), (76, 1), (77, 1), (78, 1)]\n"
     ]
    }
   ],
   "source": [
    "# Create Dictionary\n",
    "id2word = corpora.Dictionary(data_lemmatized)\n",
    "\n",
    "# Filter out tokens that appear in only 1 documents and appear in more than 90% of the documents\n",
    "id2word.filter_extremes(no_below=2, no_above=0.9) #2개의 이상의 문서들, 0.9이상의 문서들\n",
    "\n",
    "print(id2word[1])\n",
    "\n",
    "# Create Corpus(말뭉치 생성)\n",
    "texts = data_lemmatized\n",
    "\n",
    "print(texts[1])\n",
    "\n",
    "# Term Document Frequency(단어 출현 횟수)\n",
    "corpus = [id2word.doc2bow(text) for text in texts]\n",
    "\n",
    "print(corpus[1])"
   ]
  },
  {
   "cell_type": "code",
   "execution_count": 25,
   "id": "93165e6a",
   "metadata": {},
   "outputs": [],
   "source": [
    "# Building LDA model for 10 topics\n",
    "lda_model = gensim.models.LdaMulticore(corpus=corpus,\n",
    "                                       id2word=id2word,\n",
    "                                       num_topics=10, \n",
    "                                       random_state=100,\n",
    "                                       chunksize=100,\n",
    "                                       passes=10,\n",
    "                                       per_word_topics=True)"
   ]
  },
  {
   "cell_type": "code",
   "execution_count": 26,
   "id": "719350f6",
   "metadata": {},
   "outputs": [
    {
     "data": {
      "text/html": [
       "\n",
       "<link rel=\"stylesheet\" type=\"text/css\" href=\"https://cdn.jsdelivr.net/gh/bmabey/pyLDAvis@3.3.1/pyLDAvis/js/ldavis.v1.0.0.css\">\n",
       "\n",
       "\n",
       "<div id=\"ldavis_el3107225939641081449587564029\"></div>\n",
       "<script type=\"text/javascript\">\n",
       "\n",
       "var ldavis_el3107225939641081449587564029_data = {\"mdsDat\": {\"x\": [-0.08415118787532241, -0.08626043267477203, -0.07438005984745817, -0.06509528054667853, 0.03719571184159876, -0.06682110142073715, 0.02670207968184121, 0.06106894387259888, -0.0625236113674152, 0.314264938336344], \"y\": [0.06701189451564984, -0.00967892032129373, -0.022555523132278134, 0.012378689370235603, 0.08939248656292074, -0.0619245170787384, 0.04620649167705503, 0.18324398917546067, -0.21127263667646323, -0.09280195409254927], \"topics\": [1, 2, 3, 4, 5, 6, 7, 8, 9, 10], \"cluster\": [1, 1, 1, 1, 1, 1, 1, 1, 1, 1], \"Freq\": [21.813169892207103, 15.102356206292505, 15.01819404726582, 11.238771587776371, 10.93878611348817, 6.6310161195012265, 6.472419599712468, 5.2455537307929445, 4.503539604072271, 3.0361930988911365]}, \"tinfo\": {\"Term\": [\"com\", \"minecraft\", \"https\", \"highlight\", \"game\", \"http_bit\", \"news\", \"http\", \"get\", \"ly\", \"us_sport\", \"fortnite\", \"new\", \"tiktok\", \"com_playlist\", \"know\", \"game_highlight\", \"video\", \"laker\", \"go\", \"iphone\", \"season\", \"www\", \"music\", \"news_politic\", \"youtube\", \"say\", \"apex_legend\", \"los_angele\", \"among_us\", \"brit\", \"yestheory\", \"drivers_license\", \"video_foxnew\", \"sideman\", \"coldplay\", \"american_idol\", \"kodak_black\", \"music_award\", \"willow\", \"mileyl_ink\", \"lil_skie\", \"merrell_twin\", \"enhypen\", \"deja_vu\", \"wendover_production\", \"stereo\", \"shopmrbeast\", \"stray_kid\", \"thekidlaroi_lnk\", \"hometown\", \"unspeakable\", \"ariana_grande\", \"smallant\", \"miss_universe\", \"sidemen_sideman\", \"mtv_mtv\", \"olivia_rodrigo\", \"confidence\", \"tee_grizzley\", \"treasure\", \"drew_barrymore\", \"button\", \"fox_new\", \"little_mix\", \"prank\", \"taylor_swift\", \"open_spotify\", \"life_hack\", \"tiktok\", \"com\", \"album\", \"artist\", \"www_instagram\", \"music\", \"tik_tok\", \"https\", \"vlog\", \"song\", \"twitter\", \"www\", \"www_facebook\", \"http\", \"com_user\", \"pregnant\", \"merch\", \"video\", \"www_youtube\", \"us_comedy\", \"blog\", \"us_music\", \"us_people\", \"channel\", \"us_entertainment\", \"follow\", \"official\", \"watch\", \"comedy\", \"subscribe\", \"youtube\", \"new\", \"live\", \"none\", \"thank\", \"show\", \"make\", \"go\", \"get\", \"facebook\", \"minecraft\", \"minecraft_challenge\", \"minecraft_minecraft\", \"minecraft_hardcore\", \"hardcore_minecraft\", \"minecraft_comment\", \"davido\", \"minecraft_survival\", \"cabin\", \"minecraft_day\", \"dodo\", \"smarter_every\", \"road_recovery\", \"yea\", \"mob\", \"survived_day\", \"cold_war\", \"luke_thenotable\", \"ranboo\", \"hermitcraft\", \"dream_minecraft\", \"getty\", \"ore\", \"black_friday\", \"challenge_minecraft\", \"minecraft_manhunt\", \"water_rise\", \"minecraft_dream\", \"vs_hunter\", \"georgenotfound\", \"tommyinnit\", \"warzone\", \"billie_eilish\", \"supercar\", \"complex\", \"random\", \"org\", \"building\", \"build\", \"animal\", \"item\", \"use\", \"day\", \"dream\", \"link\", \"computer\", \"https\", \"com\", \"make\", \"us_gaming\", \"video\", \"patreon\", \"www_twitch\", \"world\", \"support\", \"buy\", \"people\", \"find\", \"get\", \"go\", \"challenge\", \"technology\", \"check\", \"today\", \"new\", \"work\", \"follow\", \"time\", \"thank\", \"twitter\", \"channel\", \"watch\", \"http\", \"good\", \"live\", \"genshin_impact\", \"mlb\", \"brit_award\", \"cool_kick\", \"pt_undispute\", \"undisputed\", \"lawyer\", \"tmz\", \"nas_cr\", \"starship\", \"dua_lipa\", \"mrbeast_game\", \"rick_shiel\", \"riverdale\", \"future_minecraft\", \"goin\", \"jelly\", \"kcqkvzd_follow\", \"rnf\", \"list_plg\", \"aaron_rodger\", \"nocap\", \"skip_shannon\", \"dualipa_co\", \"juju_de\", \"bryce_hall\", \"feel_somethe\", \"tryna\", \"genshin_mihoyo\", \"dodger\", \"fuck\", \"via_warner\", \"buccaneer\", \"verse\", \"niggas\", \"gon\", \"shit\", \"bout\", \"young_thug\", \"bitch\", \"http_foxs\", \"cause\", \"lie\", \"say\", \"savage\", \"chess\", \"never\", \"know\", \"feel\", \"tell\", \"ass\", \"get\", \"golf\", \"love\", \"put\", \"need\", \"hold\", \"still\", \"go\", \"lyric\", \"come\", \"think\", \"see\", \"want\", \"let\", \"heart\", \"take\", \"give\", \"keep\", \"baby\", \"back\", \"https\", \"com\", \"make\", \"good\", \"video\", \"channel\", \"youtube\", \"time\", \"twitter\", \"music\", \"www_facebook\", \"impostor\", \"gamebanana_com\", \"funkin\", \"among_us\", \"falcon_winter\", \"returnal\", \"marvel_studio\", \"resident_evil\", \"miles_morale\", \"fortnite_update\", \"valorant\", \"speedrun\", \"chrisfix\", \"crewmate\", \"warhammer\", \"tankman\", \"donut_media\", \"total_war\", \"fortnite_chapter\", \"man_mile\", \"gamestop\", \"top_gear\", \"sarvente\", \"ford_lightne\", \"ugh\", \"factors_beyond\", \"automotive\", \"ac_dc\", \"trailer_reaction\", \"good_mythical\", \"doll\", \"sim\", \"wandavision\", \"tire\", \"marvel\", \"mythical\", \"playstation\", \"console\", \"mod\", \"trailer\", \"easter_egg\", \"xbox_serie\", \"theory\", \"information_containe\", \"animation\", \"tesla\", \"car\", \"game\", \"character\", \"explain\", \"vehicle\", \"review\", \"movie\", \"meme\", \"truck\", \"gameplay\", \"us_gaming\", \"com\", \"video\", \"https\", \"new\", \"https_amzn\", \"link\", \"learn\", \"play\", \"use\", \"twitter\", \"http\", \"make\", \"episode\", \"www_facebook\", \"watch\", \"get\", \"www\", \"see\", \"channel\", \"music\", \"time\", \"lil_na\", \"saunder\", \"espn\", \"bein_sport\", \"australian_open\", \"pbc\", \"com_nbaontnt\", \"march_madness\", \"friends_reunion\", \"youtubetvespn\", \"scores_highlight\", \"news_coverage\", \"com_espnfollow\", \"minute_sport\", \"com_espnvisit\", \"jeopardy\", \"bedwar\", \"kamaru_usman\", \"conor_mcgregor\", \"dazn_boxe\", \"uefa_champion\", \"max_kellerman\", \"eternal\", \"pawn_star\", \"disneyland\", \"tnt_nba\", \"vogue\", \"adult_swim\", \"late_show\", \"dustin_poiri\", \"boxing\", \"hbo_max\", \"espn_fc\", \"football\", \"spur\", \"mulan\", \"soccer\", \"champion\", \"knockout\", \"award\", \"fighter\", \"interview\", \"fight\", \"highlight\", \"us_sport\", \"ly\", \"http_bit\", \"goal\", \"former\", \"box\", \"sport\", \"youtube\", \"show\", \"race\", \"tv\", \"news\", \"win\", \"facebook\", \"http\", \"com\", \"live\", \"subscribe\", \"twitter\", \"us_entertainment\", \"follow\", \"watch\", \"https\", \"channel\", \"www_facebook\", \"world\", \"season\", \"get\", \"www\", \"today\", \"new\", \"item_shop\", \"thief\", \"hot_one\", \"brawl_star\", \"update_fortnite\", \"nail_polish\", \"food_theorist\", \"nail_video\", \"five_night\", \"yungblud_lnk\", \"brawler\", \"siege\", \"diy_nail\", \"dawn\", \"patch\", \"zhc_craft\", \"cbs_new\", \"mountain_dew\", \"sean_evan\", \"huggie\", \"nail_art\", \"cannibalism\", \"alex_meyer\", \"fortnite_item\", \"fnaf\", \"objective\", \"diaper\", \"full_face\", \"fortnite_battle\", \"mythic_weapon\", \"civilization\", \"fortnite\", \"puppy\", \"pizza\", \"nail\", \"chocolate\", \"hot_sauce\", \"cosmetic\", \"pokemon\", \"feast\", \"cake\", \"oscar\", \"dog\", \"rtx\", \"paint\", \"unlock\", \"skin\", \"affiliate_link\", \"makeup\", \"food_theory\", \"cat\", \"new\", \"product\", \"http_bit\", \"video\", \"art\", \"https\", \"com\", \"ly\", \"challenge\", \"update\", \"make\", \"game\", \"season\", \"www\", \"us_gaming\", \"use\", \"http\", \"channel\", \"tiktok\", \"subscribe\", \"https_amzn\", \"twitter\", \"today\", \"style\", \"follow\", \"watch\", \"get\", \"good\", \"rocket_league\", \"dude_perfect\", \"com_nflpodcast\", \"com_nflfilmsnfl\", \"com_playfootballnfl\", \"com_vault\", \"game_sport\", \"td_game\", \"landing\", \"american_football\", \"trick_shot\", \"vat\", \"vs_iphone\", \"week_highlight\", \"bottle_flip\", \"apex_legend\", \"spacex\", \"cbs_evene\", \"book_go\", \"stereotypes_battle\", \"dude_dudeperfect\", \"fun_dude\", \"perfect_pride\", \"team_b\", \"always_go\", \"noggin_dude\", \"contact_u\", \"ly_newdpvidsread\", \"entertainment_possible\", \"media_please\", \"iphone\", \"prime_video\", \"palestinian\", \"god_bless\", \"trump\", \"president_trump\", \"pro_max\", \"donald_trump\", \"best_play\", \"news_politic\", \"highlights_week\", \"apple_iphone\", \"breaking_new\", \"mar\", \"news\", \"arrest\", \"io\", \"flight\", \"apple\", \"launch\", \"technology\", \"network\", \"rocket\", \"mission\", \"pro\", \"legend\", \"new\", \"minute\", \"http_bit\", \"https\", \"watch\", \"com\", \"app\", \"free\", \"video\", \"live\", \"subscribe\", \"http\", \"facebook\", \"ly\", \"twitter\", \"take\", \"game\", \"roblox\", \"nbcsport\", \"spice_ke\", \"new_rockstar\", \"video_oficial\", \"myke_tower\", \"champana_mucho\", \"itzy\", \"rauw_alejandro\", \"sky_sport\", \"sports_group\", \"ibighit_com\", \"lo_que\", \"anuel_aa\", \"quiere\", \"soccer_premi\", \"list_ploieydz\", \"invincible\", \"pam_pam\", \"jealous\", \"audiomack\", \"roland_garro\", \"por\", \"carnale\", \"nbc_sport\", \"tiene\", \"good_morne\", \"pl_xeo\", \"peacocktv_com\", \"tigre\", \"que\", \"voy\", \"dio\", \"es_que\", \"todo\", \"que_yo\", \"porque\", \"eso\", \"league_highlight\", \"premier_league\", \"faze_clan\", \"fox\", \"manchester_unite\", \"lele_pon\", \"boss\", \"star_war\", \"voice\", \"com_playlist\", \"talent\", \"playlist_list\", \"https\", \"com\", \"highlight\", \"sport\", \"www_youtube\", \"us_music\", \"http\", \"twitter\", \"www\", \"www_facebook\", \"youtube\", \"season\", \"list\", \"smarturl\", \"music\", \"http_bit\", \"new\", \"video\", \"watch\", \"ly\", \"facebook\", \"channel\", \"tiktok\", \"https_smo\", \"sh_sub\", \"tryguy\", \"boil\", \"try_guy\", \"steak\", \"dj_khale\", \"pooh_shiesty\", \"pretend\", \"gordon_ramsay\", \"door_open\", \"arianagrande_lnk\", \"bon_appetit\", \"zach_eugene\", \"try_guys\", \"supercell_net\", \"latto\", \"khaled_khale\", \"cordae\", \"meat\", \"clash_royale\", \"tablespoon\", \"burger\", \"asmr_eate\", \"djkhale\", \"smosh_clothe\", \"smoshcast_us\", \"smosh_channel\", \"records_artist\", \"share_card\", \"kitchen_nightmare\", \"foogiano\", \"clan\", \"fry\", \"fish\", \"lil_tjay\", \"clash\", \"adopt\", \"cook\", \"cooking\", \"village\", \"bruno_mar\", \"duck\", \"food\", \"pilot\", \"recipe\", \"chef\", \"eat\", \"kitchen\", \"sauce\", \"http\", \"try\", \"makeup\", \"new\", \"make\", \"amzn\", \"com\", \"https\", \"www\", \"video\", \"subscribe\", \"get\", \"know\", \"game\", \"follow\", \"want\", \"twitter\", \"nba_league\", \"ast\", \"com_rjgmge\", \"link_nbasite\", \"pts_reb\", \"reb_ast\", \"triple_double\", \"noah_beck\", \"yt_stream\", \"daylight\", \"nba_season\", \"pt\", \"highlights_full\", \"tallied_pt\", \"game_recap\", \"double_double\", \"lakers_full\", \"golden_state\", \"germain\", \"nhl\", \"rebound_offense\", \"shot_steal\", \"deadbydaylight\", \"ly_snlitune\", \"com_nbcsnlsnl\", \"com_nbcnbc\", \"basketball_game\", \"current_full\", \"com_snlsnl\", \"gl_tusxwmstream\", \"full_game\", \"laker\", \"snl\", \"clipper\", \"news_storie\", \"denver_nugget\", \"saturday_night\", \"game_highlight\", \"lebron_jame\", \"nugget\", \"houston_rocket\", \"babish\", \"warrior\", \"royal_family\", \"los_angele\", \"blazer\", \"dead\", \"highlight\", \"wedding\", \"pass\", \"basketball\", \"game\", \"us_sport\", \"playlist\", \"https\", \"season\", \"net\", \"get\", \"go\", \"com\", \"new\", \"live\", \"play\", \"http\"], \"Freq\": [30897.0, 1451.0, 22907.0, 1451.0, 2674.0, 3204.0, 1505.0, 5991.0, 5003.0, 2255.0, 1014.0, 548.0, 4133.0, 2148.0, 746.0, 1974.0, 386.0, 7382.0, 294.0, 2603.0, 366.0, 996.0, 3796.0, 3084.0, 473.0, 2653.0, 1219.0, 340.0, 317.0, 417.0, 94.08915127268797, 92.5800024133217, 68.9245881541978, 89.674705080068, 73.91632626785011, 65.21842754630106, 60.52827496363364, 58.95511247285214, 59.03423526135082, 52.50316461826295, 55.17897944874603, 50.169230734832865, 51.57379772444691, 47.36540596356817, 46.252901708600085, 45.986618513110855, 45.52721612583691, 45.68929420613574, 54.74068830847175, 45.714064735948696, 43.205065566116794, 56.88205730567937, 40.99050658213143, 40.358416359656246, 39.309462371297435, 40.2181467388221, 39.40124324697151, 39.02141402146557, 38.38123873270354, 37.79366184518418, 74.9947797053498, 47.299577847539034, 58.6404747780812, 121.18271506984955, 66.57177323755364, 232.07890466828428, 133.82962086273076, 296.1732221869077, 66.84479037952174, 1500.6671528055474, 16586.875570258795, 456.26359738362027, 490.12612418134256, 1497.0975635610616, 1862.0903156760724, 331.1870416374188, 10537.32545749837, 387.68456678133754, 764.5792986407392, 2810.2097477480297, 1891.5656525249933, 1625.2701930251985, 2558.4122888052184, 360.61650970106376, 154.1686595870233, 427.9634922589577, 2617.958840982477, 634.9516170757016, 272.727240159045, 462.346581267826, 440.31051008163837, 401.69055186363084, 1239.9884715680103, 636.4478956527945, 986.781482868598, 600.8245479483966, 979.3416629003024, 250.46508159165552, 803.8042467358426, 714.5811447905672, 800.5622520786454, 517.7621712424321, 424.6206139894313, 418.9123406653052, 446.45017170958397, 485.14471866981154, 443.26211791241303, 456.7811802023692, 429.0904647552029, 1448.7061341825731, 152.50668745713372, 119.99188385651009, 101.37679855761193, 76.54017256425716, 75.58130208153824, 68.99823460632838, 68.3623636267654, 67.22312552025686, 61.162925671097064, 58.15782800082717, 62.861327996853525, 58.614854458314106, 56.09127879868054, 65.77661063773012, 55.270800695676385, 55.15535678154368, 53.608443111653344, 53.13346923909269, 52.89092428590134, 51.880676104434805, 95.58749494078432, 46.97528118087188, 45.319726584620675, 47.19780993910296, 42.77256083781705, 42.46036396354694, 42.19420493733177, 41.91627185515361, 40.58200776997817, 68.66069967579566, 95.99139872866282, 108.98709020228489, 55.08823236980456, 86.79409506308117, 107.56340985253486, 114.60203465168902, 115.31632138364726, 364.46763831066346, 147.49979639339782, 155.99986726904248, 556.413809369302, 536.2978332574099, 257.2426928404944, 376.30753544222114, 84.81743284788911, 2647.5454893993374, 3075.3084377553446, 710.7053081903521, 366.8129750910283, 1239.2071633162288, 227.571184337159, 248.35770897668337, 391.9733441490055, 308.0583790487256, 280.08367781187184, 288.71251674341124, 369.53889541295644, 713.2454580749317, 469.1681926021712, 314.0259875059197, 204.20591657435983, 317.6828947555742, 288.6626981251579, 543.6548702651891, 243.55557315354457, 412.4001049680278, 304.5850355378739, 278.2861539454643, 475.19391878301866, 359.9794773132045, 332.86394935792845, 380.82591861541397, 294.615003607655, 265.0257665827063, 91.86017596387335, 84.38973696767525, 59.69164533379674, 50.6526806369428, 103.9516181742709, 55.36737523692892, 45.40557841639484, 44.389379892959454, 43.090601542936085, 43.04900034939354, 43.28507139521249, 42.716968978614574, 43.512150166988285, 39.025920747077045, 41.0769702032363, 56.312637359822176, 37.10511615142899, 38.85447719865853, 38.300692056581596, 37.908603863504375, 36.268160841165745, 36.670654550294245, 56.74408165945437, 37.24495555367457, 35.79463532275196, 34.646605768450286, 34.27802092294677, 50.09894618076067, 32.88179744939792, 32.768335583113846, 307.3546387774583, 53.31212779607047, 49.39873247011342, 115.08856150282769, 107.21844931847087, 97.01828269771224, 245.76703089951476, 120.39717552900714, 84.77388834593054, 328.28075767645726, 113.71269586985136, 279.53876830838715, 199.02540509279828, 878.9904466218833, 155.96891813858963, 81.32668697277981, 418.8013531449887, 1253.8772542810216, 388.8990365760446, 472.8009367138315, 95.19966682903883, 2447.77751952963, 139.0340928228176, 830.7947200127963, 326.0981395634754, 420.67894950607655, 214.13142369351772, 321.0991507610476, 1064.104493691485, 318.66863688114097, 595.5574512003452, 407.00377582658143, 739.9363060369084, 627.7014677464753, 437.4359687028703, 228.4840471538459, 584.8138542676661, 419.75749186460257, 382.36057999830064, 376.68418911941137, 391.7410006608442, 2496.0476649583843, 2600.0958606329227, 695.5128026106519, 519.023658218667, 957.2188419952615, 614.9308166565426, 506.1424760997793, 425.8517253341768, 549.6840211042316, 472.707340736788, 437.06587818813875, 133.8467483166041, 104.58496857135975, 115.09971498030635, 412.12648806798285, 61.4245980404042, 59.23654527334764, 55.6822145792755, 52.705609603570544, 55.680478702363246, 51.622498271269436, 48.2041907135451, 46.35722214131644, 46.86827055165564, 46.944251981436956, 44.25298679339316, 40.30924848268646, 50.810000778530686, 39.34954505786185, 40.940420467835274, 39.44700405982485, 38.409855535226065, 36.26978481572477, 43.92768613748206, 35.37665383232804, 33.21926004297233, 35.06046987701265, 34.07353460422654, 31.709792351534208, 36.438950260111916, 33.56074362336231, 79.28412972164662, 59.20862844567912, 93.99369185638453, 43.01412401670037, 211.29513242343674, 42.75864220441166, 162.79189340327306, 100.26205494674291, 226.97241246869183, 539.072585706951, 76.3636261457896, 87.89948764554133, 177.39023446818837, 67.26174520875297, 532.0264069628308, 88.2468950732347, 404.9698557883046, 1141.0791969840677, 155.34547231464438, 182.01950136216252, 181.58320275685455, 295.32112453070266, 264.7114832183833, 145.47274154353755, 136.08117443294634, 153.1989824204946, 356.77691480662526, 2710.7348191908923, 1129.743108588706, 2170.6715787936578, 657.2134588645373, 216.8156672452527, 267.12127306453976, 196.30295703264022, 258.74965189372284, 262.8981745935817, 441.90467557619263, 442.48557406701383, 337.7342826054909, 226.4635551009334, 325.2353619497114, 303.6492282936834, 340.213382580699, 289.2600313910392, 237.1053105810279, 250.3700340868474, 223.72376122029127, 208.24527254955302, 144.58993110870975, 107.52759779226253, 136.54708167242822, 85.6267877486589, 75.60719922896475, 59.41867712347902, 60.531820925361195, 54.27395397312013, 50.77352086006413, 56.11492156624116, 58.012821107370584, 58.98849084621021, 56.10715140641609, 58.00183690714833, 52.74262876918239, 44.214046619632725, 43.88938944983722, 44.874696966570546, 43.646846668891776, 78.7074886558699, 60.951483391978165, 46.98629544772965, 57.34457867581888, 37.347197191487396, 35.83015275082793, 37.4316135281895, 114.47443339331926, 34.750823694232544, 34.36782083298367, 36.59229728155124, 65.45177406951147, 53.65148555744122, 45.60507896023364, 280.148634552836, 59.893269277802894, 42.65714373475041, 128.70720323052635, 183.6491737837108, 107.64030637105547, 218.5582390195793, 69.0083399637744, 453.3345606297027, 387.2209852393274, 788.723984626704, 585.0377012133739, 1124.7683431906937, 1498.4698583960958, 247.70095094589195, 82.70609368719069, 173.67069023471788, 329.8112049764241, 765.7471051715295, 554.2411483378214, 162.45117013582205, 339.0021096425777, 477.13013435339957, 274.0908807049998, 518.2640140449922, 1106.0332326393757, 2487.7651132295673, 488.8543630338004, 600.1322942665952, 876.7136393228161, 410.09602304688974, 578.4728586568197, 589.8265866587868, 1338.9529681573667, 420.58915264283195, 422.90180238072804, 288.10880497154903, 255.0850958326653, 404.0747529008593, 357.46981203285054, 250.82267020431019, 251.31033568511447, 112.64508165792765, 106.92031196461829, 94.01108452731377, 68.70695690145541, 43.26897644373169, 44.866098038951066, 45.720098010308725, 40.04822281516369, 36.77663886396951, 44.83586734567468, 33.28606537147037, 60.2532523631816, 34.13878839750152, 30.030360301233326, 41.67921637249775, 30.860480078546676, 85.27694173232153, 28.19283071062405, 31.812875927723976, 27.6516138894616, 26.467287908711672, 24.733885969068062, 24.77409263315304, 24.06330537126026, 24.565571410648552, 24.07043783495001, 24.718386222393434, 24.257790726680927, 23.163869842171312, 22.95011182738963, 24.175310590095894, 509.8330330918359, 128.62122109004014, 97.55318868771096, 115.15211763254428, 59.051275575279185, 50.025483733464796, 71.58938320754397, 111.5844535026011, 42.44242158182474, 115.24915494585159, 66.61378812223172, 211.6313663390094, 50.46639057525632, 153.62065113085325, 63.87112545678797, 211.03446153722606, 96.64187625064694, 161.18506461497225, 63.51464971341025, 109.82322731922426, 655.8570653875723, 182.95057400953098, 399.36273939895045, 609.0512110442128, 124.73274616804495, 1015.2274990122756, 1122.5385088550222, 288.86554823502235, 212.09209874432392, 183.659618306875, 311.9870313909842, 288.7857194055379, 170.85329423274885, 267.90828994173154, 165.6411035578875, 178.94480968463765, 257.1407710033201, 210.01360035553185, 190.11107257317298, 191.43492523564115, 136.54805535371682, 185.40468915721368, 147.7795504018599, 131.60636645791976, 154.04412306140316, 154.92894875623057, 143.764844826804, 137.75080620744603, 169.68941758903645, 237.83586762568538, 86.61967053014789, 86.61947521733383, 86.61884816040451, 81.86592624984894, 80.22820774476803, 78.62533201775204, 76.91272132810346, 65.73857712707938, 76.77780129207977, 68.2292009920768, 56.344621849366355, 56.98492921118578, 59.673014331191126, 334.17185723314134, 56.09213377890433, 40.00546882928318, 41.69432074306435, 41.6941948176974, 41.6938632998946, 41.69270427253752, 41.69185363383421, 42.46469358951607, 42.5562850196853, 41.68918350207366, 41.68908584566663, 41.68803218443293, 41.68743596636897, 41.68655705870574, 357.22824710272903, 49.41140243628967, 44.103108538973416, 43.54212387871413, 149.75127903278482, 54.06256123091254, 65.35089147080528, 65.61408576736396, 81.82223271742085, 347.6339882545825, 69.69519327530675, 54.60581354358014, 102.8817238168835, 79.47393535594847, 722.447707712829, 75.40951167417455, 139.93967814108407, 112.21947526244723, 233.7941670478833, 156.85705731707765, 201.03578789376596, 148.18452075693602, 131.657181270607, 102.61931591139192, 122.10938631296158, 127.57938894069221, 337.23773387344573, 123.35615024203844, 302.101267013902, 620.3643198835777, 280.2005739039334, 533.4086290762837, 130.73720651830678, 160.48014085663263, 270.5919441445212, 167.4707668176083, 174.6651451621288, 190.90343196328067, 146.53225658701902, 148.72357384410148, 158.8416411002955, 138.42343392672254, 141.94786393593702, 108.4843346128165, 221.75866258920965, 75.7475258031719, 78.16163400479668, 94.32189029830523, 73.19939536108987, 47.738706221801976, 76.5753112096537, 63.77675376008784, 123.66367173954954, 43.72898189444244, 44.798868768425194, 46.29831079433783, 57.99475254930747, 40.79283927936011, 35.07280887952281, 41.01694975859304, 32.45007352892492, 30.708940341680453, 30.531017423900554, 40.28560504680466, 29.059809461076725, 96.86687991955974, 30.4257811812266, 137.09933677944346, 35.600733373418194, 27.42080293726517, 29.21934774659896, 28.369218357466174, 28.090551737148242, 105.58546529317803, 51.166803850878274, 33.40064461859309, 33.70357762051678, 55.08586509427088, 43.89987753803662, 35.474146630543345, 58.24287739468189, 38.29533686955624, 136.79865108897394, 51.947197853441324, 155.17179477390252, 123.41842945122107, 41.80511666787248, 133.54140328249832, 162.8205016046278, 215.29688611205833, 339.7499702588017, 89.24527412372022, 100.85810506217784, 1357.1854363411267, 1253.9876280396863, 259.83502509635036, 173.88542176493212, 183.0856274357366, 154.03078538691028, 330.22396899308694, 327.900128148667, 259.70854249209714, 232.73459004903754, 213.71869446049007, 152.3262610907039, 119.89996865740807, 124.00107254245115, 188.41715829382449, 185.17436492802725, 189.43475091758344, 176.58467817468338, 132.85484650908865, 128.48149927390804, 125.20423185881562, 126.20130500857407, 123.8627014731558, 113.3929214142404, 106.93249223912264, 104.55839840467671, 83.91724325431393, 80.82163003101005, 60.33747463861935, 85.13562574965424, 63.826509943358104, 47.403605693406526, 59.567435529569885, 46.967664930365046, 45.21424585663821, 37.05320889312329, 39.156658748433635, 40.93304842456263, 35.37749933513621, 31.243677826210305, 30.76568330111886, 30.6935242096245, 30.008751347262283, 30.139486726588636, 28.598657484590532, 56.03257703806812, 51.2690362948944, 26.348396762207038, 27.077002597999428, 27.075527372483176, 27.074061087727628, 25.35932868556942, 26.010241098991326, 100.45732153775518, 51.52125157806574, 99.60928680862342, 34.950159583892514, 98.52320611388491, 66.30161291593986, 161.76818752319278, 60.82400937833579, 168.91105423397673, 68.1029043987832, 76.81379456932424, 62.211043230998335, 56.525538396578995, 217.7759879251964, 92.38168314418594, 192.00176323913192, 86.04882789540939, 175.0978174528408, 86.56845775494982, 63.651313949200116, 433.87014008317095, 188.30910032119468, 100.87506964091503, 227.1278519595602, 202.24923400218427, 102.7420506808069, 375.69843240197275, 325.3165162657062, 173.73726255708084, 198.0191526872088, 157.6064994513029, 178.9128042824335, 105.91113549927657, 97.59469738580356, 97.09935778494527, 94.15711079446312, 97.8890200755891, 185.37521368286693, 88.40148582686962, 86.43813202994764, 85.32088065106778, 82.03470762535466, 75.58269326819737, 54.62603227533433, 51.344551192336745, 48.744491606848314, 142.32764709510622, 54.34415405186342, 50.592340672151124, 43.28532704771206, 47.294372690752255, 38.90773243875712, 36.76688770503922, 43.134345828365994, 38.801493450126564, 37.05371826681318, 63.43990694324234, 32.564310274798935, 32.564310274798935, 34.83907790581126, 37.64446182311527, 37.642549844403334, 37.64193984362891, 40.92826958890859, 37.634328094834984, 37.63377595974667, 37.632215997291915, 159.08136417505028, 283.61529350229154, 157.97863708338443, 74.91539099809944, 98.18822252038763, 53.254793933689335, 132.4211187870563, 314.8738356371402, 125.28337676091505, 52.00917717445202, 43.32724109301886, 94.34810128152859, 117.53823791622285, 61.4826435097836, 201.11496963364024, 56.906779360578184, 149.1369627754403, 315.11044842765034, 85.3818903727914, 129.3968651452461, 100.21074398135868, 330.2355357719847, 204.10755145658538, 116.13344229877367, 399.347147939451, 133.09553371440543, 79.85988850067851, 158.73513448648282, 137.3926202764874, 151.0965842356081, 102.5343213186061, 95.74916456222358, 93.3153338043716, 92.02196820981123], \"Total\": [30897.0, 1451.0, 22907.0, 1451.0, 2674.0, 3204.0, 1505.0, 5991.0, 5003.0, 2255.0, 1014.0, 548.0, 4133.0, 2148.0, 746.0, 1974.0, 386.0, 7382.0, 294.0, 2603.0, 366.0, 996.0, 3796.0, 3084.0, 473.0, 2653.0, 1219.0, 340.0, 317.0, 417.0, 94.98130924110134, 93.53392646659464, 69.81108206857745, 90.91996674922622, 74.99540616602322, 66.18548099116818, 61.430196845519646, 59.8410531297604, 59.95890056992962, 53.39422770594901, 56.14300121037064, 51.055130563180455, 52.512110312656695, 48.25130122805764, 47.13965473170379, 46.88050006617408, 46.41348173969129, 46.61022557900878, 55.84780440696528, 46.64554556472085, 44.098580499700866, 58.070932165026456, 41.87758719466064, 41.24528301817948, 40.19563661480144, 41.12487662816572, 40.29327555886778, 39.9076084454113, 39.27273324632671, 38.68016738720107, 77.1532690523847, 48.45848758162625, 60.30614252223886, 127.42456311658431, 68.88665243090512, 260.009862822341, 145.96187577458286, 344.3596373420207, 70.81384208847153, 2148.1454970295304, 30897.509583676096, 585.6092030865723, 655.3460355420472, 2372.7040748568556, 3084.0128382195053, 437.098207081316, 22907.98407824925, 523.9535767914494, 1193.2542086635074, 5932.4093816547675, 3796.0842756440484, 3418.8586903643536, 5991.070940749394, 556.6047908978849, 197.37758404403974, 719.3621476455677, 7382.40953551691, 1224.2886278062163, 419.37812040575704, 855.967860248858, 810.8973966426192, 727.9243129058166, 3350.308972854718, 1514.583686535248, 2872.440883895019, 1411.5060173541667, 3111.21386972898, 397.7317508411905, 2851.2709636477434, 2653.1149116536085, 4133.324760192575, 1973.4705784828493, 1115.7459504060346, 1189.4764105119798, 1703.85374030242, 3023.420464002521, 2603.5344384204054, 5003.826145787481, 1723.504224845992, 1451.3744543706946, 153.53955824290554, 120.90029130856459, 102.2653677216825, 77.42863060100466, 76.46987252782871, 69.95717481143731, 69.31732827121034, 68.18318173772956, 62.05138776201802, 59.04754481574585, 63.82345321106406, 59.51222889207092, 56.982053765106606, 66.83372274094283, 56.159238490486466, 56.0685979585229, 54.49709655698487, 54.02407543305626, 53.77947598613763, 52.76943889605552, 97.25500294476629, 47.86380173625151, 46.20910103493101, 48.1254334533481, 43.66099761622029, 43.348850820493915, 43.08275747501154, 42.804701124940365, 41.47054505285117, 70.31937026523502, 100.18921719771062, 114.45931619841399, 56.72848848584649, 95.8776375487201, 124.5607514081523, 142.92827271511453, 147.58085775249492, 646.279716980117, 209.0208382060702, 235.0050389067104, 1455.2794614354837, 1397.8160000061082, 520.636471865913, 1012.1347475533495, 107.19009183749343, 22907.98407824925, 30897.509583676096, 3023.420464002521, 1063.1151157035106, 7382.40953551691, 505.68635212841957, 600.7599474611054, 1291.8863999545495, 861.9806749200699, 773.6567363579267, 819.6284604003262, 1327.8666844998386, 5003.826145787481, 2603.5344384204054, 1203.7456809759876, 483.61123202435334, 1252.9573214898164, 1038.952796276397, 4133.324760192575, 785.5144211759308, 2872.440883895019, 1503.0451119067354, 1189.4764105119798, 5932.4093816547675, 3350.308972854718, 3111.21386972898, 5991.070940749394, 1802.809489820854, 1973.4705784828493, 92.75283456824242, 85.31595621617342, 60.58221231542243, 51.54298239399594, 105.7925331421391, 56.437454464444315, 46.29984251943844, 45.28785078967164, 43.9829599239769, 43.94290910343248, 44.262585363943636, 43.68214134638548, 44.50324932719267, 39.919765327527934, 42.022387341372564, 57.64129904763532, 37.99745530781161, 39.7990837380628, 39.23629406240314, 38.836448684173284, 37.15841345456237, 37.57801786046286, 58.14829927137126, 38.16899545107745, 36.68468175834166, 35.536768183701305, 35.169134855417624, 51.45058942780922, 33.772335664138915, 33.65866538362284, 321.21132464288473, 54.829935706183385, 50.79265300707492, 120.87568229127974, 112.49560221009219, 103.45082908571409, 276.20264648302395, 130.7452095861992, 90.40375339729812, 378.10210163274576, 127.4563071660013, 339.0544474492263, 236.81565182212609, 1219.7682979302676, 184.75675126729612, 89.48501142863729, 565.4623343525509, 1974.958028060809, 548.1315954052482, 694.4341696591624, 108.87738908316629, 5003.826145787481, 177.1178621603316, 1620.0457544999251, 515.6588301662956, 737.3320348886492, 315.9317232801233, 532.6600968828545, 2603.5344384204054, 541.8202996858954, 1263.9466662510715, 781.2421319599212, 1795.6390993757175, 1436.0390007959825, 883.2227432033052, 355.3587584701834, 1534.3327854653294, 928.8748197090756, 817.4031975874346, 813.9857803592489, 918.9932149709683, 22907.98407824925, 30897.509583676096, 3023.420464002521, 1802.809489820854, 7382.40953551691, 3350.308972854718, 2653.1149116536085, 1503.0451119067354, 5932.4093816547675, 3084.0128382195053, 3418.8586903643536, 134.775518526173, 105.53782526569083, 116.61281500166059, 417.5785672717487, 62.31830375518102, 60.12404996809439, 56.58319278253051, 53.592995426498014, 56.630770163463865, 52.53811294697577, 49.09210520831987, 47.244972830260494, 47.77012021734682, 47.86186149503422, 45.1407735691849, 41.19916706855037, 51.94842235636616, 40.23722961730114, 41.866015921305504, 40.34599676235297, 39.32909719121491, 37.163543744018725, 45.012963095677186, 36.26854106841285, 34.107957064445536, 36.02147507616269, 35.011137903519916, 32.59762066463263, 37.460797889883764, 34.513706581099285, 81.64981411867329, 61.2421728049455, 99.25950660714587, 44.46422613950664, 232.1877987439997, 44.23545285944766, 182.3271716114081, 109.7189232135331, 282.1992620702728, 764.3129224742326, 85.61054684137228, 101.26680033889552, 227.05830154565007, 74.8446147579233, 919.9654452652954, 106.63915599529287, 717.5039748059021, 2674.519071831213, 237.1497470056499, 310.89401682996134, 324.9684326559195, 658.8673991008391, 577.0521206299302, 239.32950565416107, 224.40133828383097, 270.67546788937517, 1063.1151157035106, 30897.509583676096, 7382.40953551691, 22907.98407824925, 4133.324760192575, 571.7021608671654, 1012.1347475533495, 605.486104422017, 1246.982170071276, 1455.2794614354837, 5932.4093816547675, 5991.070940749394, 3023.420464002521, 1019.2584212084114, 3418.8586903643536, 3111.21386972898, 5003.826145787481, 3796.0842756440484, 1795.6390993757175, 3350.308972854718, 3084.0128382195053, 1503.0451119067354, 145.47810661773622, 108.41676247040468, 137.8664412038686, 86.60002020956492, 76.4945406981835, 60.30946992178765, 61.484336732157225, 55.16163362556517, 51.66044572380308, 57.159353583256156, 59.093178778926756, 60.089520502055095, 57.159106673429804, 59.092709623070085, 53.75652567619607, 45.10075237568161, 44.784122191186995, 45.803113287684944, 44.56010489166216, 80.37982010762323, 62.25297338435964, 48.01245001283638, 58.69404928528005, 38.2370948639291, 36.718526679564306, 38.36328894124994, 117.37911110337568, 35.63743284315006, 35.25459338548806, 37.55182952039055, 67.51624085346197, 55.36320029130286, 47.00802823188419, 302.82315962571175, 62.64122650397509, 44.06033648982537, 144.4860438696154, 224.3932187559711, 124.05270202421326, 279.2353877289355, 75.14540123004454, 687.2093943510521, 600.5938536436839, 1451.502431427828, 1014.9691993807628, 2255.2321920935474, 3204.993178820659, 365.5687081251202, 95.5030654588549, 283.0719207037363, 724.8392972349435, 2653.1149116536085, 1703.85374030242, 274.73785764004407, 857.9851304021744, 1505.5802717214265, 634.7174321626017, 1723.504224845992, 5991.070940749394, 30897.509583676096, 1973.4705784828493, 2851.2709636477434, 5932.4093816547675, 1514.583686535248, 2872.440883895019, 3111.21386972898, 22907.98407824925, 3350.308972854718, 3418.8586903643536, 1291.8863999545495, 996.8907706231969, 5003.826145787481, 3796.0842756440484, 1038.952796276397, 4133.324760192575, 113.53523980337515, 107.81451234744272, 95.14547503964502, 69.62306038246679, 44.15624427170963, 45.87071992149101, 46.79911022418565, 41.028486837402056, 37.72137182387934, 46.03814949108544, 34.19509065075931, 61.917537083116926, 35.09191893956035, 30.9241917897366, 42.983444070291604, 31.826732059893384, 87.95119464678119, 29.080647111319884, 32.81847327954171, 28.538929509852952, 27.418304067574233, 25.624613233268274, 25.67091874077441, 24.95049916104306, 25.480977920649742, 24.97561184157869, 25.657605258861803, 25.182647915169735, 24.050914529440075, 23.85044832747834, 25.126146833204675, 548.9676855386685, 138.78272089377097, 107.90752918181802, 129.98270157026596, 65.13310488424014, 54.692215956543826, 80.4798760964555, 132.63082610324753, 46.2682307548173, 143.55911199617657, 77.52352652638169, 315.8353734122329, 58.54104519728019, 233.18516482955033, 78.52698079821425, 373.92036875322447, 141.57832616690504, 297.1909638590095, 81.21235668642406, 209.45562055265995, 4133.324760192575, 540.1892881025906, 3204.993178820659, 7382.40953551691, 338.11453151505634, 22907.98407824925, 30897.509583676096, 2255.2321920935474, 1203.7456809759876, 875.5958110447962, 3023.420464002521, 2674.519071831213, 996.8907706231969, 3796.0842756440484, 1063.1151157035106, 1455.2794614354837, 5991.070940749394, 3350.308972854718, 2148.1454970295304, 2851.2709636477434, 571.7021608671654, 5932.4093816547675, 1038.952796276397, 513.3955479484995, 2872.440883895019, 3111.21386972898, 5003.826145787481, 1802.809489820854, 170.5861053201916, 239.18489105873277, 87.59294501455493, 87.5928901555194, 87.5928332553217, 82.83120572035983, 81.18686510645479, 79.58386057983695, 77.9405454141877, 66.67543247595599, 77.88120663734306, 69.31786721217827, 57.252911978234565, 57.923097912127815, 60.66914325269605, 340.59239370148316, 57.188875331801505, 40.89065113377824, 42.649464954627824, 42.649451630039046, 42.64941650748537, 42.64928950518237, 42.64945061272122, 43.440905092449185, 43.53613524760291, 42.64921701633508, 42.64923950884422, 42.649197545784475, 42.649226519206, 42.64901558576017, 366.31930722870106, 50.64407994675271, 45.16441162193438, 44.59443210015728, 161.1114881780622, 55.9785560836962, 68.52988915158167, 69.63276313440934, 90.22996739099027, 473.8637848300077, 76.77145535735727, 58.266667089271905, 126.46299286961563, 92.481811493504, 1505.5802717214265, 89.17090494696257, 210.93786031347824, 156.37999054434448, 458.82046255755046, 303.9519696639564, 483.61123202435334, 289.6139801272605, 237.10424532531158, 174.2892796585445, 275.683314801634, 321.2466773356253, 4133.324760192575, 314.30497018729545, 3204.993178820659, 22907.98407824925, 3111.21386972898, 30897.509583676096, 407.40821964519535, 892.7649891669738, 7382.40953551691, 1973.4705784828493, 2851.2709636477434, 5991.070940749394, 1723.504224845992, 2255.2321920935474, 5932.4093816547675, 1534.3327854653294, 2674.519071831213, 109.41186713629516, 224.08833848581764, 76.64556936346727, 79.31353738569975, 95.71289531183844, 74.33594751333145, 48.63381457890058, 78.04613138436775, 65.0277840606597, 126.18870170584871, 44.65864344822136, 45.80001911828092, 47.43837846177391, 59.43764123918621, 41.86251086753659, 35.99796800956853, 42.11866926149543, 33.34471679725191, 31.603173245360693, 31.423901413637964, 41.55894287681939, 29.97876066811036, 99.9560787673839, 31.39783673948155, 141.50984500284054, 36.751381379498405, 28.31685269422646, 30.18430042567158, 29.314918869748865, 29.027410072686898, 109.97820819096206, 52.96743723251247, 34.53640600958169, 34.859505258356464, 57.448341453726755, 45.92154108204733, 36.792963647705626, 63.05430709693592, 40.21881211317321, 168.3755546670756, 56.899063503545456, 199.24087213316625, 154.38475184270044, 44.654882631531464, 185.93355693143155, 253.2891820441979, 399.39849422705333, 746.1573357863159, 141.0501203454117, 172.9235633822898, 22907.98407824925, 30897.509583676096, 1451.502431427828, 724.8392972349435, 1224.2886278062163, 810.8973966426192, 5991.070940749394, 5932.4093816547675, 3796.0842756440484, 3418.8586903643536, 2653.1149116536085, 996.8907706231969, 444.85790727546936, 518.0879895852025, 3084.0128382195053, 3204.993178820659, 4133.324760192575, 7382.40953551691, 3111.21386972898, 2255.2321920935474, 1723.504224845992, 3350.308972854718, 2148.1454970295304, 114.52460845419158, 108.07277949089453, 105.67418748567876, 84.8373187429496, 82.03266081965013, 61.36395118775091, 86.58858471876094, 65.01323712878283, 48.301250534065574, 60.71639200299565, 47.93519536572033, 46.25908004679313, 37.95098699062543, 40.12966732884463, 41.95144806788763, 36.325574425264946, 32.139304095062464, 31.661558794303698, 31.607518478218587, 30.904365137312585, 31.070552598368305, 29.49426916514279, 57.873366271243604, 53.00017839515222, 27.254301391276865, 28.028782186516363, 28.028936830200383, 28.02917196672456, 26.257212883399212, 26.936834249128648, 104.96211239129318, 54.626903220539745, 108.71381560474521, 36.65409498122628, 110.59195542457142, 73.52559108161316, 195.41528721632307, 67.16434145055503, 207.82055899215, 76.70674020620187, 90.40586488671931, 71.78570174345269, 68.0867592561453, 414.9068338854841, 132.75518834006732, 367.36985631094075, 125.14563030298467, 356.45917888130856, 144.21019055082192, 87.28622416834226, 5991.070940749394, 942.632803173967, 297.1909638590095, 4133.324760192575, 3023.420464002521, 373.6347829239544, 30897.509583676096, 22907.98407824925, 3796.0842756440484, 7382.40953551691, 2851.2709636477434, 5003.826145787481, 1974.958028060809, 2674.519071831213, 2872.440883895019, 1436.0390007959825, 5932.4093816547675, 186.7639078854282, 89.51887408722993, 87.58888661500283, 86.45867380521922, 83.14195943510417, 76.64851259128392, 55.561464342010005, 52.236751685894724, 49.637228938232454, 145.03726614262138, 55.38011404763259, 51.56783997701487, 44.209525784972726, 48.330214522983056, 39.800019370869585, 37.659171807780524, 44.18763755929411, 39.768899680620216, 37.98323878801026, 65.1467250710313, 33.45650814555257, 33.45650814555257, 35.807127884268745, 38.70173235418761, 38.70184883495195, 38.70192960267425, 42.08865767116419, 38.70240316932629, 38.70242559212395, 38.70254616909132, 163.8761171399222, 294.3331806893128, 165.80967175292443, 78.09310858878003, 102.97694233058155, 55.48919705089499, 146.92491818684232, 386.15270390833996, 146.74768372979943, 55.40772108425558, 45.503984296681466, 114.78836480227613, 152.06832915756462, 69.27110444169045, 317.52052543064326, 67.09658165510362, 305.3178523703361, 1451.502431427828, 142.79153451540617, 344.10946829918794, 210.07311537854616, 2674.519071831213, 1014.9691993807628, 369.81368029871663, 22907.98407824925, 996.8907706231969, 211.09589356760893, 5003.826145787481, 2603.5344384204054, 30897.509583676096, 4133.324760192575, 1973.4705784828493, 1246.982170071276, 5991.070940749394], \"Category\": [\"Default\", \"Default\", \"Default\", \"Default\", \"Default\", \"Default\", \"Default\", \"Default\", \"Default\", \"Default\", \"Default\", \"Default\", \"Default\", \"Default\", \"Default\", \"Default\", \"Default\", \"Default\", \"Default\", \"Default\", \"Default\", \"Default\", \"Default\", \"Default\", \"Default\", \"Default\", \"Default\", \"Default\", \"Default\", \"Default\", \"Topic1\", \"Topic1\", \"Topic1\", \"Topic1\", \"Topic1\", \"Topic1\", \"Topic1\", \"Topic1\", \"Topic1\", \"Topic1\", \"Topic1\", \"Topic1\", \"Topic1\", \"Topic1\", \"Topic1\", \"Topic1\", \"Topic1\", \"Topic1\", \"Topic1\", \"Topic1\", \"Topic1\", \"Topic1\", \"Topic1\", \"Topic1\", \"Topic1\", \"Topic1\", \"Topic1\", \"Topic1\", \"Topic1\", \"Topic1\", \"Topic1\", \"Topic1\", \"Topic1\", \"Topic1\", \"Topic1\", \"Topic1\", \"Topic1\", \"Topic1\", \"Topic1\", \"Topic1\", \"Topic1\", \"Topic1\", \"Topic1\", \"Topic1\", \"Topic1\", \"Topic1\", \"Topic1\", \"Topic1\", \"Topic1\", \"Topic1\", \"Topic1\", \"Topic1\", \"Topic1\", \"Topic1\", \"Topic1\", \"Topic1\", \"Topic1\", \"Topic1\", \"Topic1\", \"Topic1\", \"Topic1\", \"Topic1\", \"Topic1\", \"Topic1\", \"Topic1\", \"Topic1\", \"Topic1\", \"Topic1\", \"Topic1\", \"Topic1\", \"Topic1\", \"Topic1\", \"Topic1\", \"Topic1\", \"Topic1\", \"Topic1\", \"Topic1\", \"Topic1\", \"Topic1\", \"Topic2\", \"Topic2\", \"Topic2\", \"Topic2\", \"Topic2\", \"Topic2\", \"Topic2\", \"Topic2\", \"Topic2\", \"Topic2\", \"Topic2\", \"Topic2\", \"Topic2\", \"Topic2\", \"Topic2\", \"Topic2\", \"Topic2\", \"Topic2\", \"Topic2\", \"Topic2\", \"Topic2\", \"Topic2\", \"Topic2\", \"Topic2\", \"Topic2\", \"Topic2\", \"Topic2\", \"Topic2\", \"Topic2\", \"Topic2\", \"Topic2\", \"Topic2\", \"Topic2\", \"Topic2\", \"Topic2\", \"Topic2\", \"Topic2\", \"Topic2\", \"Topic2\", \"Topic2\", \"Topic2\", \"Topic2\", \"Topic2\", \"Topic2\", \"Topic2\", \"Topic2\", \"Topic2\", \"Topic2\", \"Topic2\", \"Topic2\", \"Topic2\", \"Topic2\", \"Topic2\", \"Topic2\", \"Topic2\", \"Topic2\", \"Topic2\", \"Topic2\", \"Topic2\", \"Topic2\", \"Topic2\", \"Topic2\", \"Topic2\", \"Topic2\", \"Topic2\", \"Topic2\", \"Topic2\", \"Topic2\", \"Topic2\", \"Topic2\", \"Topic2\", \"Topic2\", \"Topic2\", \"Topic2\", \"Topic2\", \"Topic3\", \"Topic3\", \"Topic3\", \"Topic3\", \"Topic3\", \"Topic3\", \"Topic3\", \"Topic3\", \"Topic3\", \"Topic3\", \"Topic3\", \"Topic3\", \"Topic3\", \"Topic3\", \"Topic3\", \"Topic3\", \"Topic3\", \"Topic3\", \"Topic3\", \"Topic3\", \"Topic3\", \"Topic3\", \"Topic3\", \"Topic3\", \"Topic3\", \"Topic3\", \"Topic3\", \"Topic3\", \"Topic3\", \"Topic3\", \"Topic3\", \"Topic3\", \"Topic3\", \"Topic3\", \"Topic3\", \"Topic3\", \"Topic3\", \"Topic3\", \"Topic3\", \"Topic3\", \"Topic3\", \"Topic3\", \"Topic3\", \"Topic3\", \"Topic3\", \"Topic3\", \"Topic3\", \"Topic3\", \"Topic3\", \"Topic3\", \"Topic3\", \"Topic3\", \"Topic3\", \"Topic3\", \"Topic3\", \"Topic3\", \"Topic3\", \"Topic3\", \"Topic3\", \"Topic3\", \"Topic3\", \"Topic3\", \"Topic3\", \"Topic3\", \"Topic3\", \"Topic3\", \"Topic3\", \"Topic3\", \"Topic3\", \"Topic3\", \"Topic3\", \"Topic3\", \"Topic3\", \"Topic3\", \"Topic3\", \"Topic3\", \"Topic3\", \"Topic3\", \"Topic3\", \"Topic3\", \"Topic3\", \"Topic3\", \"Topic4\", \"Topic4\", \"Topic4\", \"Topic4\", \"Topic4\", \"Topic4\", \"Topic4\", \"Topic4\", \"Topic4\", \"Topic4\", \"Topic4\", \"Topic4\", \"Topic4\", \"Topic4\", \"Topic4\", \"Topic4\", \"Topic4\", \"Topic4\", \"Topic4\", \"Topic4\", \"Topic4\", \"Topic4\", \"Topic4\", \"Topic4\", \"Topic4\", \"Topic4\", \"Topic4\", \"Topic4\", \"Topic4\", \"Topic4\", \"Topic4\", \"Topic4\", \"Topic4\", \"Topic4\", \"Topic4\", \"Topic4\", \"Topic4\", \"Topic4\", \"Topic4\", \"Topic4\", \"Topic4\", \"Topic4\", \"Topic4\", \"Topic4\", \"Topic4\", \"Topic4\", \"Topic4\", \"Topic4\", \"Topic4\", \"Topic4\", \"Topic4\", \"Topic4\", \"Topic4\", \"Topic4\", \"Topic4\", \"Topic4\", \"Topic4\", \"Topic4\", \"Topic4\", \"Topic4\", \"Topic4\", \"Topic4\", \"Topic4\", \"Topic4\", \"Topic4\", \"Topic4\", \"Topic4\", \"Topic4\", \"Topic4\", \"Topic4\", \"Topic4\", \"Topic4\", \"Topic4\", \"Topic4\", \"Topic4\", \"Topic4\", \"Topic4\", \"Topic4\", \"Topic5\", \"Topic5\", \"Topic5\", \"Topic5\", \"Topic5\", \"Topic5\", \"Topic5\", \"Topic5\", \"Topic5\", \"Topic5\", \"Topic5\", \"Topic5\", \"Topic5\", \"Topic5\", \"Topic5\", \"Topic5\", \"Topic5\", \"Topic5\", \"Topic5\", \"Topic5\", \"Topic5\", \"Topic5\", \"Topic5\", \"Topic5\", \"Topic5\", \"Topic5\", \"Topic5\", \"Topic5\", \"Topic5\", \"Topic5\", \"Topic5\", \"Topic5\", \"Topic5\", \"Topic5\", \"Topic5\", \"Topic5\", \"Topic5\", \"Topic5\", \"Topic5\", \"Topic5\", \"Topic5\", \"Topic5\", \"Topic5\", \"Topic5\", \"Topic5\", \"Topic5\", \"Topic5\", \"Topic5\", \"Topic5\", \"Topic5\", \"Topic5\", \"Topic5\", \"Topic5\", \"Topic5\", \"Topic5\", \"Topic5\", \"Topic5\", \"Topic5\", \"Topic5\", \"Topic5\", \"Topic5\", \"Topic5\", \"Topic5\", \"Topic5\", \"Topic5\", \"Topic5\", \"Topic5\", \"Topic5\", \"Topic5\", \"Topic5\", \"Topic5\", \"Topic5\", \"Topic5\", \"Topic5\", \"Topic5\", \"Topic6\", \"Topic6\", \"Topic6\", \"Topic6\", \"Topic6\", \"Topic6\", \"Topic6\", \"Topic6\", \"Topic6\", \"Topic6\", \"Topic6\", \"Topic6\", \"Topic6\", \"Topic6\", \"Topic6\", \"Topic6\", \"Topic6\", \"Topic6\", \"Topic6\", \"Topic6\", \"Topic6\", \"Topic6\", \"Topic6\", \"Topic6\", \"Topic6\", \"Topic6\", \"Topic6\", \"Topic6\", \"Topic6\", \"Topic6\", \"Topic6\", \"Topic6\", \"Topic6\", \"Topic6\", \"Topic6\", \"Topic6\", \"Topic6\", \"Topic6\", \"Topic6\", \"Topic6\", \"Topic6\", \"Topic6\", \"Topic6\", \"Topic6\", \"Topic6\", \"Topic6\", \"Topic6\", \"Topic6\", \"Topic6\", \"Topic6\", \"Topic6\", \"Topic6\", \"Topic6\", \"Topic6\", \"Topic6\", \"Topic6\", \"Topic6\", \"Topic6\", \"Topic6\", \"Topic6\", \"Topic6\", \"Topic6\", \"Topic6\", \"Topic6\", \"Topic6\", \"Topic6\", \"Topic6\", \"Topic6\", \"Topic6\", \"Topic6\", \"Topic6\", \"Topic6\", \"Topic6\", \"Topic6\", \"Topic6\", \"Topic6\", \"Topic6\", \"Topic6\", \"Topic6\", \"Topic7\", \"Topic7\", \"Topic7\", \"Topic7\", \"Topic7\", \"Topic7\", \"Topic7\", \"Topic7\", \"Topic7\", \"Topic7\", \"Topic7\", \"Topic7\", \"Topic7\", \"Topic7\", \"Topic7\", \"Topic7\", \"Topic7\", \"Topic7\", \"Topic7\", \"Topic7\", \"Topic7\", \"Topic7\", \"Topic7\", \"Topic7\", \"Topic7\", \"Topic7\", \"Topic7\", \"Topic7\", \"Topic7\", \"Topic7\", \"Topic7\", \"Topic7\", \"Topic7\", \"Topic7\", \"Topic7\", \"Topic7\", \"Topic7\", \"Topic7\", \"Topic7\", \"Topic7\", \"Topic7\", \"Topic7\", \"Topic7\", \"Topic7\", \"Topic7\", \"Topic7\", \"Topic7\", \"Topic7\", \"Topic7\", \"Topic7\", \"Topic7\", \"Topic7\", \"Topic7\", \"Topic7\", \"Topic7\", \"Topic7\", \"Topic7\", \"Topic7\", \"Topic7\", \"Topic7\", \"Topic7\", \"Topic7\", \"Topic7\", \"Topic7\", \"Topic7\", \"Topic7\", \"Topic7\", \"Topic7\", \"Topic7\", \"Topic7\", \"Topic7\", \"Topic7\", \"Topic7\", \"Topic8\", \"Topic8\", \"Topic8\", \"Topic8\", \"Topic8\", \"Topic8\", \"Topic8\", \"Topic8\", \"Topic8\", \"Topic8\", \"Topic8\", \"Topic8\", \"Topic8\", \"Topic8\", \"Topic8\", \"Topic8\", \"Topic8\", \"Topic8\", \"Topic8\", \"Topic8\", \"Topic8\", \"Topic8\", \"Topic8\", \"Topic8\", \"Topic8\", \"Topic8\", \"Topic8\", \"Topic8\", \"Topic8\", \"Topic8\", \"Topic8\", \"Topic8\", \"Topic8\", \"Topic8\", \"Topic8\", \"Topic8\", \"Topic8\", \"Topic8\", \"Topic8\", \"Topic8\", \"Topic8\", \"Topic8\", \"Topic8\", \"Topic8\", \"Topic8\", \"Topic8\", \"Topic8\", \"Topic8\", \"Topic8\", \"Topic8\", \"Topic8\", \"Topic8\", \"Topic8\", \"Topic8\", \"Topic8\", \"Topic8\", \"Topic8\", \"Topic8\", \"Topic8\", \"Topic8\", \"Topic8\", \"Topic8\", \"Topic8\", \"Topic8\", \"Topic8\", \"Topic8\", \"Topic8\", \"Topic8\", \"Topic8\", \"Topic8\", \"Topic8\", \"Topic8\", \"Topic8\", \"Topic9\", \"Topic9\", \"Topic9\", \"Topic9\", \"Topic9\", \"Topic9\", \"Topic9\", \"Topic9\", \"Topic9\", \"Topic9\", \"Topic9\", \"Topic9\", \"Topic9\", \"Topic9\", \"Topic9\", \"Topic9\", \"Topic9\", \"Topic9\", \"Topic9\", \"Topic9\", \"Topic9\", \"Topic9\", \"Topic9\", \"Topic9\", \"Topic9\", \"Topic9\", \"Topic9\", \"Topic9\", \"Topic9\", \"Topic9\", \"Topic9\", \"Topic9\", \"Topic9\", \"Topic9\", \"Topic9\", \"Topic9\", \"Topic9\", \"Topic9\", \"Topic9\", \"Topic9\", \"Topic9\", \"Topic9\", \"Topic9\", \"Topic9\", \"Topic9\", \"Topic9\", \"Topic9\", \"Topic9\", \"Topic9\", \"Topic9\", \"Topic9\", \"Topic9\", \"Topic9\", \"Topic9\", \"Topic9\", \"Topic9\", \"Topic9\", \"Topic9\", \"Topic9\", \"Topic9\", \"Topic9\", \"Topic9\", \"Topic9\", \"Topic9\", \"Topic9\", \"Topic9\", \"Topic9\", \"Topic10\", \"Topic10\", \"Topic10\", \"Topic10\", \"Topic10\", \"Topic10\", \"Topic10\", \"Topic10\", \"Topic10\", \"Topic10\", \"Topic10\", \"Topic10\", \"Topic10\", \"Topic10\", \"Topic10\", \"Topic10\", \"Topic10\", \"Topic10\", \"Topic10\", \"Topic10\", \"Topic10\", \"Topic10\", \"Topic10\", \"Topic10\", \"Topic10\", \"Topic10\", \"Topic10\", \"Topic10\", \"Topic10\", \"Topic10\", \"Topic10\", \"Topic10\", \"Topic10\", \"Topic10\", \"Topic10\", \"Topic10\", \"Topic10\", \"Topic10\", \"Topic10\", \"Topic10\", \"Topic10\", \"Topic10\", \"Topic10\", \"Topic10\", \"Topic10\", \"Topic10\", \"Topic10\", \"Topic10\", \"Topic10\", \"Topic10\", \"Topic10\", \"Topic10\", \"Topic10\", \"Topic10\", \"Topic10\", \"Topic10\", \"Topic10\", \"Topic10\", \"Topic10\", \"Topic10\", \"Topic10\", \"Topic10\", \"Topic10\", \"Topic10\"], \"logprob\": [30.0, 29.0, 28.0, 27.0, 26.0, 25.0, 24.0, 23.0, 22.0, 21.0, 20.0, 19.0, 18.0, 17.0, 16.0, 15.0, 14.0, 13.0, 12.0, 11.0, 10.0, 9.0, 8.0, 7.0, 6.0, 5.0, 4.0, 3.0, 2.0, 1.0, -7.3661, -7.3823, -7.6773, -7.4141, -7.6074, -7.7326, -7.8072, -7.8336, -7.8322, -7.9495, -7.8997, -7.9949, -7.9673, -8.0524, -8.0762, -8.082, -8.092, -8.0885, -7.9077, -8.0879, -8.1444, -7.8693, -8.197, -8.2125, -8.2389, -8.216, -8.2365, -8.2462, -8.2628, -8.2782, -7.5929, -8.0538, -7.8389, -7.113, -7.712, -6.4632, -7.0138, -6.2194, -7.708, -4.5967, -2.194, -5.7873, -5.7157, -4.599, -4.3809, -6.1076, -2.6476, -5.9501, -5.271, -3.9693, -4.3652, -4.5169, -4.0632, -6.0225, -6.8723, -5.8513, -4.0402, -5.4568, -6.3019, -5.774, -5.8228, -5.9146, -4.7875, -5.4544, -5.0159, -5.512, -5.0234, -6.387, -5.221, -5.3386, -5.225, -5.6608, -5.8591, -5.8727, -5.809, -5.7259, -5.8162, -5.7861, -5.8487, -4.2642, -6.5155, -6.7552, -6.9238, -7.2048, -7.2175, -7.3086, -7.3178, -7.3346, -7.4291, -7.4795, -7.4017, -7.4717, -7.5157, -7.3564, -7.5304, -7.5325, -7.561, -7.5699, -7.5744, -7.5937, -6.9826, -7.693, -7.7289, -7.6883, -7.7868, -7.7941, -7.8004, -7.807, -7.8393, -7.3135, -6.9784, -6.8514, -7.5337, -7.0791, -6.8646, -6.8012, -6.795, -5.6442, -6.5488, -6.4928, -5.2212, -5.258, -5.9926, -5.6123, -7.1022, -3.6613, -3.5115, -4.9764, -5.6378, -4.4204, -6.1152, -6.0278, -5.5715, -5.8124, -5.9076, -5.8772, -5.6304, -4.9728, -5.3917, -5.7932, -6.2235, -5.7816, -5.8774, -5.2443, -6.0473, -5.5207, -5.8237, -5.914, -5.3789, -5.6566, -5.7349, -5.6003, -5.857, -5.9628, -7.0168, -7.1016, -7.4479, -7.6121, -6.8931, -7.5231, -7.7214, -7.7441, -7.7738, -7.7747, -7.7693, -7.7825, -7.764, -7.8728, -7.8216, -7.5062, -7.9233, -7.8773, -7.8916, -7.9019, -7.9461, -7.9351, -7.4985, -7.9196, -7.9593, -7.9919, -8.0026, -7.6231, -8.0442, -8.0476, -5.8091, -7.5609, -7.6372, -6.7914, -6.8622, -6.9622, -6.0327, -6.7463, -7.0971, -5.7432, -6.8034, -5.9039, -6.2436, -4.7583, -6.4874, -7.1386, -5.4997, -4.4031, -5.5738, -5.3784, -6.9811, -3.7341, -6.6024, -4.8147, -5.7499, -5.4952, -6.1705, -5.7653, -4.5672, -5.7729, -5.1476, -5.5283, -4.9305, -5.095, -5.4561, -6.1056, -5.1658, -5.4974, -5.5907, -5.6057, -5.5665, -3.7146, -3.6738, -4.9924, -5.2851, -4.673, -5.1156, -5.3103, -5.483, -5.2277, -5.3786, -5.457, -6.3505, -6.5972, -6.5014, -5.2259, -7.1294, -7.1656, -7.2275, -7.2825, -7.2276, -7.3032, -7.3717, -7.4108, -7.3998, -7.3982, -7.4573, -7.5506, -7.3191, -7.5747, -7.5351, -7.5722, -7.5989, -7.6562, -7.4646, -7.6811, -7.7441, -7.6901, -7.7187, -7.7906, -7.6515, -7.7338, -6.8741, -7.1661, -6.704, -7.4857, -5.8939, -7.4916, -6.1547, -6.6394, -5.8224, -4.9573, -6.9117, -6.771, -6.0688, -7.0386, -4.9705, -6.767, -5.2434, -4.2075, -6.2015, -6.0431, -6.0455, -5.5591, -5.6685, -6.2672, -6.3339, -6.2154, -5.3701, -3.3422, -4.2174, -3.5644, -4.7592, -5.8681, -5.6595, -5.9675, -5.6913, -5.6754, -5.1561, -5.1548, -5.4249, -5.8246, -5.4626, -5.5313, -5.4176, -5.5799, -5.7787, -5.7242, -5.8368, -5.9085, -6.2462, -6.5424, -6.3035, -6.7701, -6.8946, -7.1355, -7.117, -7.2261, -7.2928, -7.1927, -7.1595, -7.1428, -7.1929, -7.1597, -7.2547, -7.4311, -7.4385, -7.4163, -7.444, -6.8544, -7.11, -7.3703, -7.171, -7.5999, -7.6413, -7.5976, -6.4798, -7.6719, -7.683, -7.6203, -7.0388, -7.2376, -7.4001, -5.5848, -7.1276, -7.4669, -6.3626, -6.0071, -6.5413, -5.8331, -6.9859, -5.1035, -5.2611, -4.5497, -4.8485, -4.1948, -3.9079, -5.7079, -6.8048, -6.063, -5.4216, -4.5793, -4.9025, -6.1298, -5.3941, -5.0523, -5.6067, -4.9696, -4.2116, -3.401, -5.0281, -4.823, -4.4439, -5.2037, -4.8597, -4.8403, -4.0205, -5.1785, -5.173, -5.5568, -5.6785, -5.2185, -5.3411, -5.6954, -5.6934, -5.9953, -6.0475, -6.1762, -6.4897, -6.9521, -6.9159, -6.897, -7.0295, -7.1147, -6.9166, -7.2144, -6.621, -7.1891, -7.3174, -6.9896, -7.2901, -6.2737, -7.3805, -7.2597, -7.3999, -7.4437, -7.5114, -7.5098, -7.5389, -7.5182, -7.5386, -7.512, -7.5308, -7.577, -7.5862, -7.5342, -4.4855, -5.8627, -6.1392, -5.9733, -6.6412, -6.807, -6.4486, -6.0048, -6.9714, -5.9725, -6.5207, -5.3647, -6.7983, -5.6851, -6.5627, -5.3675, -6.1486, -5.637, -6.5683, -6.0207, -4.2336, -5.5104, -4.7297, -4.3077, -5.8934, -3.7967, -3.6962, -5.0536, -5.3626, -5.5065, -4.9766, -5.0539, -5.5788, -5.1289, -5.6097, -5.5325, -5.1699, -5.3724, -5.472, -5.465, -5.8029, -5.497, -5.7238, -5.8398, -5.6823, -5.6766, -5.7514, -5.7941, -5.5614, -5.2238, -6.2338, -6.2338, -6.2338, -6.2903, -6.3105, -6.3307, -6.3527, -6.5097, -6.3544, -6.4725, -6.6639, -6.6526, -6.6065, -4.8837, -6.6684, -7.0063, -6.965, -6.965, -6.965, -6.965, -6.9651, -6.9467, -6.9445, -6.9651, -6.9651, -6.9651, -6.9652, -6.9652, -4.817, -6.7952, -6.9088, -6.9216, -5.6864, -6.7052, -6.5156, -6.5116, -6.2908, -4.8442, -6.4512, -6.6952, -6.0618, -6.3199, -4.1127, -6.3724, -5.7542, -5.9749, -5.2409, -5.64, -5.3919, -5.6969, -5.8152, -6.0643, -5.8904, -5.8466, -4.8746, -5.8803, -4.9846, -4.2651, -5.0599, -4.4161, -5.8222, -5.6172, -5.0948, -5.5746, -5.5325, -5.4436, -5.7081, -5.6933, -5.6275, -5.765, -5.7399, -5.7986, -5.0836, -6.1578, -6.1264, -5.9385, -6.192, -6.6195, -6.1469, -6.3298, -5.6676, -6.7072, -6.683, -6.6501, -6.4248, -6.7767, -6.9278, -6.7712, -7.0055, -7.0606, -7.0665, -6.7892, -7.1158, -5.9119, -7.0699, -5.5645, -6.9128, -7.1739, -7.1104, -7.1399, -7.1498, -5.8257, -6.5501, -6.9766, -6.9676, -6.4763, -6.7033, -6.9164, -6.4206, -6.8399, -5.5667, -6.535, -5.4407, -5.6696, -6.7522, -5.5908, -5.3925, -5.1132, -4.657, -5.9938, -5.8715, -3.272, -3.3511, -4.9251, -5.3268, -5.2752, -5.448, -4.6854, -4.6925, -4.9256, -5.0353, -5.1205, -5.4592, -5.6985, -5.6649, -5.2465, -5.2639, -5.2411, -5.3114, -5.5959, -5.6294, -5.6552, -5.6473, -5.666, -5.6018, -5.6605, -5.6829, -5.9028, -5.9404, -6.2327, -5.8884, -6.1765, -6.474, -6.2456, -6.4832, -6.5213, -6.7203, -6.6651, -6.6207, -6.7666, -6.8909, -6.9063, -6.9086, -6.9312, -6.9268, -6.9793, -6.3067, -6.3956, -7.0613, -7.034, -7.034, -7.0341, -7.0995, -7.0742, -5.7229, -6.3907, -5.7314, -6.7788, -5.7424, -6.1385, -5.2465, -6.2247, -5.2033, -6.1117, -5.9913, -6.2021, -6.298, -4.9492, -5.8067, -5.0752, -5.8778, -5.1673, -5.8717, -6.1793, -4.2599, -5.0946, -5.7188, -4.9072, -5.0232, -5.7005, -4.4039, -4.5479, -5.1751, -5.0443, -5.2726, -5.1458, -5.6701, -5.7519, -5.7569, -5.7877, -5.7488, -4.716, -5.4565, -5.479, -5.492, -5.5313, -5.6132, -5.9379, -5.9999, -6.0518, -4.9803, -5.9431, -6.0146, -6.1706, -6.082, -6.2772, -6.3338, -6.1741, -6.28, -6.326, -5.7883, -6.4552, -6.4552, -6.3877, -6.3102, -6.3103, -6.3103, -6.2266, -6.3105, -6.3105, -6.3106, -4.869, -4.2908, -4.876, -5.6221, -5.3515, -5.9633, -5.0524, -4.1862, -5.1078, -5.987, -6.1696, -5.3914, -5.1717, -5.8197, -4.6345, -5.897, -4.9336, -4.1855, -5.4913, -5.0755, -5.3311, -4.1386, -4.6198, -5.1837, -3.9486, -5.0473, -5.5581, -4.8712, -5.0156, -4.9205, -5.3082, -5.3767, -5.4024, -5.4164], \"loglift\": [30.0, 29.0, 28.0, 27.0, 26.0, 25.0, 24.0, 23.0, 22.0, 21.0, 20.0, 19.0, 18.0, 17.0, 16.0, 15.0, 14.0, 13.0, 12.0, 11.0, 10.0, 9.0, 8.0, 7.0, 6.0, 5.0, 4.0, 3.0, 2.0, 1.0, 1.5132, 1.5124, 1.5099, 1.5089, 1.5082, 1.5079, 1.5079, 1.5077, 1.5071, 1.5058, 1.5053, 1.5052, 1.5046, 1.5041, 1.5037, 1.5034, 1.5034, 1.5027, 1.5026, 1.5025, 1.5022, 1.502, 1.5012, 1.5009, 1.5004, 1.5004, 1.5003, 1.5002, 1.4997, 1.4995, 1.4943, 1.4985, 1.4946, 1.4724, 1.4885, 1.409, 1.4359, 1.3719, 1.465, 1.164, 0.9006, 1.2731, 1.2322, 1.0622, 1.0181, 1.2452, 0.7461, 1.2214, 1.0775, 0.7755, 0.8261, 0.779, 0.6718, 1.0886, 1.2756, 1.0033, 0.486, 0.8661, 1.0924, 0.9067, 0.912, 0.9281, 0.5287, 0.6557, 0.4542, 0.6685, 0.3668, 1.0602, 0.2565, 0.2109, -0.1189, 0.1846, 0.5566, 0.479, 0.1833, -0.307, -0.2478, -0.8711, 0.1322, 1.8885, 1.8836, 1.8828, 1.8816, 1.8788, 1.8786, 1.8765, 1.8764, 1.8761, 1.8759, 1.8751, 1.8751, 1.8751, 1.8746, 1.8744, 1.8744, 1.8739, 1.8739, 1.8737, 1.8737, 1.8733, 1.873, 1.8716, 1.8709, 1.8709, 1.8698, 1.8696, 1.8695, 1.8693, 1.8687, 1.8664, 1.8475, 1.8413, 1.861, 1.7908, 1.7436, 1.6694, 1.6436, 1.3175, 1.5417, 1.4806, 0.9289, 0.9323, 1.1853, 0.9009, 1.6562, -0.2675, -0.417, 0.4424, 0.8262, 0.1057, 1.0919, 1.007, 0.6977, 0.8614, 0.8743, 0.8469, 0.6112, -0.0578, 0.1767, 0.5466, 1.0282, 0.5181, 0.6096, -0.1382, 0.7193, -0.0506, 0.294, 0.4377, -0.6341, -0.3404, -0.3447, -0.8654, 0.0789, -0.1174, 1.8862, 1.885, 1.8811, 1.8785, 1.8784, 1.8768, 1.8764, 1.8759, 1.8754, 1.8754, 1.8736, 1.8736, 1.8734, 1.8733, 1.8732, 1.8726, 1.8721, 1.8719, 1.8718, 1.8717, 1.8717, 1.8715, 1.8715, 1.8714, 1.8713, 1.8705, 1.8702, 1.8693, 1.8692, 1.8691, 1.8518, 1.8678, 1.8681, 1.8468, 1.8479, 1.8317, 1.7792, 1.8135, 1.8316, 1.7546, 1.7818, 1.7029, 1.7221, 1.5683, 1.7265, 1.8003, 1.5957, 1.4416, 1.5527, 1.5115, 1.7617, 1.1809, 1.6538, 1.2281, 1.4377, 1.3347, 1.507, 1.3898, 1.0012, 1.3651, 1.1434, 1.2438, 1.0094, 1.0683, 1.1933, 1.4542, 0.9314, 1.1016, 1.1361, 1.1254, 1.0432, -0.3209, -0.5792, 0.4264, 0.6508, -0.1469, 0.2006, 0.2392, 0.6348, -0.4829, 0.0204, -0.1611, 2.1789, 2.1767, 2.1727, 2.1727, 2.1714, 2.1709, 2.1697, 2.1691, 2.1689, 2.1682, 2.1675, 2.1668, 2.1667, 2.1664, 2.1659, 2.164, 2.1636, 2.1635, 2.1634, 2.1633, 2.1622, 2.1615, 2.1614, 2.1609, 2.1594, 2.1588, 2.1587, 2.1582, 2.1581, 2.1578, 2.1564, 2.152, 2.1313, 2.1526, 2.0915, 2.1518, 2.0725, 2.0957, 1.968, 1.8367, 2.0715, 2.0442, 1.9389, 2.079, 1.6382, 1.9965, 1.6138, 1.334, 1.7628, 1.6505, 1.6038, 1.3833, 1.4065, 1.6879, 1.6856, 1.6166, 1.094, -0.2477, 0.3087, -0.1706, 0.347, 1.2162, 0.8537, 1.0594, 0.6132, 0.4746, -0.4113, -0.4198, -0.0061, 0.6816, -0.1667, -0.1411, -0.5026, -0.3886, 0.1612, -0.4081, -0.4378, 0.2093, 2.2067, 2.2046, 2.2032, 2.2016, 2.2012, 2.198, 2.1972, 2.1966, 2.1955, 2.1944, 2.1944, 2.1944, 2.1943, 2.1942, 2.1938, 2.193, 2.1927, 2.1924, 2.1921, 2.1918, 2.1917, 2.1913, 2.1896, 2.1893, 2.1884, 2.1883, 2.1878, 2.1877, 2.1874, 2.187, 2.1818, 2.1814, 2.1826, 2.135, 2.168, 2.1805, 2.0972, 2.0125, 2.0709, 1.9679, 2.1277, 1.7968, 1.7739, 1.6029, 1.6619, 1.5172, 1.4526, 1.8236, 2.069, 1.7243, 1.4254, 0.9702, 1.0898, 1.6874, 1.2843, 1.0637, 1.3731, 1.0112, 0.5234, -0.3064, 0.8174, 0.6545, 0.3009, 0.9064, 0.6103, 0.5499, -0.6267, 0.1377, 0.1229, 0.7123, 0.8498, -0.3035, -0.1498, 0.7916, -0.5873, 2.7055, 2.7051, 2.7014, 2.7002, 2.6931, 2.6913, 2.6901, 2.6892, 2.688, 2.687, 2.6865, 2.6862, 2.6859, 2.6841, 2.6826, 2.6826, 2.6825, 2.6824, 2.6823, 2.6818, 2.6781, 2.678, 2.6779, 2.6772, 2.6768, 2.6765, 2.6761, 2.676, 2.6758, 2.6749, 2.6748, 2.6395, 2.6374, 2.6125, 2.5923, 2.6154, 2.6242, 2.5964, 2.5406, 2.6271, 2.4938, 2.5617, 2.313, 2.565, 2.2961, 2.5068, 2.1414, 2.3316, 2.1016, 2.4676, 2.0678, 0.8725, 1.6307, 0.6308, 0.2185, 1.7162, -0.403, -0.6017, 0.6584, 0.9772, 1.1516, 0.4422, 0.4876, 0.9496, 0.0623, 0.8543, 0.6175, -0.435, -0.0562, 0.2887, 0.0124, 1.2815, -0.7522, 0.7632, 1.3522, -0.2123, -0.2864, -0.8364, 0.1418, 2.7323, 2.732, 2.7264, 2.7264, 2.7264, 2.7259, 2.7257, 2.7255, 2.7243, 2.7235, 2.7234, 2.7218, 2.7216, 2.7213, 2.7211, 2.7186, 2.7183, 2.7157, 2.715, 2.715, 2.715, 2.7149, 2.7149, 2.7149, 2.7149, 2.7149, 2.7149, 2.7148, 2.7148, 2.7148, 2.7125, 2.713, 2.7138, 2.7137, 2.6645, 2.7028, 2.6901, 2.6782, 2.6398, 2.4279, 2.6409, 2.6727, 2.5313, 2.586, 2.0033, 2.57, 2.3273, 2.4058, 2.0634, 2.0761, 1.8598, 2.0675, 2.1493, 2.2079, 1.9233, 1.8141, 0.2316, 1.8023, 0.3759, -0.8713, 0.3304, -1.3215, 1.601, 1.0215, -0.5686, 0.2709, -0.055, -0.7086, 0.2728, 0.0187, -0.8827, 0.3321, -0.1984, 2.9393, 2.9373, 2.936, 2.9332, 2.9331, 2.9324, 2.9292, 2.9288, 2.9284, 2.9276, 2.9268, 2.9257, 2.9235, 2.9232, 2.9219, 2.9218, 2.9213, 2.9206, 2.9191, 2.919, 2.9167, 2.9167, 2.9164, 2.9163, 2.9161, 2.916, 2.9156, 2.9153, 2.915, 2.915, 2.907, 2.9132, 2.9144, 2.9141, 2.9058, 2.9028, 2.9113, 2.8684, 2.8988, 2.7401, 2.8567, 2.6978, 2.7239, 2.8818, 2.6168, 2.5059, 2.3298, 2.1611, 2.4901, 2.4087, 0.1217, -0.2566, 1.2275, 1.5202, 1.0476, 1.2868, 0.0495, 0.0523, 0.2656, 0.2606, 0.429, 1.0692, 1.6367, 1.5179, 0.1525, 0.0966, -0.135, -0.7853, -0.2057, 0.0826, 0.3256, -0.3311, 0.0946, 3.0904, 3.0897, 3.0897, 3.0894, 3.0854, 3.0834, 3.0834, 3.0819, 3.0815, 3.0812, 3.0799, 3.0775, 3.0764, 3.0758, 3.0757, 3.0739, 3.072, 3.0716, 3.071, 3.0709, 3.0699, 3.0695, 3.068, 3.0671, 3.0665, 3.0658, 3.0657, 3.0656, 3.0655, 3.0653, 3.0564, 3.0418, 3.0128, 3.0527, 2.9848, 2.9969, 2.9113, 3.0011, 2.893, 2.9813, 2.9374, 2.9572, 2.9142, 2.4557, 2.7377, 2.4514, 2.7257, 2.3894, 2.59, 2.7845, 0.475, 1.4897, 2.0198, 0.199, 0.3957, 1.8092, -1.3093, -1.1541, 0.0161, -0.5182, 0.2049, -0.2308, 0.1746, -0.2104, -0.2869, 0.3756, -1.004, 3.4871, 3.482, 3.4813, 3.4813, 3.4812, 3.4806, 3.4776, 3.4773, 3.4764, 3.4757, 3.4757, 3.4755, 3.4734, 3.4729, 3.4719, 3.4706, 3.4704, 3.4699, 3.4698, 3.468, 3.4675, 3.4675, 3.4672, 3.4669, 3.4668, 3.4668, 3.4666, 3.4666, 3.4666, 3.4665, 3.4649, 3.4575, 3.4462, 3.453, 3.4469, 3.4535, 3.3906, 3.2905, 3.3364, 3.4313, 3.4455, 3.2985, 3.237, 3.3753, 3.0379, 3.3298, 2.7781, 1.9671, 2.9803, 2.5165, 2.7544, 1.4028, 1.8906, 2.3363, -0.5548, 1.481, 2.5225, 0.0438, 0.5528, -1.8259, -0.2021, 0.4687, 0.9021, -0.6814]}, \"token.table\": {\"Topic\": [3, 4, 2, 6, 9, 5, 1, 2, 3, 4, 5, 6, 7, 1, 2, 3, 4, 8, 9, 10, 6, 7, 7, 1, 1, 4, 8, 1, 2, 4, 6, 7, 9, 1, 2, 3, 4, 5, 6, 7, 9, 1, 2, 3, 4, 5, 6, 7, 8, 9, 10, 8, 6, 7, 1, 2, 3, 4, 5, 6, 7, 8, 1, 2, 3, 4, 6, 7, 8, 9, 1, 7, 1, 9, 2, 7, 10, 1, 2, 3, 4, 5, 6, 7, 8, 9, 10, 1, 2, 3, 4, 5, 6, 7, 8, 9, 4, 9, 3, 4, 5, 8, 9, 10, 8, 5, 4, 1, 3, 5, 7, 2, 6, 10, 1, 2, 3, 4, 5, 6, 7, 8, 9, 1, 2, 3, 4, 5, 6, 7, 8, 9, 10, 1, 2, 3, 5, 6, 8, 10, 10, 5, 5, 7, 10, 2, 4, 5, 1, 3, 8, 9, 2, 3, 5, 8, 10, 1, 2, 3, 4, 5, 6, 7, 8, 9, 9, 9, 7, 1, 2, 4, 6, 7, 8, 9, 7, 3, 5, 9, 1, 2, 3, 4, 5, 6, 3, 5, 6, 6, 1, 5, 7, 1, 3, 1, 9, 3, 1, 3, 1, 2, 3, 4, 5, 6, 7, 8, 9, 1, 2, 4, 5, 8, 9, 1, 3, 1, 2, 3, 4, 5, 6, 7, 8, 9, 10, 2, 1, 2, 3, 4, 6, 9, 6, 1, 2, 3, 4, 5, 7, 8, 9, 8, 1, 2, 3, 4, 6, 7, 8, 9, 10, 1, 2, 3, 4, 5, 9, 7, 5, 6, 1, 2, 3, 4, 5, 6, 7, 8, 9, 2, 8, 1, 3, 5, 6, 8, 10, 1, 2, 3, 4, 5, 6, 7, 8, 9, 10, 1, 2, 3, 4, 5, 6, 7, 8, 9, 1, 2, 3, 4, 5, 6, 7, 8, 9, 10, 2, 3, 4, 5, 6, 9, 2, 3, 1, 2, 6, 7, 4, 6, 4, 5, 8, 9, 2, 4, 5, 6, 9, 9, 3, 5, 10, 2, 1, 1, 2, 3, 4, 5, 6, 7, 8, 9, 10, 5, 5, 5, 10, 10, 7, 7, 7, 1, 2, 3, 4, 5, 6, 7, 8, 10, 10, 10, 1, 2, 3, 4, 5, 6, 7, 8, 9, 10, 7, 1, 2, 3, 4, 5, 6, 7, 8, 9, 10, 1, 2, 3, 4, 5, 6, 7, 8, 9, 1, 2, 5, 6, 7, 1, 2, 3, 4, 6, 7, 1, 5, 1, 4, 6, 7, 10, 7, 1, 2, 3, 4, 6, 9, 1, 2, 6, 9, 3, 9, 3, 5, 6, 8, 9, 10, 4, 10, 2, 6, 1, 2, 3, 4, 5, 6, 7, 8, 9, 10, 1, 10, 3, 5, 1, 2, 3, 4, 5, 7, 10, 10, 1, 3, 5, 10, 6, 8, 5, 6, 2, 9, 9, 3, 2, 1, 2, 3, 4, 5, 6, 7, 8, 9, 2, 4, 2, 7, 10, 4, 9, 10, 1, 2, 3, 4, 5, 6, 7, 8, 2, 1, 1, 3, 3, 2, 3, 4, 9, 7, 7, 5, 2, 4, 8, 1, 2, 3, 4, 5, 6, 7, 9, 10, 1, 7, 1, 2, 3, 4, 5, 6, 7, 8, 9, 10, 8, 4, 5, 8, 5, 5, 5, 7, 1, 2, 3, 4, 5, 6, 7, 8, 9, 1, 2, 3, 4, 5, 6, 7, 8, 9, 10, 4, 4, 1, 5, 8, 2, 6, 9, 1, 2, 3, 4, 5, 6, 7, 8, 9, 10, 3, 1, 2, 3, 4, 5, 6, 7, 8, 9, 2, 5, 8, 1, 2, 3, 4, 5, 6, 7, 8, 9, 10, 2, 7, 9, 6, 1, 2, 3, 5, 7, 8, 6, 1, 2, 3, 4, 5, 6, 7, 8, 9, 10, 1, 2, 3, 4, 5, 6, 7, 9, 6, 4, 6, 1, 8, 9, 2, 3, 5, 8, 10, 4, 2, 5, 7, 1, 2, 4, 6, 7, 6, 4, 6, 4, 1, 3, 5, 6, 7, 8, 1, 10, 1, 2, 3, 4, 5, 6, 7, 8, 9, 10, 5, 2, 9, 1, 2, 3, 9, 6, 8, 10, 7, 1, 4, 3, 1, 2, 3, 4, 5, 6, 7, 8, 9, 10, 5, 7, 10, 10, 7, 4, 1, 2, 4, 5, 6, 7, 8, 10, 4, 3, 3, 2, 10, 1, 2, 3, 4, 5, 6, 7, 8, 9, 10, 2, 5, 1, 2, 3, 4, 5, 6, 7, 8, 9, 10, 10, 1, 2, 3, 4, 5, 6, 7, 8, 9, 10, 1, 2, 3, 4, 5, 6, 8, 10, 7, 2, 3, 10, 2, 3, 4, 5, 7, 8, 10, 3, 9, 1, 2, 3, 4, 5, 6, 7, 8, 9, 10, 8, 4, 9, 2, 5, 7, 1, 2, 3, 4, 5, 7, 8, 9, 10, 2, 1, 2, 3, 4, 5, 6, 7, 8, 10, 10, 5, 7, 1, 2, 3, 4, 5, 7, 8, 9, 10, 1, 6, 6, 9, 3, 5, 10, 1, 2, 3, 4, 5, 6, 7, 8, 9, 10, 1, 2, 3, 4, 5, 6, 7, 8, 9, 10, 3, 5, 8, 10, 1, 2, 3, 4, 5, 6, 7, 8, 9, 10, 1, 2, 3, 4, 6, 7, 9, 9, 6, 8, 4, 3, 4, 1, 2, 3, 4, 5, 6, 7, 8, 10, 8, 1, 3, 4, 5, 6, 7, 8, 1, 6, 7, 1, 2, 3, 4, 6, 7, 8, 9, 6, 1, 8, 8, 3, 5, 3, 5, 3, 1, 2, 3, 4, 5, 6, 7, 8, 9, 10, 9, 1, 2, 4, 6, 9, 10, 5, 9, 3, 5, 8, 1, 2, 3, 4, 5, 6, 7, 8, 9, 10, 1, 3, 5, 8, 10, 10, 7, 5, 9, 1, 2, 3, 4, 5, 6, 7, 8, 9, 10, 3, 5, 8, 1, 2, 3, 4, 5, 6, 7, 9, 10, 3, 5, 10, 1, 2, 3, 4, 5, 6, 7, 8, 10, 2, 8, 1, 2, 3, 4, 5, 6, 7, 8, 9, 10, 1, 2, 3, 4, 6, 8, 1, 9, 5, 1, 1, 9, 1, 2, 3, 4, 5, 6, 7, 8, 9, 10, 1, 2, 3, 4, 5, 6, 7, 8, 3, 8, 1, 3, 1, 2, 3, 4, 5, 6, 7, 8, 9, 10, 8, 1, 2, 3, 4, 5, 7, 8, 10, 1, 2, 3, 4, 5, 6, 7, 8, 9, 10, 2, 1, 2, 3, 4, 5, 6, 7, 8, 9, 10, 7, 10, 1, 2, 3, 4, 8, 9, 1, 2, 3, 4, 5, 6, 7, 8, 9, 10, 1, 2, 3, 5, 6, 7, 8, 9, 10, 4, 3, 5, 8, 9, 1, 2, 5, 6, 7, 5, 4, 5, 8, 4, 5, 9, 7, 1, 2, 3, 4, 5, 6, 9, 1, 2, 3, 4, 5, 6, 7, 8, 9, 1, 4, 1, 1, 2, 2, 2, 2, 2, 2, 2, 2, 2, 1, 2, 3, 4, 5, 6, 7, 8, 9, 5, 1, 1, 2, 3, 4, 5, 7, 8, 3, 2, 1, 2, 4, 6, 1, 2, 3, 4, 5, 6, 7, 8, 9, 10, 3, 1, 5, 1, 2, 3, 4, 5, 6, 7, 8, 9, 10, 1, 8, 6, 1, 4, 3, 6, 9, 6, 6, 6, 3, 10, 10, 5, 8, 5, 8, 1, 2, 3, 4, 5, 6, 7, 8, 9, 10, 1, 2, 3, 4, 5, 6, 7, 8, 10, 1, 2, 3, 5, 6, 7, 8, 9, 1, 2, 3, 4, 5, 6, 7, 8, 9, 10, 1, 2, 3, 4, 5, 6, 7, 8, 9, 10, 8, 1, 2, 3, 4, 5, 6, 7, 8, 10, 5, 1, 2, 5, 6, 7, 9, 10, 7, 10, 2, 10, 3, 9, 10, 3, 7, 1, 2, 3, 4, 5, 6, 7, 8, 9, 10, 3, 5, 10, 6, 1, 2, 3, 4, 5, 6, 7, 8, 9, 10, 1, 1, 3, 8, 2, 1, 2, 3, 5, 6, 1, 6, 1, 2, 3, 4, 6, 7, 9, 7, 8, 2, 3, 4, 5, 6, 7, 8, 9, 10, 6, 1, 2, 3, 4, 5, 6, 7, 8, 9, 5, 5, 8, 1, 2, 3, 4, 5, 6, 7, 8, 9, 10, 7, 1, 2, 5, 7, 8, 9, 1, 2, 4, 6, 8, 1, 2, 3, 4, 5, 6, 7, 8, 9, 10, 1, 2, 3, 4, 5, 6, 8, 10, 1, 2, 3, 5, 7, 8, 2, 4, 6, 8, 10, 1, 2, 6, 9, 1, 4, 5, 8, 8, 1, 3, 4, 5, 6, 8, 9, 1, 3, 6, 8, 9, 3, 5, 8, 7, 9, 7, 1, 2, 3, 4, 5, 7, 10, 1, 7, 1, 2, 3, 4, 5, 6, 7, 8, 9, 10, 10, 3, 10, 10, 2, 3, 4, 6, 8, 9, 1, 2, 3, 4, 5, 6, 7, 8, 9, 10, 8, 9, 6, 8, 8, 1, 2, 3, 4, 5, 7, 9, 2, 1, 2, 4, 6, 9, 8, 10, 10, 2, 4, 6, 8, 9, 10, 9, 4, 4, 1, 2, 3, 4, 5, 6, 7, 8, 9, 3, 3, 3, 2, 8, 2, 3, 4, 5, 7, 10, 7, 8, 2, 3, 10, 2, 6, 4, 1, 5, 10, 5, 6, 9, 5, 1, 2, 3, 4, 1, 2, 3, 4, 5, 6, 7, 8, 9, 10, 5, 6, 1, 2, 3, 4, 5, 6, 7, 8, 9, 10, 1, 2, 3, 4, 5, 6, 7, 8, 9, 10, 9, 9, 3, 9, 1, 10, 1, 2, 3, 4, 5, 6, 7, 8, 9, 10, 1, 1, 6, 9, 4, 5, 1, 2, 3, 4, 5, 6, 7, 9, 10, 3, 10, 5, 8, 1, 2, 1, 2, 3, 6, 8, 9, 10, 9, 9, 9, 1, 4, 5, 10, 3, 5, 8, 8, 1, 2, 3, 4, 5, 6, 7, 8, 9, 10, 7, 4, 8, 1, 2, 3, 4, 5, 7, 8, 9, 10, 8, 3, 5, 2, 4, 5, 7, 8, 3, 9, 1, 7, 1, 2, 3, 4, 5, 6, 7, 8, 9, 10, 1, 1, 2, 3, 4, 5, 6, 7, 8, 9, 10, 1, 2, 3, 4, 5, 6, 7, 8, 9, 10, 1, 2, 9, 1, 2, 3, 4, 5, 6, 7, 8, 9, 2, 9, 1, 2, 3, 4, 5, 6, 7, 8, 9, 10, 1, 2, 3, 4, 5, 8, 10, 4, 1, 3, 5, 7, 7, 1, 2, 4, 5, 6, 7, 1, 1, 2, 3, 4, 5, 6, 7, 8, 9, 1, 2, 3, 4, 1, 2, 3, 4, 5, 6, 7, 8, 9, 10, 1, 1, 2, 4, 6, 8, 6, 1, 2, 3, 4, 5, 6, 7, 8, 9, 10, 8, 8, 1, 3, 4, 6, 8, 9, 1, 2, 3, 4, 5, 6, 7, 8, 9, 10, 1, 2, 3, 4, 5, 6, 7, 8, 9, 10, 4, 3, 5, 1, 2, 3, 4, 5, 6, 7, 8, 9, 10, 1, 4, 8, 2, 3, 4, 4, 1, 2, 3, 4, 5, 6, 7, 8, 10, 4, 1, 9, 7, 10, 1, 2, 3, 4, 5, 8, 9, 1, 2, 5, 7, 10, 1, 2, 3, 4, 5, 6, 7, 8, 9, 10, 9, 9, 9, 3, 1, 2, 3, 4, 5, 6, 7, 8, 9, 10, 1, 2, 3, 4, 5, 6, 7, 8, 9, 10, 5, 4, 3, 1, 2, 6, 7, 9, 1, 1, 2, 3, 4, 5, 6, 7, 8, 9, 10, 6, 1, 2, 3, 4, 5, 7, 8, 9, 10, 1, 2, 3, 4, 5, 6, 7, 8, 9, 10, 1, 2, 3, 4, 5, 6, 7, 8, 9, 10, 1, 2, 3, 4, 5, 6, 8, 9, 10, 1, 2, 3, 4, 5, 6, 7, 8, 9, 1, 2, 3, 4, 5, 7, 8, 10, 1, 2, 3, 4, 5, 6, 7, 8, 9, 10, 4, 7, 1, 2, 4, 5, 7, 8, 9, 3, 9, 2, 3, 1, 2, 3, 4, 5, 6, 7, 8, 9, 10, 1, 8, 1, 4, 9, 1, 2, 3, 4, 5, 6, 8, 9, 10, 5, 6, 1, 2, 3, 4, 5, 6, 8, 10, 4, 8, 2, 7, 4, 8, 1, 2, 3, 4, 5, 6, 7, 8, 9, 10, 4, 2, 3, 4, 5, 9, 10, 2, 4, 7, 1, 2, 3, 4, 5, 6, 7, 8, 9, 10, 2, 1, 3, 6, 10, 7, 1, 1, 1, 2, 3, 4, 5, 6, 7, 8, 9, 10, 1, 2, 3, 4, 5, 6, 7, 8, 9, 10, 1, 2, 3, 4, 5, 6, 7, 8, 9, 10, 1, 2, 3, 4, 5, 6, 7, 8, 9, 10, 1, 2, 3, 4, 5, 6, 7, 8, 9, 10, 1, 2, 3, 4, 5, 6, 7, 8, 9, 10, 1, 2, 3, 4, 5, 6, 8, 1, 2, 3, 4, 5, 6, 7, 8, 9, 1, 4, 6, 7, 2, 1, 3, 10, 1, 2, 3, 4, 5, 6, 7, 8, 9, 10, 5, 10, 6, 9, 6], \"Freq\": [0.9688250022843712, 0.9816667397052992, 0.029777705800515558, 0.059555411601031116, 0.9082200269157246, 0.9821133905476421, 0.0423793681027608, 0.21896006853093078, 0.0070632280171267995, 0.014126456034253599, 0.0070632280171267995, 0.6851331176612996, 0.028252912068507198, 0.7786762871836019, 0.006830493747224578, 0.14685561556532842, 0.0017076234368061446, 0.051228703104184335, 0.0017076234368061446, 0.011953364057643011, 0.9738646385215362, 0.9876852815585548, 0.9898698448457826, 0.9929969808398714, 0.004789517845867924, 0.9866406762487925, 0.004789517845867924, 0.03211692419557831, 0.005352820699263051, 0.26764103496315256, 0.2944051384594678, 0.12311487608305019, 0.27567026601204714, 0.009568423977078461, 0.703279162315267, 0.019136847954156922, 0.0047842119885392305, 0.009568423977078461, 0.22485796346134385, 0.009568423977078461, 0.014352635965617692, 0.2163124724131495, 0.058697856835729006, 0.006521984092858779, 0.5782825895668117, 0.058697856835729006, 0.010869973488097965, 0.06195884888215839, 0.005434986744048982, 0.0021739946976195926, 0.0021739946976195926, 0.9758126128625979, 0.014680304353426982, 0.9806443308089224, 0.09327254131763353, 0.08836346019565282, 0.061363514024758904, 0.05890897346376855, 0.25036313722101633, 0.05645443290277819, 0.3215448134897366, 0.07118167626872032, 0.2985917394275237, 0.05448754369115396, 0.0893595716534925, 0.017436013981169268, 0.008718006990584634, 0.510003408949201, 0.017436013981169268, 0.004359003495292317, 0.051487413814207364, 0.943935919927135, 0.9790439885998844, 0.9727819912216258, 0.13457304271093143, 0.8410815169433214, 0.011214420225910952, 0.24252137177472513, 0.15379404063763058, 0.005915155409139638, 0.09464248654623421, 0.038448510159407645, 0.3696972130712273, 0.03549093245483782, 0.04436366556854728, 0.011830310818279276, 0.002957577704569819, 0.7476965960352735, 0.02594049414816255, 0.1312283821612929, 0.00762955710240075, 0.00457773426144045, 0.00457773426144045, 0.0152591142048015, 0.061036456819206, 0.0015259114204801499, 0.018867861020095494, 0.9622609120248703, 0.8725411290624722, 0.02755393039144649, 0.018369286927630995, 0.02755393039144649, 0.05510786078289298, 0.9830329178877977, 0.9624883895280953, 0.9935349543422353, 0.9711195361228674, 0.1253422794462421, 0.03581207984178346, 0.7842845485350578, 0.05371811976267519, 0.01742336867891633, 0.15681031811024698, 0.8188983279090676, 0.36364271605501725, 0.0024570453787501165, 0.463153053894397, 0.01597079496187576, 0.008599658825625408, 0.02088488571937599, 0.003685568068125175, 0.07739692943062867, 0.045455339506877156, 0.131665825197439, 0.12513694130335112, 0.4265537477470751, 0.07617031209769198, 0.08705178525450513, 0.01849850436658234, 0.041349597995889935, 0.02720368289203285, 0.051142923837021764, 0.015234062419538397, 0.014280742181568926, 0.07140371090784463, 0.05236272133241939, 0.24277261708667175, 0.13328692702797665, 0.004760247393856308, 0.47602473938563084, 0.9741341793394838, 0.9824910670831167, 0.993071361783601, 0.9087889796598546, 0.07757954704413393, 0.9523034351441492, 0.00873672876279036, 0.02621018628837108, 0.007934364784128942, 0.8674905497314309, 0.0026447882613763137, 0.12166026002331044, 0.9738341363962695, 0.029807777842999435, 0.0894233335289983, 0.014903888921499717, 0.8495216685254838, 0.5397398914787308, 0.12149988899088313, 0.15187486123860391, 0.03738458122796404, 0.032711508574468535, 0.038552849391337914, 0.01752402245060814, 0.0023365363267477523, 0.05841340816869381, 0.9901303016719963, 0.9749417059730136, 0.9847720257377496, 0.01075653062850596, 0.016134795942758937, 0.1290783675420715, 0.05916091845678278, 0.00537826531425298, 0.7206875521098993, 0.05916091845678278, 0.9889706164151854, 0.9178156536655748, 0.06118771024437166, 0.015296927561092915, 0.19429691176456573, 0.017663355614960522, 0.06712075133684998, 0.06712075133684998, 0.6146847754006262, 0.035326711229921044, 0.014811251150229344, 0.9627313247649074, 0.9910509480760531, 0.9650508120313237, 0.015814903274209365, 0.15814903274209366, 0.8144675186217823, 0.9896683963514298, 0.9903897151792488, 0.12537315623331435, 0.86368174294061, 0.9848954136480117, 0.019687886747335483, 0.9647064506194386, 0.05415611705028457, 0.5632236173229596, 0.06653465809034961, 0.15937371589083746, 0.023209764450121958, 0.020115129190105697, 0.009283905780048783, 0.004641952890024391, 0.09902832832052036, 0.027103786093372113, 0.7792338501844482, 0.15584677003688965, 0.006775946523343028, 0.020327839570029087, 0.9676299066056842, 0.9783414679233181, 0.016582058778361324, 0.12667116486485425, 0.36191761389958355, 0.20939519089904476, 0.09177196638168011, 0.016803317788194952, 0.05687276789850598, 0.033606635576389904, 0.0012925629067842268, 0.032314072669605676, 0.06850583405956402, 0.9826470148858595, 0.006965771702646316, 0.013931543405292632, 0.07662348872910947, 0.027863086810585264, 0.8010637458043263, 0.06965771702646316, 0.9756244815255458, 0.08362323012389039, 0.23971992635515244, 0.08780439163008491, 0.5644568033362601, 0.0041811615061945195, 0.016724646024778078, 0.0027874410041296795, 0.0013937205020648398, 0.9554798392296936, 0.1623255556966634, 0.042968529449116784, 0.05729137259882238, 0.014322843149705595, 0.5251709154892051, 0.10025990204793916, 0.014322843149705595, 0.07161421574852797, 0.004774281049901865, 0.014746894009549172, 0.09732950046302453, 0.8258260645347536, 0.017696272811459007, 0.014746894009549172, 0.02654440921718851, 0.9782187099230976, 0.022739884410122625, 0.9664450874302115, 0.34060350660413186, 0.2608524416431644, 0.05815181820070544, 0.015784064940191477, 0.03239887014039303, 0.17611693512213647, 0.020768506500251943, 0.03655257144044342, 0.05815181820070544, 0.9766145804288895, 0.9869676153435937, 0.017825850630317053, 0.07575986517884747, 0.8199891289945844, 0.004456462657579263, 0.06684693986368895, 0.01336938797273779, 0.3701151177538786, 0.1074527761220938, 0.18356515920857688, 0.07461998341812069, 0.12566005207611525, 0.06268078607122138, 0.030146473300920757, 0.03760847164273282, 0.004178719071414759, 0.0038802391377422757, 0.021083724790483874, 0.029517214706677425, 0.046384194539064526, 0.653595468505, 0.012650234874290324, 0.04216744958096775, 0.1180688588267097, 0.004216744958096775, 0.07168466428764517, 0.2585882172065933, 0.2537995465175823, 0.08380173705769227, 0.14206389710732595, 0.07901306636868129, 0.06305083073864466, 0.04150181263809522, 0.051877265797619025, 0.023145241663553105, 0.0015962235630036623, 0.08789759557220157, 0.007990690506563779, 0.007990690506563779, 0.007990690506563779, 0.19976726266409447, 0.687199383564485, 0.07822539091457094, 0.9051795234400352, 0.01535317565126492, 0.03070635130252984, 0.9058373634246303, 0.03070635130252984, 0.9838786209068997, 0.9551802812950033, 0.02759538871220572, 0.018396925808137145, 0.03679385161627429, 0.9198462904068574, 0.01023461382417854, 0.02558653456044635, 0.08187691059342832, 0.0511730691208927, 0.8290037197584618, 0.965544462237066, 0.012805227222619158, 0.012805227222619158, 0.9603920416964369, 0.9809412398841612, 0.9820885038015155, 0.5368393836104938, 0.09952258422874953, 0.0841491769088614, 0.08774169946150893, 0.08052428928817197, 0.036345971411019744, 0.017250581266316584, 0.04058579532450469, 0.012169265583743032, 0.004887125274322335, 0.979721399775329, 0.9859268122952547, 0.9921225997075136, 0.9818631884797355, 0.981865237551181, 0.9932312981742384, 0.9932306761183061, 0.9932319433760789, 0.27340078320749955, 0.03082459810672789, 0.013401999176838214, 0.1836073887226835, 0.004020599753051464, 0.03484519785977935, 0.0026803998353676427, 0.45566797201249926, 0.0013401999176838213, 0.981859723574444, 0.9818506054497294, 0.648575085776129, 0.06108463411741935, 0.028745710172903224, 0.07905070297548386, 0.10599980626258063, 0.010779641314838708, 0.01257624820064516, 0.021559282629677417, 0.026949103287096772, 0.005389820657419354, 0.989965065543462, 0.1257964471488357, 0.08782016121711173, 0.4715388836522395, 0.1439934174911201, 0.04509683954392223, 0.04509683954392223, 0.032438077566680906, 0.018988142965861994, 0.026899869201637824, 0.003164690494310332, 0.6285643514033206, 0.017599801839292977, 0.03268534627297267, 0.05531366292349221, 0.1533697017424102, 0.0025142574056132823, 0.01005702962245313, 0.015085544433679694, 0.0854847517908516, 0.06257976472304198, 0.9074065884841088, 0.010429960787173665, 0.010429960787173665, 0.010429960787173665, 0.06530454335847027, 0.7929837407814248, 0.009329220479781467, 0.04664610239890734, 0.03731688191912587, 0.03731688191912587, 0.96759244541642, 0.9874303506909616, 0.009114198086448743, 0.9114198086448744, 0.03645679234579497, 0.018228396172897485, 0.018228396172897485, 0.984777231286631, 0.04330659124220697, 0.0818013390130576, 0.0048118434713563295, 0.009623686942712659, 0.04811843471356329, 0.8132015466592197, 0.026073328036410243, 0.0651833200910256, 0.013036664018205121, 0.8864931532379482, 0.9894654447846, 0.9807793048151743, 0.012425466445816784, 0.03727639933745035, 0.8946335840988084, 0.012425466445816784, 0.03727639933745035, 0.012425466445816784, 0.9819927293232495, 0.9818511742990942, 0.9863177034519006, 0.9701142782964071, 0.1731272213216493, 0.3834553331752232, 0.20245869270258984, 0.03863169401392174, 0.08155579847383479, 0.02074665048895797, 0.050793523610897104, 0.004292410445991305, 0.00858482089198261, 0.03577008704992753, 0.013789559422840431, 0.9790587190216706, 0.012440933541043841, 0.9828337497424634, 0.08843243128557803, 0.1179099083807707, 0.14411211024316417, 0.1179099083807707, 0.03275275232799186, 0.006550550465598372, 0.4880160096870787, 0.977459016347878, 0.9758238634077793, 0.018021525867148423, 0.018021525867148423, 0.9551408709588665, 0.9743699674140603, 0.9555134367729105, 0.9804314948190935, 0.9688840344855182, 0.011548866438318543, 0.981653647257076, 0.9539778557054366, 0.9804310308767227, 0.9822592993660507, 0.028495858151560083, 0.13298067137394706, 0.06332412922568907, 0.012664825845137815, 0.0031662064612844537, 0.6712357697923041, 0.012664825845137815, 0.0063324129225689075, 0.07282274860954244, 0.01224742531007551, 0.9675465994959653, 0.01436105584478588, 0.947829685755868, 0.02872211168957176, 0.9817429998189361, 0.980490423402152, 0.9824963806653778, 0.18823114648264472, 0.49362657802081317, 0.2247249401884636, 0.03265234173678531, 0.04609742362840279, 0.0038414519690335657, 0.0019207259845167828, 0.005762177953550348, 0.9854188539398505, 0.9699023297173794, 0.9883817576730769, 0.9714751103316225, 0.9693731669575691, 0.014687143446465961, 0.04406143033939788, 0.08812286067879577, 0.8371671764485598, 0.9847731443788594, 0.9950461291535266, 0.9853048565825293, 0.011680803789898681, 0.8877410880322998, 0.08176562652929077, 0.039275184451517876, 0.10660407208269139, 0.13746314558031258, 0.025248332861690065, 0.008416110953896688, 0.1655168487599682, 0.025248332861690065, 0.4909398056439735, 0.005610740635931126, 0.9740669951646812, 0.9847775312193847, 0.1265626040617455, 0.252144102665648, 0.03139537465097563, 0.22172983347251538, 0.11773265494115862, 0.027470952819603676, 0.02354653098823172, 0.10890270582057171, 0.021584320072545744, 0.0686773820490092, 0.9753437333092837, 0.0475780345248736, 0.015859344841624535, 0.919842000814223, 0.9937153581661882, 0.9785562536911414, 0.9711376313969038, 0.017037502305208837, 0.03216530218871772, 0.08684631590953786, 0.09649590656615317, 0.5854084998346626, 0.1157950878793838, 0.048247953283076586, 0.0064330604377435445, 0.025732241750974178, 0.0032165302188717723, 0.24891148731494078, 0.04873791360012827, 0.12532606354318698, 0.08819241508594639, 0.300550467200791, 0.009283412114310146, 0.08529134880022447, 0.07252665714304801, 0.010443838628598915, 0.010443838628598915, 0.9716426083606262, 0.978845641236321, 0.03514996340625848, 0.03514996340625848, 0.9138990485627204, 0.021613102201792817, 0.9077502924752984, 0.043226204403585634, 0.14595035329217593, 0.03648758832304398, 0.7096835928832054, 0.05108262365226157, 0.014595035329217592, 0.005473138248456597, 0.005473138248456597, 0.003648758832304398, 0.023716932409978585, 0.003648758832304398, 0.9667567922775466, 0.011655130930049294, 0.02830531797297686, 0.12487640282195674, 0.03663041149444064, 0.6443622385612967, 0.07659086039746679, 0.03496539279014788, 0.016650187042927565, 0.02331026186009859, 0.03992260272609395, 0.9182198627001609, 0.026615068484062636, 0.2183954182939931, 0.2786424302371636, 0.10769153384841729, 0.11070388444557581, 0.10618535854983802, 0.09488904381049355, 0.025604980075847467, 0.04970378485311567, 0.007530876492896314, 0.0007530876492896313, 0.05425349408974203, 0.04521124507478503, 0.8951826524807436, 0.9808763099272366, 0.01918404003963214, 0.08952552018494998, 0.05755212011889642, 0.012789360026421427, 0.7162041614795999, 0.09592020019816071, 0.9811240399741503, 0.3436102046638578, 0.1434320205891686, 0.11035910322030691, 0.04839090015022921, 0.2012225919916006, 0.05361293973478632, 0.04177631667645687, 0.012532895002937063, 0.033769189313469304, 0.011140351113721832, 0.03856287410396345, 0.16389221494184467, 0.004820359262995432, 0.007230538894493147, 0.012050898157488579, 0.24583832241276699, 0.002410179631497716, 0.525419159666502, 0.9829246705683591, 0.1970143541306031, 0.7880574165224123, 0.018305998345957846, 0.018305998345957846, 0.9519119139898081, 0.006604514669459206, 0.029720316012566427, 0.9246320537242888, 0.03302257334729603, 0.003302257334729603, 0.9650236532531038, 0.010470868083609577, 0.8690820509395949, 0.11517954891970535, 0.0018216008452642542, 0.0018216008452642542, 0.06557763042951316, 0.9290164310847697, 0.0018216008452642542, 0.9563045917379284, 0.9793145848190252, 0.9619046033945831, 0.9897576651160108, 0.060228606066227125, 0.025095252527594637, 0.10540006061589748, 0.005019050505518927, 0.020076202022075707, 0.7779528283554337, 0.9495814389357075, 0.03923890243535981, 0.12433283265685913, 0.23970474043754822, 0.09184947998074278, 0.15905641655201797, 0.11313167656164659, 0.04368450877132888, 0.17921849752340052, 0.02016208097138256, 0.024642543409467574, 0.00336034682856376, 0.9872156402340375, 0.027282081320305036, 0.9548728462106763, 0.0031132152675867725, 0.0031132152675867725, 0.9557570871491391, 0.034245367943454494, 0.9530371897683833, 0.024408681812888473, 0.9702451020623168, 0.9847760768651616, 0.008575386847369732, 0.9861694874475192, 0.9756704127000898, 0.05085026367259454, 0.0699191125498175, 0.049728566679816726, 0.42661875625316453, 0.07291030453055836, 0.10805681030426341, 0.05309365765815018, 0.00859967694462996, 0.03664210176407548, 0.1233866692055603, 0.002589649094461261, 0.17868578751782702, 0.8157394647552972, 0.9798990205654238, 0.9853810698947603, 0.9949039572841599, 0.08497260641810392, 0.048027994931971775, 0.5652525557378216, 0.02955568918890571, 0.22905659121401925, 0.02216676689167928, 0.0073889222972264275, 0.01108338344583964, 0.966205753853109, 0.9918834333015609, 0.9771311148917954, 0.9886535117334123, 0.974113877084104, 0.0913301115356955, 0.1424909617613805, 0.4892256302831129, 0.0679480042059879, 0.08073821676240915, 0.028777978251947816, 0.02218302490254311, 0.009992353559704103, 0.03577262574374069, 0.03177568431985905, 0.9870957492492285, 0.010282247388012797, 0.1238057029428552, 0.14856684353142624, 0.45215995857390595, 0.08612570639502971, 0.08827884905490545, 0.0376799965478255, 0.013995427289192328, 0.010765713299378714, 0.026914283248446785, 0.011842284629316585, 0.9818475465148495, 0.17015330907962686, 0.18013973354028218, 0.40867521638989385, 0.07144134421853408, 0.03072745987893939, 0.025350154400124995, 0.02573424764861174, 0.01152279745460227, 0.023429688157691284, 0.052620775042683705, 0.010941855555730313, 0.0875348444458425, 0.04103195833398868, 0.005470927777865156, 0.6783950444552794, 0.024619175000393203, 0.08479938055690993, 0.07112206111224703, 0.9866702619102267, 0.01734867215906412, 0.9715256409075906, 0.9806658045157104, 0.05645957938984011, 0.7847881535187775, 0.028229789694920054, 0.005645957938984011, 0.022583831755936045, 0.08468936908476016, 0.011291915877968023, 0.9376435245350304, 0.057998568527940025, 0.15808658741214002, 0.16363348521607476, 0.2878839960242129, 0.0804300181570537, 0.1037269889335796, 0.07654718969429938, 0.03272669704321495, 0.008320346705902107, 0.04271111309029748, 0.04603925177265832, 0.9534957960036656, 0.9851158675208589, 0.9882010116319115, 0.9944641846604079, 0.9753771406976087, 0.01806253964254831, 0.2757776406634501, 0.02251246046232246, 0.6416051231761901, 0.02532651802011277, 0.005628115115580615, 0.0028140575577903074, 0.019698402904532154, 0.005628115115580615, 0.0028140575577903074, 0.9855060695210464, 0.0006889413192482979, 0.0062004718732346815, 0.01997929825820064, 0.0013778826384965959, 0.5435747008869071, 0.002066823957744894, 0.03031341804692511, 0.17912474300455747, 0.21701651556321386, 0.9726410595115712, 0.0781540479084457, 0.9117972255985332, 0.03798289033912592, 0.1297748753253469, 0.6773615443810789, 0.04114813120071975, 0.044313372062313575, 0.0474786129239074, 0.003165240861593827, 0.006330481723187654, 0.00949572258478148, 0.9750880756874177, 0.9879608038199639, 0.9142068779902415, 0.07313655023921932, 0.021976097597961954, 0.021976097597961954, 0.944972196712364, 0.42696873819358117, 0.0635946400515068, 0.03321609808464529, 0.07377645906237798, 0.18460806272169694, 0.0428971718982605, 0.0318807775586294, 0.055081971698155506, 0.07244113853636208, 0.015356186049182747, 0.10015621940203889, 0.05803444488716272, 0.01622468351684119, 0.044929892815867914, 0.4673956905428482, 0.12449324467730068, 0.09422796965550076, 0.057722431742608084, 0.012480525782185533, 0.02402501213070715, 0.8944241562838035, 0.007845825932314065, 0.07845825932314066, 0.007845825932314065, 0.4599706357402573, 0.11559288634717675, 0.10895764513691585, 0.09477045175971326, 0.05845123671407464, 0.04430769623957115, 0.027064799673432623, 0.05923698896265817, 0.014187193377202584, 0.017417508176934864, 0.029735763066233954, 0.18541122853063524, 0.11019723959839642, 0.3795682697278099, 0.23963526706317953, 0.034983250666157595, 0.020989950399694556, 0.9866875034565047, 0.9811159872108416, 0.9825323409535085, 0.9942458501762516, 0.08016608836061676, 0.8951879866935538, 0.1440608944141225, 0.056751261435866444, 0.04510997703876564, 0.0014551605496376013, 0.6591877289858333, 0.040744495389852836, 0.03637901374094003, 0.008730963297825607, 0.008730963297825607, 0.9596722681608519, 0.11851831607112676, 0.009481465285690141, 0.06162952435698592, 0.04266659378560563, 0.09955538549974648, 0.6637025699983099, 0.004740732642845071, 0.019109011897180044, 0.002729858842454292, 0.9745596067561823, 0.02553136744604787, 0.6638155535972446, 0.008510455815349292, 0.017020911630698583, 0.22127185119908158, 0.05106273489209574, 0.004255227907674646, 0.008510455815349292, 0.995285694518265, 0.012812934891995108, 0.9865959866836232, 0.9865102232832874, 0.9737494182246843, 0.9755934808689547, 0.9813360311300514, 0.9824659672664461, 0.9799220569166376, 0.09175398410645136, 0.09297737056120405, 0.4673336257155256, 0.040371753006838595, 0.08196689246842988, 0.017127410366537588, 0.13212573711328995, 0.019574183276042958, 0.055052390463870816, 0.0012233864547526849, 0.9791052993125935, 0.05547458171605893, 0.1802923905771915, 0.06934322714507367, 0.09014619528859576, 0.6032860761621409, 0.006934322714507366, 0.038108989128269564, 0.9527247282067391, 0.016122180068352154, 0.8705977236910163, 0.104794170444289, 0.08759679828227383, 0.07645732104406561, 0.6349502025778693, 0.07392562167174554, 0.013671176610528286, 0.01822823548070438, 0.03645647096140876, 0.004557058870176095, 0.053672026693185125, 0.0005063398744640106, 0.9859452151028051, 0.013590041023007364, 0.016987551278759203, 0.003397510255751841, 0.9648929126335228, 0.9731228546060998, 0.987932527169402, 0.9644133355398593, 0.9645510652099809, 0.009869980455519812, 0.08224983712933176, 0.009869980455519812, 0.13159973940693082, 0.03618992833690597, 0.11843976546623773, 0.5165289771722035, 0.0888298240996783, 0.0032899934851732702, 0.0032899934851732702, 0.9719255520384822, 0.024863986464494846, 0.9448314856508042, 0.09909393388519562, 0.2114003922884173, 0.05285009807210433, 0.323706850691639, 0.07927514710815649, 0.054501663636857586, 0.17176281873433907, 0.0033031311295065205, 0.0016515655647532602, 0.027257670433592927, 0.11584509934276994, 0.851802201049779, 0.1307406518515369, 0.006225745326263662, 0.02179010864192282, 0.2085624684298327, 0.0996119252202186, 0.09649905255708677, 0.3984477008808744, 0.03735447195758197, 0.003112872663131831, 0.044787935431449793, 0.9405466440604456, 0.12680832877309547, 0.1449238043121091, 0.49477892565931003, 0.07472633659843127, 0.014718823875448582, 0.04981755773228751, 0.006793303327130114, 0.010189954990695173, 0.0735941193772429, 0.003396651663565057, 0.0211134693231997, 0.07178579569887898, 0.840316079063348, 0.03378155091711952, 0.012668081593919819, 0.012668081593919819, 0.9461427035168253, 0.042364598664932474, 0.9967135493521887, 0.9793335057311285, 0.08160424026159845, 0.8976466428775829, 0.17388989008177794, 0.37149203790198015, 0.06125666582426268, 0.26379886733996993, 0.008892096651909098, 0.07706483764987886, 0.01976021478202022, 0.007904085912808088, 0.014820161086515165, 0.9831286585715456, 0.25850951083305923, 0.202311791086742, 0.03147072305793765, 0.11464334828248714, 0.05619771974631722, 0.058445628536169913, 0.0044958175797053775, 0.26974905478232264, 0.9784622767396816, 0.9734400615900249, 0.9726122207375736, 0.014516600309516025, 0.26248174441912603, 0.13428120129549884, 0.12364004949472344, 0.016721809972647023, 0.24778682050376952, 0.021282303601550756, 0.0846224928918804, 0.05219231597523162, 0.008107544229162194, 0.04864526537497316, 0.9696790128917885, 0.04409163779573693, 0.028344624297259455, 0.14487252418599278, 0.00629880539939099, 0.11652789988873331, 0.02519522159756396, 0.003149402699695495, 0.6330299426387945, 0.24567207370192728, 0.06296118471757936, 0.51294847549322, 0.03580145797666277, 0.018517995505170397, 0.05370218696499415, 0.025307927190399544, 0.019752528538848426, 0.025307927190399544, 0.0006172665168390133, 0.9908784763154294, 0.13657130342489546, 0.06473834512998292, 0.014632639652667371, 0.01418922632985927, 0.49883998815911496, 0.12814645029154154, 0.06606858509840723, 0.05675690531943708, 0.0035473065824648173, 0.01640629294389978, 0.9847782002208235, 0.9818681926750578, 0.3377503576482626, 0.003691260739325274, 0.5887560879223812, 0.001845630369662637, 0.047986389611228565, 0.01845630369662637, 0.1604143405703943, 0.23516411576402135, 0.2302028474989576, 0.11179391157276965, 0.038697892467497184, 0.10319437991332583, 0.03969014612050993, 0.0036382633943800773, 0.06681174596952505, 0.010584038965469316, 0.0740264768293461, 0.006729679711758736, 0.01682419927939684, 0.010094519567638103, 0.5417392167965782, 0.003364839855879368, 0.003364839855879368, 0.33984882544381617, 0.006729679711758736, 0.966638653884766, 0.038863941732492344, 0.10363717795331293, 0.7967108055160931, 0.058295912598738515, 0.021625873971342805, 0.021625873971342805, 0.021625873971342805, 0.06487762191402842, 0.8542220218680409, 0.978941275861221, 0.9087471483918909, 0.05598916080139612, 0.03014800966229022, 0.989693180008913, 0.9789127609075209, 0.9707366537609053, 0.9847824017308183, 0.23816536888839296, 0.08356679610119051, 0.016713359220238103, 0.6058592717336312, 0.004178339805059526, 0.020891699025297628, 0.025070038830357154, 0.5949715333240986, 0.14318240171117325, 0.08618746510769652, 0.06116529781836527, 0.030582648909182636, 0.008340722429777084, 0.006950602024814236, 0.02919252850421979, 0.03753325093399687, 0.9902477674272164, 0.9888617060717494, 0.9796412520576205, 0.0006890020676528944, 0.998363996029044, 0.9964858682082962, 0.9938554555892882, 0.9830561765024444, 0.9748679625337456, 0.9876266252214903, 0.9848606845397704, 0.9925534397078759, 0.9809956860129379, 0.012726492990602044, 0.18771577161138014, 0.06681408820066073, 0.10181194392481635, 0.08908545093421431, 0.0286346092288546, 0.39133965946101285, 0.012726492990602044, 0.10817519042011738, 0.9815085544386091, 0.9702545670252885, 0.02295035017550433, 0.08032622561426515, 0.02295035017550433, 0.16639003877240638, 0.08606381315814124, 0.5909715170192364, 0.028687937719380413, 0.9845754970753765, 0.9875254182057992, 0.007087190750704242, 0.1842669595183103, 0.8043961502049315, 0.9628396470276883, 0.09184612291545408, 0.005198837146157778, 0.024261240015402964, 0.4592306145772704, 0.2997996087617652, 0.001732945715385926, 0.022528294300017036, 0.06931782861543703, 0.02599418573078889, 0.001732945715385926, 0.9843839764864933, 0.967903439446656, 0.9759344441214101, 0.6037588355420043, 0.06322930877051065, 0.15337160537667455, 0.0726326418697148, 0.01621264327448991, 0.0178339076019389, 0.00356678152038778, 0.06095953871208206, 0.006809310175285762, 0.001621264327448991, 0.984007369034206, 0.9820282439651171, 0.9643424594875003, 0.022606301854247283, 0.9720709797326332, 0.08462664544676837, 0.8847331114889421, 0.015386662808503341, 0.9482716340121282, 0.9810179582317158, 0.9749323721959817, 0.977651346665256, 0.9905554134875444, 0.9750792487273401, 0.021199938420819985, 0.968130521217446, 0.004462525835824737, 0.9906807355530917, 0.03933099150422718, 0.12070545668538686, 0.5709774973544705, 0.08137446518115968, 0.03661850933152186, 0.018987375208937257, 0.0420434736769325, 0.016274893036231936, 0.07323701866304372, 0.0013562410863526613, 0.11369240582746523, 0.17053860874119783, 0.023685917880721923, 0.00947436715228877, 0.184750159469631, 0.03316028503301069, 0.028423101456866308, 0.061583386489877, 0.37897468609155077, 0.07596318378806467, 0.14156775160502963, 0.010358615971099728, 0.23479529534492719, 0.01726435995183288, 0.5110250545742533, 0.0069057439807331525, 0.0034528719903665762, 0.045980074039360656, 0.05128546719774842, 0.7409865777881582, 0.08311782614807503, 0.024758501405809583, 0.022990037019680328, 0.010610786316775535, 0.001768464386129256, 0.012379250702904791, 0.003536928772258512, 0.19379072453108687, 0.13161317621087548, 0.08903244273088635, 0.15895194259291395, 0.060725932406120856, 0.1587100066072322, 0.0815324271747519, 0.045725901293851956, 0.0549194687497587, 0.02491940652522091, 0.9834386735354893, 0.0816960757989783, 0.021918459360701494, 0.019925872146092267, 0.031217199695544554, 0.31682136712286707, 0.007970348858436907, 0.4795493229826206, 0.02391104657531072, 0.01660489345507689, 0.981868377498239, 0.006330933268251782, 0.13928053190153922, 0.09496399902377674, 0.0021103110894172606, 0.7343882591172067, 0.0021103110894172606, 0.018992799804755347, 0.038843647028856294, 0.9516693522069792, 0.015349965772027251, 0.9670478436377168, 0.9511482928921183, 0.035556945528677324, 0.9763241081043583, 0.9846181918745903, 0.9847777506422586, 0.3809110845039025, 0.2258578665764316, 0.1442980814238313, 0.049294375641681494, 0.045709330140468296, 0.0421242846392551, 0.021510273007279198, 0.025095318508492396, 0.062738296271231, 0.0035850455012131997, 0.01804802616731616, 0.03609605233463232, 0.9384973607004403, 0.9609374197610439, 0.42578635344860927, 0.033297768073352135, 0.11760488298247776, 0.05951090464173574, 0.1756988613232198, 0.026921599718880453, 0.016294652461427642, 0.07793094655465393, 0.0524262731367672, 0.015586189310930788, 0.9772572579323365, 0.8595664761547257, 0.11906157271062079, 0.014519703989100095, 0.9819529225653365, 0.09095471282936216, 0.8045993827212806, 0.006996516371489396, 0.04897561460042577, 0.04897561460042577, 0.12899309987655094, 0.8642537691728914, 0.0257306248636605, 0.120076249363749, 0.0257306248636605, 0.15009531170468626, 0.6604193715006196, 0.01286531243183025, 0.0085768749545535, 0.9742183816833148, 0.9809141556552635, 0.19179943035631883, 0.1017118191283509, 0.0145302598754787, 0.1307723388793083, 0.1307723388793083, 0.03487262370114888, 0.00290605197509574, 0.01743631185057444, 0.37488070478735047, 0.977120398526387, 0.32431169896068707, 0.4508723619697357, 0.015820082876131077, 0.13842572516614693, 0.0019775103595163846, 0.003955020719032769, 0.005932531078549154, 0.011865062157098307, 0.045482738268876846, 0.9676467349747296, 0.9782874907790462, 0.9551450619532235, 0.16592884040846306, 0.352598785867984, 0.1732492304264835, 0.04392234010812257, 0.15006799536941878, 0.05490292513515321, 0.05490292513515321, 0.0012200650030034048, 0.0024401300060068096, 0.0012200650030034048, 0.984772356891099, 0.00753266228238393, 0.06779396054145537, 0.00753266228238393, 0.12805525880052682, 0.08285928510622323, 0.6930049299793216, 0.02780158180570673, 0.04633596967617788, 0.018534387870471153, 0.9081850056530866, 0.9607643573324516, 0.12991364583083034, 0.12670590148932837, 0.21331499870988194, 0.20770144611225347, 0.06575875900079067, 0.09863813850118601, 0.03769099601264831, 0.012830977366007936, 0.034483251671146326, 0.07458005593992112, 0.19469263533420958, 0.13520321898208998, 0.010816257518567199, 0.28122269548274714, 0.0081121931389254, 0.024336579416776197, 0.0324487725557016, 0.31367146803844875, 0.10987513574420078, 0.03469741128764235, 0.1156580376254745, 0.08674352821910587, 0.0693948225752847, 0.5840730900086463, 0.005484646041300356, 0.893997304731958, 0.032907876247802136, 0.005484646041300356, 0.060331106454303916, 0.0527780773569999, 0.09047670404057126, 0.8444492377119984, 0.9844149103547061, 0.010004394053183931, 0.010004394053183931, 0.010004394053183931, 0.9704262231588412, 0.9512688440954814, 0.8922738448522642, 0.026922055663645902, 0.0038460079519494145, 0.02307604771169649, 0.04615209542339298, 0.0038460079519494145, 0.0038460079519494145, 0.7802304438260773, 0.07093004034782521, 0.06586360889440912, 0.05066431453416086, 0.030398588720496517, 0.005939104414398354, 0.17817313243195063, 0.8136573047725745, 0.9646551068459507, 0.9730596926647306, 0.9675365817982813, 0.15960342043790313, 0.2321504297278591, 0.010882051393493396, 0.11244786439943176, 0.03264615418048019, 0.44253675666873143, 0.0036273504644977984, 0.029184346053386837, 0.9484912467350722, 0.16475706194140133, 0.22954916495206476, 0.03147045003375081, 0.11847698836235601, 0.011107217658970875, 0.3387701385986117, 0.0740481177264725, 0.0018512029431618127, 0.025916841204265375, 0.0018512029431618127, 0.988988486287811, 0.9830561468858041, 0.00945246295082504, 0.9862649444051711, 0.04323304775522167, 0.0072055079592036105, 0.0072055079592036105, 0.9295105267372658, 0.0072055079592036105, 0.0072055079592036105, 0.06399580123423423, 0.12411306906033305, 0.6322009455260715, 0.04072460078542178, 0.027149733856947855, 0.017453400336609335, 0.005817800112203112, 0.00969633352033852, 0.06399580123423423, 0.011635600224406224, 0.9638273049143112, 0.02727813127115975, 0.02177627266936262, 0.9581559974519553, 0.9793965806239909, 0.06551699920286644, 0.134673831694781, 0.025478833023336946, 0.16379249800716608, 0.589652992825798, 0.007279666578096271, 0.007279666578096271, 0.9810440914564982, 0.06422568834532907, 0.8670467926619426, 0.01605642208633227, 0.03211284417266454, 0.01605642208633227, 0.9841946934605529, 0.9915391366464995, 0.9863551765902607, 0.0734954148691701, 0.008166157207685567, 0.32936834070998455, 0.029942576428180413, 0.5226340612918763, 0.03266462883074227, 0.95211933235328, 0.9889352065175887, 0.9813044868286338, 0.10017190118993695, 0.1107961937403848, 0.06981677961722878, 0.4477380431974454, 0.022766341179531125, 0.12293824236946807, 0.10017190118993695, 0.0030355121572708164, 0.021248585100895716, 0.9886918520602231, 0.9769596509402905, 0.9684910593126639, 0.9913928800583174, 0.9870958500823646, 0.008435108351838921, 0.029522879231436223, 0.13074417945350328, 0.07169842099063083, 0.5567171512213688, 0.20666015462005355, 0.9965641672919874, 0.9673515300066587, 0.01443603372661336, 0.08661620235968016, 0.880598057323415, 0.11957422311833303, 0.8541015937023788, 0.9774961916298626, 0.02722478970458406, 0.06806197426146014, 0.8984180602512739, 0.011456561553990198, 0.25204435418778437, 0.7332199394553727, 0.996155922194057, 0.12448800837986612, 0.00541252210347244, 0.8443534481417007, 0.02165008841388976, 0.02541466281145489, 0.08444226676064044, 0.7206286648796403, 0.03279311330510308, 0.03361294113773066, 0.005738794828393039, 0.057387948283930394, 0.0024594834978827313, 0.03361294113773066, 0.0032793113305103084, 0.9815007619912199, 0.9750605924727178, 0.03611228136608682, 0.05918401668330895, 0.027084211024565114, 0.06620584917115917, 0.25579532634311497, 0.1715333364889124, 0.08024951414685959, 0.15247407687903322, 0.01604990282937192, 0.13341481726915408, 0.19213214956164895, 0.10803952757959391, 0.4121095381902036, 0.13198643317713277, 0.03508500122430112, 0.05903190682183997, 0.012251905189438484, 0.0038983334693667906, 0.040654049037682244, 0.004455238250704903, 0.990073545846159, 0.9652210708777349, 0.8906504087936743, 0.10499537339437624, 0.9869079033317617, 0.9863551765902607, 0.2617595568507181, 0.05047381589498152, 0.08803572539822359, 0.07747143835043675, 0.32514527913743907, 0.06749405613863808, 0.038735719175218376, 0.03169286114336049, 0.048713101387017045, 0.01056428704778683, 0.986727104806665, 0.9726472947667079, 0.9690307920267749, 0.016150513200446248, 0.9633884184337034, 0.016328617261588192, 0.029418028326934097, 0.053487324230789265, 0.029418028326934097, 0.21394929692315706, 0.010697464846157852, 0.5642912706348268, 0.002674366211539463, 0.06418478907694712, 0.034766760750013025, 0.980252229458814, 0.017197407534365158, 0.015849279475606985, 0.982655327487633, 0.9698078682687036, 0.987097952717461, 0.4169175976708828, 0.009650870316455621, 0.22390019134177042, 0.001930174063291124, 0.2393415838480994, 0.001930174063291124, 0.10615957348101183, 0.9632821130803876, 0.9632955088925956, 0.9632901941149715, 0.03618606765557496, 0.00603101127592916, 0.00603101127592916, 0.9528997815968073, 0.006921083678520555, 0.8928197945291516, 0.09689517149928777, 0.9722771016046443, 0.6411039612898837, 0.028493509390661496, 0.22208176436839108, 0.05279679681210807, 0.0033521775753719407, 0.021789154239917615, 0.0016760887876859703, 0.029331553784504482, 0.0008380443938429852, 0.0008380443938429852, 0.9792114231150058, 0.9736485650074692, 0.9915772122403336, 0.0013796161491446677, 0.03173117143032736, 0.15175777640591345, 0.022073858386314683, 0.4552733292177404, 0.08829543354525873, 0.2400532099511722, 0.0027592322982893354, 0.005518464596578671, 0.9852516019886495, 0.031927855050428874, 0.9578356515128662, 0.011844169481650079, 0.3040003500290187, 0.01579222597553344, 0.0197402824694168, 0.6435332085029877, 0.9785424059837945, 0.9777727613468415, 0.9910913440622642, 0.9847723334013134, 0.08072690305062741, 0.11827429981836109, 0.6026357181221256, 0.05632109515160052, 0.05632109515160052, 0.013141588868706788, 0.05068898563644047, 0.0056321095151600515, 0.015018958707093471, 0.001877369838386684, 0.9848193780226829, 0.325285251629709, 0.15777308611979898, 0.009739079390111049, 0.05064321282857745, 0.07986045099891059, 0.2571116958989317, 0.0019478158780222097, 0.005843447634066629, 0.10907768916924375, 0.0038956317560444194, 0.28197951378546326, 0.08697875549601354, 0.11012632752317844, 0.06909199529320431, 0.21043247297422632, 0.06698767056346204, 0.06137613795081601, 0.03612424119390885, 0.0554138845498796, 0.02139396808571301, 0.017627827334928826, 0.9695305034210855, 0.9635085075394433, 0.17169758476745875, 0.3573165953268736, 0.03480356447989029, 0.2215826938553015, 0.020882138687934173, 0.12297259449561235, 0.026682732767915888, 0.0023202376319926858, 0.041764277375868346, 0.9793580090890506, 0.9832418575155972, 0.10232460746928858, 0.17010651305404026, 0.38127321891422816, 0.061264414663140934, 0.09711061473199999, 0.040408443713986573, 0.08994137471822818, 0.016293727304026843, 0.03649794916102013, 0.004562243645127516, 0.0779864630605246, 0.14179356920095385, 0.007089678460047692, 0.02835871384019077, 0.11343485536076307, 0.6309813829442446, 0.9724765442050649, 0.970893414749014, 0.9180479442929587, 0.027404416247551005, 0.05480883249510201, 0.992663580585523, 0.9668306843657445, 0.0020677766225860586, 0.4218264310075559, 0.1344054804680938, 0.0020677766225860586, 0.018609989603274524, 0.4156231011397977, 0.9824156038314837, 0.11664172579490996, 0.06768100138716997, 0.6811300777900298, 0.028800426122199987, 0.03600053265274999, 0.012960191754989995, 0.015840234367209993, 0.005760085224439998, 0.03600053265274999, 0.04688709276938298, 0.10315160409264255, 0.009377418553876596, 0.8252128327411404, 0.352255829789556, 0.23371627847612547, 0.09920331244670073, 0.11601743320037883, 0.025221181130517138, 0.07650424942923531, 0.04119459584651132, 0.004203530188419523, 0.04960165622335037, 0.0008407060376839046, 0.9861606171199102, 0.022020776011991573, 0.10569972485755955, 0.7795354708245017, 0.057254017631178086, 0.030829086416788203, 0.9924452438757236, 0.08448085081436173, 0.14720148247956968, 0.520965246688564, 0.12288123754816252, 0.02176021914915378, 0.04096041251605417, 0.00896009023788685, 0.0076800773467601575, 0.04480045118943425, 0.001280012891126693, 0.9795550166743512, 0.9646055204334736, 0.7572668902263927, 0.06634664597149664, 0.006863446134982412, 0.06863446134982412, 0.006863446134982412, 0.09151261513309882, 0.698742241657091, 0.003258624711258919, 0.1177760074212152, 0.005586213790729575, 0.00372414252715305, 0.08844838501988495, 0.00046551781589413126, 0.05772420917087227, 0.021413819531130036, 0.0027931068953647876, 0.10511993202889573, 0.2029213877772987, 0.28342462686271885, 0.13838573330386272, 0.11376904036038715, 0.0498987019124505, 0.0565518621674439, 0.00465721217849538, 0.03925364550446106, 0.0066531602549934005, 0.967069568805434, 0.9715629960968396, 0.9644637105192493, 0.08181314907148783, 0.2781647068430586, 0.05005039707902785, 0.08758819488829873, 0.2415894166699229, 0.14245113014800234, 0.051012904715163, 0.024062690903378772, 0.04235033598994664, 0.000962507636135151, 0.017406942910710065, 0.017406942910710065, 0.9573818600890535, 0.9812374561908257, 0.014220832698417764, 0.9686912595840381, 0.9692516202266281, 0.007850187826965963, 0.019625469567414906, 0.002616729275655321, 0.705208539789109, 0.10205244175055751, 0.014392011016104265, 0.1059775356640405, 0.02878402203220853, 0.013083646378276605, 0.9610046242427139, 0.9720910198772952, 0.012961213598363936, 0.9886852467316483, 0.9898947166231276, 0.008912602818216384, 0.12923274086413758, 0.1648831521370031, 0.6060569916387141, 0.008912602818216384, 0.07575712395483926, 0.008912602818216384, 0.012413764050081755, 0.03724129215024526, 0.006206882025040878, 0.9310323037561316, 0.012413764050081755, 0.10502498922873695, 0.20474568607218416, 0.2450583082003862, 0.06365150862347695, 0.029704037357622573, 0.14215503592576517, 0.002121716954115898, 0.003182575431173847, 0.19944139368689442, 0.004243433908231796, 0.9874115893677952, 0.9773202568276557, 0.9936201308785069, 0.9718061650227632, 0.1561798628575165, 0.24475948656774973, 0.040793247761291625, 0.0652691964180666, 0.3951117426022246, 0.012820735010691652, 0.018648341833733314, 0.04662085458433328, 0.015151777739908317, 0.003496564093824996, 0.4736692664349114, 0.08006864824077684, 0.09271106638405739, 0.07450598425773339, 0.1478320094887606, 0.03118463142009203, 0.026801926463754774, 0.055289508679946954, 0.01651942637388659, 0.0015170901771936664, 0.9798728748806328, 0.9675161704246286, 0.9745301329040289, 0.06367238303543313, 0.02546895321417325, 0.815006502853544, 0.06367238303543313, 0.012734476607086626, 0.9815582060576697, 0.10735547020015482, 0.17245400000237635, 0.012562874172358542, 0.12562874172358543, 0.16217528477044663, 0.21014262251945198, 0.12905498013422867, 0.0057103973510720645, 0.06509852980222154, 0.010278715231929716, 0.9738147052408979, 0.6509638598596102, 0.06915000709131391, 0.1287620821700328, 0.10968621814484276, 0.011922415015743778, 0.0023844830031487557, 0.0047689660062975115, 0.011922415015743778, 0.011922415015743778, 0.4199173711258633, 0.05215954767129435, 0.046877568160277196, 0.052819795110171486, 0.27070144993962886, 0.04423657840476862, 0.021127918044068595, 0.043576330965891474, 0.03433286682161147, 0.013204948777542871, 0.08841939937783315, 0.3452119103368592, 0.01222821480757267, 0.335805591254111, 0.004703159541374104, 0.15614489677362023, 0.016931374348946773, 0.011287582899297849, 0.02351579770687052, 0.006584423357923745, 0.5426087219193748, 0.0036996049221775557, 0.22690910189355676, 0.0024664032814517038, 0.0049328065629034076, 0.01233201640725852, 0.1899130526717812, 0.014798419688710223, 0.0012332016407258519, 0.5522552178470969, 0.10715399749272028, 0.16210476543770502, 0.023354076376618522, 0.03159669156836623, 0.035717999164240094, 0.019232768780744664, 0.0027475383972492377, 0.06731469073260633, 0.00098525157276704, 0.0049262578638352, 0.073893867957528, 0.01083776730043744, 0.5763721700687184, 0.08768738997626656, 0.045321572347283845, 0.20099132084447616, 0.12368758356724728, 0.382057202574386, 0.09895006685379783, 0.1807213026565891, 0.002061459726120788, 0.12300043032520702, 0.024737516713449457, 0.014430218082845517, 0.03641912182813392, 0.01305591159876499, 0.9777539544559033, 0.9809880588486032, 0.00615444393676731, 0.3107994188067492, 0.5600543982458253, 0.00615444393676731, 0.10770276889342793, 0.003077221968383655, 0.003077221968383655, 0.9513907000986283, 0.03309185043821316, 0.018238212157655805, 0.9666252443557577, 0.3546267634442052, 0.16783138269953027, 0.12963247235145314, 0.1530665556500962, 0.02438228320090028, 0.08249339149637928, 0.03670888193024431, 0.023975911814218608, 0.026820511520990308, 0.0005418285155755618, 0.9898815762684597, 0.9821038188610038, 0.11061229282558423, 0.03318368784767527, 0.8517146547569986, 0.7405236211498115, 0.12405679220293235, 0.08779403755899827, 0.001908566033891267, 0.013359962237238869, 0.02481135844058647, 0.003817132067782534, 0.001908566033891267, 0.001908566033891267, 0.9712119893257694, 0.017038806830276657, 0.13770707900749657, 0.1151731933517244, 0.052579066530135055, 0.12769201871604227, 0.010015060291454297, 0.0025037650728635744, 0.5383094906656685, 0.015022590437181444, 0.01887952395375059, 0.9628557216412801, 0.9812006367573607, 0.9781161877196591, 0.9470125654768545, 0.04029840704156828, 0.13927198348313796, 0.1357901838960595, 0.43731402813705317, 0.07938503058538864, 0.0473524743842669, 0.07102871157640035, 0.017408997935392245, 0.006267239256741208, 0.06545783223707484, 0.0006963599174156898, 0.9747285330093757, 0.013151982474455367, 0.0065759912372276835, 0.10521585979564294, 0.07891189484673221, 0.013151982474455367, 0.7759669659928666, 0.9581869455128715, 0.009981114015759079, 0.019962228031518158, 0.31466817807844283, 0.10703217906038964, 0.09128269925871069, 0.0977110583614368, 0.1896365935304201, 0.04981978304612732, 0.08999702743816547, 0.0427485880331286, 0.015749479801678956, 0.0016070897756815263, 0.9688838159498285, 0.04902251400095957, 0.3291511654350142, 0.014006432571702733, 0.5952733842973662, 0.9840633884339508, 0.9812182023457257, 0.9926166605851089, 0.051991639630193855, 0.09610575810429774, 0.2252971050641734, 0.0693221861735918, 0.4316881593537308, 0.040963110011667886, 0.01733054654339795, 0.01890605077461595, 0.0063020169248719825, 0.040963110011667886, 0.14894697900625256, 0.3106244690386806, 0.11330154813296135, 0.21896478965021746, 0.04964899300208419, 0.048375941899466646, 0.006365255513087717, 0.03691848197590875, 0.0649256062334947, 0.0012730511026175432, 0.10062804284074327, 0.3034322522582413, 0.10836866152080045, 0.07663212493256603, 0.22292981798564662, 0.050314021420371634, 0.047217773948348765, 0.0619249494404574, 0.020125608568148653, 0.007740618680057175, 0.49840832358206827, 0.057427597537468754, 0.07165278224858486, 0.07613108113912141, 0.09404427670126764, 0.07059906486257626, 0.01106403255309031, 0.06849163009055906, 0.04583670629137414, 0.006585733662553756, 0.4753048157795668, 0.04943170084107494, 0.12782043353579733, 0.09506096315591335, 0.12372549973831184, 0.02720206022615367, 0.005849905424979283, 0.06815139820100866, 0.0155022493761951, 0.011992306121207531, 0.6309257087149873, 0.06616922930411023, 0.09272121303760669, 0.061954628711491745, 0.045517686400279644, 0.02023008284456873, 0.014329642014902852, 0.048046446755850736, 0.01770132248899764, 0.00295022041483294, 0.37452563365930286, 0.4128104762111427, 0.001664558371819124, 0.1531393702073594, 0.008322791859095619, 0.026632933949105982, 0.019974700461829486, 0.5186685439836574, 0.07187847538671158, 0.03022163169668555, 0.12252012850007654, 0.01633601713334354, 0.03512243683668861, 0.04819125054336344, 0.1494745567700934, 0.00816800856667177, 0.009874904674122605, 0.8689916113227892, 0.009874904674122605, 0.10862395141534865, 0.9827655603788017, 0.9942916277893528, 0.9402264486348239, 0.05530743815498964, 0.2694945465269582, 0.07576000538729874, 0.19071921754215504, 0.01884577248440267, 0.2887172344610489, 0.040329953116621714, 0.007915224443449121, 0.08065990623324343, 0.014699702537834083, 0.01319204073908187, 0.9797171676973658, 0.987162278155668, 0.9774502341522988, 0.9718495715504563, 0.9740239727302951], \"Term\": [\"aaron_rodger\", \"ac_dc\", \"adopt\", \"adopt\", \"adopt\", \"adult_swim\", \"affiliate_link\", \"affiliate_link\", \"affiliate_link\", \"affiliate_link\", \"affiliate_link\", \"affiliate_link\", \"affiliate_link\", \"album\", \"album\", \"album\", \"album\", \"album\", \"album\", \"album\", \"alex_meyer\", \"always_go\", \"american_football\", \"american_idol\", \"among_us\", \"among_us\", \"among_us\", \"amzn\", \"amzn\", \"amzn\", \"amzn\", \"amzn\", \"amzn\", \"animal\", \"animal\", \"animal\", \"animal\", \"animal\", \"animal\", \"animal\", \"animal\", \"animation\", \"animation\", \"animation\", \"animation\", \"animation\", \"animation\", \"animation\", \"animation\", \"animation\", \"animation\", \"anuel_aa\", \"apex_legend\", \"apex_legend\", \"app\", \"app\", \"app\", \"app\", \"app\", \"app\", \"app\", \"app\", \"apple\", \"apple\", \"apple\", \"apple\", \"apple\", \"apple\", \"apple\", \"apple\", \"apple_iphone\", \"apple_iphone\", \"ariana_grande\", \"arianagrande_lnk\", \"arrest\", \"arrest\", \"arrest\", \"art\", \"art\", \"art\", \"art\", \"art\", \"art\", \"art\", \"art\", \"art\", \"art\", \"artist\", \"artist\", \"artist\", \"artist\", \"artist\", \"artist\", \"artist\", \"artist\", \"artist\", \"asmr_eate\", \"asmr_eate\", \"ass\", \"ass\", \"ass\", \"ass\", \"ass\", \"ast\", \"audiomack\", \"australian_open\", \"automotive\", \"award\", \"award\", \"award\", \"award\", \"babish\", \"babish\", \"babish\", \"baby\", \"baby\", \"baby\", \"baby\", \"baby\", \"baby\", \"baby\", \"baby\", \"baby\", \"back\", \"back\", \"back\", \"back\", \"back\", \"back\", \"back\", \"back\", \"back\", \"back\", \"basketball\", \"basketball\", \"basketball\", \"basketball\", \"basketball\", \"basketball\", \"basketball\", \"basketball_game\", \"bedwar\", \"bein_sport\", \"best_play\", \"best_play\", \"billie_eilish\", \"billie_eilish\", \"billie_eilish\", \"bitch\", \"bitch\", \"bitch\", \"bitch\", \"black_friday\", \"blazer\", \"blazer\", \"blazer\", \"blazer\", \"blog\", \"blog\", \"blog\", \"blog\", \"blog\", \"blog\", \"blog\", \"blog\", \"blog\", \"boil\", \"bon_appetit\", \"book_go\", \"boss\", \"boss\", \"boss\", \"boss\", \"boss\", \"boss\", \"boss\", \"bottle_flip\", \"bout\", \"bout\", \"bout\", \"box\", \"box\", \"box\", \"box\", \"box\", \"box\", \"boxing\", \"boxing\", \"brawl_star\", \"brawler\", \"breaking_new\", \"breaking_new\", \"breaking_new\", \"brit\", \"brit_award\", \"bruno_mar\", \"bruno_mar\", \"bryce_hall\", \"buccaneer\", \"buccaneer\", \"build\", \"build\", \"build\", \"build\", \"build\", \"build\", \"build\", \"build\", \"build\", \"building\", \"building\", \"building\", \"building\", \"building\", \"burger\", \"button\", \"button\", \"buy\", \"buy\", \"buy\", \"buy\", \"buy\", \"buy\", \"buy\", \"buy\", \"buy\", \"buy\", \"cabin\", \"cake\", \"cake\", \"cake\", \"cake\", \"cake\", \"cake\", \"cannibalism\", \"car\", \"car\", \"car\", \"car\", \"car\", \"car\", \"car\", \"car\", \"carnale\", \"cat\", \"cat\", \"cat\", \"cat\", \"cat\", \"cat\", \"cat\", \"cat\", \"cat\", \"cause\", \"cause\", \"cause\", \"cause\", \"cause\", \"cause\", \"cbs_evene\", \"cbs_new\", \"cbs_new\", \"challenge\", \"challenge\", \"challenge\", \"challenge\", \"challenge\", \"challenge\", \"challenge\", \"challenge\", \"challenge\", \"challenge_minecraft\", \"champana_mucho\", \"champion\", \"champion\", \"champion\", \"champion\", \"champion\", \"champion\", \"channel\", \"channel\", \"channel\", \"channel\", \"channel\", \"channel\", \"channel\", \"channel\", \"channel\", \"channel\", \"character\", \"character\", \"character\", \"character\", \"character\", \"character\", \"character\", \"character\", \"character\", \"check\", \"check\", \"check\", \"check\", \"check\", \"check\", \"check\", \"check\", \"check\", \"check\", \"chef\", \"chef\", \"chef\", \"chef\", \"chef\", \"chef\", \"chess\", \"chess\", \"chocolate\", \"chocolate\", \"chocolate\", \"chocolate\", \"chrisfix\", \"civilization\", \"clan\", \"clan\", \"clan\", \"clan\", \"clash\", \"clash\", \"clash\", \"clash\", \"clash\", \"clash_royale\", \"clipper\", \"clipper\", \"clipper\", \"cold_war\", \"coldplay\", \"com\", \"com\", \"com\", \"com\", \"com\", \"com\", \"com\", \"com\", \"com\", \"com\", \"com_espnfollow\", \"com_espnvisit\", \"com_nbaontnt\", \"com_nbcnbc\", \"com_nbcsnlsnl\", \"com_nflfilmsnfl\", \"com_nflpodcast\", \"com_playfootballnfl\", \"com_playlist\", \"com_playlist\", \"com_playlist\", \"com_playlist\", \"com_playlist\", \"com_playlist\", \"com_playlist\", \"com_playlist\", \"com_playlist\", \"com_rjgmge\", \"com_snlsnl\", \"com_user\", \"com_user\", \"com_user\", \"com_user\", \"com_user\", \"com_user\", \"com_user\", \"com_user\", \"com_user\", \"com_user\", \"com_vault\", \"come\", \"come\", \"come\", \"come\", \"come\", \"come\", \"come\", \"come\", \"come\", \"come\", \"comedy\", \"comedy\", \"comedy\", \"comedy\", \"comedy\", \"comedy\", \"comedy\", \"comedy\", \"comedy\", \"complex\", \"complex\", \"complex\", \"complex\", \"complex\", \"computer\", \"computer\", \"computer\", \"computer\", \"computer\", \"computer\", \"confidence\", \"conor_mcgregor\", \"console\", \"console\", \"console\", \"console\", \"console\", \"contact_u\", \"cook\", \"cook\", \"cook\", \"cook\", \"cook\", \"cook\", \"cooking\", \"cooking\", \"cooking\", \"cooking\", \"cool_kick\", \"cordae\", \"cosmetic\", \"cosmetic\", \"cosmetic\", \"cosmetic\", \"cosmetic\", \"cosmetic\", \"crewmate\", \"current_full\", \"davido\", \"dawn\", \"day\", \"day\", \"day\", \"day\", \"day\", \"day\", \"day\", \"day\", \"day\", \"day\", \"daylight\", \"daylight\", \"dazn_boxe\", \"dazn_boxe\", \"dead\", \"dead\", \"dead\", \"dead\", \"dead\", \"dead\", \"dead\", \"deadbydaylight\", \"deja_vu\", \"denver_nugget\", \"denver_nugget\", \"denver_nugget\", \"diaper\", \"dio\", \"disneyland\", \"diy_nail\", \"dj_khale\", \"dj_khale\", \"djkhale\", \"dodger\", \"dodo\", \"dog\", \"dog\", \"dog\", \"dog\", \"dog\", \"dog\", \"dog\", \"dog\", \"dog\", \"doll\", \"doll\", \"donald_trump\", \"donald_trump\", \"donald_trump\", \"donut_media\", \"door_open\", \"double_double\", \"dream\", \"dream\", \"dream\", \"dream\", \"dream\", \"dream\", \"dream\", \"dream\", \"dream_minecraft\", \"drew_barrymore\", \"drivers_license\", \"dua_lipa\", \"dualipa_co\", \"duck\", \"duck\", \"duck\", \"duck\", \"dude_dudeperfect\", \"dude_perfect\", \"dustin_poiri\", \"easter_egg\", \"easter_egg\", \"easter_egg\", \"eat\", \"eat\", \"eat\", \"eat\", \"eat\", \"eat\", \"eat\", \"eat\", \"eat\", \"enhypen\", \"entertainment_possible\", \"episode\", \"episode\", \"episode\", \"episode\", \"episode\", \"episode\", \"episode\", \"episode\", \"episode\", \"episode\", \"es_que\", \"eso\", \"eso\", \"eso\", \"espn\", \"espn_fc\", \"eternal\", \"eternal\", \"explain\", \"explain\", \"explain\", \"explain\", \"explain\", \"explain\", \"explain\", \"explain\", \"explain\", \"facebook\", \"facebook\", \"facebook\", \"facebook\", \"facebook\", \"facebook\", \"facebook\", \"facebook\", \"facebook\", \"facebook\", \"factors_beyond\", \"falcon_winter\", \"faze_clan\", \"faze_clan\", \"faze_clan\", \"feast\", \"feast\", \"feast\", \"feel\", \"feel\", \"feel\", \"feel\", \"feel\", \"feel\", \"feel\", \"feel\", \"feel\", \"feel\", \"feel_somethe\", \"fight\", \"fight\", \"fight\", \"fight\", \"fight\", \"fight\", \"fight\", \"fight\", \"fight\", \"fighter\", \"fighter\", \"fighter\", \"find\", \"find\", \"find\", \"find\", \"find\", \"find\", \"find\", \"find\", \"find\", \"find\", \"fish\", \"fish\", \"fish\", \"five_night\", \"flight\", \"flight\", \"flight\", \"flight\", \"flight\", \"flight\", \"fnaf\", \"follow\", \"follow\", \"follow\", \"follow\", \"follow\", \"follow\", \"follow\", \"follow\", \"follow\", \"follow\", \"food\", \"food\", \"food\", \"food\", \"food\", \"food\", \"food\", \"food\", \"food_theorist\", \"food_theory\", \"food_theory\", \"foogiano\", \"foogiano\", \"foogiano\", \"football\", \"football\", \"football\", \"football\", \"football\", \"ford_lightne\", \"former\", \"former\", \"former\", \"fortnite\", \"fortnite\", \"fortnite\", \"fortnite\", \"fortnite\", \"fortnite_battle\", \"fortnite_chapter\", \"fortnite_item\", \"fortnite_update\", \"fox\", \"fox\", \"fox\", \"fox\", \"fox\", \"fox\", \"fox_new\", \"fox_new\", \"free\", \"free\", \"free\", \"free\", \"free\", \"free\", \"free\", \"free\", \"free\", \"free\", \"friends_reunion\", \"fry\", \"fry\", \"fuck\", \"fuck\", \"fuck\", \"fuck\", \"full_face\", \"full_game\", \"full_game\", \"fun_dude\", \"funkin\", \"funkin\", \"future_minecraft\", \"game\", \"game\", \"game\", \"game\", \"game\", \"game\", \"game\", \"game\", \"game\", \"game\", \"game_highlight\", \"game_highlight\", \"game_highlight\", \"game_recap\", \"game_sport\", \"gamebanana_com\", \"gameplay\", \"gameplay\", \"gameplay\", \"gameplay\", \"gameplay\", \"gameplay\", \"gameplay\", \"gameplay\", \"gamestop\", \"genshin_impact\", \"genshin_mihoyo\", \"georgenotfound\", \"germain\", \"get\", \"get\", \"get\", \"get\", \"get\", \"get\", \"get\", \"get\", \"get\", \"get\", \"getty\", \"getty\", \"give\", \"give\", \"give\", \"give\", \"give\", \"give\", \"give\", \"give\", \"give\", \"give\", \"gl_tusxwmstream\", \"go\", \"go\", \"go\", \"go\", \"go\", \"go\", \"go\", \"go\", \"go\", \"go\", \"goal\", \"goal\", \"goal\", \"goal\", \"goal\", \"goal\", \"goal\", \"goal\", \"god_bless\", \"goin\", \"goin\", \"golden_state\", \"golf\", \"golf\", \"golf\", \"golf\", \"golf\", \"golf\", \"golf\", \"gon\", \"gon\", \"good\", \"good\", \"good\", \"good\", \"good\", \"good\", \"good\", \"good\", \"good\", \"good\", \"good_morne\", \"good_mythical\", \"gordon_ramsay\", \"hardcore_minecraft\", \"hbo_max\", \"hbo_max\", \"heart\", \"heart\", \"heart\", \"heart\", \"heart\", \"heart\", \"heart\", \"heart\", \"heart\", \"hermitcraft\", \"highlight\", \"highlight\", \"highlight\", \"highlight\", \"highlight\", \"highlight\", \"highlight\", \"highlight\", \"highlight\", \"highlights_full\", \"highlights_week\", \"highlights_week\", \"hold\", \"hold\", \"hold\", \"hold\", \"hold\", \"hold\", \"hold\", \"hold\", \"hold\", \"hometown\", \"hot_one\", \"hot_sauce\", \"hot_sauce\", \"houston_rocket\", \"houston_rocket\", \"houston_rocket\", \"http\", \"http\", \"http\", \"http\", \"http\", \"http\", \"http\", \"http\", \"http\", \"http\", \"http_bit\", \"http_bit\", \"http_bit\", \"http_bit\", \"http_bit\", \"http_bit\", \"http_bit\", \"http_bit\", \"http_bit\", \"http_bit\", \"http_foxs\", \"http_foxs\", \"http_foxs\", \"http_foxs\", \"https\", \"https\", \"https\", \"https\", \"https\", \"https\", \"https\", \"https\", \"https\", \"https\", \"https_amzn\", \"https_amzn\", \"https_amzn\", \"https_amzn\", \"https_amzn\", \"https_amzn\", \"https_amzn\", \"https_smo\", \"huggie\", \"ibighit_com\", \"impostor\", \"information_containe\", \"information_containe\", \"interview\", \"interview\", \"interview\", \"interview\", \"interview\", \"interview\", \"interview\", \"interview\", \"interview\", \"invincible\", \"io\", \"io\", \"io\", \"io\", \"io\", \"io\", \"io\", \"iphone\", \"iphone\", \"iphone\", \"item\", \"item\", \"item\", \"item\", \"item\", \"item\", \"item\", \"item\", \"item_shop\", \"itzy\", \"itzy\", \"jealous\", \"jelly\", \"jeopardy\", \"juju_de\", \"kamaru_usman\", \"kcqkvzd_follow\", \"keep\", \"keep\", \"keep\", \"keep\", \"keep\", \"keep\", \"keep\", \"keep\", \"keep\", \"keep\", \"khaled_khale\", \"kitchen\", \"kitchen\", \"kitchen\", \"kitchen\", \"kitchen\", \"kitchen\", \"kitchen_nightmare\", \"kitchen_nightmare\", \"knockout\", \"knockout\", \"knockout\", \"know\", \"know\", \"know\", \"know\", \"know\", \"know\", \"know\", \"know\", \"know\", \"know\", \"kodak_black\", \"laker\", \"laker\", \"laker\", \"laker\", \"lakers_full\", \"landing\", \"late_show\", \"latto\", \"launch\", \"launch\", \"launch\", \"launch\", \"launch\", \"launch\", \"launch\", \"launch\", \"launch\", \"launch\", \"lawyer\", \"league_highlight\", \"league_highlight\", \"learn\", \"learn\", \"learn\", \"learn\", \"learn\", \"learn\", \"learn\", \"learn\", \"learn\", \"lebron_jame\", \"lebron_jame\", \"lebron_jame\", \"legend\", \"legend\", \"legend\", \"legend\", \"legend\", \"legend\", \"legend\", \"legend\", \"legend\", \"lele_pon\", \"lele_pon\", \"let\", \"let\", \"let\", \"let\", \"let\", \"let\", \"let\", \"let\", \"let\", \"let\", \"lie\", \"lie\", \"lie\", \"lie\", \"lie\", \"lie\", \"life_hack\", \"life_hack\", \"lil_na\", \"lil_skie\", \"lil_tjay\", \"lil_tjay\", \"link\", \"link\", \"link\", \"link\", \"link\", \"link\", \"link\", \"link\", \"link\", \"link_nbasite\", \"list\", \"list\", \"list\", \"list\", \"list\", \"list\", \"list\", \"list\", \"list_plg\", \"list_ploieydz\", \"little_mix\", \"little_mix\", \"live\", \"live\", \"live\", \"live\", \"live\", \"live\", \"live\", \"live\", \"live\", \"live\", \"lo_que\", \"los_angele\", \"los_angele\", \"los_angele\", \"los_angele\", \"los_angele\", \"los_angele\", \"los_angele\", \"los_angele\", \"love\", \"love\", \"love\", \"love\", \"love\", \"love\", \"love\", \"love\", \"love\", \"love\", \"luke_thenotable\", \"ly\", \"ly\", \"ly\", \"ly\", \"ly\", \"ly\", \"ly\", \"ly\", \"ly\", \"ly\", \"ly_newdpvidsread\", \"ly_snlitune\", \"lyric\", \"lyric\", \"lyric\", \"lyric\", \"lyric\", \"lyric\", \"make\", \"make\", \"make\", \"make\", \"make\", \"make\", \"make\", \"make\", \"make\", \"make\", \"makeup\", \"makeup\", \"makeup\", \"makeup\", \"makeup\", \"makeup\", \"makeup\", \"makeup\", \"makeup\", \"man_mile\", \"manchester_unite\", \"manchester_unite\", \"manchester_unite\", \"manchester_unite\", \"mar\", \"mar\", \"mar\", \"mar\", \"mar\", \"march_madness\", \"marvel\", \"marvel\", \"marvel\", \"marvel_studio\", \"max_kellerman\", \"meat\", \"media_please\", \"meme\", \"meme\", \"meme\", \"meme\", \"meme\", \"meme\", \"meme\", \"merch\", \"merch\", \"merch\", \"merch\", \"merch\", \"merch\", \"merch\", \"merch\", \"merch\", \"merrell_twin\", \"miles_morale\", \"mileyl_ink\", \"minecraft\", \"minecraft\", \"minecraft_challenge\", \"minecraft_comment\", \"minecraft_day\", \"minecraft_dream\", \"minecraft_hardcore\", \"minecraft_manhunt\", \"minecraft_minecraft\", \"minecraft_survival\", \"minute\", \"minute\", \"minute\", \"minute\", \"minute\", \"minute\", \"minute\", \"minute\", \"minute\", \"minute_sport\", \"miss_universe\", \"mission\", \"mission\", \"mission\", \"mission\", \"mission\", \"mission\", \"mission\", \"mlb\", \"mob\", \"mod\", \"mod\", \"mod\", \"mountain_dew\", \"movie\", \"movie\", \"movie\", \"movie\", \"movie\", \"movie\", \"movie\", \"movie\", \"movie\", \"movie\", \"mrbeast_game\", \"mtv_mtv\", \"mulan\", \"music\", \"music\", \"music\", \"music\", \"music\", \"music\", \"music\", \"music\", \"music\", \"music\", \"music_award\", \"myke_tower\", \"mythic_weapon\", \"mythical\", \"mythical\", \"nail\", \"nail\", \"nail\", \"nail_art\", \"nail_polish\", \"nail_video\", \"nas_cr\", \"nba_league\", \"nba_season\", \"nbc_sport\", \"nbc_sport\", \"nbcsport\", \"nbcsport\", \"need\", \"need\", \"need\", \"need\", \"need\", \"need\", \"need\", \"need\", \"need\", \"need\", \"net\", \"net\", \"net\", \"net\", \"net\", \"net\", \"net\", \"net\", \"net\", \"network\", \"network\", \"network\", \"network\", \"network\", \"network\", \"network\", \"network\", \"never\", \"never\", \"never\", \"never\", \"never\", \"never\", \"never\", \"never\", \"never\", \"never\", \"new\", \"new\", \"new\", \"new\", \"new\", \"new\", \"new\", \"new\", \"new\", \"new\", \"new_rockstar\", \"news\", \"news\", \"news\", \"news\", \"news\", \"news\", \"news\", \"news\", \"news\", \"news_coverage\", \"news_politic\", \"news_politic\", \"news_politic\", \"news_politic\", \"news_politic\", \"news_politic\", \"news_politic\", \"news_storie\", \"news_storie\", \"nhl\", \"nhl\", \"niggas\", \"niggas\", \"noah_beck\", \"nocap\", \"noggin_dude\", \"none\", \"none\", \"none\", \"none\", \"none\", \"none\", \"none\", \"none\", \"none\", \"none\", \"nugget\", \"nugget\", \"nugget\", \"objective\", \"official\", \"official\", \"official\", \"official\", \"official\", \"official\", \"official\", \"official\", \"official\", \"official\", \"olivia_rodrigo\", \"open_spotify\", \"open_spotify\", \"open_spotify\", \"ore\", \"org\", \"org\", \"org\", \"org\", \"org\", \"oscar\", \"oscar\", \"paint\", \"paint\", \"paint\", \"paint\", \"paint\", \"paint\", \"paint\", \"palestinian\", \"pam_pam\", \"pass\", \"pass\", \"pass\", \"pass\", \"pass\", \"pass\", \"pass\", \"pass\", \"pass\", \"patch\", \"patreon\", \"patreon\", \"patreon\", \"patreon\", \"patreon\", \"patreon\", \"patreon\", \"patreon\", \"patreon\", \"pawn_star\", \"pbc\", \"peacocktv_com\", \"people\", \"people\", \"people\", \"people\", \"people\", \"people\", \"people\", \"people\", \"people\", \"people\", \"perfect_pride\", \"pilot\", \"pilot\", \"pilot\", \"pilot\", \"pilot\", \"pilot\", \"pizza\", \"pizza\", \"pizza\", \"pizza\", \"pl_xeo\", \"play\", \"play\", \"play\", \"play\", \"play\", \"play\", \"play\", \"play\", \"play\", \"play\", \"playlist\", \"playlist\", \"playlist\", \"playlist\", \"playlist\", \"playlist\", \"playlist\", \"playlist\", \"playlist_list\", \"playlist_list\", \"playlist_list\", \"playlist_list\", \"playlist_list\", \"playlist_list\", \"playstation\", \"playstation\", \"playstation\", \"playstation\", \"playstation\", \"pokemon\", \"pokemon\", \"pokemon\", \"pooh_shiesty\", \"por\", \"por\", \"por\", \"por\", \"porque\", \"prank\", \"prank\", \"prank\", \"prank\", \"prank\", \"prank\", \"prank\", \"pregnant\", \"pregnant\", \"pregnant\", \"pregnant\", \"pregnant\", \"premier_league\", \"premier_league\", \"premier_league\", \"president_trump\", \"pretend\", \"prime_video\", \"pro\", \"pro\", \"pro\", \"pro\", \"pro\", \"pro\", \"pro\", \"pro_max\", \"pro_max\", \"product\", \"product\", \"product\", \"product\", \"product\", \"product\", \"product\", \"product\", \"product\", \"product\", \"pt\", \"pt_undispute\", \"pt_undispute\", \"pts_reb\", \"puppy\", \"puppy\", \"puppy\", \"puppy\", \"puppy\", \"puppy\", \"put\", \"put\", \"put\", \"put\", \"put\", \"put\", \"put\", \"put\", \"put\", \"put\", \"que\", \"que\", \"que_yo\", \"que_yo\", \"quiere\", \"race\", \"race\", \"race\", \"race\", \"race\", \"race\", \"race\", \"ranboo\", \"random\", \"random\", \"random\", \"random\", \"random\", \"rauw_alejandro\", \"reb_ast\", \"rebound_offense\", \"recipe\", \"recipe\", \"recipe\", \"recipe\", \"recipe\", \"recipe\", \"records_artist\", \"resident_evil\", \"returnal\", \"review\", \"review\", \"review\", \"review\", \"review\", \"review\", \"review\", \"review\", \"review\", \"rick_shiel\", \"riverdale\", \"rnf\", \"road_recovery\", \"roblox\", \"rocket\", \"rocket\", \"rocket\", \"rocket\", \"rocket\", \"rocket\", \"rocket_league\", \"roland_garro\", \"royal_family\", \"royal_family\", \"royal_family\", \"rtx\", \"rtx\", \"sarvente\", \"saturday_night\", \"saturday_night\", \"saturday_night\", \"sauce\", \"sauce\", \"sauce\", \"saunder\", \"savage\", \"savage\", \"savage\", \"savage\", \"say\", \"say\", \"say\", \"say\", \"say\", \"say\", \"say\", \"say\", \"say\", \"say\", \"scores_highlight\", \"sean_evan\", \"season\", \"season\", \"season\", \"season\", \"season\", \"season\", \"season\", \"season\", \"season\", \"season\", \"see\", \"see\", \"see\", \"see\", \"see\", \"see\", \"see\", \"see\", \"see\", \"see\", \"sh_sub\", \"share_card\", \"shit\", \"shit\", \"shopmrbeast\", \"shot_steal\", \"show\", \"show\", \"show\", \"show\", \"show\", \"show\", \"show\", \"show\", \"show\", \"show\", \"sideman\", \"sidemen_sideman\", \"siege\", \"siege\", \"sim\", \"sim\", \"skin\", \"skin\", \"skin\", \"skin\", \"skin\", \"skin\", \"skin\", \"skin\", \"skin\", \"skip_shannon\", \"skip_shannon\", \"sky_sport\", \"sky_sport\", \"smallant\", \"smarter_every\", \"smarturl\", \"smarturl\", \"smarturl\", \"smarturl\", \"smarturl\", \"smarturl\", \"smarturl\", \"smosh_channel\", \"smosh_clothe\", \"smoshcast_us\", \"snl\", \"snl\", \"snl\", \"snl\", \"soccer\", \"soccer\", \"soccer\", \"soccer_premi\", \"song\", \"song\", \"song\", \"song\", \"song\", \"song\", \"song\", \"song\", \"song\", \"song\", \"spacex\", \"speedrun\", \"spice_ke\", \"sport\", \"sport\", \"sport\", \"sport\", \"sport\", \"sport\", \"sport\", \"sport\", \"sport\", \"sports_group\", \"spur\", \"spur\", \"star_war\", \"star_war\", \"star_war\", \"star_war\", \"star_war\", \"starship\", \"steak\", \"stereo\", \"stereotypes_battle\", \"still\", \"still\", \"still\", \"still\", \"still\", \"still\", \"still\", \"still\", \"still\", \"still\", \"stray_kid\", \"style\", \"style\", \"style\", \"style\", \"style\", \"style\", \"style\", \"style\", \"style\", \"style\", \"subscribe\", \"subscribe\", \"subscribe\", \"subscribe\", \"subscribe\", \"subscribe\", \"subscribe\", \"subscribe\", \"subscribe\", \"subscribe\", \"supercar\", \"supercar\", \"supercell_net\", \"support\", \"support\", \"support\", \"support\", \"support\", \"support\", \"support\", \"support\", \"support\", \"survived_day\", \"tablespoon\", \"take\", \"take\", \"take\", \"take\", \"take\", \"take\", \"take\", \"take\", \"take\", \"take\", \"talent\", \"talent\", \"talent\", \"talent\", \"talent\", \"talent\", \"tallied_pt\", \"tankman\", \"taylor_swift\", \"taylor_swift\", \"taylor_swift\", \"td_game\", \"team_b\", \"technology\", \"technology\", \"technology\", \"technology\", \"technology\", \"technology\", \"tee_grizzley\", \"tell\", \"tell\", \"tell\", \"tell\", \"tell\", \"tell\", \"tell\", \"tell\", \"tell\", \"tesla\", \"tesla\", \"tesla\", \"tesla\", \"thank\", \"thank\", \"thank\", \"thank\", \"thank\", \"thank\", \"thank\", \"thank\", \"thank\", \"thank\", \"thekidlaroi_lnk\", \"theory\", \"theory\", \"theory\", \"theory\", \"theory\", \"thief\", \"think\", \"think\", \"think\", \"think\", \"think\", \"think\", \"think\", \"think\", \"think\", \"think\", \"tiene\", \"tigre\", \"tik_tok\", \"tik_tok\", \"tik_tok\", \"tik_tok\", \"tik_tok\", \"tik_tok\", \"tiktok\", \"tiktok\", \"tiktok\", \"tiktok\", \"tiktok\", \"tiktok\", \"tiktok\", \"tiktok\", \"tiktok\", \"tiktok\", \"time\", \"time\", \"time\", \"time\", \"time\", \"time\", \"time\", \"time\", \"time\", \"time\", \"tire\", \"tmz\", \"tnt_nba\", \"today\", \"today\", \"today\", \"today\", \"today\", \"today\", \"today\", \"today\", \"today\", \"today\", \"todo\", \"todo\", \"todo\", \"tommyinnit\", \"tommyinnit\", \"top_gear\", \"total_war\", \"trailer\", \"trailer\", \"trailer\", \"trailer\", \"trailer\", \"trailer\", \"trailer\", \"trailer\", \"trailer\", \"trailer_reaction\", \"treasure\", \"treasure\", \"trick_shot\", \"triple_double\", \"truck\", \"truck\", \"truck\", \"truck\", \"truck\", \"truck\", \"truck\", \"trump\", \"trump\", \"trump\", \"trump\", \"trump\", \"try\", \"try\", \"try\", \"try\", \"try\", \"try\", \"try\", \"try\", \"try\", \"try\", \"try_guy\", \"try_guys\", \"tryguy\", \"tryna\", \"tv\", \"tv\", \"tv\", \"tv\", \"tv\", \"tv\", \"tv\", \"tv\", \"tv\", \"tv\", \"twitter\", \"twitter\", \"twitter\", \"twitter\", \"twitter\", \"twitter\", \"twitter\", \"twitter\", \"twitter\", \"twitter\", \"uefa_champion\", \"ugh\", \"undisputed\", \"unlock\", \"unlock\", \"unlock\", \"unlock\", \"unlock\", \"unspeakable\", \"update\", \"update\", \"update\", \"update\", \"update\", \"update\", \"update\", \"update\", \"update\", \"update\", \"update_fortnite\", \"us_comedy\", \"us_comedy\", \"us_comedy\", \"us_comedy\", \"us_comedy\", \"us_comedy\", \"us_comedy\", \"us_comedy\", \"us_comedy\", \"us_entertainment\", \"us_entertainment\", \"us_entertainment\", \"us_entertainment\", \"us_entertainment\", \"us_entertainment\", \"us_entertainment\", \"us_entertainment\", \"us_entertainment\", \"us_entertainment\", \"us_gaming\", \"us_gaming\", \"us_gaming\", \"us_gaming\", \"us_gaming\", \"us_gaming\", \"us_gaming\", \"us_gaming\", \"us_gaming\", \"us_gaming\", \"us_music\", \"us_music\", \"us_music\", \"us_music\", \"us_music\", \"us_music\", \"us_music\", \"us_music\", \"us_music\", \"us_people\", \"us_people\", \"us_people\", \"us_people\", \"us_people\", \"us_people\", \"us_people\", \"us_people\", \"us_people\", \"us_sport\", \"us_sport\", \"us_sport\", \"us_sport\", \"us_sport\", \"us_sport\", \"us_sport\", \"us_sport\", \"use\", \"use\", \"use\", \"use\", \"use\", \"use\", \"use\", \"use\", \"use\", \"use\", \"valorant\", \"vat\", \"vehicle\", \"vehicle\", \"vehicle\", \"vehicle\", \"vehicle\", \"vehicle\", \"vehicle\", \"verse\", \"verse\", \"via_warner\", \"via_warner\", \"video\", \"video\", \"video\", \"video\", \"video\", \"video\", \"video\", \"video\", \"video\", \"video\", \"video_foxnew\", \"video_oficial\", \"village\", \"village\", \"village\", \"vlog\", \"vlog\", \"vlog\", \"vlog\", \"vlog\", \"vlog\", \"vlog\", \"vlog\", \"vlog\", \"vogue\", \"vogue\", \"voice\", \"voice\", \"voice\", \"voice\", \"voice\", \"voice\", \"voice\", \"voice\", \"voy\", \"voy\", \"vs_hunter\", \"vs_iphone\", \"wandavision\", \"wandavision\", \"want\", \"want\", \"want\", \"want\", \"want\", \"want\", \"want\", \"want\", \"want\", \"want\", \"warhammer\", \"warrior\", \"warrior\", \"warrior\", \"warrior\", \"warrior\", \"warrior\", \"warzone\", \"warzone\", \"warzone\", \"watch\", \"watch\", \"watch\", \"watch\", \"watch\", \"watch\", \"watch\", \"watch\", \"watch\", \"watch\", \"water_rise\", \"wedding\", \"wedding\", \"wedding\", \"wedding\", \"week_highlight\", \"wendover_production\", \"willow\", \"win\", \"win\", \"win\", \"win\", \"win\", \"win\", \"win\", \"win\", \"win\", \"win\", \"work\", \"work\", \"work\", \"work\", \"work\", \"work\", \"work\", \"work\", \"work\", \"work\", \"world\", \"world\", \"world\", \"world\", \"world\", \"world\", \"world\", \"world\", \"world\", \"world\", \"www\", \"www\", \"www\", \"www\", \"www\", \"www\", \"www\", \"www\", \"www\", \"www\", \"www_facebook\", \"www_facebook\", \"www_facebook\", \"www_facebook\", \"www_facebook\", \"www_facebook\", \"www_facebook\", \"www_facebook\", \"www_facebook\", \"www_facebook\", \"www_instagram\", \"www_instagram\", \"www_instagram\", \"www_instagram\", \"www_instagram\", \"www_instagram\", \"www_instagram\", \"www_instagram\", \"www_instagram\", \"www_instagram\", \"www_twitch\", \"www_twitch\", \"www_twitch\", \"www_twitch\", \"www_twitch\", \"www_twitch\", \"www_twitch\", \"www_youtube\", \"www_youtube\", \"www_youtube\", \"www_youtube\", \"www_youtube\", \"www_youtube\", \"www_youtube\", \"www_youtube\", \"www_youtube\", \"xbox_serie\", \"xbox_serie\", \"xbox_serie\", \"xbox_serie\", \"yea\", \"yestheory\", \"young_thug\", \"young_thug\", \"youtube\", \"youtube\", \"youtube\", \"youtube\", \"youtube\", \"youtube\", \"youtube\", \"youtube\", \"youtube\", \"youtube\", \"youtubetvespn\", \"yt_stream\", \"yungblud_lnk\", \"zach_eugene\", \"zhc_craft\"]}, \"R\": 30, \"lambda.step\": 0.01, \"plot.opts\": {\"xlab\": \"PC1\", \"ylab\": \"PC2\"}, \"topic.order\": [3, 10, 4, 8, 1, 9, 7, 5, 6, 2]};\n",
       "\n",
       "function LDAvis_load_lib(url, callback){\n",
       "  var s = document.createElement('script');\n",
       "  s.src = url;\n",
       "  s.async = true;\n",
       "  s.onreadystatechange = s.onload = callback;\n",
       "  s.onerror = function(){console.warn(\"failed to load library \" + url);};\n",
       "  document.getElementsByTagName(\"head\")[0].appendChild(s);\n",
       "}\n",
       "\n",
       "if(typeof(LDAvis) !== \"undefined\"){\n",
       "   // already loaded: just create the visualization\n",
       "   !function(LDAvis){\n",
       "       new LDAvis(\"#\" + \"ldavis_el3107225939641081449587564029\", ldavis_el3107225939641081449587564029_data);\n",
       "   }(LDAvis);\n",
       "}else if(typeof define === \"function\" && define.amd){\n",
       "   // require.js is available: use it to load d3/LDAvis\n",
       "   require.config({paths: {d3: \"https://d3js.org/d3.v5\"}});\n",
       "   require([\"d3\"], function(d3){\n",
       "      window.d3 = d3;\n",
       "      LDAvis_load_lib(\"https://cdn.jsdelivr.net/gh/bmabey/pyLDAvis@3.3.1/pyLDAvis/js/ldavis.v3.0.0.js\", function(){\n",
       "        new LDAvis(\"#\" + \"ldavis_el3107225939641081449587564029\", ldavis_el3107225939641081449587564029_data);\n",
       "      });\n",
       "    });\n",
       "}else{\n",
       "    // require.js not available: dynamically load d3 & LDAvis\n",
       "    LDAvis_load_lib(\"https://d3js.org/d3.v5.js\", function(){\n",
       "         LDAvis_load_lib(\"https://cdn.jsdelivr.net/gh/bmabey/pyLDAvis@3.3.1/pyLDAvis/js/ldavis.v3.0.0.js\", function(){\n",
       "                 new LDAvis(\"#\" + \"ldavis_el3107225939641081449587564029\", ldavis_el3107225939641081449587564029_data);\n",
       "            })\n",
       "         });\n",
       "}\n",
       "</script>"
      ],
      "text/plain": [
       "<IPython.core.display.HTML object>"
      ]
     },
     "execution_count": 26,
     "metadata": {},
     "output_type": "execute_result"
    }
   ],
   "source": [
    "vis = pyLDAvis.gensim_models.prepare(lda_model, corpus, id2word)\n",
    "pyLDAvis.enable_notebook()\n",
    "pyLDAvis.display(vis)"
   ]
  },
  {
   "cell_type": "code",
   "execution_count": 27,
   "id": "bd1aa012",
   "metadata": {
    "scrolled": true
   },
   "outputs": [
    {
     "name": "stdout",
     "output_type": "stream",
     "text": [
      "[(0,\n",
      "  '0.033*\"com\" + 0.020*\"http_bit\" + 0.018*\"https\" + 0.015*\"ly\" + 0.015*\"http\" '\n",
      "  '+ 0.012*\"twitter\" + 0.011*\"highlight\" + 0.010*\"youtube\" + 0.008*\"subscribe\" '\n",
      "  '+ 0.008*\"watch\"'),\n",
      " (1,\n",
      "  '0.019*\"https\" + 0.016*\"game\" + 0.015*\"highlight\" + 0.015*\"game_highlight\" + '\n",
      "  '0.014*\"laker\" + 0.010*\"us_sport\" + 0.010*\"los_angele\" + 0.009*\"nba_league\" '\n",
      "  '+ 0.008*\"full_game\" + 0.008*\"get\"'),\n",
      " (2,\n",
      "  '0.111*\"com\" + 0.071*\"https\" + 0.019*\"twitter\" + 0.018*\"video\" + '\n",
      "  '0.017*\"http\" + 0.013*\"www\" + 0.013*\"music\" + 0.011*\"www_facebook\" + '\n",
      "  '0.010*\"tiktok\" + 0.010*\"www_instagram\"'),\n",
      " (3,\n",
      "  '0.025*\"com\" + 0.024*\"https\" + 0.024*\"get\" + 0.012*\"know\" + 0.010*\"go\" + '\n",
      "  '0.009*\"video\" + 0.009*\"say\" + 0.008*\"love\" + 0.007*\"see\" + 0.007*\"make\"'),\n",
      " (4,\n",
      "  '0.038*\"https\" + 0.035*\"com\" + 0.009*\"com_playlist\" + 0.009*\"http\" + '\n",
      "  '0.009*\"twitter\" + 0.007*\"highlight\" + 0.007*\"www\" + 0.007*\"www_facebook\" + '\n",
      "  '0.006*\"nbcsport\" + 0.006*\"voice\"'),\n",
      " (5,\n",
      "  '0.014*\"http\" + 0.012*\"com\" + 0.011*\"https\" + 0.007*\"new\" + 0.007*\"food\" + '\n",
      "  '0.007*\"make\" + 0.006*\"video\" + 0.006*\"recipe\" + 0.006*\"try\" + 0.006*\"get\"'),\n",
      " (6,\n",
      "  '0.016*\"news\" + 0.014*\"https\" + 0.012*\"com\" + 0.008*\"iphone\" + '\n",
      "  '0.008*\"news_politic\" + 0.008*\"new\" + 0.008*\"apex_legend\" + 0.007*\"http_bit\" '\n",
      "  '+ 0.006*\"watch\" + 0.006*\"video\"'),\n",
      " (7,\n",
      "  '0.035*\"com\" + 0.028*\"https\" + 0.015*\"game\" + 0.015*\"video\" + 0.009*\"new\" + '\n",
      "  '0.007*\"trailer\" + 0.007*\"animation\" + 0.006*\"http\" + 0.006*\"twitter\" + '\n",
      "  '0.005*\"among_us\"'),\n",
      " (8,\n",
      "  '0.025*\"com\" + 0.022*\"https\" + 0.014*\"new\" + 0.013*\"video\" + '\n",
      "  '0.011*\"fortnite\" + 0.009*\"http_bit\" + 0.007*\"make\" + 0.006*\"ly\" + '\n",
      "  '0.006*\"game\" + 0.006*\"www\"'),\n",
      " (9,\n",
      "  '0.030*\"com\" + 0.026*\"https\" + 0.014*\"minecraft\" + 0.012*\"video\" + '\n",
      "  '0.007*\"get\" + 0.007*\"make\" + 0.005*\"use\" + 0.005*\"new\" + 0.005*\"day\" + '\n",
      "  '0.005*\"twitter\"')]\n"
     ]
    }
   ],
   "source": [
    "# Printing the Keywords in the 10 topics\n",
    "pprint(lda_model.print_topics())\n",
    "doc_lda = lda_model[corpus]"
   ]
  },
  {
   "cell_type": "code",
   "execution_count": 29,
   "id": "229f098c",
   "metadata": {},
   "outputs": [
    {
     "name": "stdout",
     "output_type": "stream",
     "text": [
      "<gensim.interfaces.TransformedCorpus object at 0x0000025BF6B98A60>\n"
     ]
    }
   ],
   "source": [
    "def Sort_Tuple(tup):  \n",
    "    return(sorted(tup, key = lambda x: x[1], reverse = True))   \n",
    "\n",
    "doc_number , topic_number, prob = [], [], []\n",
    "print(lda_model.get_document_topics(corpus))\n",
    "for n in range(len(df)):\n",
    "    get_document_topics = lda_model.get_document_topics(corpus[n])\n",
    "    doc_number.append(n)\n",
    "    sorted_doc_topics = Sort_Tuple(get_document_topics)\n",
    "    topic_number.append(sorted_doc_topics[0][0])\n",
    "    prob.append(sorted_doc_topics[0][1])"
   ]
  },
  {
   "cell_type": "code",
   "execution_count": 30,
   "id": "080b9952",
   "metadata": {},
   "outputs": [],
   "source": [
    "df['Doc'] = doc_number\n",
    "df['Topic'] = topic_number\n",
    "df['Probability'] = prob\n",
    "df.to_csv(\"doc_topic_matrix.csv\", index=False)"
   ]
  },
  {
   "cell_type": "code",
   "execution_count": 31,
   "id": "9c688929",
   "metadata": {},
   "outputs": [
    {
     "name": "stdout",
     "output_type": "stream",
     "text": [
      "<class 'pandas.core.frame.DataFrame'>\n",
      "Int64Index: 9863 entries, 0 to 56125\n",
      "Data columns (total 5 columns):\n",
      " #   Column       Non-Null Count  Dtype  \n",
      "---  ------       --------------  -----  \n",
      " 0   title        9863 non-null   object \n",
      " 1   overview     9863 non-null   object \n",
      " 2   Doc          9863 non-null   int64  \n",
      " 3   Topic        9863 non-null   int64  \n",
      " 4   Probability  9863 non-null   float32\n",
      "dtypes: float32(1), int64(2), object(2)\n",
      "memory usage: 423.8+ KB\n"
     ]
    }
   ],
   "source": [
    "df.info()"
   ]
  },
  {
   "cell_type": "code",
   "execution_count": 32,
   "id": "a3e06abf",
   "metadata": {
    "scrolled": true
   },
   "outputs": [
    {
     "data": {
      "text/html": [
       "<div>\n",
       "<style scoped>\n",
       "    .dataframe tbody tr th:only-of-type {\n",
       "        vertical-align: middle;\n",
       "    }\n",
       "\n",
       "    .dataframe tbody tr th {\n",
       "        vertical-align: top;\n",
       "    }\n",
       "\n",
       "    .dataframe thead th {\n",
       "        text-align: right;\n",
       "    }\n",
       "</style>\n",
       "<table border=\"1\" class=\"dataframe\">\n",
       "  <thead>\n",
       "    <tr style=\"text-align: right;\">\n",
       "      <th></th>\n",
       "      <th>title</th>\n",
       "      <th>overview</th>\n",
       "      <th>Doc</th>\n",
       "      <th>Topic</th>\n",
       "      <th>Probability</th>\n",
       "    </tr>\n",
       "  </thead>\n",
       "  <tbody>\n",
       "    <tr>\n",
       "      <th>0</th>\n",
       "      <td>I ASKED HER TO BE MY GIRLFRIEND...</td>\n",
       "      <td>I ASKED HER TO BE MY GIRLFRIEND... Brawadis br...</td>\n",
       "      <td>0</td>\n",
       "      <td>8</td>\n",
       "      <td>0.685483</td>\n",
       "    </tr>\n",
       "    <tr>\n",
       "      <th>1</th>\n",
       "      <td>Apex Legends | Stories from the Outlands – “Th...</td>\n",
       "      <td>Apex Legends | Stories from the Outlands “The ...</td>\n",
       "      <td>1</td>\n",
       "      <td>6</td>\n",
       "      <td>0.838846</td>\n",
       "    </tr>\n",
       "    <tr>\n",
       "      <th>2</th>\n",
       "      <td>I left youtube for a month and THIS is what ha...</td>\n",
       "      <td>I left youtube for a month and THIS is what ha...</td>\n",
       "      <td>2</td>\n",
       "      <td>7</td>\n",
       "      <td>0.573275</td>\n",
       "    </tr>\n",
       "    <tr>\n",
       "      <th>3</th>\n",
       "      <td>XXL 2020 Freshman Class Revealed - Official An...</td>\n",
       "      <td>XXL 2020 Freshman Class Revealed - Official An...</td>\n",
       "      <td>3</td>\n",
       "      <td>2</td>\n",
       "      <td>0.978520</td>\n",
       "    </tr>\n",
       "    <tr>\n",
       "      <th>4</th>\n",
       "      <td>Ultimate DIY Home Movie Theater for The LaBran...</td>\n",
       "      <td>Ultimate DIY Home Movie Theater for The LaBran...</td>\n",
       "      <td>4</td>\n",
       "      <td>2</td>\n",
       "      <td>0.993461</td>\n",
       "    </tr>\n",
       "    <tr>\n",
       "      <th>5</th>\n",
       "      <td>I Haven't Been Honest About My Injury.. Here's...</td>\n",
       "      <td>I Haven't Been Honest About My Injury.. Here's...</td>\n",
       "      <td>5</td>\n",
       "      <td>3</td>\n",
       "      <td>0.589000</td>\n",
       "    </tr>\n",
       "    <tr>\n",
       "      <th>6</th>\n",
       "      <td>OUR FIRST FAMILY INTRO!!</td>\n",
       "      <td>OUR FIRST FAMILY INTRO!! Les Do Makeup [None] ...</td>\n",
       "      <td>6</td>\n",
       "      <td>2</td>\n",
       "      <td>0.664014</td>\n",
       "    </tr>\n",
       "    <tr>\n",
       "      <th>7</th>\n",
       "      <td>CGP Grey was WRONG</td>\n",
       "      <td>CGP Grey was WRONG CGP Grey cgpgrey|education|...</td>\n",
       "      <td>7</td>\n",
       "      <td>2</td>\n",
       "      <td>0.977442</td>\n",
       "    </tr>\n",
       "    <tr>\n",
       "      <th>8</th>\n",
       "      <td>SURPRISING MY DAD WITH HIS DREAM TRUCK!! | Lou...</td>\n",
       "      <td>SURPRISING MY DAD WITH HIS DREAM TRUCK!! | Lou...</td>\n",
       "      <td>8</td>\n",
       "      <td>3</td>\n",
       "      <td>0.520470</td>\n",
       "    </tr>\n",
       "    <tr>\n",
       "      <th>9</th>\n",
       "      <td>Ovi x Natanael Cano x Aleman x Big Soto - Veng...</td>\n",
       "      <td>Ovi x Natanael Cano x Aleman x Big Soto - Veng...</td>\n",
       "      <td>9</td>\n",
       "      <td>7</td>\n",
       "      <td>0.968921</td>\n",
       "    </tr>\n",
       "  </tbody>\n",
       "</table>\n",
       "</div>"
      ],
      "text/plain": [
       "                                               title  \\\n",
       "0                 I ASKED HER TO BE MY GIRLFRIEND...   \n",
       "1  Apex Legends | Stories from the Outlands – “Th...   \n",
       "2  I left youtube for a month and THIS is what ha...   \n",
       "3  XXL 2020 Freshman Class Revealed - Official An...   \n",
       "4  Ultimate DIY Home Movie Theater for The LaBran...   \n",
       "5  I Haven't Been Honest About My Injury.. Here's...   \n",
       "6                           OUR FIRST FAMILY INTRO!!   \n",
       "7                                 CGP Grey was WRONG   \n",
       "8  SURPRISING MY DAD WITH HIS DREAM TRUCK!! | Lou...   \n",
       "9  Ovi x Natanael Cano x Aleman x Big Soto - Veng...   \n",
       "\n",
       "                                            overview  Doc  Topic  Probability  \n",
       "0  I ASKED HER TO BE MY GIRLFRIEND... Brawadis br...    0      8     0.685483  \n",
       "1  Apex Legends | Stories from the Outlands “The ...    1      6     0.838846  \n",
       "2  I left youtube for a month and THIS is what ha...    2      7     0.573275  \n",
       "3  XXL 2020 Freshman Class Revealed - Official An...    3      2     0.978520  \n",
       "4  Ultimate DIY Home Movie Theater for The LaBran...    4      2     0.993461  \n",
       "5  I Haven't Been Honest About My Injury.. Here's...    5      3     0.589000  \n",
       "6  OUR FIRST FAMILY INTRO!! Les Do Makeup [None] ...    6      2     0.664014  \n",
       "7  CGP Grey was WRONG CGP Grey cgpgrey|education|...    7      2     0.977442  \n",
       "8  SURPRISING MY DAD WITH HIS DREAM TRUCK!! | Lou...    8      3     0.520470  \n",
       "9  Ovi x Natanael Cano x Aleman x Big Soto - Veng...    9      7     0.968921  "
      ]
     },
     "execution_count": 32,
     "metadata": {},
     "output_type": "execute_result"
    }
   ],
   "source": [
    "df.head(10)"
   ]
  },
  {
   "cell_type": "code",
   "execution_count": 37,
   "id": "dfe1301a",
   "metadata": {},
   "outputs": [
    {
     "data": {
      "text/html": [
       "<div>\n",
       "<style scoped>\n",
       "    .dataframe tbody tr th:only-of-type {\n",
       "        vertical-align: middle;\n",
       "    }\n",
       "\n",
       "    .dataframe tbody tr th {\n",
       "        vertical-align: top;\n",
       "    }\n",
       "\n",
       "    .dataframe thead th {\n",
       "        text-align: right;\n",
       "    }\n",
       "</style>\n",
       "<table border=\"1\" class=\"dataframe\">\n",
       "  <thead>\n",
       "    <tr style=\"text-align: right;\">\n",
       "      <th></th>\n",
       "      <th>title</th>\n",
       "      <th>overview</th>\n",
       "      <th>Doc</th>\n",
       "      <th>Topic</th>\n",
       "      <th>Probability</th>\n",
       "    </tr>\n",
       "  </thead>\n",
       "  <tbody>\n",
       "    <tr>\n",
       "      <th>0</th>\n",
       "      <td>i asked her to be my girlfriend...</td>\n",
       "      <td>I ASKED HER TO BE MY GIRLFRIEND... Brawadis br...</td>\n",
       "      <td>0</td>\n",
       "      <td>8</td>\n",
       "      <td>0.685483</td>\n",
       "    </tr>\n",
       "    <tr>\n",
       "      <th>1</th>\n",
       "      <td>apex legends | stories from the outlands – “th...</td>\n",
       "      <td>Apex Legends | Stories from the Outlands “The ...</td>\n",
       "      <td>1</td>\n",
       "      <td>6</td>\n",
       "      <td>0.838846</td>\n",
       "    </tr>\n",
       "    <tr>\n",
       "      <th>2</th>\n",
       "      <td>i left youtube for a month and this is what ha...</td>\n",
       "      <td>I left youtube for a month and THIS is what ha...</td>\n",
       "      <td>2</td>\n",
       "      <td>7</td>\n",
       "      <td>0.573275</td>\n",
       "    </tr>\n",
       "    <tr>\n",
       "      <th>3</th>\n",
       "      <td>xxl 2020 freshman class revealed - official an...</td>\n",
       "      <td>XXL 2020 Freshman Class Revealed - Official An...</td>\n",
       "      <td>3</td>\n",
       "      <td>2</td>\n",
       "      <td>0.978520</td>\n",
       "    </tr>\n",
       "    <tr>\n",
       "      <th>4</th>\n",
       "      <td>ultimate diy home movie theater for the labran...</td>\n",
       "      <td>Ultimate DIY Home Movie Theater for The LaBran...</td>\n",
       "      <td>4</td>\n",
       "      <td>2</td>\n",
       "      <td>0.993461</td>\n",
       "    </tr>\n",
       "  </tbody>\n",
       "</table>\n",
       "</div>"
      ],
      "text/plain": [
       "                                               title  \\\n",
       "0                 i asked her to be my girlfriend...   \n",
       "1  apex legends | stories from the outlands – “th...   \n",
       "2  i left youtube for a month and this is what ha...   \n",
       "3  xxl 2020 freshman class revealed - official an...   \n",
       "4  ultimate diy home movie theater for the labran...   \n",
       "\n",
       "                                            overview  Doc  Topic  Probability  \n",
       "0  I ASKED HER TO BE MY GIRLFRIEND... Brawadis br...    0      8     0.685483  \n",
       "1  Apex Legends | Stories from the Outlands “The ...    1      6     0.838846  \n",
       "2  I left youtube for a month and THIS is what ha...    2      7     0.573275  \n",
       "3  XXL 2020 Freshman Class Revealed - Official An...    3      2     0.978520  \n",
       "4  Ultimate DIY Home Movie Theater for The LaBran...    4      2     0.993461  "
      ]
     },
     "execution_count": 37,
     "metadata": {},
     "output_type": "execute_result"
    }
   ],
   "source": [
    "df.head()"
   ]
  },
  {
   "cell_type": "code",
   "execution_count": 270,
   "id": "1d51bed7",
   "metadata": {},
   "outputs": [],
   "source": [
    "def recommend_by_title(title, df):\n",
    "    \n",
    "    title = title.split(',')\n",
    "    title_list = [i.strip() for i in title]\n",
    "    #print(title_list)\n",
    "    \n",
    "    recommended = []\n",
    "    top10_list = []\n",
    "    \n",
    "    #제목을 모두 소문자로 변경\n",
    "    #title = title.lower()\n",
    "    title_list = [i.lower() for i in title_list]\n",
    "    print(title_list)\n",
    "    #df['title'] = df['title'].str.lower()\n",
    "    df['overview'] = df['overview'].str.lower()\n",
    "    #print(df['overview'])\n",
    "    \n",
    "    #제목과 일치하는 샘플 하나\n",
    "    #sam = df[df['title'].str.contains(title)].sample(n=1)\n",
    "    title = '&'.join(title_list)\n",
    "    #print(title)\n",
    "    sam = df[df['overview'].map(lambda x: all(word in x for word in title_list))].sample(n=1) #개요 중에 키워드가 포함되는 샘플 하나\n",
    "    print(sam)\n",
    "    \n",
    "    #topic_number = df[df['title']==title].Topic.values\n",
    "    topic_number = sam.Topic.values\n",
    "    print(topic_number)\n",
    "    \n",
    "    #doc_number = df[df['title']==title].Doc.values\n",
    "    doc_number = sam.Doc.values\n",
    "    print(doc_number)\n",
    "    \n",
    "    output = df[df['Topic']==topic_number[0]].sort_values('Probability', ascending=False).reset_index(drop=True)\n",
    "    print(output.head())\n",
    "    #print(df[df['Topic']==topic_number[0]])\n",
    "    \n",
    "    index = output[output['Doc']==doc_number[0]].index[0]\n",
    "    print(index)\n",
    "    \n",
    "    \n",
    "    top10_list += list(output.iloc[index-5:index].index)\n",
    "    top10_list += list(output.iloc[index+1:index+6].index)\n",
    "    \n",
    "    output['title'] = output['title'].str.title()\n",
    "    \n",
    "    for each in top10_list:\n",
    "        recommended.append(output.iloc[each].title)\n",
    "        \n",
    "    return recommended"
   ]
  },
  {
   "cell_type": "code",
   "execution_count": 35,
   "id": "38536141",
   "metadata": {
    "scrolled": true
   },
   "outputs": [
    {
     "name": "stdout",
     "output_type": "stream",
     "text": [
      "<class 'pandas.core.frame.DataFrame'>\n",
      "Int64Index: 9863 entries, 0 to 56125\n",
      "Data columns (total 5 columns):\n",
      " #   Column       Non-Null Count  Dtype  \n",
      "---  ------       --------------  -----  \n",
      " 0   title        9863 non-null   object \n",
      " 1   overview     9863 non-null   object \n",
      " 2   Doc          9863 non-null   int64  \n",
      " 3   Topic        9863 non-null   int64  \n",
      " 4   Probability  9863 non-null   float32\n",
      "dtypes: float32(1), int64(2), object(2)\n",
      "memory usage: 423.8+ KB\n"
     ]
    }
   ],
   "source": [
    "df.info()"
   ]
  },
  {
   "cell_type": "code",
   "execution_count": 304,
   "id": "076c240d",
   "metadata": {
    "scrolled": true
   },
   "outputs": [
    {
     "name": "stdout",
     "output_type": "stream",
     "text": [
      "['bts', 'music', 'concert', 'dynamite']\n",
      "                                                  title  \\\n",
      "2466  bts: behind “dynamite,” album teasers, and the...   \n",
      "\n",
      "                                               overview  Doc  Topic  \\\n",
      "2466  bts: behind “dynamite,album teasers, and the i...  630      2   \n",
      "\n",
      "      Probability  \n",
      "2466     0.992428  \n",
      "[2]\n",
      "[630]\n",
      "                                               title  \\\n",
      "0     spiritualism: the women who talked to the dead   \n",
      "1                           girl talk with the dead!   \n",
      "2  twice reacts to guess that twice song in rever...   \n",
      "3  a boogie wit da hoodie - it's crazy (feat. mel...   \n",
      "4      huge twins swap gift exchange - merrell twins   \n",
      "\n",
      "                                            overview   Doc  Topic  Probability  \n",
      "0  spiritualism: the women who talked to the dead...   884      2     0.995882  \n",
      "1  girl talk with the dead! ask a mortician spiri...   940      2     0.995863  \n",
      "2  twice reacts to guess that twice song in rever...   164      2     0.994468  \n",
      "3  a boogie wit da hoodie - it's crazy (feat. mel...   518      2     0.994334  \n",
      "4  huge twins swap gift exchange - merrell twins ...  4425      2     0.993467  \n",
      "10\n"
     ]
    },
    {
     "data": {
      "text/plain": [
       "['Ultimate Diy Home Movie Theater For The Labrant Family!',\n",
       " \"College Kids React To Bts (방탄소년단) 'Dynamite'\",\n",
       " 'A Boogie Wit Da Hoodie - Track Star Remix',\n",
       " 'Stray Kids Decide Which Band Member Is The Best Singer, Cutest, Funniest, And More | Superlatives',\n",
       " 'How Not To Work With Your Favourite Youtubers',\n",
       " 'K-Pop Boy Band Stray Kids Is Way Too Good At Tiktok! | Tiktok Challenge Challenge | Cosmopolitan',\n",
       " \"World'S Fastest Workers!\",\n",
       " 'Reacting To My Draw My Life... 6 Years Later',\n",
       " 'Surprising Thomas With A Motorcycle!!',\n",
       " 'Museum Of Life | Ep. 23 | Minecraft X Life Smp Finale']"
      ]
     },
     "execution_count": 304,
     "metadata": {},
     "output_type": "execute_result"
    }
   ],
   "source": [
    "#recommend_by_title('our first family intro!!', df)\n",
    "recommend_by_title('bts, music, concert, dynamite', df)"
   ]
  },
  {
   "cell_type": "code",
   "execution_count": null,
   "id": "59c0fd29",
   "metadata": {},
   "outputs": [],
   "source": []
  }
 ],
 "metadata": {
  "kernelspec": {
   "display_name": "Python 3 (ipykernel)",
   "language": "python",
   "name": "python3"
  },
  "language_info": {
   "codemirror_mode": {
    "name": "ipython",
    "version": 3
   },
   "file_extension": ".py",
   "mimetype": "text/x-python",
   "name": "python",
   "nbconvert_exporter": "python",
   "pygments_lexer": "ipython3",
   "version": "3.9.13"
  }
 },
 "nbformat": 4,
 "nbformat_minor": 5
}
