{
 "cells": [
  {
   "cell_type": "code",
   "execution_count": 35,
   "id": "778ec32c",
   "metadata": {},
   "outputs": [],
   "source": [
    "import pandas as pd\n",
    "import numpy as np"
   ]
  },
  {
   "cell_type": "code",
   "execution_count": 36,
   "id": "b74f6ee1",
   "metadata": {},
   "outputs": [
    {
     "name": "stdout",
     "output_type": "stream",
     "text": [
      "<class 'pandas.core.frame.DataFrame'>\n",
      "RangeIndex: 56191 entries, 0 to 56190\n",
      "Data columns (total 17 columns):\n",
      " #   Column             Non-Null Count  Dtype              \n",
      "---  ------             --------------  -----              \n",
      " 0   video_id           56191 non-null  object             \n",
      " 1   title              56191 non-null  object             \n",
      " 2   publishedAt        56191 non-null  datetime64[ns, UTC]\n",
      " 3   channelId          56191 non-null  object             \n",
      " 4   channelTitle       56191 non-null  object             \n",
      " 5   categoryId         56191 non-null  int64              \n",
      " 6   trending_date      56191 non-null  datetime64[ns, UTC]\n",
      " 7   tags               56191 non-null  object             \n",
      " 8   view_count         56191 non-null  int64              \n",
      " 9   likes              56191 non-null  int64              \n",
      " 10  dislikes           56191 non-null  int64              \n",
      " 11  comment_count      56191 non-null  int64              \n",
      " 12  thumbnail_link     56191 non-null  object             \n",
      " 13  comments_disabled  56191 non-null  bool               \n",
      " 14  ratings_disabled   56191 non-null  bool               \n",
      " 15  description        55701 non-null  object             \n",
      " 16  country            56191 non-null  object             \n",
      "dtypes: bool(2), datetime64[ns, UTC](2), int64(5), object(8)\n",
      "memory usage: 6.5+ MB\n"
     ]
    }
   ],
   "source": [
    "#한국은 나중에 추가 예정\n",
    "countries = ['US']#, 'KR']\n",
    "\n",
    "df = pd.DataFrame()\n",
    "df1 = pd.DataFrame()\n",
    "\n",
    "for c in countries:\n",
    "    path = c + '_youtube_trending_data.csv'\n",
    "    df1 = pd.read_csv(path, parse_dates=['publishedAt','trending_date'])\n",
    "    df1['country'] = c\n",
    "    df = pd.concat([df, df1])\n",
    "\n",
    "#df = pd.read_csv('KR_youtube_trending_data.csv')\n",
    "df.info()"
   ]
  },
  {
   "cell_type": "code",
   "execution_count": 38,
   "id": "2ec50ada",
   "metadata": {},
   "outputs": [],
   "source": [
    "#카테고리 ID를 통해 카테고리 이름 추가\n",
    "import plotly.express as px\n",
    "import json\n",
    "\n",
    "with open(\"US_category_id.json\") as f:\n",
    "    categories = json.load(f)[\"items\"]\n",
    "cat_dict = {}\n",
    "for cat in categories:\n",
    "    cat_dict[int(cat[\"id\"])] = cat[\"snippet\"][\"title\"]\n",
    "df['category_name'] = df['categoryId'].map(cat_dict)"
   ]
  },
  {
   "cell_type": "code",
   "execution_count": 39,
   "id": "ed93bfc1",
   "metadata": {},
   "outputs": [
    {
     "name": "stdout",
     "output_type": "stream",
     "text": [
      "<class 'pandas.core.frame.DataFrame'>\n",
      "RangeIndex: 56191 entries, 0 to 56190\n",
      "Data columns (total 18 columns):\n",
      " #   Column             Non-Null Count  Dtype              \n",
      "---  ------             --------------  -----              \n",
      " 0   video_id           56191 non-null  object             \n",
      " 1   title              56191 non-null  object             \n",
      " 2   publishedAt        56191 non-null  datetime64[ns, UTC]\n",
      " 3   channelId          56191 non-null  object             \n",
      " 4   channelTitle       56191 non-null  object             \n",
      " 5   categoryId         56191 non-null  int64              \n",
      " 6   trending_date      56191 non-null  datetime64[ns, UTC]\n",
      " 7   tags               56191 non-null  object             \n",
      " 8   view_count         56191 non-null  int64              \n",
      " 9   likes              56191 non-null  int64              \n",
      " 10  dislikes           56191 non-null  int64              \n",
      " 11  comment_count      56191 non-null  int64              \n",
      " 12  thumbnail_link     56191 non-null  object             \n",
      " 13  comments_disabled  56191 non-null  bool               \n",
      " 14  ratings_disabled   56191 non-null  bool               \n",
      " 15  description        55701 non-null  object             \n",
      " 16  country            56191 non-null  object             \n",
      " 17  category_name      56191 non-null  object             \n",
      "dtypes: bool(2), datetime64[ns, UTC](2), int64(5), object(9)\n",
      "memory usage: 7.0+ MB\n"
     ]
    }
   ],
   "source": [
    "df.info()"
   ]
  },
  {
   "cell_type": "code",
   "execution_count": 40,
   "id": "65cefd0f",
   "metadata": {},
   "outputs": [
    {
     "data": {
      "text/html": [
       "<div>\n",
       "<style scoped>\n",
       "    .dataframe tbody tr th:only-of-type {\n",
       "        vertical-align: middle;\n",
       "    }\n",
       "\n",
       "    .dataframe tbody tr th {\n",
       "        vertical-align: top;\n",
       "    }\n",
       "\n",
       "    .dataframe thead th {\n",
       "        text-align: right;\n",
       "    }\n",
       "</style>\n",
       "<table border=\"1\" class=\"dataframe\">\n",
       "  <thead>\n",
       "    <tr style=\"text-align: right;\">\n",
       "      <th></th>\n",
       "      <th>video_id</th>\n",
       "      <th>title</th>\n",
       "      <th>publishedAt</th>\n",
       "      <th>channelId</th>\n",
       "      <th>channelTitle</th>\n",
       "      <th>categoryId</th>\n",
       "      <th>trending_date</th>\n",
       "      <th>tags</th>\n",
       "      <th>view_count</th>\n",
       "      <th>likes</th>\n",
       "      <th>dislikes</th>\n",
       "      <th>comment_count</th>\n",
       "      <th>thumbnail_link</th>\n",
       "      <th>comments_disabled</th>\n",
       "      <th>ratings_disabled</th>\n",
       "      <th>description</th>\n",
       "      <th>country</th>\n",
       "      <th>category_name</th>\n",
       "    </tr>\n",
       "  </thead>\n",
       "  <tbody>\n",
       "    <tr>\n",
       "      <th>0</th>\n",
       "      <td>3C66w5Z0ixs</td>\n",
       "      <td>I ASKED HER TO BE MY GIRLFRIEND...</td>\n",
       "      <td>2020-08-11 19:20:14+00:00</td>\n",
       "      <td>UCvtRTOMP2TqYqu51xNrqAzg</td>\n",
       "      <td>Brawadis</td>\n",
       "      <td>22</td>\n",
       "      <td>2020-08-12 00:00:00+00:00</td>\n",
       "      <td>brawadis|prank|basketball|skits|ghost|funny vi...</td>\n",
       "      <td>1514614</td>\n",
       "      <td>156908</td>\n",
       "      <td>5855</td>\n",
       "      <td>35313</td>\n",
       "      <td>https://i.ytimg.com/vi/3C66w5Z0ixs/default.jpg</td>\n",
       "      <td>False</td>\n",
       "      <td>False</td>\n",
       "      <td>SUBSCRIBE to BRAWADIS ▶ http://bit.ly/Subscrib...</td>\n",
       "      <td>US</td>\n",
       "      <td>People &amp; Blogs</td>\n",
       "    </tr>\n",
       "    <tr>\n",
       "      <th>1</th>\n",
       "      <td>M9Pmf9AB4Mo</td>\n",
       "      <td>Apex Legends | Stories from the Outlands – “Th...</td>\n",
       "      <td>2020-08-11 17:00:10+00:00</td>\n",
       "      <td>UC0ZV6M2THA81QT9hrVWJG3A</td>\n",
       "      <td>Apex Legends</td>\n",
       "      <td>20</td>\n",
       "      <td>2020-08-12 00:00:00+00:00</td>\n",
       "      <td>Apex Legends|Apex Legends characters|new Apex ...</td>\n",
       "      <td>2381688</td>\n",
       "      <td>146739</td>\n",
       "      <td>2794</td>\n",
       "      <td>16549</td>\n",
       "      <td>https://i.ytimg.com/vi/M9Pmf9AB4Mo/default.jpg</td>\n",
       "      <td>False</td>\n",
       "      <td>False</td>\n",
       "      <td>While running her own modding shop, Ramya Pare...</td>\n",
       "      <td>US</td>\n",
       "      <td>Gaming</td>\n",
       "    </tr>\n",
       "    <tr>\n",
       "      <th>2</th>\n",
       "      <td>J78aPJ3VyNs</td>\n",
       "      <td>I left youtube for a month and THIS is what ha...</td>\n",
       "      <td>2020-08-11 16:34:06+00:00</td>\n",
       "      <td>UCYzPXprvl5Y-Sf0g4vX-m6g</td>\n",
       "      <td>jacksepticeye</td>\n",
       "      <td>24</td>\n",
       "      <td>2020-08-12 00:00:00+00:00</td>\n",
       "      <td>jacksepticeye|funny|funny meme|memes|jacksepti...</td>\n",
       "      <td>2038853</td>\n",
       "      <td>353787</td>\n",
       "      <td>2628</td>\n",
       "      <td>40221</td>\n",
       "      <td>https://i.ytimg.com/vi/J78aPJ3VyNs/default.jpg</td>\n",
       "      <td>False</td>\n",
       "      <td>False</td>\n",
       "      <td>I left youtube for a month and this is what ha...</td>\n",
       "      <td>US</td>\n",
       "      <td>Entertainment</td>\n",
       "    </tr>\n",
       "    <tr>\n",
       "      <th>3</th>\n",
       "      <td>kXLn3HkpjaA</td>\n",
       "      <td>XXL 2020 Freshman Class Revealed - Official An...</td>\n",
       "      <td>2020-08-11 16:38:55+00:00</td>\n",
       "      <td>UCbg_UMjlHJg_19SZckaKajg</td>\n",
       "      <td>XXL</td>\n",
       "      <td>10</td>\n",
       "      <td>2020-08-12 00:00:00+00:00</td>\n",
       "      <td>xxl freshman|xxl freshmen|2020 xxl freshman|20...</td>\n",
       "      <td>496771</td>\n",
       "      <td>23251</td>\n",
       "      <td>1856</td>\n",
       "      <td>7647</td>\n",
       "      <td>https://i.ytimg.com/vi/kXLn3HkpjaA/default.jpg</td>\n",
       "      <td>False</td>\n",
       "      <td>False</td>\n",
       "      <td>Subscribe to XXL → http://bit.ly/subscribe-xxl...</td>\n",
       "      <td>US</td>\n",
       "      <td>Music</td>\n",
       "    </tr>\n",
       "    <tr>\n",
       "      <th>4</th>\n",
       "      <td>VIUo6yapDbc</td>\n",
       "      <td>Ultimate DIY Home Movie Theater for The LaBran...</td>\n",
       "      <td>2020-08-11 15:10:05+00:00</td>\n",
       "      <td>UCDVPcEbVLQgLZX0Rt6jo34A</td>\n",
       "      <td>Mr. Kate</td>\n",
       "      <td>26</td>\n",
       "      <td>2020-08-12 00:00:00+00:00</td>\n",
       "      <td>The LaBrant Family|DIY|Interior Design|Makeove...</td>\n",
       "      <td>1123889</td>\n",
       "      <td>45802</td>\n",
       "      <td>964</td>\n",
       "      <td>2196</td>\n",
       "      <td>https://i.ytimg.com/vi/VIUo6yapDbc/default.jpg</td>\n",
       "      <td>False</td>\n",
       "      <td>False</td>\n",
       "      <td>Transforming The LaBrant Family's empty white ...</td>\n",
       "      <td>US</td>\n",
       "      <td>Howto &amp; Style</td>\n",
       "    </tr>\n",
       "  </tbody>\n",
       "</table>\n",
       "</div>"
      ],
      "text/plain": [
       "      video_id                                              title  \\\n",
       "0  3C66w5Z0ixs                 I ASKED HER TO BE MY GIRLFRIEND...   \n",
       "1  M9Pmf9AB4Mo  Apex Legends | Stories from the Outlands – “Th...   \n",
       "2  J78aPJ3VyNs  I left youtube for a month and THIS is what ha...   \n",
       "3  kXLn3HkpjaA  XXL 2020 Freshman Class Revealed - Official An...   \n",
       "4  VIUo6yapDbc  Ultimate DIY Home Movie Theater for The LaBran...   \n",
       "\n",
       "                publishedAt                 channelId   channelTitle  \\\n",
       "0 2020-08-11 19:20:14+00:00  UCvtRTOMP2TqYqu51xNrqAzg       Brawadis   \n",
       "1 2020-08-11 17:00:10+00:00  UC0ZV6M2THA81QT9hrVWJG3A   Apex Legends   \n",
       "2 2020-08-11 16:34:06+00:00  UCYzPXprvl5Y-Sf0g4vX-m6g  jacksepticeye   \n",
       "3 2020-08-11 16:38:55+00:00  UCbg_UMjlHJg_19SZckaKajg            XXL   \n",
       "4 2020-08-11 15:10:05+00:00  UCDVPcEbVLQgLZX0Rt6jo34A       Mr. Kate   \n",
       "\n",
       "   categoryId             trending_date  \\\n",
       "0          22 2020-08-12 00:00:00+00:00   \n",
       "1          20 2020-08-12 00:00:00+00:00   \n",
       "2          24 2020-08-12 00:00:00+00:00   \n",
       "3          10 2020-08-12 00:00:00+00:00   \n",
       "4          26 2020-08-12 00:00:00+00:00   \n",
       "\n",
       "                                                tags  view_count   likes  \\\n",
       "0  brawadis|prank|basketball|skits|ghost|funny vi...     1514614  156908   \n",
       "1  Apex Legends|Apex Legends characters|new Apex ...     2381688  146739   \n",
       "2  jacksepticeye|funny|funny meme|memes|jacksepti...     2038853  353787   \n",
       "3  xxl freshman|xxl freshmen|2020 xxl freshman|20...      496771   23251   \n",
       "4  The LaBrant Family|DIY|Interior Design|Makeove...     1123889   45802   \n",
       "\n",
       "   dislikes  comment_count                                  thumbnail_link  \\\n",
       "0      5855          35313  https://i.ytimg.com/vi/3C66w5Z0ixs/default.jpg   \n",
       "1      2794          16549  https://i.ytimg.com/vi/M9Pmf9AB4Mo/default.jpg   \n",
       "2      2628          40221  https://i.ytimg.com/vi/J78aPJ3VyNs/default.jpg   \n",
       "3      1856           7647  https://i.ytimg.com/vi/kXLn3HkpjaA/default.jpg   \n",
       "4       964           2196  https://i.ytimg.com/vi/VIUo6yapDbc/default.jpg   \n",
       "\n",
       "   comments_disabled  ratings_disabled  \\\n",
       "0              False             False   \n",
       "1              False             False   \n",
       "2              False             False   \n",
       "3              False             False   \n",
       "4              False             False   \n",
       "\n",
       "                                         description country   category_name  \n",
       "0  SUBSCRIBE to BRAWADIS ▶ http://bit.ly/Subscrib...      US  People & Blogs  \n",
       "1  While running her own modding shop, Ramya Pare...      US          Gaming  \n",
       "2  I left youtube for a month and this is what ha...      US   Entertainment  \n",
       "3  Subscribe to XXL → http://bit.ly/subscribe-xxl...      US           Music  \n",
       "4  Transforming The LaBrant Family's empty white ...      US   Howto & Style  "
      ]
     },
     "execution_count": 40,
     "metadata": {},
     "output_type": "execute_result"
    }
   ],
   "source": [
    "df.head()"
   ]
  },
  {
   "cell_type": "code",
   "execution_count": 41,
   "id": "1ad37ef5",
   "metadata": {},
   "outputs": [
    {
     "data": {
      "text/plain": [
       "(56191, 18)"
      ]
     },
     "execution_count": 41,
     "metadata": {},
     "output_type": "execute_result"
    }
   ],
   "source": [
    "df.shape"
   ]
  },
  {
   "cell_type": "code",
   "execution_count": 42,
   "id": "e1746577",
   "metadata": {
    "scrolled": true
   },
   "outputs": [
    {
     "data": {
      "text/plain": [
       "Index(['video_id', 'title', 'publishedAt', 'channelId', 'channelTitle',\n",
       "       'categoryId', 'trending_date', 'tags', 'view_count', 'likes',\n",
       "       'dislikes', 'comment_count', 'thumbnail_link', 'comments_disabled',\n",
       "       'ratings_disabled', 'description', 'country', 'category_name'],\n",
       "      dtype='object')"
      ]
     },
     "execution_count": 42,
     "metadata": {},
     "output_type": "execute_result"
    }
   ],
   "source": [
    "df.columns"
   ]
  },
  {
   "cell_type": "code",
   "execution_count": 43,
   "id": "5f61ed5a",
   "metadata": {},
   "outputs": [],
   "source": [
    "#사용하지 않는 열 삭제\n",
    "df = df.drop(columns=['video_id', 'publishedAt', 'channelId',\n",
    "       'categoryId', 'trending_date', 'view_count', 'likes',\n",
    "       'dislikes', 'comment_count', 'thumbnail_link', 'comments_disabled',\n",
    "       'ratings_disabled'])"
   ]
  },
  {
   "cell_type": "code",
   "execution_count": 44,
   "id": "2adc9759",
   "metadata": {},
   "outputs": [
    {
     "data": {
      "text/plain": [
       "Index(['title', 'channelTitle', 'tags', 'description', 'country',\n",
       "       'category_name'],\n",
       "      dtype='object')"
      ]
     },
     "execution_count": 44,
     "metadata": {},
     "output_type": "execute_result"
    }
   ],
   "source": [
    "df.columns"
   ]
  },
  {
   "cell_type": "code",
   "execution_count": 45,
   "id": "dd9f9f5c",
   "metadata": {
    "scrolled": false
   },
   "outputs": [
    {
     "name": "stdout",
     "output_type": "stream",
     "text": [
      "<class 'pandas.core.frame.DataFrame'>\n",
      "RangeIndex: 56191 entries, 0 to 56190\n",
      "Data columns (total 6 columns):\n",
      " #   Column         Non-Null Count  Dtype \n",
      "---  ------         --------------  ----- \n",
      " 0   title          56191 non-null  object\n",
      " 1   channelTitle   56191 non-null  object\n",
      " 2   tags           56191 non-null  object\n",
      " 3   description    55701 non-null  object\n",
      " 4   country        56191 non-null  object\n",
      " 5   category_name  56191 non-null  object\n",
      "dtypes: object(6)\n",
      "memory usage: 2.6+ MB\n"
     ]
    }
   ],
   "source": [
    "df.info()"
   ]
  },
  {
   "cell_type": "code",
   "execution_count": 46,
   "id": "6ce6f41f",
   "metadata": {},
   "outputs": [
    {
     "data": {
      "text/plain": [
       "title              0\n",
       "channelTitle       0\n",
       "tags               0\n",
       "description      490\n",
       "country            0\n",
       "category_name      0\n",
       "dtype: int64"
      ]
     },
     "execution_count": 46,
     "metadata": {},
     "output_type": "execute_result"
    }
   ],
   "source": [
    "#null 값의 개수 확인\n",
    "df.isnull().sum()"
   ]
  },
  {
   "cell_type": "code",
   "execution_count": 47,
   "id": "98f5c65e",
   "metadata": {},
   "outputs": [],
   "source": [
    "#title이 중복되는 행 삭제\n",
    "df = df.drop_duplicates(subset='title', keep=\"first\")"
   ]
  },
  {
   "cell_type": "code",
   "execution_count": 48,
   "id": "485a3d78",
   "metadata": {
    "scrolled": true
   },
   "outputs": [
    {
     "name": "stdout",
     "output_type": "stream",
     "text": [
      "<class 'pandas.core.frame.DataFrame'>\n",
      "Int64Index: 9863 entries, 0 to 56125\n",
      "Data columns (total 6 columns):\n",
      " #   Column         Non-Null Count  Dtype \n",
      "---  ------         --------------  ----- \n",
      " 0   title          9863 non-null   object\n",
      " 1   channelTitle   9863 non-null   object\n",
      " 2   tags           9863 non-null   object\n",
      " 3   description    9774 non-null   object\n",
      " 4   country        9863 non-null   object\n",
      " 5   category_name  9863 non-null   object\n",
      "dtypes: object(6)\n",
      "memory usage: 539.4+ KB\n"
     ]
    }
   ],
   "source": [
    "df.info()"
   ]
  },
  {
   "cell_type": "code",
   "execution_count": 49,
   "id": "8d1d1ef9",
   "metadata": {},
   "outputs": [
    {
     "data": {
      "text/plain": [
       "title             0\n",
       "channelTitle      0\n",
       "tags              0\n",
       "description      89\n",
       "country           0\n",
       "category_name     0\n",
       "dtype: int64"
      ]
     },
     "execution_count": 49,
     "metadata": {},
     "output_type": "execute_result"
    }
   ],
   "source": [
    "df.isnull().sum()"
   ]
  },
  {
   "cell_type": "code",
   "execution_count": 50,
   "id": "0fefb717",
   "metadata": {},
   "outputs": [],
   "source": [
    "#NaN 값을 공백으로 채움\n",
    "df = df.fillna('')"
   ]
  },
  {
   "cell_type": "code",
   "execution_count": 51,
   "id": "aa0f5dc5",
   "metadata": {},
   "outputs": [
    {
     "data": {
      "text/plain": [
       "title            0\n",
       "channelTitle     0\n",
       "tags             0\n",
       "description      0\n",
       "country          0\n",
       "category_name    0\n",
       "dtype: int64"
      ]
     },
     "execution_count": 51,
     "metadata": {},
     "output_type": "execute_result"
    }
   ],
   "source": [
    "#null 값 존재X\n",
    "df.isnull().sum()"
   ]
  },
  {
   "cell_type": "code",
   "execution_count": 52,
   "id": "3da2d9ad",
   "metadata": {},
   "outputs": [
    {
     "name": "stdout",
     "output_type": "stream",
     "text": [
      "<class 'pandas.core.frame.DataFrame'>\n",
      "Int64Index: 9863 entries, 0 to 56125\n",
      "Data columns (total 6 columns):\n",
      " #   Column         Non-Null Count  Dtype \n",
      "---  ------         --------------  ----- \n",
      " 0   title          9863 non-null   object\n",
      " 1   channelTitle   9863 non-null   object\n",
      " 2   tags           9863 non-null   object\n",
      " 3   description    9863 non-null   object\n",
      " 4   country        9863 non-null   object\n",
      " 5   category_name  9863 non-null   object\n",
      "dtypes: object(6)\n",
      "memory usage: 539.4+ KB\n"
     ]
    }
   ],
   "source": [
    "df.info()"
   ]
  },
  {
   "cell_type": "code",
   "execution_count": 53,
   "id": "f615f01d",
   "metadata": {},
   "outputs": [],
   "source": [
    "#제목,채널 이름, 태그, 설명, 국가, 카테고리를 개요로 그룹화\n",
    "df['overview'] = df['title']+\" \"+df['channelTitle']+\" \"+ df['tags']+\" \"+df['description']+\" \"+df['country']+\" \"+df['category_name'] "
   ]
  },
  {
   "cell_type": "code",
   "execution_count": 54,
   "id": "2fdb25e2",
   "metadata": {},
   "outputs": [
    {
     "data": {
      "text/html": [
       "<div>\n",
       "<style scoped>\n",
       "    .dataframe tbody tr th:only-of-type {\n",
       "        vertical-align: middle;\n",
       "    }\n",
       "\n",
       "    .dataframe tbody tr th {\n",
       "        vertical-align: top;\n",
       "    }\n",
       "\n",
       "    .dataframe thead th {\n",
       "        text-align: right;\n",
       "    }\n",
       "</style>\n",
       "<table border=\"1\" class=\"dataframe\">\n",
       "  <thead>\n",
       "    <tr style=\"text-align: right;\">\n",
       "      <th></th>\n",
       "      <th>title</th>\n",
       "      <th>channelTitle</th>\n",
       "      <th>tags</th>\n",
       "      <th>description</th>\n",
       "      <th>country</th>\n",
       "      <th>category_name</th>\n",
       "      <th>overview</th>\n",
       "    </tr>\n",
       "  </thead>\n",
       "  <tbody>\n",
       "    <tr>\n",
       "      <th>0</th>\n",
       "      <td>I ASKED HER TO BE MY GIRLFRIEND...</td>\n",
       "      <td>Brawadis</td>\n",
       "      <td>brawadis|prank|basketball|skits|ghost|funny vi...</td>\n",
       "      <td>SUBSCRIBE to BRAWADIS ▶ http://bit.ly/Subscrib...</td>\n",
       "      <td>US</td>\n",
       "      <td>People &amp; Blogs</td>\n",
       "      <td>I ASKED HER TO BE MY GIRLFRIEND... Brawadis br...</td>\n",
       "    </tr>\n",
       "    <tr>\n",
       "      <th>1</th>\n",
       "      <td>Apex Legends | Stories from the Outlands – “Th...</td>\n",
       "      <td>Apex Legends</td>\n",
       "      <td>Apex Legends|Apex Legends characters|new Apex ...</td>\n",
       "      <td>While running her own modding shop, Ramya Pare...</td>\n",
       "      <td>US</td>\n",
       "      <td>Gaming</td>\n",
       "      <td>Apex Legends | Stories from the Outlands – “Th...</td>\n",
       "    </tr>\n",
       "    <tr>\n",
       "      <th>2</th>\n",
       "      <td>I left youtube for a month and THIS is what ha...</td>\n",
       "      <td>jacksepticeye</td>\n",
       "      <td>jacksepticeye|funny|funny meme|memes|jacksepti...</td>\n",
       "      <td>I left youtube for a month and this is what ha...</td>\n",
       "      <td>US</td>\n",
       "      <td>Entertainment</td>\n",
       "      <td>I left youtube for a month and THIS is what ha...</td>\n",
       "    </tr>\n",
       "    <tr>\n",
       "      <th>3</th>\n",
       "      <td>XXL 2020 Freshman Class Revealed - Official An...</td>\n",
       "      <td>XXL</td>\n",
       "      <td>xxl freshman|xxl freshmen|2020 xxl freshman|20...</td>\n",
       "      <td>Subscribe to XXL → http://bit.ly/subscribe-xxl...</td>\n",
       "      <td>US</td>\n",
       "      <td>Music</td>\n",
       "      <td>XXL 2020 Freshman Class Revealed - Official An...</td>\n",
       "    </tr>\n",
       "    <tr>\n",
       "      <th>4</th>\n",
       "      <td>Ultimate DIY Home Movie Theater for The LaBran...</td>\n",
       "      <td>Mr. Kate</td>\n",
       "      <td>The LaBrant Family|DIY|Interior Design|Makeove...</td>\n",
       "      <td>Transforming The LaBrant Family's empty white ...</td>\n",
       "      <td>US</td>\n",
       "      <td>Howto &amp; Style</td>\n",
       "      <td>Ultimate DIY Home Movie Theater for The LaBran...</td>\n",
       "    </tr>\n",
       "  </tbody>\n",
       "</table>\n",
       "</div>"
      ],
      "text/plain": [
       "                                               title   channelTitle  \\\n",
       "0                 I ASKED HER TO BE MY GIRLFRIEND...       Brawadis   \n",
       "1  Apex Legends | Stories from the Outlands – “Th...   Apex Legends   \n",
       "2  I left youtube for a month and THIS is what ha...  jacksepticeye   \n",
       "3  XXL 2020 Freshman Class Revealed - Official An...            XXL   \n",
       "4  Ultimate DIY Home Movie Theater for The LaBran...       Mr. Kate   \n",
       "\n",
       "                                                tags  \\\n",
       "0  brawadis|prank|basketball|skits|ghost|funny vi...   \n",
       "1  Apex Legends|Apex Legends characters|new Apex ...   \n",
       "2  jacksepticeye|funny|funny meme|memes|jacksepti...   \n",
       "3  xxl freshman|xxl freshmen|2020 xxl freshman|20...   \n",
       "4  The LaBrant Family|DIY|Interior Design|Makeove...   \n",
       "\n",
       "                                         description country   category_name  \\\n",
       "0  SUBSCRIBE to BRAWADIS ▶ http://bit.ly/Subscrib...      US  People & Blogs   \n",
       "1  While running her own modding shop, Ramya Pare...      US          Gaming   \n",
       "2  I left youtube for a month and this is what ha...      US   Entertainment   \n",
       "3  Subscribe to XXL → http://bit.ly/subscribe-xxl...      US           Music   \n",
       "4  Transforming The LaBrant Family's empty white ...      US   Howto & Style   \n",
       "\n",
       "                                            overview  \n",
       "0  I ASKED HER TO BE MY GIRLFRIEND... Brawadis br...  \n",
       "1  Apex Legends | Stories from the Outlands – “Th...  \n",
       "2  I left youtube for a month and THIS is what ha...  \n",
       "3  XXL 2020 Freshman Class Revealed - Official An...  \n",
       "4  Ultimate DIY Home Movie Theater for The LaBran...  "
      ]
     },
     "execution_count": 54,
     "metadata": {},
     "output_type": "execute_result"
    }
   ],
   "source": [
    "df.head()"
   ]
  },
  {
   "cell_type": "code",
   "execution_count": 55,
   "id": "169b0c43",
   "metadata": {},
   "outputs": [
    {
     "data": {
      "text/html": [
       "<div>\n",
       "<style scoped>\n",
       "    .dataframe tbody tr th:only-of-type {\n",
       "        vertical-align: middle;\n",
       "    }\n",
       "\n",
       "    .dataframe tbody tr th {\n",
       "        vertical-align: top;\n",
       "    }\n",
       "\n",
       "    .dataframe thead th {\n",
       "        text-align: right;\n",
       "    }\n",
       "</style>\n",
       "<table border=\"1\" class=\"dataframe\">\n",
       "  <thead>\n",
       "    <tr style=\"text-align: right;\">\n",
       "      <th></th>\n",
       "      <th>title</th>\n",
       "      <th>overview</th>\n",
       "    </tr>\n",
       "  </thead>\n",
       "  <tbody>\n",
       "    <tr>\n",
       "      <th>0</th>\n",
       "      <td>I ASKED HER TO BE MY GIRLFRIEND...</td>\n",
       "      <td>I ASKED HER TO BE MY GIRLFRIEND... Brawadis br...</td>\n",
       "    </tr>\n",
       "    <tr>\n",
       "      <th>1</th>\n",
       "      <td>Apex Legends | Stories from the Outlands – “Th...</td>\n",
       "      <td>Apex Legends | Stories from the Outlands – “Th...</td>\n",
       "    </tr>\n",
       "    <tr>\n",
       "      <th>2</th>\n",
       "      <td>I left youtube for a month and THIS is what ha...</td>\n",
       "      <td>I left youtube for a month and THIS is what ha...</td>\n",
       "    </tr>\n",
       "    <tr>\n",
       "      <th>3</th>\n",
       "      <td>XXL 2020 Freshman Class Revealed - Official An...</td>\n",
       "      <td>XXL 2020 Freshman Class Revealed - Official An...</td>\n",
       "    </tr>\n",
       "    <tr>\n",
       "      <th>4</th>\n",
       "      <td>Ultimate DIY Home Movie Theater for The LaBran...</td>\n",
       "      <td>Ultimate DIY Home Movie Theater for The LaBran...</td>\n",
       "    </tr>\n",
       "  </tbody>\n",
       "</table>\n",
       "</div>"
      ],
      "text/plain": [
       "                                               title  \\\n",
       "0                 I ASKED HER TO BE MY GIRLFRIEND...   \n",
       "1  Apex Legends | Stories from the Outlands – “Th...   \n",
       "2  I left youtube for a month and THIS is what ha...   \n",
       "3  XXL 2020 Freshman Class Revealed - Official An...   \n",
       "4  Ultimate DIY Home Movie Theater for The LaBran...   \n",
       "\n",
       "                                            overview  \n",
       "0  I ASKED HER TO BE MY GIRLFRIEND... Brawadis br...  \n",
       "1  Apex Legends | Stories from the Outlands – “Th...  \n",
       "2  I left youtube for a month and THIS is what ha...  \n",
       "3  XXL 2020 Freshman Class Revealed - Official An...  \n",
       "4  Ultimate DIY Home Movie Theater for The LaBran...  "
      ]
     },
     "execution_count": 55,
     "metadata": {},
     "output_type": "execute_result"
    }
   ],
   "source": [
    "#채널 이름, 태그. 설명, 국가, 카테고리 열 삭제\n",
    "df.drop(columns=['channelTitle', 'tags', 'description', 'country', 'category_name'], inplace=True)\n",
    "df.head()"
   ]
  },
  {
   "cell_type": "code",
   "execution_count": 56,
   "id": "1c2570a0",
   "metadata": {},
   "outputs": [],
   "source": [
    "import warnings\n",
    "warnings.filterwarnings(\"ignore\")\n",
    "\n",
    "# Importing modules\n",
    "import pandas as pd\n",
    "import numpy as np\n",
    "import os\n",
    "import re\n",
    "\n",
    "# LDA Model\n",
    "import gensim\n",
    "from gensim.utils import simple_preprocess\n",
    "import gensim.corpora as corpora\n",
    "from pprint import pprint\n",
    "from gensim.models import CoherenceModel\n",
    "import spacy\n",
    "from nltk.corpus import stopwords\n",
    "\n",
    "# Import the wordcloud library\n",
    "from wordcloud import WordCloud\n",
    "#!pip install pyLDAvis\n",
    "#!python -m spacy download en\n",
    "\n",
    "# Visualize the topics\n",
    "import pyLDAvis\n",
    "import pyLDAvis.gensim_models\n",
    "import pickle \n",
    "import pyLDAvis"
   ]
  },
  {
   "cell_type": "code",
   "execution_count": 57,
   "id": "092f2bd8",
   "metadata": {},
   "outputs": [],
   "source": [
    "# Remove Non-english words\n",
    "\n",
    "df['overview']= df['overview'].map(lambda x: re.sub('([^\\x00-\\x7F])+ ','', x))\n",
    "\n",
    "# Tokenization(토큰화)\n",
    "def sentence_to_words(sentences):\n",
    " for sentence in sentences:\n",
    "  yield(gensim.utils.simple_preprocess(str(sentence), deacc=True)) # deacc=True removes punctuations and special characters\n",
    "\n",
    "all_words = list(sentence_to_words(df['overview']))\n",
    "\n",
    "# remove stopwords(불용어 제거)\n",
    "import nltk\n",
    "#nltk.download('stopwords')\n",
    "\n",
    "stop_words = stopwords.words('english')\n",
    "\n",
    "# stop_words.extend(['']) #extend existing stop word list if needed\n",
    "def remove_stopwords(texts):\n",
    " return [[word for word in simple_preprocess(str(doc)) if word not in stop_words] for doc in texts]\n",
    "\n",
    "# Building  the bigram \n",
    "bigram = gensim.models.Phrases(all_words, min_count=5, threshold=10) \n",
    "\n",
    "bigram_mod = gensim.models.phrases.Phraser(bigram)\n",
    "def create_bigrams(texts):\n",
    " return [bigram_mod[doc] for doc in texts]\n",
    "\n",
    "# Lemmatization\n",
    "def lemmatization(texts, allowed_postags=['NOUN', 'ADJ', 'VERB', 'ADV']):\n",
    " texts_out = []\n",
    " for sent in texts:\n",
    "  doc = nlp(\" \".join(sent)) \n",
    "  texts_out.append([token.lemma_ for token in doc if token.pos_ in allowed_postags])\n",
    " return texts_out"
   ]
  },
  {
   "cell_type": "code",
   "execution_count": 58,
   "id": "dec5baf5",
   "metadata": {},
   "outputs": [
    {
     "name": "stdout",
     "output_type": "stream",
     "text": [
      "[['ask', 'girlfriend', 'prank', 'basketball_skit', 'ghost', 'funny_video', 'vlog_vlogge', 'brother_mama', 'rug', 'subscribe', 'brawadi', 'http_bit', 'ly', 'follow', 'social', 'twitter', 'https', 'www_instagram', 'com', 'brandon_awadi', 'make', 'dope_vlog', 'pranks_reaction', 'challenge', 'basketball', 'video', 'forget', 'subscribe', 'come', 'part', 'brawadsquad', 'us_people', 'blog']]\n"
     ]
    }
   ],
   "source": [
    "all_words_nostops = remove_stopwords(all_words)\n",
    "all_words_bigrams = create_bigrams(all_words_nostops)\n",
    "nlp = spacy.load(\"en_core_web_sm\", disable=['parser', 'ner'])\n",
    "data_lemmatized = lemmatization(all_words_bigrams, allowed_postags=['NOUN', 'ADJ', 'VERB', 'ADV'])\n",
    "print(data_lemmatized[:1])"
   ]
  },
  {
   "cell_type": "code",
   "execution_count": 27,
   "id": "ee9e6ca9",
   "metadata": {},
   "outputs": [],
   "source": [
    "# Create Dictionary\n",
    "id2word = corpora.Dictionary(data_lemmatized)\n",
    "\n",
    "# Filter out tokens that appear in only 1 documents and appear in more than 90% of the documents\n",
    "id2word.filter_extremes(no_below=2, no_above=0.9)\n",
    "\n",
    "# Create Corpus\n",
    "texts = data_lemmatized\n",
    "\n",
    "# Term Document Frequency\n",
    "corpus = [id2word.doc2bow(text) for text in texts]"
   ]
  },
  {
   "cell_type": "code",
   "execution_count": 28,
   "id": "93165e6a",
   "metadata": {},
   "outputs": [],
   "source": [
    "# Building LDA model for 10 topics\n",
    "lda_model = gensim.models.LdaMulticore(corpus=corpus,\n",
    "                                       id2word=id2word,\n",
    "                                       num_topics=19, \n",
    "                                       random_state=100,\n",
    "                                       chunksize=100,\n",
    "                                       passes=10,\n",
    "                                       per_word_topics=True)"
   ]
  },
  {
   "cell_type": "code",
   "execution_count": 29,
   "id": "bd1aa012",
   "metadata": {
    "scrolled": true
   },
   "outputs": [
    {
     "name": "stdout",
     "output_type": "stream",
     "text": [
      "[(0,\n",
      "  '0.046*\"com\" + 0.039*\"http_bit\" + 0.030*\"ly\" + 0.026*\"http\" + 0.017*\"https\" '\n",
      "  '+ 0.017*\"twitter\" + 0.013*\"youtube\" + 0.012*\"watch\" + 0.011*\"subscribe\" + '\n",
      "  '0.010*\"highlight\"'),\n",
      " (1,\n",
      "  '0.030*\"rocket\" + 0.017*\"dead\" + 0.014*\"skin\" + 0.014*\"playstation\" + '\n",
      "  '0.012*\"first\" + 0.011*\"daylight\" + 0.010*\"https\" + 0.009*\"day\" + '\n",
      "  '0.009*\"new\" + 0.008*\"console\"'),\n",
      " (2,\n",
      "  '0.080*\"com\" + 0.053*\"https\" + 0.024*\"music\" + 0.018*\"video\" + 0.015*\"http\" '\n",
      "  '+ 0.014*\"twitter\" + 0.011*\"www_facebook\" + 0.010*\"song\" + 0.010*\"www\" + '\n",
      "  '0.008*\"official\"'),\n",
      " (3,\n",
      "  '0.032*\"get\" + 0.018*\"com\" + 0.018*\"https\" + 0.017*\"know\" + 0.012*\"go\" + '\n",
      "  '0.011*\"say\" + 0.010*\"see\" + 0.010*\"video\" + 0.009*\"love\" + 0.008*\"want\"'),\n",
      " (4,\n",
      "  '0.019*\"https\" + 0.015*\"com\" + 0.010*\"season\" + 0.009*\"youtube\" + '\n",
      "  '0.009*\"voice\" + 0.008*\"http\" + 0.008*\"new\" + 0.007*\"show\" + '\n",
      "  '0.007*\"real_life\" + 0.006*\"http_bit\"'),\n",
      " (5,\n",
      "  '0.028*\"http\" + 0.018*\"fish\" + 0.014*\"com\" + 0.011*\"fox_new\" + 0.010*\"catch\" '\n",
      "  '+ 0.009*\"video\" + 0.008*\"ad\" + 0.007*\"sauce\" + 0.007*\"eat\" + 0.007*\"news\"'),\n",
      " (6,\n",
      "  '0.013*\"new\" + 0.010*\"com\" + 0.010*\"https\" + 0.008*\"technology\" + '\n",
      "  '0.008*\"apple\" + 0.008*\"iphone\" + 0.008*\"world\" + 0.007*\"film\" + '\n",
      "  '0.007*\"news\" + 0.006*\"news_politic\"'),\n",
      " (7,\n",
      "  '0.022*\"com\" + 0.020*\"video\" + 0.015*\"https\" + 0.011*\"among_us\" + '\n",
      "  '0.010*\"http\" + 0.008*\"new\" + 0.008*\"game\" + 0.007*\"car\" + 0.007*\"animation\" '\n",
      "  '+ 0.007*\"make\"'),\n",
      " (8,\n",
      "  '0.015*\"new\" + 0.015*\"com\" + 0.013*\"https\" + 0.009*\"video\" + '\n",
      "  '0.009*\"apex_legend\" + 0.009*\"game\" + 0.007*\"make\" + 0.006*\"http_bit\" + '\n",
      "  '0.006*\"recipe\" + 0.005*\"paint\"'),\n",
      " (9,\n",
      "  '0.026*\"com\" + 0.026*\"minecraft\" + 0.021*\"https\" + 0.012*\"video\" + '\n",
      "  '0.010*\"make\" + 0.009*\"get\" + 0.007*\"use\" + 0.007*\"day\" + 0.006*\"go\" + '\n",
      "  '0.006*\"new\"'),\n",
      " (10,\n",
      "  '0.029*\"game_highlight\" + 0.025*\"laker\" + 0.025*\"https\" + 0.019*\"highlight\" '\n",
      "  '+ 0.018*\"warrior\" + 0.017*\"nba_league\" + 0.015*\"full_game\" + 0.015*\"pass\" + '\n",
      "  '0.014*\"los_angele\" + 0.014*\"lebron_jame\"'),\n",
      " (11,\n",
      "  '0.015*\"golf\" + 0.013*\"link\" + 0.013*\"fox\" + 0.012*\"wild\" + 0.010*\"https\" + '\n",
      "  '0.009*\"com\" + 0.009*\"music\" + 0.009*\"video\" + 0.009*\"new\" + '\n",
      "  '0.007*\"channel\"'),\n",
      " (12,\n",
      "  '0.027*\"highlight\" + 0.025*\"https\" + 0.017*\"us_sport\" + 0.013*\"channel\" + '\n",
      "  '0.012*\"youtube\" + 0.011*\"first\" + 0.010*\"game\" + 0.009*\"com\" + '\n",
      "  '0.008*\"football\" + 0.007*\"fox_sport\"'),\n",
      " (13,\n",
      "  '0.021*\"http\" + 0.019*\"boil\" + 0.017*\"com\" + 0.013*\"build\" + '\n",
      "  '0.012*\"asmr_eate\" + 0.011*\"live\" + 0.011*\"snl\" + 0.010*\"clash\" + '\n",
      "  '0.010*\"https\" + 0.009*\"saturday_night\"'),\n",
      " (14,\n",
      "  '0.035*\"com\" + 0.022*\"https\" + 0.015*\"challenge\" + 0.014*\"pilot\" + '\n",
      "  '0.012*\"video\" + 0.011*\"game\" + 0.010*\"http\" + 0.010*\"www\" + 0.009*\"buy\" + '\n",
      "  '0.009*\"star_war\"'),\n",
      " (15,\n",
      "  '0.032*\"https\" + 0.032*\"news\" + 0.024*\"com\" + 0.011*\"video\" + '\n",
      "  '0.010*\"news_politic\" + 0.007*\"entertainment\" + 0.007*\"smarturl\" + '\n",
      "  '0.007*\"www_facebook\" + 0.006*\"facebook\" + 0.006*\"live\"'),\n",
      " (16,\n",
      "  '0.115*\"com\" + 0.080*\"https\" + 0.025*\"twitter\" + 0.015*\"www\" + 0.014*\"game\" '\n",
      "  '+ 0.014*\"www_facebook\" + 0.014*\"http\" + 0.011*\"www_instagram\" + '\n",
      "  '0.010*\"fortnite\" + 0.009*\"tiktok\"'),\n",
      " (17,\n",
      "  '0.104*\"com\" + 0.076*\"https\" + 0.020*\"video\" + 0.015*\"twitter\" + '\n",
      "  '0.013*\"channel\" + 0.012*\"http\" + 0.011*\"www\" + 0.011*\"watch\" + '\n",
      "  '0.008*\"tiktok\" + 0.007*\"http_bit\"'),\n",
      " (18,\n",
      "  '0.022*\"com\" + 0.018*\"https\" + 0.016*\"car\" + 0.015*\"truck\" + 0.014*\"video\" + '\n",
      "  '0.011*\"channel\" + 0.010*\"boss\" + 0.010*\"youtube\" + 0.009*\"lil_durk\" + '\n",
      "  '0.009*\"new\"')]\n"
     ]
    }
   ],
   "source": [
    "# Printing the Keywords in the 10 topics\n",
    "pprint(lda_model.print_topics())\n",
    "doc_lda = lda_model[corpus]"
   ]
  },
  {
   "cell_type": "code",
   "execution_count": 25,
   "id": "16970f70",
   "metadata": {},
   "outputs": [
    {
     "name": "stdout",
     "output_type": "stream",
     "text": [
      "1 번째 문서의 topic 비율은 ([(12, 0.9694321)], [(0, [12]), (1, [12]), (2, [12]), (3, [12]), (4, [12]), (5, [12]), (6, [12]), (7, [12]), (8, [12]), (9, [12]), (10, [12]), (11, [12]), (12, [12]), (13, [12]), (14, [12]), (15, [12]), (16, [12]), (17, [12]), (18, [12]), (19, [12]), (20, [12]), (21, [12]), (22, [12]), (23, [12]), (24, [12]), (25, [12]), (26, [12]), (27, [12]), (28, [12])], [(0, [(12, 0.9998756)]), (1, [(12, 0.99941826)]), (2, [(12, 0.99941826)]), (3, [(12, 0.9995033)]), (4, [(12, 0.9994186)]), (5, [(12, 0.99941856)]), (6, [(12, 0.9994188)]), (7, [(12, 0.99990374)]), (8, [(12, 0.99999285)]), (9, [(12, 0.99986964)]), (10, [(12, 0.99941874)]), (11, [(12, 0.9999654)]), (12, [(12, 0.99957633)]), (13, [(12, 0.9997237)]), (14, [(12, 0.99961823)]), (15, [(12, 0.9999981)]), (16, [(12, 0.9999942)]), (17, [(12, 0.9999977)]), (18, [(12, 0.99996626)]), (19, [(12, 0.9998466)]), (20, [(12, 0.99988794)]), (21, [(12, 0.9994194)]), (22, [(12, 0.9997859)]), (23, [(12, 0.99958026)]), (24, [(12, 1.9999794)]), (25, [(12, 0.9999783)]), (26, [(12, 0.99998885)]), (27, [(12, 0.99945265)]), (28, [(12, 0.99985975)])])\n",
      "2 번째 문서의 topic 비율은 ([(15, 0.98626745)], [(8, [15]), (16, [15]), (18, [15]), (25, [15]), (29, [15]), (30, [15]), (31, [15]), (32, [15]), (33, [15]), (34, [15]), (35, [15]), (36, [15]), (37, [15]), (38, [15]), (39, [15]), (40, [15]), (41, [15]), (42, [15]), (43, [15]), (44, [15]), (45, [15]), (46, [15]), (47, [15]), (48, [15]), (49, [15]), (50, [15]), (51, [15]), (52, [15]), (53, [15]), (54, [15]), (55, [15]), (56, [15]), (57, [15]), (58, [15]), (59, [15]), (60, [15]), (61, [15]), (62, [15]), (63, [15]), (64, [15]), (65, [15]), (66, [15]), (67, [15]), (68, [15]), (69, [15]), (70, [15]), (71, [15]), (72, [15]), (73, [15]), (74, [15])], [(8, [(15, 1.999983)]), (16, [(15, 1.9999875)]), (18, [(15, 0.9999734)]), (25, [(15, 0.999938)]), (29, [(15, 0.99809253)]), (30, [(15, 9.999909)]), (31, [(15, 0.999866)]), (32, [(15, 0.9997907)]), (33, [(15, 0.99992424)]), (34, [(15, 1.9998776)]), (35, [(15, 0.9998342)]), (36, [(15, 0.99996054)]), (37, [(15, 0.999965)]), (38, [(15, 0.9999331)]), (39, [(15, 0.999919)]), (40, [(15, 0.9995807)]), (41, [(15, 0.999894)]), (42, [(15, 0.99979305)]), (43, [(15, 0.9997354)]), (44, [(15, 0.99824584)]), (45, [(15, 0.99992806)]), (46, [(15, 1.999934)]), (47, [(15, 0.99986565)]), (48, [(15, 0.9998654)]), (49, [(15, 0.9999445)]), (50, [(15, 1.999986)]), (51, [(15, 0.9998767)]), (52, [(15, 0.999854)]), (53, [(15, 0.99986553)]), (54, [(15, 0.9999604)]), (55, [(15, 0.9999111)]), (56, [(15, 2.9999301)]), (57, [(15, 0.9998659)]), (58, [(15, 0.9998303)]), (59, [(15, 0.99983054)]), (60, [(15, 0.9978268)]), (61, [(15, 1.9999875)]), (62, [(15, 0.9999658)]), (63, [(15, 0.9997821)]), (64, [(15, 0.9989755)]), (65, [(15, 1.999857)]), (66, [(15, 0.9999103)]), (67, [(15, 0.9996864)]), (68, [(15, 0.9999041)]), (69, [(15, 0.9989446)]), (70, [(15, 0.9999391)]), (71, [(15, 0.99955183)]), (72, [(15, 0.99997526)]), (73, [(15, 0.9999333)]), (74, [(15, 0.9998634)])])\n",
      "3 번째 문서의 topic 비율은 ([(9, 0.94294435), (17, 0.0421323)], [(8, [9, 17]), (16, [9, 17]), (25, [9, 17]), (26, [9, 17]), (75, [9]), (76, [9]), (77, [9, 17]), (78, [9]), (79, [9, 17]), (80, [9]), (81, [9, 17]), (82, [9, 17]), (83, [9]), (84, [9, 17]), (85, [9]), (86, [9]), (87, [17, 9]), (88, [9, 17]), (89, [9, 17]), (90, [9]), (91, [9]), (92, [9, 17]), (93, [9, 17]), (94, [9, 17]), (95, [9]), (96, [9]), (97, [9, 17]), (98, [9]), (99, [9]), (100, [9]), (101, [9, 17]), (102, [9]), (103, [9, 17])], [(8, [(9, 5.9621253), (17, 0.037869703)]), (16, [(9, 3.9719615), (17, 0.028033087)]), (25, [(9, 1.972848), (17, 0.027142314)]), (26, [(9, 0.9637843), (17, 0.036207713)]), (75, [(9, 1.9992901)]), (76, [(9, 0.99197435)]), (77, [(9, 2.8882446), (17, 0.11076584)]), (78, [(9, 0.99980175)]), (79, [(9, 0.5147332), (17, 0.48435184)]), (80, [(9, 0.9963984)]), (81, [(9, 0.9364623), (17, 0.06302355)]), (82, [(9, 2.6458821), (17, 0.3539074)]), (83, [(9, 0.9985997)]), (84, [(9, 0.8170916), (17, 0.18248753)]), (85, [(9, 0.99794894)]), (86, [(9, 2.994539)]), (87, [(9, 0.38164505), (17, 0.6174395)]), (88, [(9, 0.9836455), (17, 0.015367263)]), (89, [(9, 6.91634), (17, 0.0829219)]), (90, [(9, 0.9885952)]), (91, [(9, 1.9981971)]), (92, [(9, 0.94983226), (17, 0.049822263)]), (93, [(9, 0.9466668), (17, 0.051127683)]), (94, [(9, 0.9651468), (17, 0.034570158)]), (95, [(9, 0.99345905)]), (96, [(9, 1.9994364)]), (97, [(9, 0.9835658), (17, 0.01631105)]), (98, [(9, 0.99529105)]), (99, [(9, 0.99948543)]), (100, [(9, 2.9954143)]), (101, [(9, 0.76997864), (17, 0.22981256)]), (102, [(9, 0.99855506)]), (103, [(9, 0.97226644), (17, 0.027714007)])])\n",
      "4 번째 문서의 topic 비율은 ([(2, 0.30034813), (7, 0.14900754), (11, 0.37733924), (15, 0.15301703)], [(8, [11, 2, 15, 7]), (15, [11, 2, 15]), (16, [11, 2, 7, 15]), (17, [11, 2, 15, 7]), (24, [11, 2, 7, 15]), (26, [2, 11, 7, 15]), (104, [11, 7, 2]), (105, [2]), (106, [15, 2, 11]), (107, [2, 11, 7, 15]), (108, [2, 15, 11]), (109, [11, 2]), (110, [2, 15, 7, 11]), (111, [11, 15, 2]), (112, [2]), (113, [11, 2, 15, 7]), (114, [7, 2, 11]), (115, [11]), (116, [7, 2]), (117, [7]), (118, [7, 11, 2, 15]), (119, [11]), (120, [7, 15, 11, 2]), (121, [2, 7, 11, 15]), (122, [2, 11, 7, 15]), (123, [15, 11, 2, 7]), (124, [11, 2]), (125, [11, 15, 2, 7]), (126, [7, 2, 11]), (127, [11, 2, 7, 15]), (128, [11, 2])], [(8, [(2, 0.7547227), (7, 0.1137309), (11, 1.9981923), (15, 0.133346)]), (15, [(2, 0.30528674), (11, 0.6526423), (15, 0.03698393)]), (16, [(2, 0.49866018), (7, 0.17149161), (11, 1.1611094), (15, 0.1687313)]), (17, [(2, 0.19982183), (7, 0.022422954), (11, 0.73412937), (15, 0.04358004)]), (24, [(2, 0.4382268), (7, 0.08717276), (11, 0.46248785), (15, 0.012080065)]), (26, [(2, 0.4505737), (7, 0.1444906), (11, 0.34212008), (15, 0.062806845)]), (104, [(2, 0.04846034), (7, 0.28095487), (11, 0.6703366)]), (105, [(2, 1.9886396)]), (106, [(2, 0.35542578), (11, 0.048161045), (15, 2.5923634)]), (107, [(2, 0.63573694), (7, 0.113894135), (11, 0.17501044), (15, 0.07515705)]), (108, [(2, 0.4808811), (11, 0.21600027), (15, 0.30089453)]), (109, [(2, 0.14614923), (11, 0.8503374)]), (110, [(2, 0.5255081), (7, 0.08204707), (11, 0.053227093), (15, 0.3391301)]), (111, [(2, 0.39545667), (11, 0.98616815), (15, 0.6150851)]), (112, [(2, 0.98671436)]), (113, [(2, 0.27068564), (7, 0.014935846), (11, 0.54168904), (15, 0.1726462)]), (114, [(2, 0.24295339), (7, 0.562244), (11, 0.1944088)]), (115, [(11, 0.98301125)]), (116, [(2, 0.043296132), (7, 0.95534456)]), (117, [(7, 0.98891526)]), (118, [(2, 0.1296552), (7, 0.5842438), (11, 0.21904989), (15, 0.06701821)]), (119, [(11, 0.98298556)]), (120, [(2, 0.033219684), (7, 0.55636865), (11, 0.055512335), (15, 0.35451612)]), (121, [(2, 0.5194807), (7, 0.2589581), (11, 0.17738925), (15, 0.04393505)]), (122, [(2, 0.46958756), (7, 0.06380678), (11, 0.43013468), (15, 0.03588485)]), (123, [(2, 0.15671042), (7, 0.124958225), (11, 0.22317621), (15, 0.49477443)]), (124, [(2, 0.45664322), (11, 0.5346609)]), (125, [(2, 0.27394837), (7, 0.11155432), (11, 0.33757135), (15, 0.27668107)]), (126, [(2, 0.35498276), (7, 0.4062728), (11, 0.23827955)]), (127, [(2, 0.29707414), (7, 0.085593574), (11, 0.5472265), (15, 0.07008161)]), (128, [(2, 0.17339477), (11, 0.82044744)])])\n",
      "5 번째 문서의 topic 비율은 ([(2, 0.013488629), (4, 0.026029916), (11, 0.91539246), (15, 0.03931783)], [(8, [11, 4, 15, 2]), (9, [11, 15, 4, 2]), (15, [11]), (16, [11, 15, 4, 2]), (17, [11]), (24, [11, 4, 2]), (25, [11]), (26, [11, 4, 15, 2]), (28, [11]), (37, [11, 15, 4, 2]), (93, [11, 4, 2]), (113, [11, 15, 4]), (124, [11, 4, 2]), (127, [11, 15, 4, 2]), (129, [11, 15, 4]), (130, [11, 4]), (131, [11, 15, 2, 4]), (132, [11, 15, 4]), (133, [11]), (134, [11]), (135, [15, 11]), (136, [11]), (137, [11]), (138, [11, 2]), (139, [11, 15]), (140, [11]), (141, [11, 15, 2]), (142, [11, 2]), (143, [11]), (144, [11]), (145, [11]), (146, [11]), (147, [11]), (148, [11]), (149, [11, 15, 4, 2]), (150, [11, 4, 2]), (151, [11, 15, 4, 2]), (152, [11, 15, 4, 2]), (153, [11, 4, 15, 2]), (154, [11, 4]), (155, [11]), (156, [11, 2]), (157, [11, 15, 4]), (158, [11]), (159, [11]), (160, [11]), (161, [11]), (162, [11, 15, 4, 2]), (163, [11]), (164, [2, 4]), (165, [11]), (166, [11, 4]), (167, [11, 15]), (168, [11, 4, 15, 2]), (169, [11, 4]), (170, [11]), (171, [11]), (172, [11]), (173, [11]), (174, [11]), (175, [11]), (176, [11, 2]), (177, [11]), (178, [11]), (179, [11, 4, 2]), (180, [11, 2]), (181, [11]), (182, [15, 4]), (183, [11, 15, 4]), (184, [11, 15, 4]), (185, [11]), (186, [11, 15, 4, 2]), (187, [11, 4, 15]), (188, [11, 15, 2]), (189, [11]), (190, [4, 11]), (191, [11]), (192, [11, 15]), (193, [11, 15, 4]), (194, [11, 4, 15, 2]), (195, [11, 15]), (196, [11]), (197, [11]), (198, [11]), (199, [15, 2, 11]), (200, [11, 4]), (201, [11, 4, 15, 2]), (202, [11, 15]), (203, [11]), (204, [11])], [(8, [(2, 0.061977457), (4, 0.10850785), (11, 11.749697), (15, 0.079797685)]), (9, [(2, 0.011779826), (4, 0.025673091), (11, 0.90239906), (15, 0.06004363)]), (15, [(11, 0.98286074)]), (16, [(2, 0.040714487), (4, 0.07058386), (11, 6.788292), (15, 0.10039311)]), (17, [(11, 0.9861825)]), (24, [(2, 0.012813329), (4, 0.016293028), (11, 0.9682923)]), (25, [(11, 0.9779678)]), (26, [(2, 0.034818742), (4, 0.036713347), (11, 1.8930794), (15, 0.035368625)]), (28, [(11, 0.9825405)]), (37, [(2, 0.014670833), (4, 0.03883976), (11, 1.8996592), (15, 0.04678539)]), (93, [(2, 0.012017978), (4, 0.13147882), (11, 0.85210323)]), (113, [(4, 0.01699565), (11, 0.94569945), (15, 0.030674752)]), (124, [(2, 0.011148243), (4, 0.053199973), (11, 0.93465406)]), (127, [(2, 0.014743257), (4, 0.015238939), (11, 1.944638), (15, 0.025345253)]), (129, [(4, 0.020529075), (11, 0.94291383), (15, 0.033195868)]), (130, [(4, 0.037001964), (11, 0.9571741)]), (131, [(2, 0.035462275), (4, 0.018309413), (11, 2.7164035), (15, 0.22964065)]), (132, [(4, 0.027321354), (11, 0.9373165), (15, 0.034307715)]), (133, [(11, 0.99888015)]), (134, [(11, 0.9995164)]), (135, [(11, 0.05666333), (15, 0.94043356)]), (136, [(11, 0.9984776)]), (137, [(11, 1.9958601)]), (138, [(2, 0.017487383), (11, 0.98011637)]), (139, [(11, 0.95230687), (15, 0.03877159)]), (140, [(11, 0.9816604)]), (141, [(2, 0.011899438), (11, 0.7214107), (15, 0.26592243)]), (142, [(2, 0.010848174), (11, 0.98803914)]), (143, [(11, 0.9994979)]), (144, [(11, 0.99777466)]), (145, [(11, 0.99943036)]), (146, [(11, 0.9881015)]), (147, [(11, 0.99780405)]), (148, [(11, 0.99766266)]), (149, [(2, 0.010058615), (4, 0.020180427), (11, 0.8954026), (15, 0.0740201)]), (150, [(2, 0.023685338), (4, 0.15913376), (11, 0.8144075)]), (151, [(2, 0.012578368), (4, 0.038886074), (11, 0.8926478), (15, 0.055725373)]), (152, [(2, 0.09892998), (4, 0.12443147), (11, 5.6438456), (15, 0.13235427)]), (153, [(2, 0.035227533), (4, 0.051167052), (11, 4.8781857), (15, 0.035346005)]), (154, [(4, 0.023905449), (11, 0.97527593)]), (155, [(11, 0.99399835)]), (156, [(2, 0.041799527), (11, 0.95559466)]), (157, [(4, 0.048801504), (11, 0.8808587), (15, 0.06490005)]), (158, [(11, 1.9876075)]), (159, [(11, 0.99787784)]), (160, [(11, 0.99264956)]), (161, [(11, 2.986724)]), (162, [(2, 0.020959202), (4, 0.044877023), (11, 0.8241085), (15, 0.109916955)]), (163, [(11, 0.9979125)]), (164, [(2, 0.8198587), (4, 0.14524253)]), (165, [(11, 0.9981859)]), (166, [(4, 0.017039122), (11, 0.9826468)]), (167, [(11, 3.91324), (15, 0.08247122)]), (168, [(2, 0.018785194), (4, 0.10447157), (11, 0.83973145), (15, 0.036557637)]), (169, [(4, 0.35511953), (11, 0.6431946)]), (170, [(11, 0.99187636)]), (171, [(11, 2.9941022)]), (172, [(11, 0.9806406)]), (173, [(11, 1.9969163)]), (174, [(11, 0.9917034)]), (175, [(11, 2.9965901)]), (176, [(2, 0.03209903), (11, 0.96588653)]), (177, [(11, 0.9770343)]), (178, [(11, 0.9964999)]), (179, [(2, 0.034808427), (4, 0.1572012), (11, 0.8056328)]), (180, [(2, 0.10679911), (11, 0.8916062)]), (181, [(11, 0.99467844)]), (182, [(4, 0.38454935), (15, 0.60959464)]), (183, [(4, 0.029141245), (11, 1.438938), (15, 0.53098106)]), (184, [(4, 0.025988506), (11, 0.9015725), (15, 0.06614129)]), (185, [(11, 0.98314655)]), (186, [(2, 0.016696993), (4, 0.032972086), (11, 0.8537604), (15, 0.09640231)]), (187, [(4, 0.044234008), (11, 0.942851), (15, 0.010882259)]), (188, [(2, 0.010878099), (11, 1.960704), (15, 0.02276098)]), (189, [(11, 0.99770135)]), (190, [(4, 0.6648106), (11, 0.33310363)]), (191, [(11, 0.99677026)]), (192, [(11, 0.7575117), (15, 0.23255694)]), (193, [(4, 0.033677824), (11, 0.9184981), (15, 0.04177637)]), (194, [(2, 0.024399292), (4, 0.23570989), (11, 0.5918086), (15, 0.14608984)]), (195, [(11, 0.9461508), (15, 0.051086295)]), (196, [(11, 0.99605787)]), (197, [(11, 1.9929507)]), (198, [(11, 0.98637885)]), (199, [(2, 0.048318844), (11, 0.040222988), (15, 0.90635335)]), (200, [(4, 0.018987559), (11, 0.97497237)]), (201, [(2, 0.023161922), (4, 0.05876786), (11, 0.8915234), (15, 0.025906805)]), (202, [(11, 0.97892946), (15, 0.0138924485)]), (203, [(11, 0.99412)]), (204, [(11, 0.99816185)])])\n"
     ]
    }
   ],
   "source": [
    "for i, topic_list in enumerate(doc_lda):\n",
    "    if i==5:\n",
    "        break\n",
    "    print(i+1,'번째 문서의 topic 비율은',topic_list)"
   ]
  },
  {
   "cell_type": "code",
   "execution_count": 30,
   "id": "229f098c",
   "metadata": {},
   "outputs": [
    {
     "name": "stdout",
     "output_type": "stream",
     "text": [
      "<gensim.interfaces.TransformedCorpus object at 0x0000021B8E1B9340>\n"
     ]
    }
   ],
   "source": [
    "def Sort_Tuple(tup):  \n",
    "    return(sorted(tup, key = lambda x: x[1], reverse = True))   \n",
    "\n",
    "doc_number , topic_number, prob = [], [], []\n",
    "print(lda_model.get_document_topics(corpus))\n",
    "for n in range(len(df)):\n",
    "    get_document_topics = lda_model.get_document_topics(corpus[n])\n",
    "    doc_number.append(n)\n",
    "    sorted_doc_topics = Sort_Tuple(get_document_topics)\n",
    "    topic_number.append(sorted_doc_topics[0][0])\n",
    "    prob.append(sorted_doc_topics[0][1])"
   ]
  },
  {
   "cell_type": "code",
   "execution_count": 31,
   "id": "080b9952",
   "metadata": {},
   "outputs": [],
   "source": [
    "df['Doc'] = doc_number\n",
    "df['Topic'] = topic_number\n",
    "df['Probability'] = prob\n",
    "df.to_csv(\"doc_topic_matrix.csv\", index=False)"
   ]
  },
  {
   "cell_type": "code",
   "execution_count": 32,
   "id": "1d51bed7",
   "metadata": {},
   "outputs": [],
   "source": [
    "def recommend_by_title(title, df):\n",
    "\n",
    "    recommended = []\n",
    "    top10_list = []\n",
    "    \n",
    "    title = title.lower()\n",
    "    df['title'] = df['title'].str.lower()\n",
    "    #print(df['title'])\n",
    "    \n",
    "    sam = df[df['title'].str.contains(title)].sample(n=1)\n",
    "    #topic_number = df[df['title']==title].Topic.values\n",
    "    topic_number = sam.Topic.values\n",
    "    #print(topic_number)\n",
    "    #doc_number = df[df['title']==title].Doc.values\n",
    "    doc_number = sam.Doc.values\n",
    "    #print(doc_number)\n",
    "    \n",
    "    output = df[df['Topic']==topic_number[0]].sort_values('Probability', ascending=False).reset_index(drop=True)\n",
    "\n",
    "    index = output[output['Doc']==doc_number[0]].index[0]\n",
    "    \n",
    "    top10_list += list(output.iloc[index-5:index].index)\n",
    "    top10_list += list(output.iloc[index+1:index+6].index)\n",
    "    \n",
    "    output['title'] = output['title'].str.title()\n",
    "    \n",
    "    for each in top10_list:\n",
    "        recommended.append(output.iloc[each].title)\n",
    "        \n",
    "    return recommended"
   ]
  },
  {
   "cell_type": "code",
   "execution_count": 33,
   "id": "38536141",
   "metadata": {
    "scrolled": true
   },
   "outputs": [
    {
     "name": "stdout",
     "output_type": "stream",
     "text": [
      "<class 'pandas.core.frame.DataFrame'>\n",
      "Int64Index: 9863 entries, 0 to 56125\n",
      "Data columns (total 5 columns):\n",
      " #   Column       Non-Null Count  Dtype  \n",
      "---  ------       --------------  -----  \n",
      " 0   title        9863 non-null   object \n",
      " 1   overview     9863 non-null   object \n",
      " 2   Doc          9863 non-null   int64  \n",
      " 3   Topic        9863 non-null   int64  \n",
      " 4   Probability  9863 non-null   float32\n",
      "dtypes: float32(1), int64(2), object(2)\n",
      "memory usage: 423.8+ KB\n"
     ]
    }
   ],
   "source": [
    "df.info()"
   ]
  },
  {
   "cell_type": "code",
   "execution_count": 34,
   "id": "076c240d",
   "metadata": {
    "scrolled": true
   },
   "outputs": [
    {
     "data": {
      "text/plain": [
       "[\"White House: Stimulus Checks To Come This Month, But Without Biden'S Signature\",\n",
       " 'Steal This $100,000 Diamond, You Keep It',\n",
       " 'Leaving My Dog Alone With A Juicy Steak',\n",
       " 'I Transformed An Ocean Monument In Minecraft Hardcore (#38)',\n",
       " 'Tayler Does My Makeup For The First Time!',\n",
       " 'Speedrunner Mario Vs Super Sonic (Fight Scene From The 2.76M Sub Special) - Something Versus 🤼\\u200d♂️',\n",
       " 'The Dealership Lied And Sold Me An Ugly And Broken Mercedes S65 Amg...So I Made It Better Than New',\n",
       " \"When The Teacher Can'T Pronounce Your Name\",\n",
       " 'Our Generation As Parents Are Bouta Be Like',\n",
       " 'My Last Pregnancy Update On The Twins | Our Ultrasound Results']"
      ]
     },
     "execution_count": 34,
     "metadata": {},
     "output_type": "execute_result"
    }
   ],
   "source": [
    "recommend_by_title('korea', df)"
   ]
  },
  {
   "cell_type": "code",
   "execution_count": null,
   "id": "59c0fd29",
   "metadata": {},
   "outputs": [],
   "source": []
  }
 ],
 "metadata": {
  "kernelspec": {
   "display_name": "Python 3 (ipykernel)",
   "language": "python",
   "name": "python3"
  },
  "language_info": {
   "codemirror_mode": {
    "name": "ipython",
    "version": 3
   },
   "file_extension": ".py",
   "mimetype": "text/x-python",
   "name": "python",
   "nbconvert_exporter": "python",
   "pygments_lexer": "ipython3",
   "version": "3.9.13"
  }
 },
 "nbformat": 4,
 "nbformat_minor": 5
}
