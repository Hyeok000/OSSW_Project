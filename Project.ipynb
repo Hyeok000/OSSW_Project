{
 "cells": [
  {
   "cell_type": "code",
   "execution_count": 1,
   "id": "4a3cb855",
   "metadata": {},
   "outputs": [],
   "source": [
    "import pandas as pd\n",
    "import numpy as np"
   ]
  },
  {
   "cell_type": "code",
   "execution_count": 2,
   "id": "db4cc617",
   "metadata": {},
   "outputs": [
    {
     "name": "stdout",
     "output_type": "stream",
     "text": [
      "<class 'pandas.core.frame.DataFrame'>\n",
      "RangeIndex: 56191 entries, 0 to 56190\n",
      "Data columns (total 17 columns):\n",
      " #   Column             Non-Null Count  Dtype              \n",
      "---  ------             --------------  -----              \n",
      " 0   video_id           56191 non-null  object             \n",
      " 1   title              56191 non-null  object             \n",
      " 2   publishedAt        56191 non-null  datetime64[ns, UTC]\n",
      " 3   channelId          56191 non-null  object             \n",
      " 4   channelTitle       56191 non-null  object             \n",
      " 5   categoryId         56191 non-null  int64              \n",
      " 6   trending_date      56191 non-null  datetime64[ns, UTC]\n",
      " 7   tags               56191 non-null  object             \n",
      " 8   view_count         56191 non-null  int64              \n",
      " 9   likes              56191 non-null  int64              \n",
      " 10  dislikes           56191 non-null  int64              \n",
      " 11  comment_count      56191 non-null  int64              \n",
      " 12  thumbnail_link     56191 non-null  object             \n",
      " 13  comments_disabled  56191 non-null  bool               \n",
      " 14  ratings_disabled   56191 non-null  bool               \n",
      " 15  description        55701 non-null  object             \n",
      " 16  country            56191 non-null  object             \n",
      "dtypes: bool(2), datetime64[ns, UTC](2), int64(5), object(8)\n",
      "memory usage: 6.5+ MB\n"
     ]
    }
   ],
   "source": [
    "countries = ['US']#, 'KR']\n",
    "df = pd.DataFrame()\n",
    "df1 = pd.DataFrame()\n",
    "\n",
    "for c in countries:\n",
    "    path = c + '_youtube_trending_data.csv'\n",
    "    df1 = pd.read_csv(path, parse_dates=['publishedAt','trending_date'])\n",
    "    df1['country'] = c\n",
    "    df = pd.concat([df, df1])\n",
    "\n",
    "#df = pd.read_csv('KR_youtube_trending_data.csv')\n",
    "df.info()"
   ]
  },
  {
   "cell_type": "code",
   "execution_count": 3,
   "id": "ebdc07d4",
   "metadata": {},
   "outputs": [
    {
     "data": {
      "text/html": [
       "<div>\n",
       "<style scoped>\n",
       "    .dataframe tbody tr th:only-of-type {\n",
       "        vertical-align: middle;\n",
       "    }\n",
       "\n",
       "    .dataframe tbody tr th {\n",
       "        vertical-align: top;\n",
       "    }\n",
       "\n",
       "    .dataframe thead th {\n",
       "        text-align: right;\n",
       "    }\n",
       "</style>\n",
       "<table border=\"1\" class=\"dataframe\">\n",
       "  <thead>\n",
       "    <tr style=\"text-align: right;\">\n",
       "      <th></th>\n",
       "      <th>video_id</th>\n",
       "      <th>title</th>\n",
       "      <th>publishedAt</th>\n",
       "      <th>channelId</th>\n",
       "      <th>channelTitle</th>\n",
       "      <th>categoryId</th>\n",
       "      <th>trending_date</th>\n",
       "      <th>tags</th>\n",
       "      <th>view_count</th>\n",
       "      <th>likes</th>\n",
       "      <th>dislikes</th>\n",
       "      <th>comment_count</th>\n",
       "      <th>thumbnail_link</th>\n",
       "      <th>comments_disabled</th>\n",
       "      <th>ratings_disabled</th>\n",
       "      <th>description</th>\n",
       "      <th>country</th>\n",
       "    </tr>\n",
       "  </thead>\n",
       "  <tbody>\n",
       "    <tr>\n",
       "      <th>0</th>\n",
       "      <td>3C66w5Z0ixs</td>\n",
       "      <td>I ASKED HER TO BE MY GIRLFRIEND...</td>\n",
       "      <td>2020-08-11 19:20:14+00:00</td>\n",
       "      <td>UCvtRTOMP2TqYqu51xNrqAzg</td>\n",
       "      <td>Brawadis</td>\n",
       "      <td>22</td>\n",
       "      <td>2020-08-12 00:00:00+00:00</td>\n",
       "      <td>brawadis|prank|basketball|skits|ghost|funny vi...</td>\n",
       "      <td>1514614</td>\n",
       "      <td>156908</td>\n",
       "      <td>5855</td>\n",
       "      <td>35313</td>\n",
       "      <td>https://i.ytimg.com/vi/3C66w5Z0ixs/default.jpg</td>\n",
       "      <td>False</td>\n",
       "      <td>False</td>\n",
       "      <td>SUBSCRIBE to BRAWADIS ▶ http://bit.ly/Subscrib...</td>\n",
       "      <td>US</td>\n",
       "    </tr>\n",
       "    <tr>\n",
       "      <th>1</th>\n",
       "      <td>M9Pmf9AB4Mo</td>\n",
       "      <td>Apex Legends | Stories from the Outlands – “Th...</td>\n",
       "      <td>2020-08-11 17:00:10+00:00</td>\n",
       "      <td>UC0ZV6M2THA81QT9hrVWJG3A</td>\n",
       "      <td>Apex Legends</td>\n",
       "      <td>20</td>\n",
       "      <td>2020-08-12 00:00:00+00:00</td>\n",
       "      <td>Apex Legends|Apex Legends characters|new Apex ...</td>\n",
       "      <td>2381688</td>\n",
       "      <td>146739</td>\n",
       "      <td>2794</td>\n",
       "      <td>16549</td>\n",
       "      <td>https://i.ytimg.com/vi/M9Pmf9AB4Mo/default.jpg</td>\n",
       "      <td>False</td>\n",
       "      <td>False</td>\n",
       "      <td>While running her own modding shop, Ramya Pare...</td>\n",
       "      <td>US</td>\n",
       "    </tr>\n",
       "    <tr>\n",
       "      <th>2</th>\n",
       "      <td>J78aPJ3VyNs</td>\n",
       "      <td>I left youtube for a month and THIS is what ha...</td>\n",
       "      <td>2020-08-11 16:34:06+00:00</td>\n",
       "      <td>UCYzPXprvl5Y-Sf0g4vX-m6g</td>\n",
       "      <td>jacksepticeye</td>\n",
       "      <td>24</td>\n",
       "      <td>2020-08-12 00:00:00+00:00</td>\n",
       "      <td>jacksepticeye|funny|funny meme|memes|jacksepti...</td>\n",
       "      <td>2038853</td>\n",
       "      <td>353787</td>\n",
       "      <td>2628</td>\n",
       "      <td>40221</td>\n",
       "      <td>https://i.ytimg.com/vi/J78aPJ3VyNs/default.jpg</td>\n",
       "      <td>False</td>\n",
       "      <td>False</td>\n",
       "      <td>I left youtube for a month and this is what ha...</td>\n",
       "      <td>US</td>\n",
       "    </tr>\n",
       "    <tr>\n",
       "      <th>3</th>\n",
       "      <td>kXLn3HkpjaA</td>\n",
       "      <td>XXL 2020 Freshman Class Revealed - Official An...</td>\n",
       "      <td>2020-08-11 16:38:55+00:00</td>\n",
       "      <td>UCbg_UMjlHJg_19SZckaKajg</td>\n",
       "      <td>XXL</td>\n",
       "      <td>10</td>\n",
       "      <td>2020-08-12 00:00:00+00:00</td>\n",
       "      <td>xxl freshman|xxl freshmen|2020 xxl freshman|20...</td>\n",
       "      <td>496771</td>\n",
       "      <td>23251</td>\n",
       "      <td>1856</td>\n",
       "      <td>7647</td>\n",
       "      <td>https://i.ytimg.com/vi/kXLn3HkpjaA/default.jpg</td>\n",
       "      <td>False</td>\n",
       "      <td>False</td>\n",
       "      <td>Subscribe to XXL → http://bit.ly/subscribe-xxl...</td>\n",
       "      <td>US</td>\n",
       "    </tr>\n",
       "    <tr>\n",
       "      <th>4</th>\n",
       "      <td>VIUo6yapDbc</td>\n",
       "      <td>Ultimate DIY Home Movie Theater for The LaBran...</td>\n",
       "      <td>2020-08-11 15:10:05+00:00</td>\n",
       "      <td>UCDVPcEbVLQgLZX0Rt6jo34A</td>\n",
       "      <td>Mr. Kate</td>\n",
       "      <td>26</td>\n",
       "      <td>2020-08-12 00:00:00+00:00</td>\n",
       "      <td>The LaBrant Family|DIY|Interior Design|Makeove...</td>\n",
       "      <td>1123889</td>\n",
       "      <td>45802</td>\n",
       "      <td>964</td>\n",
       "      <td>2196</td>\n",
       "      <td>https://i.ytimg.com/vi/VIUo6yapDbc/default.jpg</td>\n",
       "      <td>False</td>\n",
       "      <td>False</td>\n",
       "      <td>Transforming The LaBrant Family's empty white ...</td>\n",
       "      <td>US</td>\n",
       "    </tr>\n",
       "  </tbody>\n",
       "</table>\n",
       "</div>"
      ],
      "text/plain": [
       "      video_id                                              title  \\\n",
       "0  3C66w5Z0ixs                 I ASKED HER TO BE MY GIRLFRIEND...   \n",
       "1  M9Pmf9AB4Mo  Apex Legends | Stories from the Outlands – “Th...   \n",
       "2  J78aPJ3VyNs  I left youtube for a month and THIS is what ha...   \n",
       "3  kXLn3HkpjaA  XXL 2020 Freshman Class Revealed - Official An...   \n",
       "4  VIUo6yapDbc  Ultimate DIY Home Movie Theater for The LaBran...   \n",
       "\n",
       "                publishedAt                 channelId   channelTitle  \\\n",
       "0 2020-08-11 19:20:14+00:00  UCvtRTOMP2TqYqu51xNrqAzg       Brawadis   \n",
       "1 2020-08-11 17:00:10+00:00  UC0ZV6M2THA81QT9hrVWJG3A   Apex Legends   \n",
       "2 2020-08-11 16:34:06+00:00  UCYzPXprvl5Y-Sf0g4vX-m6g  jacksepticeye   \n",
       "3 2020-08-11 16:38:55+00:00  UCbg_UMjlHJg_19SZckaKajg            XXL   \n",
       "4 2020-08-11 15:10:05+00:00  UCDVPcEbVLQgLZX0Rt6jo34A       Mr. Kate   \n",
       "\n",
       "   categoryId             trending_date  \\\n",
       "0          22 2020-08-12 00:00:00+00:00   \n",
       "1          20 2020-08-12 00:00:00+00:00   \n",
       "2          24 2020-08-12 00:00:00+00:00   \n",
       "3          10 2020-08-12 00:00:00+00:00   \n",
       "4          26 2020-08-12 00:00:00+00:00   \n",
       "\n",
       "                                                tags  view_count   likes  \\\n",
       "0  brawadis|prank|basketball|skits|ghost|funny vi...     1514614  156908   \n",
       "1  Apex Legends|Apex Legends characters|new Apex ...     2381688  146739   \n",
       "2  jacksepticeye|funny|funny meme|memes|jacksepti...     2038853  353787   \n",
       "3  xxl freshman|xxl freshmen|2020 xxl freshman|20...      496771   23251   \n",
       "4  The LaBrant Family|DIY|Interior Design|Makeove...     1123889   45802   \n",
       "\n",
       "   dislikes  comment_count                                  thumbnail_link  \\\n",
       "0      5855          35313  https://i.ytimg.com/vi/3C66w5Z0ixs/default.jpg   \n",
       "1      2794          16549  https://i.ytimg.com/vi/M9Pmf9AB4Mo/default.jpg   \n",
       "2      2628          40221  https://i.ytimg.com/vi/J78aPJ3VyNs/default.jpg   \n",
       "3      1856           7647  https://i.ytimg.com/vi/kXLn3HkpjaA/default.jpg   \n",
       "4       964           2196  https://i.ytimg.com/vi/VIUo6yapDbc/default.jpg   \n",
       "\n",
       "   comments_disabled  ratings_disabled  \\\n",
       "0              False             False   \n",
       "1              False             False   \n",
       "2              False             False   \n",
       "3              False             False   \n",
       "4              False             False   \n",
       "\n",
       "                                         description country  \n",
       "0  SUBSCRIBE to BRAWADIS ▶ http://bit.ly/Subscrib...      US  \n",
       "1  While running her own modding shop, Ramya Pare...      US  \n",
       "2  I left youtube for a month and this is what ha...      US  \n",
       "3  Subscribe to XXL → http://bit.ly/subscribe-xxl...      US  \n",
       "4  Transforming The LaBrant Family's empty white ...      US  "
      ]
     },
     "execution_count": 3,
     "metadata": {},
     "output_type": "execute_result"
    }
   ],
   "source": [
    "df.head()"
   ]
  },
  {
   "cell_type": "code",
   "execution_count": 4,
   "id": "620daf2d",
   "metadata": {},
   "outputs": [
    {
     "data": {
      "text/plain": [
       "(56191, 17)"
      ]
     },
     "execution_count": 4,
     "metadata": {},
     "output_type": "execute_result"
    }
   ],
   "source": [
    "df.shape"
   ]
  },
  {
   "cell_type": "code",
   "execution_count": 5,
   "id": "3da99dd5",
   "metadata": {},
   "outputs": [
    {
     "data": {
      "text/plain": [
       "Index(['video_id', 'title', 'publishedAt', 'channelId', 'channelTitle',\n",
       "       'categoryId', 'trending_date', 'tags', 'view_count', 'likes',\n",
       "       'dislikes', 'comment_count', 'thumbnail_link', 'comments_disabled',\n",
       "       'ratings_disabled', 'description', 'country'],\n",
       "      dtype='object')"
      ]
     },
     "execution_count": 5,
     "metadata": {},
     "output_type": "execute_result"
    }
   ],
   "source": [
    "df.columns"
   ]
  },
  {
   "cell_type": "code",
   "execution_count": 6,
   "id": "d3916b60",
   "metadata": {},
   "outputs": [],
   "source": [
    "df = df.drop(columns=['video_id', 'publishedAt', 'channelId',\n",
    "       'categoryId', 'trending_date', 'view_count', 'likes',\n",
    "       'dislikes', 'comment_count', 'thumbnail_link', 'comments_disabled',\n",
    "       'ratings_disabled'])"
   ]
  },
  {
   "cell_type": "code",
   "execution_count": 7,
   "id": "750168d1",
   "metadata": {},
   "outputs": [
    {
     "data": {
      "text/plain": [
       "Index(['title', 'channelTitle', 'tags', 'description', 'country'], dtype='object')"
      ]
     },
     "execution_count": 7,
     "metadata": {},
     "output_type": "execute_result"
    }
   ],
   "source": [
    "df.columns"
   ]
  },
  {
   "cell_type": "code",
   "execution_count": 8,
   "id": "311253bb",
   "metadata": {},
   "outputs": [
    {
     "name": "stdout",
     "output_type": "stream",
     "text": [
      "<class 'pandas.core.frame.DataFrame'>\n",
      "RangeIndex: 56191 entries, 0 to 56190\n",
      "Data columns (total 5 columns):\n",
      " #   Column        Non-Null Count  Dtype \n",
      "---  ------        --------------  ----- \n",
      " 0   title         56191 non-null  object\n",
      " 1   channelTitle  56191 non-null  object\n",
      " 2   tags          56191 non-null  object\n",
      " 3   description   55701 non-null  object\n",
      " 4   country       56191 non-null  object\n",
      "dtypes: object(5)\n",
      "memory usage: 2.1+ MB\n"
     ]
    }
   ],
   "source": [
    "df.info()"
   ]
  },
  {
   "cell_type": "code",
   "execution_count": 9,
   "id": "207c8ff7",
   "metadata": {},
   "outputs": [
    {
     "data": {
      "text/plain": [
       "title             0\n",
       "channelTitle      0\n",
       "tags              0\n",
       "description     490\n",
       "country           0\n",
       "dtype: int64"
      ]
     },
     "execution_count": 9,
     "metadata": {},
     "output_type": "execute_result"
    }
   ],
   "source": [
    "df.isnull().sum()"
   ]
  },
  {
   "cell_type": "code",
   "execution_count": 10,
   "id": "1e2c9fdf",
   "metadata": {},
   "outputs": [],
   "source": [
    "df = df.drop_duplicates(subset='title', keep=\"first\")"
   ]
  },
  {
   "cell_type": "code",
   "execution_count": 11,
   "id": "34bc6c18",
   "metadata": {},
   "outputs": [
    {
     "name": "stdout",
     "output_type": "stream",
     "text": [
      "<class 'pandas.core.frame.DataFrame'>\n",
      "Int64Index: 9863 entries, 0 to 56125\n",
      "Data columns (total 5 columns):\n",
      " #   Column        Non-Null Count  Dtype \n",
      "---  ------        --------------  ----- \n",
      " 0   title         9863 non-null   object\n",
      " 1   channelTitle  9863 non-null   object\n",
      " 2   tags          9863 non-null   object\n",
      " 3   description   9774 non-null   object\n",
      " 4   country       9863 non-null   object\n",
      "dtypes: object(5)\n",
      "memory usage: 462.3+ KB\n"
     ]
    }
   ],
   "source": [
    "df.info()"
   ]
  },
  {
   "cell_type": "code",
   "execution_count": 12,
   "id": "fb2fc0cc",
   "metadata": {},
   "outputs": [
    {
     "data": {
      "text/plain": [
       "title            0\n",
       "channelTitle     0\n",
       "tags             0\n",
       "description     89\n",
       "country          0\n",
       "dtype: int64"
      ]
     },
     "execution_count": 12,
     "metadata": {},
     "output_type": "execute_result"
    }
   ],
   "source": [
    "df.isnull().sum()"
   ]
  },
  {
   "cell_type": "code",
   "execution_count": 13,
   "id": "247aab4a",
   "metadata": {},
   "outputs": [],
   "source": [
    "df = df.fillna('')"
   ]
  },
  {
   "cell_type": "code",
   "execution_count": 14,
   "id": "0663a82c",
   "metadata": {},
   "outputs": [
    {
     "data": {
      "text/plain": [
       "title           0\n",
       "channelTitle    0\n",
       "tags            0\n",
       "description     0\n",
       "country         0\n",
       "dtype: int64"
      ]
     },
     "execution_count": 14,
     "metadata": {},
     "output_type": "execute_result"
    }
   ],
   "source": [
    "df.isnull().sum()"
   ]
  },
  {
   "cell_type": "code",
   "execution_count": 15,
   "id": "ad2d1bc0",
   "metadata": {},
   "outputs": [
    {
     "name": "stdout",
     "output_type": "stream",
     "text": [
      "<class 'pandas.core.frame.DataFrame'>\n",
      "Int64Index: 9863 entries, 0 to 56125\n",
      "Data columns (total 5 columns):\n",
      " #   Column        Non-Null Count  Dtype \n",
      "---  ------        --------------  ----- \n",
      " 0   title         9863 non-null   object\n",
      " 1   channelTitle  9863 non-null   object\n",
      " 2   tags          9863 non-null   object\n",
      " 3   description   9863 non-null   object\n",
      " 4   country       9863 non-null   object\n",
      "dtypes: object(5)\n",
      "memory usage: 462.3+ KB\n"
     ]
    }
   ],
   "source": [
    "df.info()"
   ]
  },
  {
   "cell_type": "code",
   "execution_count": 16,
   "id": "5ab9dc1c",
   "metadata": {},
   "outputs": [],
   "source": [
    "df['overview'] = df['channelTitle']+\" \"+ df['tags']+\" \"+df['description']"
   ]
  },
  {
   "cell_type": "code",
   "execution_count": 17,
   "id": "74479187",
   "metadata": {},
   "outputs": [
    {
     "data": {
      "text/html": [
       "<div>\n",
       "<style scoped>\n",
       "    .dataframe tbody tr th:only-of-type {\n",
       "        vertical-align: middle;\n",
       "    }\n",
       "\n",
       "    .dataframe tbody tr th {\n",
       "        vertical-align: top;\n",
       "    }\n",
       "\n",
       "    .dataframe thead th {\n",
       "        text-align: right;\n",
       "    }\n",
       "</style>\n",
       "<table border=\"1\" class=\"dataframe\">\n",
       "  <thead>\n",
       "    <tr style=\"text-align: right;\">\n",
       "      <th></th>\n",
       "      <th>title</th>\n",
       "      <th>channelTitle</th>\n",
       "      <th>tags</th>\n",
       "      <th>description</th>\n",
       "      <th>country</th>\n",
       "      <th>overview</th>\n",
       "    </tr>\n",
       "  </thead>\n",
       "  <tbody>\n",
       "    <tr>\n",
       "      <th>0</th>\n",
       "      <td>I ASKED HER TO BE MY GIRLFRIEND...</td>\n",
       "      <td>Brawadis</td>\n",
       "      <td>brawadis|prank|basketball|skits|ghost|funny vi...</td>\n",
       "      <td>SUBSCRIBE to BRAWADIS ▶ http://bit.ly/Subscrib...</td>\n",
       "      <td>US</td>\n",
       "      <td>Brawadis brawadis|prank|basketball|skits|ghost...</td>\n",
       "    </tr>\n",
       "    <tr>\n",
       "      <th>1</th>\n",
       "      <td>Apex Legends | Stories from the Outlands – “Th...</td>\n",
       "      <td>Apex Legends</td>\n",
       "      <td>Apex Legends|Apex Legends characters|new Apex ...</td>\n",
       "      <td>While running her own modding shop, Ramya Pare...</td>\n",
       "      <td>US</td>\n",
       "      <td>Apex Legends Apex Legends|Apex Legends charact...</td>\n",
       "    </tr>\n",
       "    <tr>\n",
       "      <th>2</th>\n",
       "      <td>I left youtube for a month and THIS is what ha...</td>\n",
       "      <td>jacksepticeye</td>\n",
       "      <td>jacksepticeye|funny|funny meme|memes|jacksepti...</td>\n",
       "      <td>I left youtube for a month and this is what ha...</td>\n",
       "      <td>US</td>\n",
       "      <td>jacksepticeye jacksepticeye|funny|funny meme|m...</td>\n",
       "    </tr>\n",
       "    <tr>\n",
       "      <th>3</th>\n",
       "      <td>XXL 2020 Freshman Class Revealed - Official An...</td>\n",
       "      <td>XXL</td>\n",
       "      <td>xxl freshman|xxl freshmen|2020 xxl freshman|20...</td>\n",
       "      <td>Subscribe to XXL → http://bit.ly/subscribe-xxl...</td>\n",
       "      <td>US</td>\n",
       "      <td>XXL xxl freshman|xxl freshmen|2020 xxl freshma...</td>\n",
       "    </tr>\n",
       "    <tr>\n",
       "      <th>4</th>\n",
       "      <td>Ultimate DIY Home Movie Theater for The LaBran...</td>\n",
       "      <td>Mr. Kate</td>\n",
       "      <td>The LaBrant Family|DIY|Interior Design|Makeove...</td>\n",
       "      <td>Transforming The LaBrant Family's empty white ...</td>\n",
       "      <td>US</td>\n",
       "      <td>Mr. Kate The LaBrant Family|DIY|Interior Desig...</td>\n",
       "    </tr>\n",
       "  </tbody>\n",
       "</table>\n",
       "</div>"
      ],
      "text/plain": [
       "                                               title   channelTitle  \\\n",
       "0                 I ASKED HER TO BE MY GIRLFRIEND...       Brawadis   \n",
       "1  Apex Legends | Stories from the Outlands – “Th...   Apex Legends   \n",
       "2  I left youtube for a month and THIS is what ha...  jacksepticeye   \n",
       "3  XXL 2020 Freshman Class Revealed - Official An...            XXL   \n",
       "4  Ultimate DIY Home Movie Theater for The LaBran...       Mr. Kate   \n",
       "\n",
       "                                                tags  \\\n",
       "0  brawadis|prank|basketball|skits|ghost|funny vi...   \n",
       "1  Apex Legends|Apex Legends characters|new Apex ...   \n",
       "2  jacksepticeye|funny|funny meme|memes|jacksepti...   \n",
       "3  xxl freshman|xxl freshmen|2020 xxl freshman|20...   \n",
       "4  The LaBrant Family|DIY|Interior Design|Makeove...   \n",
       "\n",
       "                                         description country  \\\n",
       "0  SUBSCRIBE to BRAWADIS ▶ http://bit.ly/Subscrib...      US   \n",
       "1  While running her own modding shop, Ramya Pare...      US   \n",
       "2  I left youtube for a month and this is what ha...      US   \n",
       "3  Subscribe to XXL → http://bit.ly/subscribe-xxl...      US   \n",
       "4  Transforming The LaBrant Family's empty white ...      US   \n",
       "\n",
       "                                            overview  \n",
       "0  Brawadis brawadis|prank|basketball|skits|ghost...  \n",
       "1  Apex Legends Apex Legends|Apex Legends charact...  \n",
       "2  jacksepticeye jacksepticeye|funny|funny meme|m...  \n",
       "3  XXL xxl freshman|xxl freshmen|2020 xxl freshma...  \n",
       "4  Mr. Kate The LaBrant Family|DIY|Interior Desig...  "
      ]
     },
     "execution_count": 17,
     "metadata": {},
     "output_type": "execute_result"
    }
   ],
   "source": [
    "df.head()"
   ]
  },
  {
   "cell_type": "code",
   "execution_count": 18,
   "id": "a1fd7647",
   "metadata": {},
   "outputs": [
    {
     "data": {
      "text/html": [
       "<div>\n",
       "<style scoped>\n",
       "    .dataframe tbody tr th:only-of-type {\n",
       "        vertical-align: middle;\n",
       "    }\n",
       "\n",
       "    .dataframe tbody tr th {\n",
       "        vertical-align: top;\n",
       "    }\n",
       "\n",
       "    .dataframe thead th {\n",
       "        text-align: right;\n",
       "    }\n",
       "</style>\n",
       "<table border=\"1\" class=\"dataframe\">\n",
       "  <thead>\n",
       "    <tr style=\"text-align: right;\">\n",
       "      <th></th>\n",
       "      <th>title</th>\n",
       "      <th>country</th>\n",
       "      <th>overview</th>\n",
       "    </tr>\n",
       "  </thead>\n",
       "  <tbody>\n",
       "    <tr>\n",
       "      <th>0</th>\n",
       "      <td>I ASKED HER TO BE MY GIRLFRIEND...</td>\n",
       "      <td>US</td>\n",
       "      <td>Brawadis brawadis|prank|basketball|skits|ghost...</td>\n",
       "    </tr>\n",
       "    <tr>\n",
       "      <th>1</th>\n",
       "      <td>Apex Legends | Stories from the Outlands – “Th...</td>\n",
       "      <td>US</td>\n",
       "      <td>Apex Legends Apex Legends|Apex Legends charact...</td>\n",
       "    </tr>\n",
       "    <tr>\n",
       "      <th>2</th>\n",
       "      <td>I left youtube for a month and THIS is what ha...</td>\n",
       "      <td>US</td>\n",
       "      <td>jacksepticeye jacksepticeye|funny|funny meme|m...</td>\n",
       "    </tr>\n",
       "    <tr>\n",
       "      <th>3</th>\n",
       "      <td>XXL 2020 Freshman Class Revealed - Official An...</td>\n",
       "      <td>US</td>\n",
       "      <td>XXL xxl freshman|xxl freshmen|2020 xxl freshma...</td>\n",
       "    </tr>\n",
       "    <tr>\n",
       "      <th>4</th>\n",
       "      <td>Ultimate DIY Home Movie Theater for The LaBran...</td>\n",
       "      <td>US</td>\n",
       "      <td>Mr. Kate The LaBrant Family|DIY|Interior Desig...</td>\n",
       "    </tr>\n",
       "  </tbody>\n",
       "</table>\n",
       "</div>"
      ],
      "text/plain": [
       "                                               title country  \\\n",
       "0                 I ASKED HER TO BE MY GIRLFRIEND...      US   \n",
       "1  Apex Legends | Stories from the Outlands – “Th...      US   \n",
       "2  I left youtube for a month and THIS is what ha...      US   \n",
       "3  XXL 2020 Freshman Class Revealed - Official An...      US   \n",
       "4  Ultimate DIY Home Movie Theater for The LaBran...      US   \n",
       "\n",
       "                                            overview  \n",
       "0  Brawadis brawadis|prank|basketball|skits|ghost...  \n",
       "1  Apex Legends Apex Legends|Apex Legends charact...  \n",
       "2  jacksepticeye jacksepticeye|funny|funny meme|m...  \n",
       "3  XXL xxl freshman|xxl freshmen|2020 xxl freshma...  \n",
       "4  Mr. Kate The LaBrant Family|DIY|Interior Desig...  "
      ]
     },
     "execution_count": 18,
     "metadata": {},
     "output_type": "execute_result"
    }
   ],
   "source": [
    "df.drop(columns=['channelTitle', 'tags', 'description'], inplace=True)\n",
    "df.head()"
   ]
  },
  {
   "cell_type": "code",
   "execution_count": 19,
   "id": "cf767d30",
   "metadata": {},
   "outputs": [
    {
     "name": "stderr",
     "output_type": "stream",
     "text": [
      "C:\\Users\\hyok0\\anaconda3\\lib\\site-packages\\past\\builtins\\misc.py:45: DeprecationWarning: the imp module is deprecated in favour of importlib; see the module's documentation for alternative uses\n",
      "  from imp import reload\n"
     ]
    }
   ],
   "source": [
    "import warnings\n",
    "warnings.filterwarnings(\"ignore\")\n",
    "\n",
    "# Importing modules\n",
    "import pandas as pd\n",
    "import numpy as np\n",
    "import os\n",
    "import re\n",
    "\n",
    "# LDA Model\n",
    "import gensim\n",
    "from gensim.utils import simple_preprocess\n",
    "import gensim.corpora as corpora\n",
    "from pprint import pprint\n",
    "from gensim.models import CoherenceModel\n",
    "import spacy\n",
    "from nltk.corpus import stopwords\n",
    "\n",
    "# Import the wordcloud library\n",
    "from wordcloud import WordCloud\n",
    "#!pip install pyLDAvis\n",
    "#!python -m spacy download en\n",
    "\n",
    "# Visualize the topics\n",
    "import pyLDAvis\n",
    "import pyLDAvis.gensim_models\n",
    "import pickle \n",
    "import pyLDAvis"
   ]
  },
  {
   "cell_type": "code",
   "execution_count": 20,
   "id": "f5018c6c",
   "metadata": {},
   "outputs": [],
   "source": [
    "# Remove Non-english words\n",
    "\n",
    "df['overview']= df['overview'].map(lambda x: re.sub('([^\\x00-\\x7F])+ ','', x))\n",
    "\n",
    "# Tokenization\n",
    "def sentence_to_words(sentences):\n",
    " for sentence in sentences:\n",
    "  yield(gensim.utils.simple_preprocess(str(sentence), deacc=True)) # deacc=True removes punctuations and special characters\n",
    "\n",
    "all_words = list(sentence_to_words(df['overview']))\n",
    "\n",
    "\n",
    "# remove stopwords\n",
    "import nltk\n",
    "#nltk.download('stopwords')\n",
    "\n",
    "stop_words = stopwords.words('english')\n",
    "\n",
    "# stop_words.extend(['']) #extend existing stop word list if needed\n",
    "def remove_stopwords(texts):\n",
    " return [[word for word in simple_preprocess(str(doc)) if word not in stop_words] for doc in texts]\n",
    "\n",
    "\n",
    "# Building  the bigram \n",
    "bigram = gensim.models.Phrases(all_words, min_count=5, threshold=10) \n",
    "\n",
    "bigram_mod = gensim.models.phrases.Phraser(bigram)\n",
    "def create_bigrams(texts):\n",
    " return [bigram_mod[doc] for doc in texts]\n",
    "\n",
    "# Lemmatization\n",
    "def lemmatization(texts, allowed_postags=['NOUN', 'ADJ', 'VERB', 'ADV']):\n",
    " texts_out = []\n",
    " for sent in texts:\n",
    "  doc = nlp(\" \".join(sent)) \n",
    "  texts_out.append([token.lemma_ for token in doc if token.pos_ in allowed_postags])\n",
    " return texts_out"
   ]
  },
  {
   "cell_type": "code",
   "execution_count": 21,
   "id": "1d023aa8",
   "metadata": {},
   "outputs": [
    {
     "name": "stdout",
     "output_type": "stream",
     "text": [
      "[['brawadis_brawadi', 'prank', 'basketball_skit', 'ghost', 'funny_video', 'vlog_vlogge', 'brother_mama', 'rug', 'subscribe', 'brawadi', 'http_bit', 'ly', 'follow', 'social', 'twitter', 'https', 'www_instagram', 'com', 'brandon_awadi', 'make', 'dope_vlog', 'pranks_reaction', 'challenge', 'basketball', 'video', 'forget', 'subscribe', 'come', 'part', 'brawadsquad']]\n"
     ]
    }
   ],
   "source": [
    "all_words_nostops = remove_stopwords(all_words)\n",
    "all_words_bigrams = create_bigrams(all_words_nostops)\n",
    "nlp = spacy.load(\"en_core_web_sm\", disable=['parser', 'ner'])\n",
    "data_lemmatized = lemmatization(all_words_bigrams, allowed_postags=['NOUN', 'ADJ', 'VERB', 'ADV'])\n",
    "print(data_lemmatized[:1])"
   ]
  },
  {
   "cell_type": "code",
   "execution_count": 22,
   "id": "885d82ec",
   "metadata": {},
   "outputs": [],
   "source": [
    "# Create Dictionary\n",
    "id2word = corpora.Dictionary(data_lemmatized)\n",
    "\n",
    "# Filter out tokens that appear in only 1 documents and appear in more than 90% of the documents\n",
    "id2word.filter_extremes(no_below=2, no_above=0.9)\n",
    "\n",
    "# Create Corpus\n",
    "texts = data_lemmatized\n",
    "\n",
    "# Term Document Frequency\n",
    "corpus = [id2word.doc2bow(text) for text in texts]"
   ]
  },
  {
   "cell_type": "code",
   "execution_count": 23,
   "id": "5a9766ce",
   "metadata": {},
   "outputs": [],
   "source": [
    "# Building LDA model for 10 topics\n",
    "lda_model = gensim.models.LdaMulticore(corpus=corpus,\n",
    "                                       id2word=id2word,\n",
    "                                       num_topics=19, \n",
    "                                       random_state=100,\n",
    "                                       chunksize=100,\n",
    "                                       passes=10,\n",
    "                                       per_word_topics=True)"
   ]
  },
  {
   "cell_type": "code",
   "execution_count": 24,
   "id": "f9b880dd",
   "metadata": {
    "scrolled": true
   },
   "outputs": [
    {
     "name": "stdout",
     "output_type": "stream",
     "text": [
      "[(0,\n",
      "  '0.037*\"com\" + 0.034*\"highlight\" + 0.027*\"http\" + 0.027*\"https\" + '\n",
      "  '0.021*\"youtube\" + 0.017*\"game\" + 0.014*\"twitter\" + 0.013*\"among_us\" + '\n",
      "  '0.012*\"subscribe\" + 0.012*\"channel\"'),\n",
      " (1,\n",
      "  '0.012*\"song\" + 0.011*\"make\" + 0.011*\"video\" + 0.010*\"com\" + 0.009*\"get\" + '\n",
      "  '0.009*\"https\" + 0.008*\"new\" + 0.008*\"top\" + 0.008*\"music\" + 0.007*\"good\"'),\n",
      " (2,\n",
      "  '0.039*\"com\" + 0.027*\"https\" + 0.021*\"video\" + 0.010*\"review\" + 0.010*\"car\" '\n",
      "  '+ 0.008*\"new\" + 0.007*\"use\" + 0.006*\"youtube\" + 0.006*\"http\" + '\n",
      "  '0.005*\"twitter\"'),\n",
      " (3,\n",
      "  '0.041*\"get\" + 0.022*\"know\" + 0.018*\"go\" + 0.014*\"say\" + 0.012*\"see\" + '\n",
      "  '0.012*\"https\" + 0.010*\"make\" + 0.010*\"want\" + 0.010*\"love\" + 0.009*\"com\"'),\n",
      " (4,\n",
      "  '0.030*\"com\" + 0.021*\"https\" + 0.013*\"new\" + 0.012*\"game\" + 0.011*\"trailer\" '\n",
      "  '+ 0.010*\"video\" + 0.009*\"watch\" + 0.006*\"film\" + 0.006*\"com_playlist\" + '\n",
      "  '0.005*\"channel\"'),\n",
      " (5,\n",
      "  '0.042*\"com\" + 0.036*\"https\" + 0.016*\"fortnite\" + 0.013*\"www\" + 0.013*\"mod\" '\n",
      "  '+ 0.013*\"http\" + 0.010*\"sport\" + 0.009*\"nbcsport\" + 0.008*\"video\" + '\n",
      "  '0.008*\"http_bit\"'),\n",
      " (6,\n",
      "  '0.028*\"com\" + 0.011*\"https\" + 0.010*\"video\" + 0.010*\"new\" + 0.009*\"keep\" + '\n",
      "  '0.008*\"history\" + 0.007*\"http\" + 0.006*\"http_bit\" + 0.006*\"gordon_ramsay\" + '\n",
      "  '0.006*\"use\"'),\n",
      " (7,\n",
      "  '0.020*\"https\" + 0.016*\"music\" + 0.013*\"com\" + 0.012*\"video\" + '\n",
      "  '0.012*\"smarturl\" + 0.011*\"perform\" + 0.010*\"https_smo\" + 0.009*\"sh_sub\" + '\n",
      "  '0.008*\"entertainment\" + 0.008*\"album\"'),\n",
      " (8,\n",
      "  '0.016*\"link\" + 0.014*\"https\" + 0.013*\"video\" + 0.011*\"com\" + 0.011*\"new\" + '\n",
      "  '0.010*\"boss\" + 0.009*\"make\" + 0.008*\"golf\" + 0.007*\"help\" + 0.007*\"work\"'),\n",
      " (9,\n",
      "  '0.149*\"com\" + 0.099*\"https\" + 0.027*\"twitter\" + 0.017*\"www\" + 0.017*\"http\" '\n",
      "  '+ 0.016*\"video\" + 0.015*\"www_facebook\" + 0.012*\"www_instagram\" + '\n",
      "  '0.011*\"channel\" + 0.011*\"music\"'),\n",
      " (10,\n",
      "  '0.011*\"com\" + 0.009*\"https\" + 0.008*\"dog\" + 0.006*\"holiday\" + 0.006*\"clash\" '\n",
      "  '+ 0.006*\"take\" + 0.006*\"love\" + 0.006*\"time\" + 0.006*\"video\" + '\n",
      "  '0.005*\"come\"'),\n",
      " (11,\n",
      "  '0.080*\"com\" + 0.051*\"https\" + 0.013*\"video\" + 0.012*\"watch\" + '\n",
      "  '0.010*\"twitter\" + 0.010*\"challenge\" + 0.009*\"tiktok\" + 0.008*\"http\" + '\n",
      "  '0.008*\"www\" + 0.007*\"www_facebook\"'),\n",
      " (12,\n",
      "  '0.062*\"http_bit\" + 0.051*\"ly\" + 0.020*\"https\" + 0.016*\"com\" + '\n",
      "  '0.012*\"subscribe\" + 0.012*\"dude_perfect\" + 0.011*\"video\" + 0.009*\"watch\" + '\n",
      "  '0.008*\"episode\" + 0.008*\"game\"'),\n",
      " (13,\n",
      "  '0.040*\"com\" + 0.023*\"http\" + 0.016*\"http_bit\" + 0.012*\"saturday_night\" + '\n",
      "  '0.011*\"award\" + 0.011*\"live\" + 0.011*\"video\" + 0.010*\"ly\" + 0.010*\"https\" + '\n",
      "  '0.009*\"watch\"'),\n",
      " (14,\n",
      "  '0.017*\"none\" + 0.011*\"network\" + 0.011*\"take\" + 0.011*\"rocket_league\" + '\n",
      "  '0.010*\"week\" + 0.009*\"highlight\" + 0.009*\"play_play\" + 0.009*\"podcast\" + '\n",
      "  '0.009*\"https\" + 0.008*\"cbs_new\"'),\n",
      " (15,\n",
      "  '0.021*\"new\" + 0.021*\"https\" + 0.017*\"game\" + 0.015*\"apex_legend\" + '\n",
      "  '0.015*\"com\" + 0.008*\"dead\" + 0.008*\"iphone\" + 0.008*\"apple\" + 0.007*\"io\" + '\n",
      "  '0.007*\"daylight\"'),\n",
      " (16,\n",
      "  '0.023*\"com\" + 0.013*\"friend\" + 0.011*\"marvel\" + 0.009*\"taylor_swift\" + '\n",
      "  '0.009*\"https\" + 0.007*\"new\" + 0.006*\"pizza\" + 0.006*\"video\" + '\n",
      "  '0.005*\"twitter\" + 0.005*\"subscribe\"'),\n",
      " (17,\n",
      "  '0.041*\"minecraft\" + 0.024*\"com\" + 0.018*\"https\" + 0.016*\"video\" + '\n",
      "  '0.011*\"http_bit\" + 0.010*\"recipe\" + 0.010*\"make\" + 0.009*\"twitter\" + '\n",
      "  '0.007*\"challenge\" + 0.007*\"voice\"'),\n",
      " (18,\n",
      "  '0.036*\"news\" + 0.030*\"com\" + 0.015*\"video\" + 0.014*\"https\" + 0.013*\"http\" + '\n",
      "  '0.009*\"people\" + 0.008*\"live\" + 0.008*\"today\" + 0.007*\"story\" + '\n",
      "  '0.006*\"subscribe\"')]\n"
     ]
    }
   ],
   "source": [
    "# Printing the Keywords in the 10 topics\n",
    "pprint(lda_model.print_topics())\n",
    "doc_lda = lda_model[corpus]"
   ]
  },
  {
   "cell_type": "code",
   "execution_count": 32,
   "id": "5dcc6979",
   "metadata": {},
   "outputs": [
    {
     "name": "stdout",
     "output_type": "stream",
     "text": [
      "1 번째 문서의 topic 비율은 [(12, 0.9694318)]\n",
      "2 번째 문서의 topic 비율은 [(15, 0.9862673)]\n",
      "3 번째 문서의 topic 비율은 [(9, 0.9353451), (17, 0.049731717)]\n",
      "4 번째 문서의 topic 비율은 [(2, 0.30563655), (7, 0.16285022), (11, 0.38882706), (15, 0.122395545)]\n",
      "5 번째 문서의 topic 비율은 [(2, 0.024767326), (4, 0.035180543), (5, 0.013749123), (11, 0.884787), (15, 0.03613027)]\n"
     ]
    }
   ],
   "source": [
    "for i, topic_list in enumerate(doc_lda):\n",
    "    if i==5:\n",
    "        break\n",
    "    print(i+1,'번째 문서의 topic 비율은',topic_list)"
   ]
  },
  {
   "cell_type": "code",
   "execution_count": 25,
   "id": "7283ee59",
   "metadata": {},
   "outputs": [
    {
     "name": "stdout",
     "output_type": "stream",
     "text": [
      "<gensim.interfaces.TransformedCorpus object at 0x000001CCF44F0CA0>\n"
     ]
    }
   ],
   "source": [
    "def Sort_Tuple(tup):  \n",
    "    return(sorted(tup, key = lambda x: x[1], reverse = True))   \n",
    "\n",
    "doc_number , topic_number, prob = [], [], []\n",
    "print(lda_model.get_document_topics(corpus))\n",
    "for n in range(len(df)):\n",
    "    get_document_topics = lda_model.get_document_topics(corpus[n])\n",
    "    doc_number.append(n)\n",
    "    sorted_doc_topics = Sort_Tuple(get_document_topics)\n",
    "    topic_number.append(sorted_doc_topics[0][0])\n",
    "    prob.append(sorted_doc_topics[0][1])"
   ]
  },
  {
   "cell_type": "code",
   "execution_count": 26,
   "id": "507ac24d",
   "metadata": {},
   "outputs": [],
   "source": [
    "df['Doc'] = doc_number\n",
    "df['Topic'] = topic_number\n",
    "df['Probability'] = prob\n",
    "df.to_csv(\"doc_topic_matrix.csv\", index=False)"
   ]
  },
  {
   "cell_type": "code",
   "execution_count": 27,
   "id": "0b39bf44",
   "metadata": {},
   "outputs": [],
   "source": [
    "def recommend_by_title(title, df):\n",
    "\n",
    "    recommended = []\n",
    "    top10_list = []\n",
    "    \n",
    "    title = title.lower()\n",
    "    df['title'] = df['title'].str.lower()\n",
    "    #print(df['title'])\n",
    "    \n",
    "    sam = df[df['title'].str.contains(title)].sample(n=1)\n",
    "    #topic_number = df[df['title']==title].Topic.values\n",
    "    topic_number = sam.Topic.values\n",
    "    #print(topic_number)\n",
    "    #doc_number = df[df['title']==title].Doc.values\n",
    "    doc_number = sam.Doc.values\n",
    "    #print(doc_number)\n",
    "    \n",
    "    output = df[df['Topic']==topic_number[0]].sort_values('Probability', ascending=False).reset_index(drop=True)\n",
    "\n",
    "    index = output[output['Doc']==doc_number[0]].index[0]\n",
    "    \n",
    "    top10_list += list(output.iloc[index-5:index].index)\n",
    "    top10_list += list(output.iloc[index+1:index+6].index)\n",
    "    \n",
    "    output['title'] = output['title'].str.title()\n",
    "    \n",
    "    for each in top10_list:\n",
    "        recommended.append(output.iloc[each].title)\n",
    "        \n",
    "    return recommended"
   ]
  },
  {
   "cell_type": "code",
   "execution_count": 28,
   "id": "3983d3a1",
   "metadata": {
    "scrolled": true
   },
   "outputs": [
    {
     "name": "stdout",
     "output_type": "stream",
     "text": [
      "<class 'pandas.core.frame.DataFrame'>\n",
      "Int64Index: 9863 entries, 0 to 56125\n",
      "Data columns (total 6 columns):\n",
      " #   Column       Non-Null Count  Dtype  \n",
      "---  ------       --------------  -----  \n",
      " 0   title        9863 non-null   object \n",
      " 1   country      9863 non-null   object \n",
      " 2   overview     9863 non-null   object \n",
      " 3   Doc          9863 non-null   int64  \n",
      " 4   Topic        9863 non-null   int64  \n",
      " 5   Probability  9863 non-null   float32\n",
      "dtypes: float32(1), int64(2), object(3)\n",
      "memory usage: 500.9+ KB\n"
     ]
    }
   ],
   "source": [
    "df.info()"
   ]
  },
  {
   "cell_type": "code",
   "execution_count": 29,
   "id": "886cf6f8",
   "metadata": {
    "scrolled": true
   },
   "outputs": [
    {
     "data": {
      "text/plain": [
       "['Thank You, Pewdiepie X',\n",
       " 'Montero But Ur In The Bathroom Of Hell While Lil Nas Is Giving Satan A Lap Dance In The Other Room',\n",
       " 'Doja Cat - Hot Pink Sessions: Streets (Look 1)',\n",
       " 'Fnaf - Count The Ways Song Lyric Video - Dawko & Dheusta',\n",
       " \"Big Scarr Covers Gucci Mane'S Hit Song Big Boy Diamonds I 17 Bars\",\n",
       " 'What If You Become Invisible For 24 Hours?',\n",
       " 'Stardew Valley: The Board Game',\n",
       " \"I'M A Mobile Game\",\n",
       " 'Fernando TatíS Jr  Peeks At The Sign Before Hitting A Homer, A Breakdown',\n",
       " 'Colin Furze Stuff']"
      ]
     },
     "execution_count": 29,
     "metadata": {},
     "output_type": "execute_result"
    }
   ],
   "source": [
    "recommend_by_title('korea', df)"
   ]
  },
  {
   "cell_type": "code",
   "execution_count": null,
   "id": "5391d823",
   "metadata": {},
   "outputs": [],
   "source": []
  }
 ],
 "metadata": {
  "kernelspec": {
   "display_name": "Python 3 (ipykernel)",
   "language": "python",
   "name": "python3"
  },
  "language_info": {
   "codemirror_mode": {
    "name": "ipython",
    "version": 3
   },
   "file_extension": ".py",
   "mimetype": "text/x-python",
   "name": "python",
   "nbconvert_exporter": "python",
   "pygments_lexer": "ipython3",
   "version": "3.9.13"
  }
 },
 "nbformat": 4,
 "nbformat_minor": 5
}
