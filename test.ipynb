{
 "cells": [
  {
   "cell_type": "code",
   "execution_count": 68,
   "id": "d6b2aaa5",
   "metadata": {},
   "outputs": [],
   "source": [
    "import numpy as np\n",
    "import pandas as pd\n",
    "import matplotlib.pyplot as plt\n",
    "import seaborn as sns\n",
    "import datetime"
   ]
  },
  {
   "cell_type": "code",
   "execution_count": 69,
   "id": "8963db35",
   "metadata": {},
   "outputs": [
    {
     "data": {
      "text/plain": [
       "(53154, 17)"
      ]
     },
     "execution_count": 69,
     "metadata": {},
     "output_type": "execute_result"
    }
   ],
   "source": [
    "countries = ['KR']\n",
    "df = pd.DataFrame()\n",
    "df1 = pd.DataFrame()\n",
    "\n",
    "for c in countries:\n",
    "    path = c + '_youtube_trending_data.csv'\n",
    "    df1 = pd.read_csv(path, parse_dates=['publishedAt','trending_date'])\n",
    "    df1['country'] = c\n",
    "    df = pd.concat([df, df1])\n",
    "\n",
    "df.shape"
   ]
  },
  {
   "cell_type": "code",
   "execution_count": 70,
   "id": "a388995f",
   "metadata": {},
   "outputs": [
    {
     "data": {
      "text/html": [
       "<div>\n",
       "<style scoped>\n",
       "    .dataframe tbody tr th:only-of-type {\n",
       "        vertical-align: middle;\n",
       "    }\n",
       "\n",
       "    .dataframe tbody tr th {\n",
       "        vertical-align: top;\n",
       "    }\n",
       "\n",
       "    .dataframe thead th {\n",
       "        text-align: right;\n",
       "    }\n",
       "</style>\n",
       "<table border=\"1\" class=\"dataframe\">\n",
       "  <thead>\n",
       "    <tr style=\"text-align: right;\">\n",
       "      <th></th>\n",
       "      <th>video_id</th>\n",
       "      <th>title</th>\n",
       "      <th>publishedAt</th>\n",
       "      <th>channelId</th>\n",
       "      <th>channelTitle</th>\n",
       "      <th>categoryId</th>\n",
       "      <th>trending_date</th>\n",
       "      <th>tags</th>\n",
       "      <th>view_count</th>\n",
       "      <th>likes</th>\n",
       "      <th>dislikes</th>\n",
       "      <th>comment_count</th>\n",
       "      <th>thumbnail_link</th>\n",
       "      <th>comments_disabled</th>\n",
       "      <th>ratings_disabled</th>\n",
       "      <th>description</th>\n",
       "      <th>country</th>\n",
       "    </tr>\n",
       "  </thead>\n",
       "  <tbody>\n",
       "    <tr>\n",
       "      <th>0</th>\n",
       "      <td>uq5LClQN3cE</td>\n",
       "      <td>안녕하세요 보겸입니다</td>\n",
       "      <td>2020-08-09 09:32:48+00:00</td>\n",
       "      <td>UCu9BCtGIEr73LXZsKmoujKw</td>\n",
       "      <td>보겸 BK</td>\n",
       "      <td>24</td>\n",
       "      <td>2020-08-12 00:00:00+00:00</td>\n",
       "      <td>보겸|bokyem</td>\n",
       "      <td>5947503</td>\n",
       "      <td>53326</td>\n",
       "      <td>105756</td>\n",
       "      <td>139946</td>\n",
       "      <td>https://i.ytimg.com/vi/uq5LClQN3cE/default.jpg</td>\n",
       "      <td>False</td>\n",
       "      <td>False</td>\n",
       "      <td>NaN</td>\n",
       "      <td>KR</td>\n",
       "    </tr>\n",
       "    <tr>\n",
       "      <th>1</th>\n",
       "      <td>I-ZbZCHsHD0</td>\n",
       "      <td>부락토스의 계획 [총몇명 프리퀄]</td>\n",
       "      <td>2020-08-12 09:00:08+00:00</td>\n",
       "      <td>UCRuSxVu4iqTK5kCh90ntAgA</td>\n",
       "      <td>총몇명</td>\n",
       "      <td>1</td>\n",
       "      <td>2020-08-12 00:00:00+00:00</td>\n",
       "      <td>총몇명|재밌는 만화|부락토스|루시퍼|총몇명 프리퀄|총몇명 스토리</td>\n",
       "      <td>963384</td>\n",
       "      <td>28244</td>\n",
       "      <td>494</td>\n",
       "      <td>3339</td>\n",
       "      <td>https://i.ytimg.com/vi/I-ZbZCHsHD0/default.jpg</td>\n",
       "      <td>False</td>\n",
       "      <td>False</td>\n",
       "      <td>오늘도 정말 감사드립니다!!총몇명 스튜디오 - 총몇명, 십제곱, 5G민, MOVE혁...</td>\n",
       "      <td>KR</td>\n",
       "    </tr>\n",
       "    <tr>\n",
       "      <th>2</th>\n",
       "      <td>9d7jNUjBoss</td>\n",
       "      <td>평생 반성하면서 살겠습니다.</td>\n",
       "      <td>2020-08-10 09:54:13+00:00</td>\n",
       "      <td>UCMVC92EOs9yDJG5JS-CMesQ</td>\n",
       "      <td>양팡 YangPang</td>\n",
       "      <td>22</td>\n",
       "      <td>2020-08-12 00:00:00+00:00</td>\n",
       "      <td>양팡|양팡유튜브|팡튜브|가족시트콤|양팡가족|양팡가족시트콤|양팡언니|현실남매|현실자매...</td>\n",
       "      <td>2950885</td>\n",
       "      <td>17974</td>\n",
       "      <td>68898</td>\n",
       "      <td>50688</td>\n",
       "      <td>https://i.ytimg.com/vi/9d7jNUjBoss/default.jpg</td>\n",
       "      <td>False</td>\n",
       "      <td>False</td>\n",
       "      <td>NaN</td>\n",
       "      <td>KR</td>\n",
       "    </tr>\n",
       "    <tr>\n",
       "      <th>3</th>\n",
       "      <td>3pI_L3-sMVg</td>\n",
       "      <td>안녕하세요 꽈뚜룹입니다.</td>\n",
       "      <td>2020-08-11 15:00:58+00:00</td>\n",
       "      <td>UCkQCwnkQfgSuPTTnw_Y7v7w</td>\n",
       "      <td>꽈뚜룹 Quaddurup</td>\n",
       "      <td>24</td>\n",
       "      <td>2020-08-12 00:00:00+00:00</td>\n",
       "      <td>꽈뚜룹|한국여행기|quaddurup|뚜룹이|korea|southkorea|vlog|...</td>\n",
       "      <td>1743374</td>\n",
       "      <td>36893</td>\n",
       "      <td>1798</td>\n",
       "      <td>8751</td>\n",
       "      <td>https://i.ytimg.com/vi/3pI_L3-sMVg/default.jpg</td>\n",
       "      <td>False</td>\n",
       "      <td>False</td>\n",
       "      <td>앞으로 좀 더 깔끔한 영상제작 약속 드리겠습니다.늘 감사드립니다</td>\n",
       "      <td>KR</td>\n",
       "    </tr>\n",
       "    <tr>\n",
       "      <th>4</th>\n",
       "      <td>zrsBjYukE8s</td>\n",
       "      <td>박진영 (J.Y. Park) When We Disco (Duet with 선미) M/V</td>\n",
       "      <td>2020-08-11 09:00:13+00:00</td>\n",
       "      <td>UCaO6TYtlC8U5ttz62hTrZgg</td>\n",
       "      <td>JYP Entertainment</td>\n",
       "      <td>10</td>\n",
       "      <td>2020-08-12 00:00:00+00:00</td>\n",
       "      <td>JYP Entertainment|JYP|J.Y.Park|JYPark|박진영|선미|S...</td>\n",
       "      <td>3433885</td>\n",
       "      <td>353337</td>\n",
       "      <td>9763</td>\n",
       "      <td>23405</td>\n",
       "      <td>https://i.ytimg.com/vi/zrsBjYukE8s/default.jpg</td>\n",
       "      <td>False</td>\n",
       "      <td>False</td>\n",
       "      <td>MelOn http://kko.to/TWyXd7zYjSpotify https://s...</td>\n",
       "      <td>KR</td>\n",
       "    </tr>\n",
       "    <tr>\n",
       "      <th>...</th>\n",
       "      <td>...</td>\n",
       "      <td>...</td>\n",
       "      <td>...</td>\n",
       "      <td>...</td>\n",
       "      <td>...</td>\n",
       "      <td>...</td>\n",
       "      <td>...</td>\n",
       "      <td>...</td>\n",
       "      <td>...</td>\n",
       "      <td>...</td>\n",
       "      <td>...</td>\n",
       "      <td>...</td>\n",
       "      <td>...</td>\n",
       "      <td>...</td>\n",
       "      <td>...</td>\n",
       "      <td>...</td>\n",
       "      <td>...</td>\n",
       "    </tr>\n",
       "    <tr>\n",
       "      <th>53149</th>\n",
       "      <td>wkVlb8rSies</td>\n",
       "      <td>Dun Dun Dance</td>\n",
       "      <td>2021-05-10 09:00:32+00:00</td>\n",
       "      <td>UCArTAXmvvTohDgCsegudy4w</td>\n",
       "      <td>OH MY GIRL - Topic</td>\n",
       "      <td>10</td>\n",
       "      <td>2021-05-23 00:00:00+00:00</td>\n",
       "      <td>OH MY GIRL|オーマイガール|Dear OHMYGIRL|Dun Dun Dance</td>\n",
       "      <td>2637425</td>\n",
       "      <td>22788</td>\n",
       "      <td>742</td>\n",
       "      <td>5</td>\n",
       "      <td>https://i.ytimg.com/vi/wkVlb8rSies/default.jpg</td>\n",
       "      <td>False</td>\n",
       "      <td>False</td>\n",
       "      <td>Provided to YouTube by WM EntertainmentDun Dun...</td>\n",
       "      <td>KR</td>\n",
       "    </tr>\n",
       "    <tr>\n",
       "      <th>53150</th>\n",
       "      <td>3Gqqr43XZ2s</td>\n",
       "      <td>오마이걸(OH MY GIRL) - Dun Dun Dance (Practice ver.)</td>\n",
       "      <td>2021-05-11 10:30:01+00:00</td>\n",
       "      <td>UC-qYkzKFdekoEniRu_FS3zg</td>\n",
       "      <td>OH MY GIRL</td>\n",
       "      <td>10</td>\n",
       "      <td>2021-05-23 00:00:00+00:00</td>\n",
       "      <td>오마이걸|OHMYGIRL</td>\n",
       "      <td>2256635</td>\n",
       "      <td>0</td>\n",
       "      <td>0</td>\n",
       "      <td>4157</td>\n",
       "      <td>https://i.ytimg.com/vi/3Gqqr43XZ2s/default.jpg</td>\n",
       "      <td>False</td>\n",
       "      <td>True</td>\n",
       "      <td>오마이걸(OH MY GIRL) - Dun Dun Dance (Practice ver...</td>\n",
       "      <td>KR</td>\n",
       "    </tr>\n",
       "    <tr>\n",
       "      <th>53151</th>\n",
       "      <td>AWU8HaHuSBk</td>\n",
       "      <td>K 빈지노가 K 추천하는 K-래퍼 5선 EP.13 [ENG]</td>\n",
       "      <td>2021-05-13 08:00:04+00:00</td>\n",
       "      <td>UCl-tyxErWS-1ElS8UM8jryQ</td>\n",
       "      <td>개인사업자 임성빈</td>\n",
       "      <td>22</td>\n",
       "      <td>2021-05-23 00:00:00+00:00</td>\n",
       "      <td>개인사업자 임성빈|개인사업자 빈지노|beenzino|빈지노|임성빈|빈지노 유튜브|b...</td>\n",
       "      <td>316996</td>\n",
       "      <td>4469</td>\n",
       "      <td>71</td>\n",
       "      <td>841</td>\n",
       "      <td>https://i.ytimg.com/vi/AWU8HaHuSBk/default.jpg</td>\n",
       "      <td>False</td>\n",
       "      <td>False</td>\n",
       "      <td>나만 아는 그런 아티스트가 있었다면           전 여러분에게 추천 박기도 전...</td>\n",
       "      <td>KR</td>\n",
       "    </tr>\n",
       "    <tr>\n",
       "      <th>53152</th>\n",
       "      <td>wIoms4zFQPI</td>\n",
       "      <td>BTS | The Rolling Stone Cover</td>\n",
       "      <td>2021-05-13 12:05:05+00:00</td>\n",
       "      <td>UC-JblcinswY50lrUdSaRNEg</td>\n",
       "      <td>Rolling Stone</td>\n",
       "      <td>24</td>\n",
       "      <td>2021-05-23 00:00:00+00:00</td>\n",
       "      <td>bts|rm|jimin|jungkook|jin|j-hope|suga</td>\n",
       "      <td>2371827</td>\n",
       "      <td>495754</td>\n",
       "      <td>1054</td>\n",
       "      <td>14454</td>\n",
       "      <td>https://i.ytimg.com/vi/wIoms4zFQPI/default.jpg</td>\n",
       "      <td>False</td>\n",
       "      <td>False</td>\n",
       "      <td>Go behind the scenes of the BTS Rolling Stone ...</td>\n",
       "      <td>KR</td>\n",
       "    </tr>\n",
       "    <tr>\n",
       "      <th>53153</th>\n",
       "      <td>FHgiOvz6aUQ</td>\n",
       "      <td>영국에서 난리난 한국치킨을 먹으려고 드디어 재회한 영국쌍둥이!! (신부님+소령님)</td>\n",
       "      <td>2021-05-12 13:59:26+00:00</td>\n",
       "      <td>UCg-p3lQIqmhh7gHpyaOmOiQ</td>\n",
       "      <td>영국남자 Korean Englishman</td>\n",
       "      <td>23</td>\n",
       "      <td>2021-05-23 00:00:00+00:00</td>\n",
       "      <td>Korean|영국남자|영국|조쉬|올리|Josh|Ollie|KoreanEnglish|...</td>\n",
       "      <td>1055328</td>\n",
       "      <td>66603</td>\n",
       "      <td>1638</td>\n",
       "      <td>5536</td>\n",
       "      <td>https://i.ytimg.com/vi/FHgiOvz6aUQ/default.jpg</td>\n",
       "      <td>False</td>\n",
       "      <td>False</td>\n",
       "      <td>영상의 모든 출연진을 포함한 스태프 전원은 촬영 이전 코로나19 음성 확진을 받았습...</td>\n",
       "      <td>KR</td>\n",
       "    </tr>\n",
       "  </tbody>\n",
       "</table>\n",
       "<p>53154 rows × 17 columns</p>\n",
       "</div>"
      ],
      "text/plain": [
       "          video_id                                             title  \\\n",
       "0      uq5LClQN3cE                                       안녕하세요 보겸입니다   \n",
       "1      I-ZbZCHsHD0                                부락토스의 계획 [총몇명 프리퀄]   \n",
       "2      9d7jNUjBoss                                   평생 반성하면서 살겠습니다.   \n",
       "3      3pI_L3-sMVg                              안녕하세요 꽈뚜룹입니다.   \n",
       "4      zrsBjYukE8s  박진영 (J.Y. Park) When We Disco (Duet with 선미) M/V   \n",
       "...            ...                                               ...   \n",
       "53149  wkVlb8rSies                                     Dun Dun Dance   \n",
       "53150  3Gqqr43XZ2s  오마이걸(OH MY GIRL) - Dun Dun Dance (Practice ver.)   \n",
       "53151  AWU8HaHuSBk                 K 빈지노가 K 추천하는 K-래퍼 5선 EP.13 [ENG]   \n",
       "53152  wIoms4zFQPI                     BTS | The Rolling Stone Cover   \n",
       "53153  FHgiOvz6aUQ     영국에서 난리난 한국치킨을 먹으려고 드디어 재회한 영국쌍둥이!! (신부님+소령님)   \n",
       "\n",
       "                    publishedAt                 channelId  \\\n",
       "0     2020-08-09 09:32:48+00:00  UCu9BCtGIEr73LXZsKmoujKw   \n",
       "1     2020-08-12 09:00:08+00:00  UCRuSxVu4iqTK5kCh90ntAgA   \n",
       "2     2020-08-10 09:54:13+00:00  UCMVC92EOs9yDJG5JS-CMesQ   \n",
       "3     2020-08-11 15:00:58+00:00  UCkQCwnkQfgSuPTTnw_Y7v7w   \n",
       "4     2020-08-11 09:00:13+00:00  UCaO6TYtlC8U5ttz62hTrZgg   \n",
       "...                         ...                       ...   \n",
       "53149 2021-05-10 09:00:32+00:00  UCArTAXmvvTohDgCsegudy4w   \n",
       "53150 2021-05-11 10:30:01+00:00  UC-qYkzKFdekoEniRu_FS3zg   \n",
       "53151 2021-05-13 08:00:04+00:00  UCl-tyxErWS-1ElS8UM8jryQ   \n",
       "53152 2021-05-13 12:05:05+00:00  UC-JblcinswY50lrUdSaRNEg   \n",
       "53153 2021-05-12 13:59:26+00:00  UCg-p3lQIqmhh7gHpyaOmOiQ   \n",
       "\n",
       "                 channelTitle  categoryId             trending_date  \\\n",
       "0                       보겸 BK          24 2020-08-12 00:00:00+00:00   \n",
       "1                         총몇명           1 2020-08-12 00:00:00+00:00   \n",
       "2                 양팡 YangPang          22 2020-08-12 00:00:00+00:00   \n",
       "3               꽈뚜룹 Quaddurup          24 2020-08-12 00:00:00+00:00   \n",
       "4           JYP Entertainment          10 2020-08-12 00:00:00+00:00   \n",
       "...                       ...         ...                       ...   \n",
       "53149      OH MY GIRL - Topic          10 2021-05-23 00:00:00+00:00   \n",
       "53150              OH MY GIRL          10 2021-05-23 00:00:00+00:00   \n",
       "53151               개인사업자 임성빈          22 2021-05-23 00:00:00+00:00   \n",
       "53152           Rolling Stone          24 2021-05-23 00:00:00+00:00   \n",
       "53153  영국남자 Korean Englishman          23 2021-05-23 00:00:00+00:00   \n",
       "\n",
       "                                                    tags  view_count   likes  \\\n",
       "0                                              보겸|bokyem     5947503   53326   \n",
       "1                    총몇명|재밌는 만화|부락토스|루시퍼|총몇명 프리퀄|총몇명 스토리      963384   28244   \n",
       "2      양팡|양팡유튜브|팡튜브|가족시트콤|양팡가족|양팡가족시트콤|양팡언니|현실남매|현실자매...     2950885   17974   \n",
       "3      꽈뚜룹|한국여행기|quaddurup|뚜룹이|korea|southkorea|vlog|...     1743374   36893   \n",
       "4      JYP Entertainment|JYP|J.Y.Park|JYPark|박진영|선미|S...     3433885  353337   \n",
       "...                                                  ...         ...     ...   \n",
       "53149     OH MY GIRL|オーマイガール|Dear OHMYGIRL|Dun Dun Dance     2637425   22788   \n",
       "53150                                      오마이걸|OHMYGIRL     2256635       0   \n",
       "53151  개인사업자 임성빈|개인사업자 빈지노|beenzino|빈지노|임성빈|빈지노 유튜브|b...      316996    4469   \n",
       "53152              bts|rm|jimin|jungkook|jin|j-hope|suga     2371827  495754   \n",
       "53153  Korean|영국남자|영국|조쉬|올리|Josh|Ollie|KoreanEnglish|...     1055328   66603   \n",
       "\n",
       "       dislikes  comment_count  \\\n",
       "0        105756         139946   \n",
       "1           494           3339   \n",
       "2         68898          50688   \n",
       "3          1798           8751   \n",
       "4          9763          23405   \n",
       "...         ...            ...   \n",
       "53149       742              5   \n",
       "53150         0           4157   \n",
       "53151        71            841   \n",
       "53152      1054          14454   \n",
       "53153      1638           5536   \n",
       "\n",
       "                                       thumbnail_link  comments_disabled  \\\n",
       "0      https://i.ytimg.com/vi/uq5LClQN3cE/default.jpg              False   \n",
       "1      https://i.ytimg.com/vi/I-ZbZCHsHD0/default.jpg              False   \n",
       "2      https://i.ytimg.com/vi/9d7jNUjBoss/default.jpg              False   \n",
       "3      https://i.ytimg.com/vi/3pI_L3-sMVg/default.jpg              False   \n",
       "4      https://i.ytimg.com/vi/zrsBjYukE8s/default.jpg              False   \n",
       "...                                               ...                ...   \n",
       "53149  https://i.ytimg.com/vi/wkVlb8rSies/default.jpg              False   \n",
       "53150  https://i.ytimg.com/vi/3Gqqr43XZ2s/default.jpg              False   \n",
       "53151  https://i.ytimg.com/vi/AWU8HaHuSBk/default.jpg              False   \n",
       "53152  https://i.ytimg.com/vi/wIoms4zFQPI/default.jpg              False   \n",
       "53153  https://i.ytimg.com/vi/FHgiOvz6aUQ/default.jpg              False   \n",
       "\n",
       "       ratings_disabled                                        description  \\\n",
       "0                 False                                                NaN   \n",
       "1                 False  오늘도 정말 감사드립니다!!총몇명 스튜디오 - 총몇명, 십제곱, 5G민, MOVE혁...   \n",
       "2                 False                                                NaN   \n",
       "3                 False                앞으로 좀 더 깔끔한 영상제작 약속 드리겠습니다.늘 감사드립니다   \n",
       "4                 False  MelOn http://kko.to/TWyXd7zYjSpotify https://s...   \n",
       "...                 ...                                                ...   \n",
       "53149             False  Provided to YouTube by WM EntertainmentDun Dun...   \n",
       "53150              True  오마이걸(OH MY GIRL) - Dun Dun Dance (Practice ver...   \n",
       "53151             False  나만 아는 그런 아티스트가 있었다면           전 여러분에게 추천 박기도 전...   \n",
       "53152             False  Go behind the scenes of the BTS Rolling Stone ...   \n",
       "53153             False  영상의 모든 출연진을 포함한 스태프 전원은 촬영 이전 코로나19 음성 확진을 받았습...   \n",
       "\n",
       "      country  \n",
       "0          KR  \n",
       "1          KR  \n",
       "2          KR  \n",
       "3          KR  \n",
       "4          KR  \n",
       "...       ...  \n",
       "53149      KR  \n",
       "53150      KR  \n",
       "53151      KR  \n",
       "53152      KR  \n",
       "53153      KR  \n",
       "\n",
       "[53154 rows x 17 columns]"
      ]
     },
     "execution_count": 70,
     "metadata": {},
     "output_type": "execute_result"
    }
   ],
   "source": [
    "df"
   ]
  },
  {
   "cell_type": "code",
   "execution_count": 71,
   "id": "8fa4ae19",
   "metadata": {
    "scrolled": true
   },
   "outputs": [
    {
     "name": "stdout",
     "output_type": "stream",
     "text": [
      "<class 'pandas.core.frame.DataFrame'>\n",
      "RangeIndex: 53154 entries, 0 to 53153\n",
      "Data columns (total 17 columns):\n",
      " #   Column             Non-Null Count  Dtype              \n",
      "---  ------             --------------  -----              \n",
      " 0   video_id           53154 non-null  object             \n",
      " 1   title              53154 non-null  object             \n",
      " 2   publishedAt        53154 non-null  datetime64[ns, UTC]\n",
      " 3   channelId          53154 non-null  object             \n",
      " 4   channelTitle       53154 non-null  object             \n",
      " 5   categoryId         53154 non-null  int64              \n",
      " 6   trending_date      53154 non-null  datetime64[ns, UTC]\n",
      " 7   tags               53154 non-null  object             \n",
      " 8   view_count         53154 non-null  int64              \n",
      " 9   likes              53154 non-null  int64              \n",
      " 10  dislikes           53154 non-null  int64              \n",
      " 11  comment_count      53154 non-null  int64              \n",
      " 12  thumbnail_link     53154 non-null  object             \n",
      " 13  comments_disabled  53154 non-null  bool               \n",
      " 14  ratings_disabled   53154 non-null  bool               \n",
      " 15  description        52261 non-null  object             \n",
      " 16  country            53154 non-null  object             \n",
      "dtypes: bool(2), datetime64[ns, UTC](2), int64(5), object(8)\n",
      "memory usage: 6.2+ MB\n"
     ]
    }
   ],
   "source": [
    "df.info()"
   ]
  },
  {
   "cell_type": "code",
   "execution_count": 72,
   "id": "07492015",
   "metadata": {},
   "outputs": [
    {
     "data": {
      "text/html": [
       "<div>\n",
       "<style scoped>\n",
       "    .dataframe tbody tr th:only-of-type {\n",
       "        vertical-align: middle;\n",
       "    }\n",
       "\n",
       "    .dataframe tbody tr th {\n",
       "        vertical-align: top;\n",
       "    }\n",
       "\n",
       "    .dataframe thead th {\n",
       "        text-align: right;\n",
       "    }\n",
       "</style>\n",
       "<table border=\"1\" class=\"dataframe\">\n",
       "  <thead>\n",
       "    <tr style=\"text-align: right;\">\n",
       "      <th></th>\n",
       "      <th>video_id</th>\n",
       "      <th>title</th>\n",
       "      <th>publishedAt</th>\n",
       "      <th>channelId</th>\n",
       "      <th>channelTitle</th>\n",
       "      <th>categoryId</th>\n",
       "      <th>trending_date</th>\n",
       "      <th>tags</th>\n",
       "      <th>view_count</th>\n",
       "      <th>likes</th>\n",
       "      <th>dislikes</th>\n",
       "      <th>comment_count</th>\n",
       "      <th>thumbnail_link</th>\n",
       "      <th>comments_disabled</th>\n",
       "      <th>ratings_disabled</th>\n",
       "      <th>description</th>\n",
       "      <th>country</th>\n",
       "    </tr>\n",
       "  </thead>\n",
       "  <tbody>\n",
       "    <tr>\n",
       "      <th>2733</th>\n",
       "      <td>gdZLi9oWNZg</td>\n",
       "      <td>BTS (방탄소년단) 'Dynamite' Official MV</td>\n",
       "      <td>2020-08-21 03:58:10+00:00</td>\n",
       "      <td>UC3IZKseVpdzPSBaWxBxundA</td>\n",
       "      <td>Big Hit Labels</td>\n",
       "      <td>10</td>\n",
       "      <td>2020-08-31 00:00:00+00:00</td>\n",
       "      <td>BIGHIT|빅히트|방탄소년단|BTS|BANGTAN|방탄</td>\n",
       "      <td>262319276</td>\n",
       "      <td>16254784</td>\n",
       "      <td>770144</td>\n",
       "      <td>6303708</td>\n",
       "      <td>https://i.ytimg.com/vi/gdZLi9oWNZg/default.jpg</td>\n",
       "      <td>False</td>\n",
       "      <td>False</td>\n",
       "      <td>BTS (방탄소년단) 'Dynamite' Official MVCredits:Dire...</td>\n",
       "      <td>KR</td>\n",
       "    </tr>\n",
       "  </tbody>\n",
       "</table>\n",
       "</div>"
      ],
      "text/plain": [
       "         video_id                               title  \\\n",
       "2733  gdZLi9oWNZg  BTS (방탄소년단) 'Dynamite' Official MV   \n",
       "\n",
       "                   publishedAt                 channelId    channelTitle  \\\n",
       "2733 2020-08-21 03:58:10+00:00  UC3IZKseVpdzPSBaWxBxundA  Big Hit Labels   \n",
       "\n",
       "      categoryId             trending_date                             tags  \\\n",
       "2733          10 2020-08-31 00:00:00+00:00  BIGHIT|빅히트|방탄소년단|BTS|BANGTAN|방탄   \n",
       "\n",
       "      view_count     likes  dislikes  comment_count  \\\n",
       "2733   262319276  16254784    770144        6303708   \n",
       "\n",
       "                                      thumbnail_link  comments_disabled  \\\n",
       "2733  https://i.ytimg.com/vi/gdZLi9oWNZg/default.jpg              False   \n",
       "\n",
       "      ratings_disabled                                        description  \\\n",
       "2733             False  BTS (방탄소년단) 'Dynamite' Official MVCredits:Dire...   \n",
       "\n",
       "     country  \n",
       "2733      KR  "
      ]
     },
     "execution_count": 72,
     "metadata": {},
     "output_type": "execute_result"
    }
   ],
   "source": [
    "df.loc[(df.view_count > 260000000) & (df.likes > 16000000),]"
   ]
  },
  {
   "cell_type": "code",
   "execution_count": 73,
   "id": "439c8bcf",
   "metadata": {
    "scrolled": true
   },
   "outputs": [
    {
     "name": "stdout",
     "output_type": "stream",
     "text": [
      "video_id: 8098\n",
      "-------------------------------------\n",
      "title: 8683\n",
      "-------------------------------------\n",
      "publishedAt: 7968\n",
      "-------------------------------------\n",
      "channelId: 1999\n",
      "-------------------------------------\n",
      "channelTitle: 2077\n",
      "-------------------------------------\n",
      "categoryId: 15\n",
      "-------------------------------------\n",
      "trending_date: 279\n",
      "-------------------------------------\n",
      "tags: 6209\n",
      "-------------------------------------\n",
      "view_count: 52095\n",
      "-------------------------------------\n",
      "likes: 28944\n",
      "-------------------------------------\n",
      "dislikes: 4940\n",
      "-------------------------------------\n",
      "comment_count: 11807\n",
      "-------------------------------------\n",
      "thumbnail_link: 8098\n",
      "-------------------------------------\n",
      "comments_disabled: 2\n",
      "-------------------------------------\n",
      "ratings_disabled: 2\n",
      "-------------------------------------\n",
      "description: 8068\n",
      "-------------------------------------\n",
      "country: 1\n",
      "-------------------------------------\n"
     ]
    }
   ],
   "source": [
    "for i in df.columns:\n",
    "    print(i+\":\",len(df[str(i)].value_counts()))\n",
    "    print(\"-------------------------------------\")"
   ]
  },
  {
   "cell_type": "code",
   "execution_count": 74,
   "id": "5f3f6a70",
   "metadata": {},
   "outputs": [
    {
     "data": {
      "text/plain": [
       "Index(['video_id', 'title', 'publishedAt', 'channelId', 'channelTitle',\n",
       "       'categoryId', 'trending_date', 'tags', 'view_count', 'likes',\n",
       "       'dislikes', 'comment_count', 'thumbnail_link', 'comments_disabled',\n",
       "       'ratings_disabled', 'description', 'country'],\n",
       "      dtype='object')"
      ]
     },
     "execution_count": 74,
     "metadata": {},
     "output_type": "execute_result"
    }
   ],
   "source": [
    "df.columns"
   ]
  },
  {
   "cell_type": "code",
   "execution_count": 75,
   "id": "744cbec0",
   "metadata": {
    "scrolled": true
   },
   "outputs": [
    {
     "data": {
      "text/html": [
       "<div>\n",
       "<style scoped>\n",
       "    .dataframe tbody tr th:only-of-type {\n",
       "        vertical-align: middle;\n",
       "    }\n",
       "\n",
       "    .dataframe tbody tr th {\n",
       "        vertical-align: top;\n",
       "    }\n",
       "\n",
       "    .dataframe thead th {\n",
       "        text-align: right;\n",
       "    }\n",
       "</style>\n",
       "<table border=\"1\" class=\"dataframe\">\n",
       "  <thead>\n",
       "    <tr style=\"text-align: right;\">\n",
       "      <th></th>\n",
       "      <th>video_id</th>\n",
       "      <th>title</th>\n",
       "      <th>publishedAt</th>\n",
       "      <th>channelId</th>\n",
       "      <th>channelTitle</th>\n",
       "      <th>categoryId</th>\n",
       "      <th>trending_date</th>\n",
       "      <th>tags</th>\n",
       "      <th>view_count</th>\n",
       "      <th>likes</th>\n",
       "      <th>dislikes</th>\n",
       "      <th>comment_count</th>\n",
       "      <th>thumbnail_link</th>\n",
       "      <th>comments_disabled</th>\n",
       "      <th>ratings_disabled</th>\n",
       "      <th>description</th>\n",
       "      <th>country</th>\n",
       "    </tr>\n",
       "  </thead>\n",
       "  <tbody>\n",
       "    <tr>\n",
       "      <th>0</th>\n",
       "      <td>uq5LClQN3cE</td>\n",
       "      <td>안녕하세요 보겸입니다</td>\n",
       "      <td>2020-08-09 09:32:48+00:00</td>\n",
       "      <td>UCu9BCtGIEr73LXZsKmoujKw</td>\n",
       "      <td>보겸 BK</td>\n",
       "      <td>24</td>\n",
       "      <td>2020-08-12 00:00:00+00:00</td>\n",
       "      <td>보겸|bokyem</td>\n",
       "      <td>5947503</td>\n",
       "      <td>53326</td>\n",
       "      <td>105756</td>\n",
       "      <td>139946</td>\n",
       "      <td>https://i.ytimg.com/vi/uq5LClQN3cE/default.jpg</td>\n",
       "      <td>False</td>\n",
       "      <td>False</td>\n",
       "      <td>NaN</td>\n",
       "      <td>KR</td>\n",
       "    </tr>\n",
       "    <tr>\n",
       "      <th>1</th>\n",
       "      <td>I-ZbZCHsHD0</td>\n",
       "      <td>부락토스의 계획 [총몇명 프리퀄]</td>\n",
       "      <td>2020-08-12 09:00:08+00:00</td>\n",
       "      <td>UCRuSxVu4iqTK5kCh90ntAgA</td>\n",
       "      <td>총몇명</td>\n",
       "      <td>1</td>\n",
       "      <td>2020-08-12 00:00:00+00:00</td>\n",
       "      <td>총몇명|재밌는 만화|부락토스|루시퍼|총몇명 프리퀄|총몇명 스토리</td>\n",
       "      <td>963384</td>\n",
       "      <td>28244</td>\n",
       "      <td>494</td>\n",
       "      <td>3339</td>\n",
       "      <td>https://i.ytimg.com/vi/I-ZbZCHsHD0/default.jpg</td>\n",
       "      <td>False</td>\n",
       "      <td>False</td>\n",
       "      <td>오늘도 정말 감사드립니다!!총몇명 스튜디오 - 총몇명, 십제곱, 5G민, MOVE혁...</td>\n",
       "      <td>KR</td>\n",
       "    </tr>\n",
       "    <tr>\n",
       "      <th>2</th>\n",
       "      <td>9d7jNUjBoss</td>\n",
       "      <td>평생 반성하면서 살겠습니다.</td>\n",
       "      <td>2020-08-10 09:54:13+00:00</td>\n",
       "      <td>UCMVC92EOs9yDJG5JS-CMesQ</td>\n",
       "      <td>양팡 YangPang</td>\n",
       "      <td>22</td>\n",
       "      <td>2020-08-12 00:00:00+00:00</td>\n",
       "      <td>양팡|양팡유튜브|팡튜브|가족시트콤|양팡가족|양팡가족시트콤|양팡언니|현실남매|현실자매...</td>\n",
       "      <td>2950885</td>\n",
       "      <td>17974</td>\n",
       "      <td>68898</td>\n",
       "      <td>50688</td>\n",
       "      <td>https://i.ytimg.com/vi/9d7jNUjBoss/default.jpg</td>\n",
       "      <td>False</td>\n",
       "      <td>False</td>\n",
       "      <td>NaN</td>\n",
       "      <td>KR</td>\n",
       "    </tr>\n",
       "    <tr>\n",
       "      <th>3</th>\n",
       "      <td>3pI_L3-sMVg</td>\n",
       "      <td>안녕하세요 꽈뚜룹입니다.</td>\n",
       "      <td>2020-08-11 15:00:58+00:00</td>\n",
       "      <td>UCkQCwnkQfgSuPTTnw_Y7v7w</td>\n",
       "      <td>꽈뚜룹 Quaddurup</td>\n",
       "      <td>24</td>\n",
       "      <td>2020-08-12 00:00:00+00:00</td>\n",
       "      <td>꽈뚜룹|한국여행기|quaddurup|뚜룹이|korea|southkorea|vlog|...</td>\n",
       "      <td>1743374</td>\n",
       "      <td>36893</td>\n",
       "      <td>1798</td>\n",
       "      <td>8751</td>\n",
       "      <td>https://i.ytimg.com/vi/3pI_L3-sMVg/default.jpg</td>\n",
       "      <td>False</td>\n",
       "      <td>False</td>\n",
       "      <td>앞으로 좀 더 깔끔한 영상제작 약속 드리겠습니다.늘 감사드립니다</td>\n",
       "      <td>KR</td>\n",
       "    </tr>\n",
       "    <tr>\n",
       "      <th>4</th>\n",
       "      <td>zrsBjYukE8s</td>\n",
       "      <td>박진영 (J.Y. Park) When We Disco (Duet with 선미) M/V</td>\n",
       "      <td>2020-08-11 09:00:13+00:00</td>\n",
       "      <td>UCaO6TYtlC8U5ttz62hTrZgg</td>\n",
       "      <td>JYP Entertainment</td>\n",
       "      <td>10</td>\n",
       "      <td>2020-08-12 00:00:00+00:00</td>\n",
       "      <td>JYP Entertainment|JYP|J.Y.Park|JYPark|박진영|선미|S...</td>\n",
       "      <td>3433885</td>\n",
       "      <td>353337</td>\n",
       "      <td>9763</td>\n",
       "      <td>23405</td>\n",
       "      <td>https://i.ytimg.com/vi/zrsBjYukE8s/default.jpg</td>\n",
       "      <td>False</td>\n",
       "      <td>False</td>\n",
       "      <td>MelOn http://kko.to/TWyXd7zYjSpotify https://s...</td>\n",
       "      <td>KR</td>\n",
       "    </tr>\n",
       "  </tbody>\n",
       "</table>\n",
       "</div>"
      ],
      "text/plain": [
       "      video_id                                             title  \\\n",
       "0  uq5LClQN3cE                                       안녕하세요 보겸입니다   \n",
       "1  I-ZbZCHsHD0                                부락토스의 계획 [총몇명 프리퀄]   \n",
       "2  9d7jNUjBoss                                   평생 반성하면서 살겠습니다.   \n",
       "3  3pI_L3-sMVg                              안녕하세요 꽈뚜룹입니다.   \n",
       "4  zrsBjYukE8s  박진영 (J.Y. Park) When We Disco (Duet with 선미) M/V   \n",
       "\n",
       "                publishedAt                 channelId       channelTitle  \\\n",
       "0 2020-08-09 09:32:48+00:00  UCu9BCtGIEr73LXZsKmoujKw              보겸 BK   \n",
       "1 2020-08-12 09:00:08+00:00  UCRuSxVu4iqTK5kCh90ntAgA                총몇명   \n",
       "2 2020-08-10 09:54:13+00:00  UCMVC92EOs9yDJG5JS-CMesQ        양팡 YangPang   \n",
       "3 2020-08-11 15:00:58+00:00  UCkQCwnkQfgSuPTTnw_Y7v7w      꽈뚜룹 Quaddurup   \n",
       "4 2020-08-11 09:00:13+00:00  UCaO6TYtlC8U5ttz62hTrZgg  JYP Entertainment   \n",
       "\n",
       "   categoryId             trending_date  \\\n",
       "0          24 2020-08-12 00:00:00+00:00   \n",
       "1           1 2020-08-12 00:00:00+00:00   \n",
       "2          22 2020-08-12 00:00:00+00:00   \n",
       "3          24 2020-08-12 00:00:00+00:00   \n",
       "4          10 2020-08-12 00:00:00+00:00   \n",
       "\n",
       "                                                tags  view_count   likes  \\\n",
       "0                                          보겸|bokyem     5947503   53326   \n",
       "1                총몇명|재밌는 만화|부락토스|루시퍼|총몇명 프리퀄|총몇명 스토리      963384   28244   \n",
       "2  양팡|양팡유튜브|팡튜브|가족시트콤|양팡가족|양팡가족시트콤|양팡언니|현실남매|현실자매...     2950885   17974   \n",
       "3  꽈뚜룹|한국여행기|quaddurup|뚜룹이|korea|southkorea|vlog|...     1743374   36893   \n",
       "4  JYP Entertainment|JYP|J.Y.Park|JYPark|박진영|선미|S...     3433885  353337   \n",
       "\n",
       "   dislikes  comment_count                                  thumbnail_link  \\\n",
       "0    105756         139946  https://i.ytimg.com/vi/uq5LClQN3cE/default.jpg   \n",
       "1       494           3339  https://i.ytimg.com/vi/I-ZbZCHsHD0/default.jpg   \n",
       "2     68898          50688  https://i.ytimg.com/vi/9d7jNUjBoss/default.jpg   \n",
       "3      1798           8751  https://i.ytimg.com/vi/3pI_L3-sMVg/default.jpg   \n",
       "4      9763          23405  https://i.ytimg.com/vi/zrsBjYukE8s/default.jpg   \n",
       "\n",
       "   comments_disabled  ratings_disabled  \\\n",
       "0              False             False   \n",
       "1              False             False   \n",
       "2              False             False   \n",
       "3              False             False   \n",
       "4              False             False   \n",
       "\n",
       "                                         description country  \n",
       "0                                                NaN      KR  \n",
       "1  오늘도 정말 감사드립니다!!총몇명 스튜디오 - 총몇명, 십제곱, 5G민, MOVE혁...      KR  \n",
       "2                                                NaN      KR  \n",
       "3                앞으로 좀 더 깔끔한 영상제작 약속 드리겠습니다.늘 감사드립니다      KR  \n",
       "4  MelOn http://kko.to/TWyXd7zYjSpotify https://s...      KR  "
      ]
     },
     "execution_count": 75,
     "metadata": {},
     "output_type": "execute_result"
    }
   ],
   "source": [
    "df.head()"
   ]
  },
  {
   "cell_type": "code",
   "execution_count": 76,
   "id": "9d9d9ea4",
   "metadata": {
    "scrolled": true
   },
   "outputs": [
    {
     "name": "stdout",
     "output_type": "stream",
     "text": [
      "Date covered from 2020-08-12 to 2021-05-23\n",
      "No. of days covered: 279\n"
     ]
    }
   ],
   "source": [
    "# Remove unused columns\n",
    "df = df.drop(['thumbnail_link'], axis=1)\n",
    "# trending_date column only needs date format\n",
    "df.trending_date = df.trending_date.dt.date\n",
    "\n",
    "start_date = df.trending_date.min()\n",
    "end_date = df.trending_date.max()\n",
    "print ('Date covered from %s to %s' % (start_date, end_date))\n",
    "print ('No. of days covered: %d' % df.trending_date.nunique())"
   ]
  },
  {
   "cell_type": "code",
   "execution_count": 77,
   "id": "8174a661",
   "metadata": {},
   "outputs": [
    {
     "data": {
      "text/html": [
       "<div>\n",
       "<style scoped>\n",
       "    .dataframe tbody tr th:only-of-type {\n",
       "        vertical-align: middle;\n",
       "    }\n",
       "\n",
       "    .dataframe tbody tr th {\n",
       "        vertical-align: top;\n",
       "    }\n",
       "\n",
       "    .dataframe thead th {\n",
       "        text-align: right;\n",
       "    }\n",
       "</style>\n",
       "<table border=\"1\" class=\"dataframe\">\n",
       "  <thead>\n",
       "    <tr style=\"text-align: right;\">\n",
       "      <th></th>\n",
       "      <th>video_id</th>\n",
       "      <th>trending_count</th>\n",
       "      <th>days_trend</th>\n",
       "      <th>first_trend_date</th>\n",
       "      <th>last_trend_date</th>\n",
       "      <th>views</th>\n",
       "      <th>likes</th>\n",
       "      <th>dislikes</th>\n",
       "      <th>comments</th>\n",
       "      <th>country_list</th>\n",
       "      <th>country_count</th>\n",
       "    </tr>\n",
       "  </thead>\n",
       "  <tbody>\n",
       "    <tr>\n",
       "      <th>0</th>\n",
       "      <td>--8IwTcvN98</td>\n",
       "      <td>9</td>\n",
       "      <td>9</td>\n",
       "      <td>2020-12-19</td>\n",
       "      <td>2020-12-27</td>\n",
       "      <td>565697</td>\n",
       "      <td>19575</td>\n",
       "      <td>260</td>\n",
       "      <td>3997</td>\n",
       "      <td>[KR]</td>\n",
       "      <td>1</td>\n",
       "    </tr>\n",
       "    <tr>\n",
       "      <th>1</th>\n",
       "      <td>--MvOWR16L8</td>\n",
       "      <td>7</td>\n",
       "      <td>7</td>\n",
       "      <td>2021-01-24</td>\n",
       "      <td>2021-01-30</td>\n",
       "      <td>345912</td>\n",
       "      <td>9678</td>\n",
       "      <td>415</td>\n",
       "      <td>1689</td>\n",
       "      <td>[KR]</td>\n",
       "      <td>1</td>\n",
       "    </tr>\n",
       "    <tr>\n",
       "      <th>2</th>\n",
       "      <td>--ixRiohjh4</td>\n",
       "      <td>2</td>\n",
       "      <td>2</td>\n",
       "      <td>2020-09-02</td>\n",
       "      <td>2020-09-03</td>\n",
       "      <td>76183</td>\n",
       "      <td>1407</td>\n",
       "      <td>113</td>\n",
       "      <td>91</td>\n",
       "      <td>[KR]</td>\n",
       "      <td>1</td>\n",
       "    </tr>\n",
       "    <tr>\n",
       "      <th>3</th>\n",
       "      <td>-1HbFmXHKWs</td>\n",
       "      <td>9</td>\n",
       "      <td>9</td>\n",
       "      <td>2021-01-02</td>\n",
       "      <td>2021-01-10</td>\n",
       "      <td>1249804</td>\n",
       "      <td>27828</td>\n",
       "      <td>353</td>\n",
       "      <td>7630</td>\n",
       "      <td>[KR]</td>\n",
       "      <td>1</td>\n",
       "    </tr>\n",
       "    <tr>\n",
       "      <th>4</th>\n",
       "      <td>-1MlDyihHgU</td>\n",
       "      <td>11</td>\n",
       "      <td>11</td>\n",
       "      <td>2020-10-11</td>\n",
       "      <td>2020-10-21</td>\n",
       "      <td>1546182</td>\n",
       "      <td>17559</td>\n",
       "      <td>951</td>\n",
       "      <td>278</td>\n",
       "      <td>[KR]</td>\n",
       "      <td>1</td>\n",
       "    </tr>\n",
       "  </tbody>\n",
       "</table>\n",
       "</div>"
      ],
      "text/plain": [
       "      video_id  trending_count  days_trend first_trend_date last_trend_date  \\\n",
       "0  --8IwTcvN98               9           9       2020-12-19      2020-12-27   \n",
       "1  --MvOWR16L8               7           7       2021-01-24      2021-01-30   \n",
       "2  --ixRiohjh4               2           2       2020-09-02      2020-09-03   \n",
       "3  -1HbFmXHKWs               9           9       2021-01-02      2021-01-10   \n",
       "4  -1MlDyihHgU              11          11       2020-10-11      2020-10-21   \n",
       "\n",
       "     views  likes  dislikes  comments country_list  country_count  \n",
       "0   565697  19575       260      3997         [KR]              1  \n",
       "1   345912   9678       415      1689         [KR]              1  \n",
       "2    76183   1407       113        91         [KR]              1  \n",
       "3  1249804  27828       353      7630         [KR]              1  \n",
       "4  1546182  17559       951       278         [KR]              1  "
      ]
     },
     "execution_count": 77,
     "metadata": {},
     "output_type": "execute_result"
    }
   ],
   "source": [
    "# Make list of videos\n",
    "v_col = ['video_id', 'title', 'publishedAt', 'channelId', 'channelTitle']\n",
    "videos = df[v_col].drop_duplicates(subset='video_id', keep='last') # Treat video_id as unique\n",
    "\n",
    "# Compute video-based statistics\n",
    "video_stat = df.groupby('video_id').agg({'video_id':'count',\n",
    "    'trending_date': ['nunique','min','max'],\n",
    "                           'view_count': 'max',\n",
    "                           'likes': 'max',\n",
    "                           'dislikes': 'max',\n",
    "                           'comment_count': 'max',\n",
    "                           'country': ['unique','nunique']})\n",
    "\n",
    "video_stat.columns = ['trending_count','days_trend', 'first_trend_date','last_trend_date','views','likes','dislikes',\n",
    "                      'comments','country_list','country_count']\n",
    "video_stat.reset_index(inplace=True)\n",
    "video_stat.head()"
   ]
  },
  {
   "cell_type": "code",
   "execution_count": 78,
   "id": "e56ff973",
   "metadata": {},
   "outputs": [],
   "source": [
    "videos = videos.merge(video_stat, on='video_id')"
   ]
  },
  {
   "cell_type": "code",
   "execution_count": 79,
   "id": "78bb1631",
   "metadata": {},
   "outputs": [
    {
     "data": {
      "text/html": [
       "<div>\n",
       "<style scoped>\n",
       "    .dataframe tbody tr th:only-of-type {\n",
       "        vertical-align: middle;\n",
       "    }\n",
       "\n",
       "    .dataframe tbody tr th {\n",
       "        vertical-align: top;\n",
       "    }\n",
       "\n",
       "    .dataframe thead th {\n",
       "        text-align: right;\n",
       "    }\n",
       "</style>\n",
       "<table border=\"1\" class=\"dataframe\">\n",
       "  <thead>\n",
       "    <tr style=\"text-align: right;\">\n",
       "      <th></th>\n",
       "      <th>title</th>\n",
       "      <th>channelTitle</th>\n",
       "      <th>views</th>\n",
       "      <th>likes</th>\n",
       "    </tr>\n",
       "  </thead>\n",
       "  <tbody>\n",
       "    <tr>\n",
       "      <th>49</th>\n",
       "      <td>TREASURE - 'BOY' M/V</td>\n",
       "      <td>TREASURE (트레저)</td>\n",
       "      <td>19682753</td>\n",
       "      <td>1473057</td>\n",
       "    </tr>\n",
       "    <tr>\n",
       "      <th>50</th>\n",
       "      <td>Cardi B - WAP feat. Megan Thee Stallion [Offic...</td>\n",
       "      <td>Cardi B</td>\n",
       "      <td>82765322</td>\n",
       "      <td>2932448</td>\n",
       "    </tr>\n",
       "    <tr>\n",
       "      <th>287</th>\n",
       "      <td>SuperM 슈퍼엠 ‘100' MV</td>\n",
       "      <td>SMTOWN</td>\n",
       "      <td>11681408</td>\n",
       "      <td>1592064</td>\n",
       "    </tr>\n",
       "    <tr>\n",
       "      <th>423</th>\n",
       "      <td>ITZY “Not Shy” M/V</td>\n",
       "      <td>JYP Entertainment</td>\n",
       "      <td>29825829</td>\n",
       "      <td>2253395</td>\n",
       "    </tr>\n",
       "    <tr>\n",
       "      <th>442</th>\n",
       "      <td>BTS (방탄소년단) 'Dynamite' Official Teaser</td>\n",
       "      <td>Big Hit Labels</td>\n",
       "      <td>62644434</td>\n",
       "      <td>6185031</td>\n",
       "    </tr>\n",
       "    <tr>\n",
       "      <th>544</th>\n",
       "      <td>BLACKPINK - 'Ice Cream (with Selena Gomez)' M/...</td>\n",
       "      <td>BLACKPINK</td>\n",
       "      <td>21650086</td>\n",
       "      <td>2488381</td>\n",
       "    </tr>\n",
       "    <tr>\n",
       "      <th>617</th>\n",
       "      <td>BTS (방탄소년단) 'Dynamite' Official MV</td>\n",
       "      <td>Big Hit Labels</td>\n",
       "      <td>262319276</td>\n",
       "      <td>16254784</td>\n",
       "    </tr>\n",
       "    <tr>\n",
       "      <th>697</th>\n",
       "      <td>BTS (방탄소년단) 'Dynamite' Official MV (B-side)</td>\n",
       "      <td>Big Hit Labels</td>\n",
       "      <td>48702729</td>\n",
       "      <td>6032032</td>\n",
       "    </tr>\n",
       "    <tr>\n",
       "      <th>719</th>\n",
       "      <td>BLACKPINK - 'Ice Cream (with Selena Gomez)' M/...</td>\n",
       "      <td>BLACKPINK</td>\n",
       "      <td>15397147</td>\n",
       "      <td>1640449</td>\n",
       "    </tr>\n",
       "    <tr>\n",
       "      <th>775</th>\n",
       "      <td>BLACKPINK - 'Ice Cream (with Selena Gomez)' M/V</td>\n",
       "      <td>BLACKPINK</td>\n",
       "      <td>184778248</td>\n",
       "      <td>11795696</td>\n",
       "    </tr>\n",
       "  </tbody>\n",
       "</table>\n",
       "</div>"
      ],
      "text/plain": [
       "                                                 title       channelTitle  \\\n",
       "49                                TREASURE - 'BOY' M/V     TREASURE (트레저)   \n",
       "50   Cardi B - WAP feat. Megan Thee Stallion [Offic...            Cardi B   \n",
       "287                                SuperM 슈퍼엠 ‘100' MV             SMTOWN   \n",
       "423                                 ITZY “Not Shy” M/V  JYP Entertainment   \n",
       "442             BTS (방탄소년단) 'Dynamite' Official Teaser     Big Hit Labels   \n",
       "544  BLACKPINK - 'Ice Cream (with Selena Gomez)' M/...          BLACKPINK   \n",
       "617                 BTS (방탄소년단) 'Dynamite' Official MV     Big Hit Labels   \n",
       "697        BTS (방탄소년단) 'Dynamite' Official MV (B-side)     Big Hit Labels   \n",
       "719  BLACKPINK - 'Ice Cream (with Selena Gomez)' M/...          BLACKPINK   \n",
       "775    BLACKPINK - 'Ice Cream (with Selena Gomez)' M/V          BLACKPINK   \n",
       "\n",
       "         views     likes  \n",
       "49    19682753   1473057  \n",
       "50    82765322   2932448  \n",
       "287   11681408   1592064  \n",
       "423   29825829   2253395  \n",
       "442   62644434   6185031  \n",
       "544   21650086   2488381  \n",
       "617  262319276  16254784  \n",
       "697   48702729   6032032  \n",
       "719   15397147   1640449  \n",
       "775  184778248  11795696  "
      ]
     },
     "execution_count": 79,
     "metadata": {},
     "output_type": "execute_result"
    }
   ],
   "source": [
    "videos.loc[(videos.views > 10000000) & (videos.likes > 1000000),].head(10)[['title','channelTitle','views','likes']]"
   ]
  },
  {
   "cell_type": "code",
   "execution_count": 80,
   "id": "f60fa3a2",
   "metadata": {},
   "outputs": [
    {
     "data": {
      "text/html": [
       "<div>\n",
       "<style scoped>\n",
       "    .dataframe tbody tr th:only-of-type {\n",
       "        vertical-align: middle;\n",
       "    }\n",
       "\n",
       "    .dataframe tbody tr th {\n",
       "        vertical-align: top;\n",
       "    }\n",
       "\n",
       "    .dataframe thead th {\n",
       "        text-align: right;\n",
       "    }\n",
       "</style>\n",
       "<table border=\"1\" class=\"dataframe\">\n",
       "  <thead>\n",
       "    <tr style=\"text-align: right;\">\n",
       "      <th></th>\n",
       "      <th>title</th>\n",
       "      <th>channelTitle</th>\n",
       "      <th>trending_count</th>\n",
       "      <th>country_list</th>\n",
       "    </tr>\n",
       "  </thead>\n",
       "  <tbody>\n",
       "    <tr>\n",
       "      <th>6052</th>\n",
       "      <td>좋은 일에 돈 아끼지 않는 💲회장님 클라스💲 유퀴즈 회장님들 #highlight #...</td>\n",
       "      <td>유 퀴즈 온 더 튜브</td>\n",
       "      <td>14</td>\n",
       "      <td>[KR]</td>\n",
       "    </tr>\n",
       "    <tr>\n",
       "      <th>6915</th>\n",
       "      <td>[4K][Special] 아이유(IU)의 킬링보이스를 라이브로! / 하루 끝, 너의...</td>\n",
       "      <td>딩고 뮤직 / dingo music</td>\n",
       "      <td>14</td>\n",
       "      <td>[KR]</td>\n",
       "    </tr>\n",
       "    <tr>\n",
       "      <th>6145</th>\n",
       "      <td>파김치 제대로 먹어드립니다. 파김치&amp;진진짜라 먹방 20210301/Mukbang, ...</td>\n",
       "      <td>입짧은햇님</td>\n",
       "      <td>14</td>\n",
       "      <td>[KR]</td>\n",
       "    </tr>\n",
       "    <tr>\n",
       "      <th>6144</th>\n",
       "      <td>범수야.. 너 노래 잘한다 (Feat. 김범수) | ODG</td>\n",
       "      <td>odg</td>\n",
       "      <td>14</td>\n",
       "      <td>[KR]</td>\n",
       "    </tr>\n",
       "    <tr>\n",
       "      <th>6579</th>\n",
       "      <td>히밥님...재료가 다 떨어졌어요...</td>\n",
       "      <td>승우아빠</td>\n",
       "      <td>14</td>\n",
       "      <td>[KR]</td>\n",
       "    </tr>\n",
       "    <tr>\n",
       "      <th>6082</th>\n",
       "      <td>24시간동안 잠 안 자기 VS 밥 안 먹기!! 누가 더 참기 힘들까?!</td>\n",
       "      <td>파뿌리</td>\n",
       "      <td>13</td>\n",
       "      <td>[KR]</td>\n",
       "    </tr>\n",
       "    <tr>\n",
       "      <th>6021</th>\n",
       "      <td>BTS Performs 'Fix You' (Coldplay Cover) | MTV ...</td>\n",
       "      <td>MTV UK</td>\n",
       "      <td>13</td>\n",
       "      <td>[KR]</td>\n",
       "    </tr>\n",
       "    <tr>\n",
       "      <th>6046</th>\n",
       "      <td>[신병외전] 주임원사</td>\n",
       "      <td>장삐쭈</td>\n",
       "      <td>13</td>\n",
       "      <td>[KR]</td>\n",
       "    </tr>\n",
       "    <tr>\n",
       "      <th>6107</th>\n",
       "      <td>아이오닉5 실물 영접했습니다!!! 근데 계약 취소해야 되나...</td>\n",
       "      <td>비피디 BPD</td>\n",
       "      <td>13</td>\n",
       "      <td>[KR]</td>\n",
       "    </tr>\n",
       "    <tr>\n",
       "      <th>7767</th>\n",
       "      <td>'한강 실종 의대생' 아버지가 밝힌 의문점들…친구는 왜 신발을 버렸나</td>\n",
       "      <td>뉴스1TV</td>\n",
       "      <td>13</td>\n",
       "      <td>[KR]</td>\n",
       "    </tr>\n",
       "  </tbody>\n",
       "</table>\n",
       "</div>"
      ],
      "text/plain": [
       "                                                  title         channelTitle  \\\n",
       "6052  좋은 일에 돈 아끼지 않는 💲회장님 클라스💲 유퀴즈 회장님들 #highlight #...          유 퀴즈 온 더 튜브   \n",
       "6915  [4K][Special] 아이유(IU)의 킬링보이스를 라이브로! / 하루 끝, 너의...  딩고 뮤직 / dingo music   \n",
       "6145  파김치 제대로 먹어드립니다. 파김치&진진짜라 먹방 20210301/Mukbang, ...                입짧은햇님   \n",
       "6144                   범수야.. 너 노래 잘한다 (Feat. 김범수) | ODG                  odg   \n",
       "6579                               히밥님...재료가 다 떨어졌어요...                 승우아빠   \n",
       "6082            24시간동안 잠 안 자기 VS 밥 안 먹기!! 누가 더 참기 힘들까?!                  파뿌리   \n",
       "6021  BTS Performs 'Fix You' (Coldplay Cover) | MTV ...               MTV UK   \n",
       "6046                                        [신병외전] 주임원사                  장삐쭈   \n",
       "6107                아이오닉5 실물 영접했습니다!!! 근데 계약 취소해야 되나...              비피디 BPD   \n",
       "7767             '한강 실종 의대생' 아버지가 밝힌 의문점들…친구는 왜 신발을 버렸나                뉴스1TV   \n",
       "\n",
       "      trending_count country_list  \n",
       "6052              14         [KR]  \n",
       "6915              14         [KR]  \n",
       "6145              14         [KR]  \n",
       "6144              14         [KR]  \n",
       "6579              14         [KR]  \n",
       "6082              13         [KR]  \n",
       "6021              13         [KR]  \n",
       "6046              13         [KR]  \n",
       "6107              13         [KR]  \n",
       "7767              13         [KR]  "
      ]
     },
     "execution_count": 80,
     "metadata": {},
     "output_type": "execute_result"
    }
   ],
   "source": [
    "# Top 10 videos that are trending the most time\n",
    "videos.sort_values('trending_count', ascending=False).head(10)[['title','channelTitle','trending_count','country_list']]"
   ]
  },
  {
   "cell_type": "code",
   "execution_count": 81,
   "id": "716a84a5",
   "metadata": {},
   "outputs": [
    {
     "data": {
      "text/html": [
       "<div>\n",
       "<style scoped>\n",
       "    .dataframe tbody tr th:only-of-type {\n",
       "        vertical-align: middle;\n",
       "    }\n",
       "\n",
       "    .dataframe tbody tr th {\n",
       "        vertical-align: top;\n",
       "    }\n",
       "\n",
       "    .dataframe thead th {\n",
       "        text-align: right;\n",
       "    }\n",
       "</style>\n",
       "<table border=\"1\" class=\"dataframe\">\n",
       "  <thead>\n",
       "    <tr style=\"text-align: right;\">\n",
       "      <th></th>\n",
       "      <th>title</th>\n",
       "      <th>channelTitle</th>\n",
       "      <th>views</th>\n",
       "      <th>country_list</th>\n",
       "    </tr>\n",
       "  </thead>\n",
       "  <tbody>\n",
       "    <tr>\n",
       "      <th>617</th>\n",
       "      <td>BTS (방탄소년단) 'Dynamite' Official MV</td>\n",
       "      <td>Big Hit Labels</td>\n",
       "      <td>262319276</td>\n",
       "      <td>[KR]</td>\n",
       "    </tr>\n",
       "    <tr>\n",
       "      <th>775</th>\n",
       "      <td>BLACKPINK - 'Ice Cream (with Selena Gomez)' M/V</td>\n",
       "      <td>BLACKPINK</td>\n",
       "      <td>184778248</td>\n",
       "      <td>[KR]</td>\n",
       "    </tr>\n",
       "    <tr>\n",
       "      <th>7898</th>\n",
       "      <td>BTS (방탄소년단) 'Butter' Official MV</td>\n",
       "      <td>HYBE LABELS</td>\n",
       "      <td>166895681</td>\n",
       "      <td>[KR]</td>\n",
       "    </tr>\n",
       "    <tr>\n",
       "      <th>3420</th>\n",
       "      <td>BTS (방탄소년단) 'Life Goes On' Official MV</td>\n",
       "      <td>Big Hit Labels</td>\n",
       "      <td>161912058</td>\n",
       "      <td>[KR]</td>\n",
       "    </tr>\n",
       "    <tr>\n",
       "      <th>1928</th>\n",
       "      <td>BLACKPINK – ‘Lovesick Girls’ M/V</td>\n",
       "      <td>BLACKPINK</td>\n",
       "      <td>161416953</td>\n",
       "      <td>[KR]</td>\n",
       "    </tr>\n",
       "    <tr>\n",
       "      <th>6420</th>\n",
       "      <td>ROSÉ - 'On The Ground' M/V</td>\n",
       "      <td>BLACKPINK</td>\n",
       "      <td>117461115</td>\n",
       "      <td>[KR]</td>\n",
       "    </tr>\n",
       "    <tr>\n",
       "      <th>2688</th>\n",
       "      <td>TWICE I CAN'T STOP ME M/V</td>\n",
       "      <td>JYP Entertainment</td>\n",
       "      <td>99382749</td>\n",
       "      <td>[KR]</td>\n",
       "    </tr>\n",
       "    <tr>\n",
       "      <th>50</th>\n",
       "      <td>Cardi B - WAP feat. Megan Thee Stallion [Offic...</td>\n",
       "      <td>Cardi B</td>\n",
       "      <td>82765322</td>\n",
       "      <td>[KR]</td>\n",
       "    </tr>\n",
       "    <tr>\n",
       "      <th>7891</th>\n",
       "      <td>NCT DREAM 엔시티 드림 '맛 (Hot Sauce)' MV</td>\n",
       "      <td>SMTOWN</td>\n",
       "      <td>81767273</td>\n",
       "      <td>[KR]</td>\n",
       "    </tr>\n",
       "    <tr>\n",
       "      <th>6896</th>\n",
       "      <td>BTS (방탄소년단) 'Film out' Official MV</td>\n",
       "      <td>HYBE LABELS</td>\n",
       "      <td>78893765</td>\n",
       "      <td>[KR]</td>\n",
       "    </tr>\n",
       "  </tbody>\n",
       "</table>\n",
       "</div>"
      ],
      "text/plain": [
       "                                                  title       channelTitle  \\\n",
       "617                  BTS (방탄소년단) 'Dynamite' Official MV     Big Hit Labels   \n",
       "775     BLACKPINK - 'Ice Cream (with Selena Gomez)' M/V          BLACKPINK   \n",
       "7898                   BTS (방탄소년단) 'Butter' Official MV        HYBE LABELS   \n",
       "3420             BTS (방탄소년단) 'Life Goes On' Official MV     Big Hit Labels   \n",
       "1928                   BLACKPINK – ‘Lovesick Girls’ M/V          BLACKPINK   \n",
       "6420                         ROSÉ - 'On The Ground' M/V          BLACKPINK   \n",
       "2688                          TWICE I CAN'T STOP ME M/V  JYP Entertainment   \n",
       "50    Cardi B - WAP feat. Megan Thee Stallion [Offic...            Cardi B   \n",
       "7891                NCT DREAM 엔시티 드림 '맛 (Hot Sauce)' MV             SMTOWN   \n",
       "6896                 BTS (방탄소년단) 'Film out' Official MV        HYBE LABELS   \n",
       "\n",
       "          views country_list  \n",
       "617   262319276         [KR]  \n",
       "775   184778248         [KR]  \n",
       "7898  166895681         [KR]  \n",
       "3420  161912058         [KR]  \n",
       "1928  161416953         [KR]  \n",
       "6420  117461115         [KR]  \n",
       "2688   99382749         [KR]  \n",
       "50     82765322         [KR]  \n",
       "7891   81767273         [KR]  \n",
       "6896   78893765         [KR]  "
      ]
     },
     "execution_count": 81,
     "metadata": {},
     "output_type": "execute_result"
    }
   ],
   "source": [
    "# 10 Highest view videos\n",
    "videos.sort_values('views', ascending=False).head(10)[['title','channelTitle','views','country_list']]"
   ]
  },
  {
   "cell_type": "code",
   "execution_count": 82,
   "id": "2ee0a538",
   "metadata": {},
   "outputs": [
    {
     "data": {
      "text/html": [
       "<div>\n",
       "<style scoped>\n",
       "    .dataframe tbody tr th:only-of-type {\n",
       "        vertical-align: middle;\n",
       "    }\n",
       "\n",
       "    .dataframe tbody tr th {\n",
       "        vertical-align: top;\n",
       "    }\n",
       "\n",
       "    .dataframe thead th {\n",
       "        text-align: right;\n",
       "    }\n",
       "</style>\n",
       "<table border=\"1\" class=\"dataframe\">\n",
       "  <thead>\n",
       "    <tr style=\"text-align: right;\">\n",
       "      <th></th>\n",
       "      <th>title</th>\n",
       "      <th>channelTitle</th>\n",
       "      <th>views</th>\n",
       "      <th>country_list</th>\n",
       "    </tr>\n",
       "  </thead>\n",
       "  <tbody>\n",
       "    <tr>\n",
       "      <th>617</th>\n",
       "      <td>BTS (방탄소년단) 'Dynamite' Official MV</td>\n",
       "      <td>Big Hit Labels</td>\n",
       "      <td>262319276</td>\n",
       "      <td>[KR]</td>\n",
       "    </tr>\n",
       "    <tr>\n",
       "      <th>775</th>\n",
       "      <td>BLACKPINK - 'Ice Cream (with Selena Gomez)' M/V</td>\n",
       "      <td>BLACKPINK</td>\n",
       "      <td>184778248</td>\n",
       "      <td>[KR]</td>\n",
       "    </tr>\n",
       "    <tr>\n",
       "      <th>7898</th>\n",
       "      <td>BTS (방탄소년단) 'Butter' Official MV</td>\n",
       "      <td>HYBE LABELS</td>\n",
       "      <td>166895681</td>\n",
       "      <td>[KR]</td>\n",
       "    </tr>\n",
       "    <tr>\n",
       "      <th>3420</th>\n",
       "      <td>BTS (방탄소년단) 'Life Goes On' Official MV</td>\n",
       "      <td>Big Hit Labels</td>\n",
       "      <td>161912058</td>\n",
       "      <td>[KR]</td>\n",
       "    </tr>\n",
       "    <tr>\n",
       "      <th>1928</th>\n",
       "      <td>BLACKPINK – ‘Lovesick Girls’ M/V</td>\n",
       "      <td>BLACKPINK</td>\n",
       "      <td>161416953</td>\n",
       "      <td>[KR]</td>\n",
       "    </tr>\n",
       "    <tr>\n",
       "      <th>6420</th>\n",
       "      <td>ROSÉ - 'On The Ground' M/V</td>\n",
       "      <td>BLACKPINK</td>\n",
       "      <td>117461115</td>\n",
       "      <td>[KR]</td>\n",
       "    </tr>\n",
       "    <tr>\n",
       "      <th>2688</th>\n",
       "      <td>TWICE I CAN'T STOP ME M/V</td>\n",
       "      <td>JYP Entertainment</td>\n",
       "      <td>99382749</td>\n",
       "      <td>[KR]</td>\n",
       "    </tr>\n",
       "    <tr>\n",
       "      <th>50</th>\n",
       "      <td>Cardi B - WAP feat. Megan Thee Stallion [Offic...</td>\n",
       "      <td>Cardi B</td>\n",
       "      <td>82765322</td>\n",
       "      <td>[KR]</td>\n",
       "    </tr>\n",
       "    <tr>\n",
       "      <th>7891</th>\n",
       "      <td>NCT DREAM 엔시티 드림 '맛 (Hot Sauce)' MV</td>\n",
       "      <td>SMTOWN</td>\n",
       "      <td>81767273</td>\n",
       "      <td>[KR]</td>\n",
       "    </tr>\n",
       "    <tr>\n",
       "      <th>6896</th>\n",
       "      <td>BTS (방탄소년단) 'Film out' Official MV</td>\n",
       "      <td>HYBE LABELS</td>\n",
       "      <td>78893765</td>\n",
       "      <td>[KR]</td>\n",
       "    </tr>\n",
       "  </tbody>\n",
       "</table>\n",
       "</div>"
      ],
      "text/plain": [
       "                                                  title       channelTitle  \\\n",
       "617                  BTS (방탄소년단) 'Dynamite' Official MV     Big Hit Labels   \n",
       "775     BLACKPINK - 'Ice Cream (with Selena Gomez)' M/V          BLACKPINK   \n",
       "7898                   BTS (방탄소년단) 'Butter' Official MV        HYBE LABELS   \n",
       "3420             BTS (방탄소년단) 'Life Goes On' Official MV     Big Hit Labels   \n",
       "1928                   BLACKPINK – ‘Lovesick Girls’ M/V          BLACKPINK   \n",
       "6420                         ROSÉ - 'On The Ground' M/V          BLACKPINK   \n",
       "2688                          TWICE I CAN'T STOP ME M/V  JYP Entertainment   \n",
       "50    Cardi B - WAP feat. Megan Thee Stallion [Offic...            Cardi B   \n",
       "7891                NCT DREAM 엔시티 드림 '맛 (Hot Sauce)' MV             SMTOWN   \n",
       "6896                 BTS (방탄소년단) 'Film out' Official MV        HYBE LABELS   \n",
       "\n",
       "          views country_list  \n",
       "617   262319276         [KR]  \n",
       "775   184778248         [KR]  \n",
       "7898  166895681         [KR]  \n",
       "3420  161912058         [KR]  \n",
       "1928  161416953         [KR]  \n",
       "6420  117461115         [KR]  \n",
       "2688   99382749         [KR]  \n",
       "50     82765322         [KR]  \n",
       "7891   81767273         [KR]  \n",
       "6896   78893765         [KR]  "
      ]
     },
     "execution_count": 82,
     "metadata": {},
     "output_type": "execute_result"
    }
   ],
   "source": [
    "# 10 Highest view videos\n",
    "videos.sort_values('views', ascending=False).head(10)[['title','channelTitle','views','country_list']]"
   ]
  },
  {
   "cell_type": "code",
   "execution_count": 83,
   "id": "56ef452c",
   "metadata": {},
   "outputs": [
    {
     "data": {
      "text/html": [
       "<div>\n",
       "<style scoped>\n",
       "    .dataframe tbody tr th:only-of-type {\n",
       "        vertical-align: middle;\n",
       "    }\n",
       "\n",
       "    .dataframe tbody tr th {\n",
       "        vertical-align: top;\n",
       "    }\n",
       "\n",
       "    .dataframe thead th {\n",
       "        text-align: right;\n",
       "    }\n",
       "</style>\n",
       "<table border=\"1\" class=\"dataframe\">\n",
       "  <thead>\n",
       "    <tr style=\"text-align: right;\">\n",
       "      <th></th>\n",
       "      <th>title</th>\n",
       "      <th>channelTitle</th>\n",
       "      <th>likes</th>\n",
       "      <th>country_list</th>\n",
       "    </tr>\n",
       "  </thead>\n",
       "  <tbody>\n",
       "    <tr>\n",
       "      <th>617</th>\n",
       "      <td>BTS (방탄소년단) 'Dynamite' Official MV</td>\n",
       "      <td>Big Hit Labels</td>\n",
       "      <td>16254784</td>\n",
       "      <td>[KR]</td>\n",
       "    </tr>\n",
       "    <tr>\n",
       "      <th>7898</th>\n",
       "      <td>BTS (방탄소년단) 'Butter' Official MV</td>\n",
       "      <td>HYBE LABELS</td>\n",
       "      <td>14202578</td>\n",
       "      <td>[KR]</td>\n",
       "    </tr>\n",
       "    <tr>\n",
       "      <th>775</th>\n",
       "      <td>BLACKPINK - 'Ice Cream (with Selena Gomez)' M/V</td>\n",
       "      <td>BLACKPINK</td>\n",
       "      <td>11795696</td>\n",
       "      <td>[KR]</td>\n",
       "    </tr>\n",
       "    <tr>\n",
       "      <th>3420</th>\n",
       "      <td>BTS (방탄소년단) 'Life Goes On' Official MV</td>\n",
       "      <td>Big Hit Labels</td>\n",
       "      <td>11650994</td>\n",
       "      <td>[KR]</td>\n",
       "    </tr>\n",
       "    <tr>\n",
       "      <th>1928</th>\n",
       "      <td>BLACKPINK – ‘Lovesick Girls’ M/V</td>\n",
       "      <td>BLACKPINK</td>\n",
       "      <td>9537518</td>\n",
       "      <td>[KR]</td>\n",
       "    </tr>\n",
       "    <tr>\n",
       "      <th>6420</th>\n",
       "      <td>ROSÉ - 'On The Ground' M/V</td>\n",
       "      <td>BLACKPINK</td>\n",
       "      <td>7508707</td>\n",
       "      <td>[KR]</td>\n",
       "    </tr>\n",
       "    <tr>\n",
       "      <th>6896</th>\n",
       "      <td>BTS (방탄소년단) 'Film out' Official MV</td>\n",
       "      <td>HYBE LABELS</td>\n",
       "      <td>7137434</td>\n",
       "      <td>[KR]</td>\n",
       "    </tr>\n",
       "    <tr>\n",
       "      <th>442</th>\n",
       "      <td>BTS (방탄소년단) 'Dynamite' Official Teaser</td>\n",
       "      <td>Big Hit Labels</td>\n",
       "      <td>6185031</td>\n",
       "      <td>[KR]</td>\n",
       "    </tr>\n",
       "    <tr>\n",
       "      <th>697</th>\n",
       "      <td>BTS (방탄소년단) 'Dynamite' Official MV (B-side)</td>\n",
       "      <td>Big Hit Labels</td>\n",
       "      <td>6032032</td>\n",
       "      <td>[KR]</td>\n",
       "    </tr>\n",
       "    <tr>\n",
       "      <th>7867</th>\n",
       "      <td>BTS (방탄소년단) 'Butter' Official Teaser</td>\n",
       "      <td>HYBE LABELS</td>\n",
       "      <td>5658787</td>\n",
       "      <td>[KR]</td>\n",
       "    </tr>\n",
       "  </tbody>\n",
       "</table>\n",
       "</div>"
      ],
      "text/plain": [
       "                                                title    channelTitle  \\\n",
       "617                BTS (방탄소년단) 'Dynamite' Official MV  Big Hit Labels   \n",
       "7898                 BTS (방탄소년단) 'Butter' Official MV     HYBE LABELS   \n",
       "775   BLACKPINK - 'Ice Cream (with Selena Gomez)' M/V       BLACKPINK   \n",
       "3420           BTS (방탄소년단) 'Life Goes On' Official MV  Big Hit Labels   \n",
       "1928                 BLACKPINK – ‘Lovesick Girls’ M/V       BLACKPINK   \n",
       "6420                       ROSÉ - 'On The Ground' M/V       BLACKPINK   \n",
       "6896               BTS (방탄소년단) 'Film out' Official MV     HYBE LABELS   \n",
       "442            BTS (방탄소년단) 'Dynamite' Official Teaser  Big Hit Labels   \n",
       "697       BTS (방탄소년단) 'Dynamite' Official MV (B-side)  Big Hit Labels   \n",
       "7867             BTS (방탄소년단) 'Butter' Official Teaser     HYBE LABELS   \n",
       "\n",
       "         likes country_list  \n",
       "617   16254784         [KR]  \n",
       "7898  14202578         [KR]  \n",
       "775   11795696         [KR]  \n",
       "3420  11650994         [KR]  \n",
       "1928   9537518         [KR]  \n",
       "6420   7508707         [KR]  \n",
       "6896   7137434         [KR]  \n",
       "442    6185031         [KR]  \n",
       "697    6032032         [KR]  \n",
       "7867   5658787         [KR]  "
      ]
     },
     "execution_count": 83,
     "metadata": {},
     "output_type": "execute_result"
    }
   ],
   "source": [
    "# Top 10 most liked videos\n",
    "videos.sort_values('likes', ascending=False).head(10)[['title','channelTitle','likes','country_list']]"
   ]
  },
  {
   "cell_type": "code",
   "execution_count": 84,
   "id": "054491c2",
   "metadata": {
    "scrolled": true
   },
   "outputs": [
    {
     "data": {
      "text/html": [
       "<div>\n",
       "<style scoped>\n",
       "    .dataframe tbody tr th:only-of-type {\n",
       "        vertical-align: middle;\n",
       "    }\n",
       "\n",
       "    .dataframe tbody tr th {\n",
       "        vertical-align: top;\n",
       "    }\n",
       "\n",
       "    .dataframe thead th {\n",
       "        text-align: right;\n",
       "    }\n",
       "</style>\n",
       "<table border=\"1\" class=\"dataframe\">\n",
       "  <thead>\n",
       "    <tr style=\"text-align: right;\">\n",
       "      <th></th>\n",
       "      <th>title</th>\n",
       "      <th>channelTitle</th>\n",
       "      <th>dislikes</th>\n",
       "      <th>country_list</th>\n",
       "    </tr>\n",
       "  </thead>\n",
       "  <tbody>\n",
       "    <tr>\n",
       "      <th>775</th>\n",
       "      <td>BLACKPINK - 'Ice Cream (with Selena Gomez)' M/V</td>\n",
       "      <td>BLACKPINK</td>\n",
       "      <td>879358</td>\n",
       "      <td>[KR]</td>\n",
       "    </tr>\n",
       "    <tr>\n",
       "      <th>617</th>\n",
       "      <td>BTS (방탄소년단) 'Dynamite' Official MV</td>\n",
       "      <td>Big Hit Labels</td>\n",
       "      <td>770144</td>\n",
       "      <td>[KR]</td>\n",
       "    </tr>\n",
       "    <tr>\n",
       "      <th>50</th>\n",
       "      <td>Cardi B - WAP feat. Megan Thee Stallion [Offic...</td>\n",
       "      <td>Cardi B</td>\n",
       "      <td>408064</td>\n",
       "      <td>[KR]</td>\n",
       "    </tr>\n",
       "    <tr>\n",
       "      <th>442</th>\n",
       "      <td>BTS (방탄소년단) 'Dynamite' Official Teaser</td>\n",
       "      <td>Big Hit Labels</td>\n",
       "      <td>159659</td>\n",
       "      <td>[KR]</td>\n",
       "    </tr>\n",
       "    <tr>\n",
       "      <th>1928</th>\n",
       "      <td>BLACKPINK – ‘Lovesick Girls’ M/V</td>\n",
       "      <td>BLACKPINK</td>\n",
       "      <td>148435</td>\n",
       "      <td>[KR]</td>\n",
       "    </tr>\n",
       "    <tr>\n",
       "      <th>3420</th>\n",
       "      <td>BTS (방탄소년단) 'Life Goes On' Official MV</td>\n",
       "      <td>Big Hit Labels</td>\n",
       "      <td>141033</td>\n",
       "      <td>[KR]</td>\n",
       "    </tr>\n",
       "    <tr>\n",
       "      <th>203</th>\n",
       "      <td>안녕하세요 보겸입니다</td>\n",
       "      <td>보겸 BK</td>\n",
       "      <td>115494</td>\n",
       "      <td>[KR]</td>\n",
       "    </tr>\n",
       "    <tr>\n",
       "      <th>6420</th>\n",
       "      <td>ROSÉ - 'On The Ground' M/V</td>\n",
       "      <td>BLACKPINK</td>\n",
       "      <td>109304</td>\n",
       "      <td>[KR]</td>\n",
       "    </tr>\n",
       "    <tr>\n",
       "      <th>697</th>\n",
       "      <td>BTS (방탄소년단) 'Dynamite' Official MV (B-side)</td>\n",
       "      <td>Big Hit Labels</td>\n",
       "      <td>100054</td>\n",
       "      <td>[KR]</td>\n",
       "    </tr>\n",
       "    <tr>\n",
       "      <th>3315</th>\n",
       "      <td>aespa 에스파 'Black Mamba' MV</td>\n",
       "      <td>SMTOWN</td>\n",
       "      <td>98315</td>\n",
       "      <td>[KR]</td>\n",
       "    </tr>\n",
       "  </tbody>\n",
       "</table>\n",
       "</div>"
      ],
      "text/plain": [
       "                                                  title    channelTitle  \\\n",
       "775     BLACKPINK - 'Ice Cream (with Selena Gomez)' M/V       BLACKPINK   \n",
       "617                  BTS (방탄소년단) 'Dynamite' Official MV  Big Hit Labels   \n",
       "50    Cardi B - WAP feat. Megan Thee Stallion [Offic...         Cardi B   \n",
       "442              BTS (방탄소년단) 'Dynamite' Official Teaser  Big Hit Labels   \n",
       "1928                   BLACKPINK – ‘Lovesick Girls’ M/V       BLACKPINK   \n",
       "3420             BTS (방탄소년단) 'Life Goes On' Official MV  Big Hit Labels   \n",
       "203                                         안녕하세요 보겸입니다           보겸 BK   \n",
       "6420                         ROSÉ - 'On The Ground' M/V       BLACKPINK   \n",
       "697         BTS (방탄소년단) 'Dynamite' Official MV (B-side)  Big Hit Labels   \n",
       "3315                         aespa 에스파 'Black Mamba' MV          SMTOWN   \n",
       "\n",
       "      dislikes country_list  \n",
       "775     879358         [KR]  \n",
       "617     770144         [KR]  \n",
       "50      408064         [KR]  \n",
       "442     159659         [KR]  \n",
       "1928    148435         [KR]  \n",
       "3420    141033         [KR]  \n",
       "203     115494         [KR]  \n",
       "6420    109304         [KR]  \n",
       "697     100054         [KR]  \n",
       "3315     98315         [KR]  "
      ]
     },
     "execution_count": 84,
     "metadata": {},
     "output_type": "execute_result"
    }
   ],
   "source": [
    "# Top 10 most dislike videos\n",
    "videos.sort_values('dislikes', ascending=False).head(10)[['title','channelTitle','dislikes','country_list']]"
   ]
  },
  {
   "cell_type": "code",
   "execution_count": 85,
   "id": "ac412a66",
   "metadata": {},
   "outputs": [
    {
     "data": {
      "text/html": [
       "<div>\n",
       "<style scoped>\n",
       "    .dataframe tbody tr th:only-of-type {\n",
       "        vertical-align: middle;\n",
       "    }\n",
       "\n",
       "    .dataframe tbody tr th {\n",
       "        vertical-align: top;\n",
       "    }\n",
       "\n",
       "    .dataframe thead th {\n",
       "        text-align: right;\n",
       "    }\n",
       "</style>\n",
       "<table border=\"1\" class=\"dataframe\">\n",
       "  <thead>\n",
       "    <tr style=\"text-align: right;\">\n",
       "      <th></th>\n",
       "      <th>title</th>\n",
       "      <th>channelTitle</th>\n",
       "      <th>comments</th>\n",
       "      <th>country_list</th>\n",
       "    </tr>\n",
       "  </thead>\n",
       "  <tbody>\n",
       "    <tr>\n",
       "      <th>617</th>\n",
       "      <td>BTS (방탄소년단) 'Dynamite' Official MV</td>\n",
       "      <td>Big Hit Labels</td>\n",
       "      <td>6303708</td>\n",
       "      <td>[KR]</td>\n",
       "    </tr>\n",
       "    <tr>\n",
       "      <th>7898</th>\n",
       "      <td>BTS (방탄소년단) 'Butter' Official MV</td>\n",
       "      <td>HYBE LABELS</td>\n",
       "      <td>5987764</td>\n",
       "      <td>[KR]</td>\n",
       "    </tr>\n",
       "    <tr>\n",
       "      <th>3420</th>\n",
       "      <td>BTS (방탄소년단) 'Life Goes On' Official MV</td>\n",
       "      <td>Big Hit Labels</td>\n",
       "      <td>4225989</td>\n",
       "      <td>[KR]</td>\n",
       "    </tr>\n",
       "    <tr>\n",
       "      <th>775</th>\n",
       "      <td>BLACKPINK - 'Ice Cream (with Selena Gomez)' M/V</td>\n",
       "      <td>BLACKPINK</td>\n",
       "      <td>2735999</td>\n",
       "      <td>[KR]</td>\n",
       "    </tr>\n",
       "    <tr>\n",
       "      <th>6896</th>\n",
       "      <td>BTS (방탄소년단) 'Film out' Official MV</td>\n",
       "      <td>HYBE LABELS</td>\n",
       "      <td>2240915</td>\n",
       "      <td>[KR]</td>\n",
       "    </tr>\n",
       "    <tr>\n",
       "      <th>6420</th>\n",
       "      <td>ROSÉ - 'On The Ground' M/V</td>\n",
       "      <td>BLACKPINK</td>\n",
       "      <td>1610298</td>\n",
       "      <td>[KR]</td>\n",
       "    </tr>\n",
       "    <tr>\n",
       "      <th>1928</th>\n",
       "      <td>BLACKPINK – ‘Lovesick Girls’ M/V</td>\n",
       "      <td>BLACKPINK</td>\n",
       "      <td>1541326</td>\n",
       "      <td>[KR]</td>\n",
       "    </tr>\n",
       "    <tr>\n",
       "      <th>7867</th>\n",
       "      <td>BTS (방탄소년단) 'Butter' Official Teaser</td>\n",
       "      <td>HYBE LABELS</td>\n",
       "      <td>1177546</td>\n",
       "      <td>[KR]</td>\n",
       "    </tr>\n",
       "    <tr>\n",
       "      <th>2688</th>\n",
       "      <td>TWICE I CAN'T STOP ME M/V</td>\n",
       "      <td>JYP Entertainment</td>\n",
       "      <td>1024630</td>\n",
       "      <td>[KR]</td>\n",
       "    </tr>\n",
       "    <tr>\n",
       "      <th>442</th>\n",
       "      <td>BTS (방탄소년단) 'Dynamite' Official Teaser</td>\n",
       "      <td>Big Hit Labels</td>\n",
       "      <td>1013751</td>\n",
       "      <td>[KR]</td>\n",
       "    </tr>\n",
       "  </tbody>\n",
       "</table>\n",
       "</div>"
      ],
      "text/plain": [
       "                                                title       channelTitle  \\\n",
       "617                BTS (방탄소년단) 'Dynamite' Official MV     Big Hit Labels   \n",
       "7898                 BTS (방탄소년단) 'Butter' Official MV        HYBE LABELS   \n",
       "3420           BTS (방탄소년단) 'Life Goes On' Official MV     Big Hit Labels   \n",
       "775   BLACKPINK - 'Ice Cream (with Selena Gomez)' M/V          BLACKPINK   \n",
       "6896               BTS (방탄소년단) 'Film out' Official MV        HYBE LABELS   \n",
       "6420                       ROSÉ - 'On The Ground' M/V          BLACKPINK   \n",
       "1928                 BLACKPINK – ‘Lovesick Girls’ M/V          BLACKPINK   \n",
       "7867             BTS (방탄소년단) 'Butter' Official Teaser        HYBE LABELS   \n",
       "2688                        TWICE I CAN'T STOP ME M/V  JYP Entertainment   \n",
       "442            BTS (방탄소년단) 'Dynamite' Official Teaser     Big Hit Labels   \n",
       "\n",
       "      comments country_list  \n",
       "617    6303708         [KR]  \n",
       "7898   5987764         [KR]  \n",
       "3420   4225989         [KR]  \n",
       "775    2735999         [KR]  \n",
       "6896   2240915         [KR]  \n",
       "6420   1610298         [KR]  \n",
       "1928   1541326         [KR]  \n",
       "7867   1177546         [KR]  \n",
       "2688   1024630         [KR]  \n",
       "442    1013751         [KR]  "
      ]
     },
     "execution_count": 85,
     "metadata": {},
     "output_type": "execute_result"
    }
   ],
   "source": [
    "# Top 10 videos by comments\n",
    "videos.sort_values('comments', ascending=False).head(10)[['title','channelTitle','comments','country_list']]"
   ]
  },
  {
   "cell_type": "code",
   "execution_count": 86,
   "id": "445637cc",
   "metadata": {},
   "outputs": [
    {
     "data": {
      "text/html": [
       "<div>\n",
       "<style scoped>\n",
       "    .dataframe tbody tr th:only-of-type {\n",
       "        vertical-align: middle;\n",
       "    }\n",
       "\n",
       "    .dataframe tbody tr th {\n",
       "        vertical-align: top;\n",
       "    }\n",
       "\n",
       "    .dataframe thead th {\n",
       "        text-align: right;\n",
       "    }\n",
       "</style>\n",
       "<table border=\"1\" class=\"dataframe\">\n",
       "  <thead>\n",
       "    <tr style=\"text-align: right;\">\n",
       "      <th></th>\n",
       "      <th>title</th>\n",
       "      <th>channelTitle</th>\n",
       "      <th>views</th>\n",
       "      <th>country_list</th>\n",
       "    </tr>\n",
       "  </thead>\n",
       "  <tbody>\n",
       "    <tr>\n",
       "      <th>4335</th>\n",
       "      <td>Hello 2021 Korea | 크리에이터와 함께하는 Goodbye 2020</td>\n",
       "      <td>YouTube Korea</td>\n",
       "      <td>0</td>\n",
       "      <td>[KR]</td>\n",
       "    </tr>\n",
       "    <tr>\n",
       "      <th>7278</th>\n",
       "      <td>Earth Day 2021 Doodle</td>\n",
       "      <td>GoogleDoodles</td>\n",
       "      <td>0</td>\n",
       "      <td>[KR]</td>\n",
       "    </tr>\n",
       "    <tr>\n",
       "      <th>1457</th>\n",
       "      <td>[정면]'국시보겠다'면서, 사과없는 의대생들- 신장식 변호사, 유지만 시사저널 기자...</td>\n",
       "      <td>YTN 라디오</td>\n",
       "      <td>15845</td>\n",
       "      <td>[KR]</td>\n",
       "    </tr>\n",
       "    <tr>\n",
       "      <th>183</th>\n",
       "      <td>[싸꼰_LIVE] 사사건건 풀방송 라이브_364일차_0818(화)</td>\n",
       "      <td>「싸꼰」사사건건</td>\n",
       "      <td>16957</td>\n",
       "      <td>[KR]</td>\n",
       "    </tr>\n",
       "    <tr>\n",
       "      <th>671</th>\n",
       "      <td>[싸꼰_LIVE] 사사건건 풀방송 라이브_373일차_0901(화)</td>\n",
       "      <td>「싸꼰」사사건건</td>\n",
       "      <td>17294</td>\n",
       "      <td>[KR]</td>\n",
       "    </tr>\n",
       "    <tr>\n",
       "      <th>689</th>\n",
       "      <td>[2020 K리그] 18R 울산 vs 서울 하이라이트</td>\n",
       "      <td>JTBC GOLF&amp;SPORTS</td>\n",
       "      <td>17814</td>\n",
       "      <td>[KR]</td>\n",
       "    </tr>\n",
       "    <tr>\n",
       "      <th>1000</th>\n",
       "      <td>9월 9일 라이브입니다 ... 주제 없습니다 ...</td>\n",
       "      <td>최인호TV</td>\n",
       "      <td>18103</td>\n",
       "      <td>[KR]</td>\n",
       "    </tr>\n",
       "    <tr>\n",
       "      <th>1036</th>\n",
       "      <td>던파 레전드사건이 터졌습니다</td>\n",
       "      <td>겜순이녜 Soon TV</td>\n",
       "      <td>20729</td>\n",
       "      <td>[KR]</td>\n",
       "    </tr>\n",
       "    <tr>\n",
       "      <th>72</th>\n",
       "      <td>경제는 살았다는데 나는 돈이 없는 이유 [라이브 EP131]</td>\n",
       "      <td>엄튜브 /EOMTUBE</td>\n",
       "      <td>23011</td>\n",
       "      <td>[KR]</td>\n",
       "    </tr>\n",
       "    <tr>\n",
       "      <th>1758</th>\n",
       "      <td>딕헌터 : 인간 과일된 사연은?(상큼주의🍋 )  [공인인증Thㅓ]</td>\n",
       "      <td>트레져헌터</td>\n",
       "      <td>23354</td>\n",
       "      <td>[KR]</td>\n",
       "    </tr>\n",
       "  </tbody>\n",
       "</table>\n",
       "</div>"
      ],
      "text/plain": [
       "                                                  title      channelTitle  \\\n",
       "4335        Hello 2021 Korea | 크리에이터와 함께하는 Goodbye 2020     YouTube Korea   \n",
       "7278                              Earth Day 2021 Doodle     GoogleDoodles   \n",
       "1457  [정면]'국시보겠다'면서, 사과없는 의대생들- 신장식 변호사, 유지만 시사저널 기자...           YTN 라디오   \n",
       "183                [싸꼰_LIVE] 사사건건 풀방송 라이브_364일차_0818(화)          「싸꼰」사사건건   \n",
       "671                [싸꼰_LIVE] 사사건건 풀방송 라이브_373일차_0901(화)          「싸꼰」사사건건   \n",
       "689                       [2020 K리그] 18R 울산 vs 서울 하이라이트  JTBC GOLF&SPORTS   \n",
       "1000                       9월 9일 라이브입니다 ... 주제 없습니다 ...             최인호TV   \n",
       "1036                                    던파 레전드사건이 터졌습니다      겜순이녜 Soon TV   \n",
       "72                    경제는 살았다는데 나는 돈이 없는 이유 [라이브 EP131]      엄튜브 /EOMTUBE   \n",
       "1758               딕헌터 : 인간 과일된 사연은?(상큼주의🍋 )  [공인인증Thㅓ]             트레져헌터   \n",
       "\n",
       "      views country_list  \n",
       "4335      0         [KR]  \n",
       "7278      0         [KR]  \n",
       "1457  15845         [KR]  \n",
       "183   16957         [KR]  \n",
       "671   17294         [KR]  \n",
       "689   17814         [KR]  \n",
       "1000  18103         [KR]  \n",
       "1036  20729         [KR]  \n",
       "72    23011         [KR]  \n",
       "1758  23354         [KR]  "
      ]
     },
     "execution_count": 86,
     "metadata": {},
     "output_type": "execute_result"
    }
   ],
   "source": [
    "# Trending videos with lowest views\n",
    "videos.sort_values('views').head(10)[['title','channelTitle','views','country_list']]"
   ]
  },
  {
   "cell_type": "code",
   "execution_count": 87,
   "id": "05114c43",
   "metadata": {
    "scrolled": true
   },
   "outputs": [
    {
     "data": {
      "text/html": [
       "<div>\n",
       "<style scoped>\n",
       "    .dataframe tbody tr th:only-of-type {\n",
       "        vertical-align: middle;\n",
       "    }\n",
       "\n",
       "    .dataframe tbody tr th {\n",
       "        vertical-align: top;\n",
       "    }\n",
       "\n",
       "    .dataframe thead th {\n",
       "        text-align: right;\n",
       "    }\n",
       "</style>\n",
       "<table border=\"1\" class=\"dataframe\">\n",
       "  <thead>\n",
       "    <tr style=\"text-align: right;\">\n",
       "      <th></th>\n",
       "      <th>title</th>\n",
       "      <th>channelTitle</th>\n",
       "      <th>publishedAt</th>\n",
       "      <th>first_trend_date</th>\n",
       "      <th>country_list</th>\n",
       "    </tr>\n",
       "  </thead>\n",
       "  <tbody>\n",
       "    <tr>\n",
       "      <th>47</th>\n",
       "      <td>[순간포착 세상에 이런 일이 레전드] ‘검은 얼굴의 남자’ 풀버전 다시보기ㅣ순간포착...</td>\n",
       "      <td>SBS STORY</td>\n",
       "      <td>2020-08-05 02:00:03+00:00</td>\n",
       "      <td>2020-08-12</td>\n",
       "      <td>[KR]</td>\n",
       "    </tr>\n",
       "    <tr>\n",
       "      <th>46</th>\n",
       "      <td>정동원 남승민&amp;임도형 웰컴 투 하동 집들이 [아내의 맛]</td>\n",
       "      <td>정동원TV</td>\n",
       "      <td>2020-08-05 02:43:53+00:00</td>\n",
       "      <td>2020-08-12</td>\n",
       "      <td>[KR]</td>\n",
       "    </tr>\n",
       "    <tr>\n",
       "      <th>16</th>\n",
       "      <td>(다반뉴스) 고X정 불륜! 민주당 개망신 영상 떴다! / 신의한수 20.08.05</td>\n",
       "      <td>신의한수</td>\n",
       "      <td>2020-08-05 09:49:42+00:00</td>\n",
       "      <td>2020-08-12</td>\n",
       "      <td>[KR]</td>\n",
       "    </tr>\n",
       "    <tr>\n",
       "      <th>9</th>\n",
       "      <td>자기를 살려준 인간을 기억한 돌고래가 보여준 믿을 수 없는 실화</td>\n",
       "      <td>달빛뮤즈</td>\n",
       "      <td>2020-08-05 10:45:12+00:00</td>\n",
       "      <td>2020-08-12</td>\n",
       "      <td>[KR]</td>\n",
       "    </tr>\n",
       "    <tr>\n",
       "      <th>31</th>\n",
       "      <td>이삭토스트를 처음 먹어본 영국인들의 반응??!!</td>\n",
       "      <td>영국남자 Korean Englishman</td>\n",
       "      <td>2020-08-05 11:30:24+00:00</td>\n",
       "      <td>2020-08-12</td>\n",
       "      <td>[KR]</td>\n",
       "    </tr>\n",
       "    <tr>\n",
       "      <th>60</th>\n",
       "      <td>사실상 참PD가 가장 분노했던 먹방유튜버 나름TV [이슈왕]</td>\n",
       "      <td>이슈왕 TV</td>\n",
       "      <td>2020-08-05 14:02:54+00:00</td>\n",
       "      <td>2020-08-12</td>\n",
       "      <td>[KR]</td>\n",
       "    </tr>\n",
       "    <tr>\n",
       "      <th>19</th>\n",
       "      <td>삼성의 첫 노캔 무선 이어폰? 갤럭시 버즈 라이브&amp;워치3 모든 색상 동시 언빡싱과 ...</td>\n",
       "      <td>ITSub잇섭</td>\n",
       "      <td>2020-08-05 15:45:01+00:00</td>\n",
       "      <td>2020-08-12</td>\n",
       "      <td>[KR]</td>\n",
       "    </tr>\n",
       "    <tr>\n",
       "      <th>23</th>\n",
       "      <td>너희 형제 맞아?? 갤럭시 노트20 &amp; 노트20 울트라 개봉기 [4K]</td>\n",
       "      <td>UNDERkg</td>\n",
       "      <td>2020-08-05 23:00:02+00:00</td>\n",
       "      <td>2020-08-12</td>\n",
       "      <td>[KR]</td>\n",
       "    </tr>\n",
       "    <tr>\n",
       "      <th>22</th>\n",
       "      <td>강형욱, 개훌륭 최초로 올가미 사용하다! 역대급 경계심 천둥이[개는 룰륭하다]</td>\n",
       "      <td>KBS동물티비 : 애니멀포유 animal4u</td>\n",
       "      <td>2020-08-05 23:00:03+00:00</td>\n",
       "      <td>2020-08-12</td>\n",
       "      <td>[KR]</td>\n",
       "    </tr>\n",
       "    <tr>\n",
       "      <th>32</th>\n",
       "      <td>한강 물이 넘쳐도 편의점은 무사한 이유 /스브스뉴스</td>\n",
       "      <td>스브스뉴스 SUBUSU NEWS</td>\n",
       "      <td>2020-08-06 07:00:04+00:00</td>\n",
       "      <td>2020-08-12</td>\n",
       "      <td>[KR]</td>\n",
       "    </tr>\n",
       "  </tbody>\n",
       "</table>\n",
       "</div>"
      ],
      "text/plain": [
       "                                                title  \\\n",
       "47  [순간포착 세상에 이런 일이 레전드] ‘검은 얼굴의 남자’ 풀버전 다시보기ㅣ순간포착...   \n",
       "46                    정동원 남승민&임도형 웰컴 투 하동 집들이 [아내의 맛]   \n",
       "16      (다반뉴스) 고X정 불륜! 민주당 개망신 영상 떴다! / 신의한수 20.08.05   \n",
       "9                 자기를 살려준 인간을 기억한 돌고래가 보여준 믿을 수 없는 실화   \n",
       "31                         이삭토스트를 처음 먹어본 영국인들의 반응??!!   \n",
       "60                  사실상 참PD가 가장 분노했던 먹방유튜버 나름TV [이슈왕]   \n",
       "19  삼성의 첫 노캔 무선 이어폰? 갤럭시 버즈 라이브&워치3 모든 색상 동시 언빡싱과 ...   \n",
       "23            너희 형제 맞아?? 갤럭시 노트20 & 노트20 울트라 개봉기 [4K]   \n",
       "22        강형욱, 개훌륭 최초로 올가미 사용하다! 역대급 경계심 천둥이[개는 룰륭하다]   \n",
       "32                       한강 물이 넘쳐도 편의점은 무사한 이유 /스브스뉴스   \n",
       "\n",
       "                channelTitle               publishedAt first_trend_date  \\\n",
       "47                 SBS STORY 2020-08-05 02:00:03+00:00       2020-08-12   \n",
       "46                     정동원TV 2020-08-05 02:43:53+00:00       2020-08-12   \n",
       "16                      신의한수 2020-08-05 09:49:42+00:00       2020-08-12   \n",
       "9                       달빛뮤즈 2020-08-05 10:45:12+00:00       2020-08-12   \n",
       "31    영국남자 Korean Englishman 2020-08-05 11:30:24+00:00       2020-08-12   \n",
       "60                    이슈왕 TV 2020-08-05 14:02:54+00:00       2020-08-12   \n",
       "19                   ITSub잇섭 2020-08-05 15:45:01+00:00       2020-08-12   \n",
       "23                   UNDERkg 2020-08-05 23:00:02+00:00       2020-08-12   \n",
       "22  KBS동물티비 : 애니멀포유 animal4u 2020-08-05 23:00:03+00:00       2020-08-12   \n",
       "32         스브스뉴스 SUBUSU NEWS 2020-08-06 07:00:04+00:00       2020-08-12   \n",
       "\n",
       "   country_list  \n",
       "47         [KR]  \n",
       "46         [KR]  \n",
       "16         [KR]  \n",
       "9          [KR]  \n",
       "31         [KR]  \n",
       "60         [KR]  \n",
       "19         [KR]  \n",
       "23         [KR]  \n",
       "22         [KR]  \n",
       "32         [KR]  "
      ]
     },
     "execution_count": 87,
     "metadata": {},
     "output_type": "execute_result"
    }
   ],
   "source": [
    "# Oldest videos that become trending?\n",
    "videos.sort_values('publishedAt').head(10)[['title','channelTitle','publishedAt','first_trend_date','country_list']]"
   ]
  },
  {
   "cell_type": "code",
   "execution_count": 88,
   "id": "5cc864ec",
   "metadata": {},
   "outputs": [],
   "source": [
    "channel_stat = videos.groupby('channelId').agg({'video_id':'count',\n",
    "                               'views': ['sum','mean'],\n",
    "                           'days_trend': 'sum'})\n",
    "channel_stat.columns = ['no of videos','total views', 'average views', 'total days trending']\n",
    "channel_stat.reset_index(inplace=True)\n",
    "\n",
    "channel_names = df[['channelId','channelTitle']].drop_duplicates(subset='channelId', keep='last')\n",
    "channel_stat = channel_stat.merge(channel_names, on='channelId')"
   ]
  },
  {
   "cell_type": "code",
   "execution_count": 89,
   "id": "29a1f0ee",
   "metadata": {},
   "outputs": [
    {
     "data": {
      "text/html": [
       "<div>\n",
       "<style scoped>\n",
       "    .dataframe tbody tr th:only-of-type {\n",
       "        vertical-align: middle;\n",
       "    }\n",
       "\n",
       "    .dataframe tbody tr th {\n",
       "        vertical-align: top;\n",
       "    }\n",
       "\n",
       "    .dataframe thead th {\n",
       "        text-align: right;\n",
       "    }\n",
       "</style>\n",
       "<table border=\"1\" class=\"dataframe\">\n",
       "  <thead>\n",
       "    <tr style=\"text-align: right;\">\n",
       "      <th></th>\n",
       "      <th>channelTitle</th>\n",
       "      <th>no of videos</th>\n",
       "    </tr>\n",
       "  </thead>\n",
       "  <tbody>\n",
       "    <tr>\n",
       "      <th>1811</th>\n",
       "      <td>SPOTV</td>\n",
       "      <td>115</td>\n",
       "    </tr>\n",
       "    <tr>\n",
       "      <th>1776</th>\n",
       "      <td>짤툰</td>\n",
       "      <td>66</td>\n",
       "    </tr>\n",
       "    <tr>\n",
       "      <th>164</th>\n",
       "      <td>CBS 김현정의 뉴스쇼</td>\n",
       "      <td>49</td>\n",
       "    </tr>\n",
       "    <tr>\n",
       "      <th>827</th>\n",
       "      <td>채널 십오야</td>\n",
       "      <td>46</td>\n",
       "    </tr>\n",
       "    <tr>\n",
       "      <th>1597</th>\n",
       "      <td>스포츠타임</td>\n",
       "      <td>41</td>\n",
       "    </tr>\n",
       "    <tr>\n",
       "      <th>878</th>\n",
       "      <td>총몇명</td>\n",
       "      <td>37</td>\n",
       "    </tr>\n",
       "    <tr>\n",
       "      <th>700</th>\n",
       "      <td>BANGTANTV</td>\n",
       "      <td>37</td>\n",
       "    </tr>\n",
       "    <tr>\n",
       "      <th>1315</th>\n",
       "      <td>Mnet Official</td>\n",
       "      <td>36</td>\n",
       "    </tr>\n",
       "    <tr>\n",
       "      <th>1900</th>\n",
       "      <td>워크맨-Workman</td>\n",
       "      <td>33</td>\n",
       "    </tr>\n",
       "    <tr>\n",
       "      <th>314</th>\n",
       "      <td>유 퀴즈 온 더 튜브</td>\n",
       "      <td>31</td>\n",
       "    </tr>\n",
       "  </tbody>\n",
       "</table>\n",
       "</div>"
      ],
      "text/plain": [
       "       channelTitle  no of videos\n",
       "1811          SPOTV           115\n",
       "1776             짤툰            66\n",
       "164    CBS 김현정의 뉴스쇼            49\n",
       "827          채널 십오야            46\n",
       "1597          스포츠타임            41\n",
       "878             총몇명            37\n",
       "700       BANGTANTV            37\n",
       "1315  Mnet Official            36\n",
       "1900    워크맨-Workman            33\n",
       "314     유 퀴즈 온 더 튜브            31"
      ]
     },
     "execution_count": 89,
     "metadata": {},
     "output_type": "execute_result"
    }
   ],
   "source": [
    "# Channels with the greatest number of trending videos\n",
    "channel_stat.sort_values('no of videos', ascending=False).head(10)[['channelTitle','no of videos']]"
   ]
  },
  {
   "cell_type": "code",
   "execution_count": 90,
   "id": "83ced276",
   "metadata": {},
   "outputs": [
    {
     "data": {
      "text/html": [
       "<div>\n",
       "<style scoped>\n",
       "    .dataframe tbody tr th:only-of-type {\n",
       "        vertical-align: middle;\n",
       "    }\n",
       "\n",
       "    .dataframe tbody tr th {\n",
       "        vertical-align: top;\n",
       "    }\n",
       "\n",
       "    .dataframe thead th {\n",
       "        text-align: right;\n",
       "    }\n",
       "</style>\n",
       "<table border=\"1\" class=\"dataframe\">\n",
       "  <thead>\n",
       "    <tr style=\"text-align: right;\">\n",
       "      <th></th>\n",
       "      <th>channelTitle</th>\n",
       "      <th>total views</th>\n",
       "      <th>no of videos</th>\n",
       "    </tr>\n",
       "  </thead>\n",
       "  <tbody>\n",
       "    <tr>\n",
       "      <th>136</th>\n",
       "      <td>HYBE LABELS</td>\n",
       "      <td>1049281962</td>\n",
       "      <td>30</td>\n",
       "    </tr>\n",
       "    <tr>\n",
       "      <th>784</th>\n",
       "      <td>BLACKPINK</td>\n",
       "      <td>698195479</td>\n",
       "      <td>21</td>\n",
       "    </tr>\n",
       "    <tr>\n",
       "      <th>479</th>\n",
       "      <td>SMTOWN</td>\n",
       "      <td>596722458</td>\n",
       "      <td>27</td>\n",
       "    </tr>\n",
       "    <tr>\n",
       "      <th>1171</th>\n",
       "      <td>JYP Entertainment</td>\n",
       "      <td>396409175</td>\n",
       "      <td>18</td>\n",
       "    </tr>\n",
       "    <tr>\n",
       "      <th>700</th>\n",
       "      <td>BANGTANTV</td>\n",
       "      <td>346544380</td>\n",
       "      <td>37</td>\n",
       "    </tr>\n",
       "    <tr>\n",
       "      <th>474</th>\n",
       "      <td>Apple</td>\n",
       "      <td>115227233</td>\n",
       "      <td>5</td>\n",
       "    </tr>\n",
       "    <tr>\n",
       "      <th>1811</th>\n",
       "      <td>SPOTV</td>\n",
       "      <td>100875635</td>\n",
       "      <td>115</td>\n",
       "    </tr>\n",
       "    <tr>\n",
       "      <th>1776</th>\n",
       "      <td>짤툰</td>\n",
       "      <td>100125506</td>\n",
       "      <td>66</td>\n",
       "    </tr>\n",
       "    <tr>\n",
       "      <th>827</th>\n",
       "      <td>채널 십오야</td>\n",
       "      <td>93729842</td>\n",
       "      <td>46</td>\n",
       "    </tr>\n",
       "    <tr>\n",
       "      <th>1895</th>\n",
       "      <td>1theK (원더케이)</td>\n",
       "      <td>89851706</td>\n",
       "      <td>14</td>\n",
       "    </tr>\n",
       "  </tbody>\n",
       "</table>\n",
       "</div>"
      ],
      "text/plain": [
       "           channelTitle  total views  no of videos\n",
       "136         HYBE LABELS   1049281962            30\n",
       "784           BLACKPINK    698195479            21\n",
       "479              SMTOWN    596722458            27\n",
       "1171  JYP Entertainment    396409175            18\n",
       "700           BANGTANTV    346544380            37\n",
       "474               Apple    115227233             5\n",
       "1811              SPOTV    100875635           115\n",
       "1776                 짤툰    100125506            66\n",
       "827              채널 십오야     93729842            46\n",
       "1895       1theK (원더케이)     89851706            14"
      ]
     },
     "execution_count": 90,
     "metadata": {},
     "output_type": "execute_result"
    }
   ],
   "source": [
    "# Channels with highest total views\n",
    "channel_stat.sort_values('total views', ascending=False).head(10)[['channelTitle','total views', 'no of videos']]"
   ]
  },
  {
   "cell_type": "code",
   "execution_count": 91,
   "id": "5a4fd59d",
   "metadata": {},
   "outputs": [],
   "source": [
    "channel_stat['average views'] = channel_stat['average views'].astype('int64')"
   ]
  },
  {
   "cell_type": "code",
   "execution_count": 92,
   "id": "47b4bf1c",
   "metadata": {},
   "outputs": [
    {
     "data": {
      "text/html": [
       "<div>\n",
       "<style scoped>\n",
       "    .dataframe tbody tr th:only-of-type {\n",
       "        vertical-align: middle;\n",
       "    }\n",
       "\n",
       "    .dataframe tbody tr th {\n",
       "        vertical-align: top;\n",
       "    }\n",
       "\n",
       "    .dataframe thead th {\n",
       "        text-align: right;\n",
       "    }\n",
       "</style>\n",
       "<table border=\"1\" class=\"dataframe\">\n",
       "  <thead>\n",
       "    <tr style=\"text-align: right;\">\n",
       "      <th></th>\n",
       "      <th>channelTitle</th>\n",
       "      <th>average views</th>\n",
       "      <th>no of videos</th>\n",
       "    </tr>\n",
       "  </thead>\n",
       "  <tbody>\n",
       "    <tr>\n",
       "      <th>1916</th>\n",
       "      <td>Cardi B</td>\n",
       "      <td>82765322</td>\n",
       "      <td>1</td>\n",
       "    </tr>\n",
       "    <tr>\n",
       "      <th>1633</th>\n",
       "      <td>Bruno Mars</td>\n",
       "      <td>45122754</td>\n",
       "      <td>1</td>\n",
       "    </tr>\n",
       "    <tr>\n",
       "      <th>49</th>\n",
       "      <td>ArianaGrandeVevo</td>\n",
       "      <td>38511458</td>\n",
       "      <td>2</td>\n",
       "    </tr>\n",
       "    <tr>\n",
       "      <th>136</th>\n",
       "      <td>HYBE LABELS</td>\n",
       "      <td>34976065</td>\n",
       "      <td>30</td>\n",
       "    </tr>\n",
       "    <tr>\n",
       "      <th>362</th>\n",
       "      <td>TaylorSwiftVEVO</td>\n",
       "      <td>34158130</td>\n",
       "      <td>1</td>\n",
       "    </tr>\n",
       "    <tr>\n",
       "      <th>784</th>\n",
       "      <td>BLACKPINK</td>\n",
       "      <td>33247403</td>\n",
       "      <td>21</td>\n",
       "    </tr>\n",
       "    <tr>\n",
       "      <th>569</th>\n",
       "      <td>JustinBieberVEVO</td>\n",
       "      <td>30488421</td>\n",
       "      <td>1</td>\n",
       "    </tr>\n",
       "    <tr>\n",
       "      <th>1721</th>\n",
       "      <td>DJKhaledVEVO</td>\n",
       "      <td>29862529</td>\n",
       "      <td>1</td>\n",
       "    </tr>\n",
       "    <tr>\n",
       "      <th>13</th>\n",
       "      <td>Dua Lipa</td>\n",
       "      <td>26342182</td>\n",
       "      <td>1</td>\n",
       "    </tr>\n",
       "    <tr>\n",
       "      <th>1468</th>\n",
       "      <td>Warner Bros. Pictures</td>\n",
       "      <td>26318526</td>\n",
       "      <td>2</td>\n",
       "    </tr>\n",
       "  </tbody>\n",
       "</table>\n",
       "</div>"
      ],
      "text/plain": [
       "               channelTitle  average views  no of videos\n",
       "1916                Cardi B       82765322             1\n",
       "1633             Bruno Mars       45122754             1\n",
       "49         ArianaGrandeVevo       38511458             2\n",
       "136             HYBE LABELS       34976065            30\n",
       "362         TaylorSwiftVEVO       34158130             1\n",
       "784               BLACKPINK       33247403            21\n",
       "569        JustinBieberVEVO       30488421             1\n",
       "1721           DJKhaledVEVO       29862529             1\n",
       "13                 Dua Lipa       26342182             1\n",
       "1468  Warner Bros. Pictures       26318526             2"
      ]
     },
     "execution_count": 92,
     "metadata": {},
     "output_type": "execute_result"
    }
   ],
   "source": [
    "# Channels with highest average views\n",
    "channel_stat.sort_values('average views', ascending=False).head(10)[['channelTitle','average views', 'no of videos']]"
   ]
  },
  {
   "cell_type": "code",
   "execution_count": 97,
   "id": "d6835aff",
   "metadata": {},
   "outputs": [
    {
     "data": {
      "application/vnd.plotly.v1+json": {
       "config": {
        "plotlyServerURL": "https://plot.ly"
       },
       "data": [
        {
         "alignmentgroup": "True",
         "hovertemplate": "categoryId=%{x}<br>y=%{y}<br>color=%{marker.color}<extra></extra>",
         "legendgroup": "",
         "marker": {
          "color": [
           820651.7361246349,
           648314.1532163742,
           5408494.651713619,
           822978.3357335733,
           1028132.8362386448,
           803749.8123620308,
           1393807.276849642,
           817888.4727629183,
           959231.9465102975,
           1132104.059030028,
           827086.3258582503,
           617978.7028231798,
           613252.4236486487,
           1932921.5727181544,
           332265.193877551
          ],
          "coloraxis": "coloraxis",
          "pattern": {
           "shape": ""
          }
         },
         "name": "",
         "offsetgroup": "",
         "orientation": "v",
         "showlegend": false,
         "textposition": "auto",
         "type": "bar",
         "x": [
          1,
          2,
          10,
          15,
          17,
          19,
          20,
          22,
          23,
          24,
          25,
          26,
          27,
          28,
          29
         ],
         "xaxis": "x",
         "y": [
          820651.7361246349,
          648314.1532163742,
          5408494.651713619,
          822978.3357335733,
          1028132.8362386448,
          803749.8123620308,
          1393807.276849642,
          817888.4727629183,
          959231.9465102975,
          1132104.059030028,
          827086.3258582503,
          617978.7028231798,
          613252.4236486487,
          1932921.5727181544,
          332265.193877551
         ],
         "yaxis": "y"
        }
       ],
       "layout": {
        "barmode": "relative",
        "coloraxis": {
         "colorbar": {
          "title": {
           "text": "color"
          }
         },
         "colorscale": [
          [
           0,
           "#0d0887"
          ],
          [
           0.1111111111111111,
           "#46039f"
          ],
          [
           0.2222222222222222,
           "#7201a8"
          ],
          [
           0.3333333333333333,
           "#9c179e"
          ],
          [
           0.4444444444444444,
           "#bd3786"
          ],
          [
           0.5555555555555556,
           "#d8576b"
          ],
          [
           0.6666666666666666,
           "#ed7953"
          ],
          [
           0.7777777777777778,
           "#fb9f3a"
          ],
          [
           0.8888888888888888,
           "#fdca26"
          ],
          [
           1,
           "#f0f921"
          ]
         ]
        },
        "legend": {
         "tracegroupgap": 0
        },
        "margin": {
         "t": 60
        },
        "template": {
         "data": {
          "bar": [
           {
            "error_x": {
             "color": "#2a3f5f"
            },
            "error_y": {
             "color": "#2a3f5f"
            },
            "marker": {
             "line": {
              "color": "#E5ECF6",
              "width": 0.5
             },
             "pattern": {
              "fillmode": "overlay",
              "size": 10,
              "solidity": 0.2
             }
            },
            "type": "bar"
           }
          ],
          "barpolar": [
           {
            "marker": {
             "line": {
              "color": "#E5ECF6",
              "width": 0.5
             },
             "pattern": {
              "fillmode": "overlay",
              "size": 10,
              "solidity": 0.2
             }
            },
            "type": "barpolar"
           }
          ],
          "carpet": [
           {
            "aaxis": {
             "endlinecolor": "#2a3f5f",
             "gridcolor": "white",
             "linecolor": "white",
             "minorgridcolor": "white",
             "startlinecolor": "#2a3f5f"
            },
            "baxis": {
             "endlinecolor": "#2a3f5f",
             "gridcolor": "white",
             "linecolor": "white",
             "minorgridcolor": "white",
             "startlinecolor": "#2a3f5f"
            },
            "type": "carpet"
           }
          ],
          "choropleth": [
           {
            "colorbar": {
             "outlinewidth": 0,
             "ticks": ""
            },
            "type": "choropleth"
           }
          ],
          "contour": [
           {
            "colorbar": {
             "outlinewidth": 0,
             "ticks": ""
            },
            "colorscale": [
             [
              0,
              "#0d0887"
             ],
             [
              0.1111111111111111,
              "#46039f"
             ],
             [
              0.2222222222222222,
              "#7201a8"
             ],
             [
              0.3333333333333333,
              "#9c179e"
             ],
             [
              0.4444444444444444,
              "#bd3786"
             ],
             [
              0.5555555555555556,
              "#d8576b"
             ],
             [
              0.6666666666666666,
              "#ed7953"
             ],
             [
              0.7777777777777778,
              "#fb9f3a"
             ],
             [
              0.8888888888888888,
              "#fdca26"
             ],
             [
              1,
              "#f0f921"
             ]
            ],
            "type": "contour"
           }
          ],
          "contourcarpet": [
           {
            "colorbar": {
             "outlinewidth": 0,
             "ticks": ""
            },
            "type": "contourcarpet"
           }
          ],
          "heatmap": [
           {
            "colorbar": {
             "outlinewidth": 0,
             "ticks": ""
            },
            "colorscale": [
             [
              0,
              "#0d0887"
             ],
             [
              0.1111111111111111,
              "#46039f"
             ],
             [
              0.2222222222222222,
              "#7201a8"
             ],
             [
              0.3333333333333333,
              "#9c179e"
             ],
             [
              0.4444444444444444,
              "#bd3786"
             ],
             [
              0.5555555555555556,
              "#d8576b"
             ],
             [
              0.6666666666666666,
              "#ed7953"
             ],
             [
              0.7777777777777778,
              "#fb9f3a"
             ],
             [
              0.8888888888888888,
              "#fdca26"
             ],
             [
              1,
              "#f0f921"
             ]
            ],
            "type": "heatmap"
           }
          ],
          "heatmapgl": [
           {
            "colorbar": {
             "outlinewidth": 0,
             "ticks": ""
            },
            "colorscale": [
             [
              0,
              "#0d0887"
             ],
             [
              0.1111111111111111,
              "#46039f"
             ],
             [
              0.2222222222222222,
              "#7201a8"
             ],
             [
              0.3333333333333333,
              "#9c179e"
             ],
             [
              0.4444444444444444,
              "#bd3786"
             ],
             [
              0.5555555555555556,
              "#d8576b"
             ],
             [
              0.6666666666666666,
              "#ed7953"
             ],
             [
              0.7777777777777778,
              "#fb9f3a"
             ],
             [
              0.8888888888888888,
              "#fdca26"
             ],
             [
              1,
              "#f0f921"
             ]
            ],
            "type": "heatmapgl"
           }
          ],
          "histogram": [
           {
            "marker": {
             "pattern": {
              "fillmode": "overlay",
              "size": 10,
              "solidity": 0.2
             }
            },
            "type": "histogram"
           }
          ],
          "histogram2d": [
           {
            "colorbar": {
             "outlinewidth": 0,
             "ticks": ""
            },
            "colorscale": [
             [
              0,
              "#0d0887"
             ],
             [
              0.1111111111111111,
              "#46039f"
             ],
             [
              0.2222222222222222,
              "#7201a8"
             ],
             [
              0.3333333333333333,
              "#9c179e"
             ],
             [
              0.4444444444444444,
              "#bd3786"
             ],
             [
              0.5555555555555556,
              "#d8576b"
             ],
             [
              0.6666666666666666,
              "#ed7953"
             ],
             [
              0.7777777777777778,
              "#fb9f3a"
             ],
             [
              0.8888888888888888,
              "#fdca26"
             ],
             [
              1,
              "#f0f921"
             ]
            ],
            "type": "histogram2d"
           }
          ],
          "histogram2dcontour": [
           {
            "colorbar": {
             "outlinewidth": 0,
             "ticks": ""
            },
            "colorscale": [
             [
              0,
              "#0d0887"
             ],
             [
              0.1111111111111111,
              "#46039f"
             ],
             [
              0.2222222222222222,
              "#7201a8"
             ],
             [
              0.3333333333333333,
              "#9c179e"
             ],
             [
              0.4444444444444444,
              "#bd3786"
             ],
             [
              0.5555555555555556,
              "#d8576b"
             ],
             [
              0.6666666666666666,
              "#ed7953"
             ],
             [
              0.7777777777777778,
              "#fb9f3a"
             ],
             [
              0.8888888888888888,
              "#fdca26"
             ],
             [
              1,
              "#f0f921"
             ]
            ],
            "type": "histogram2dcontour"
           }
          ],
          "mesh3d": [
           {
            "colorbar": {
             "outlinewidth": 0,
             "ticks": ""
            },
            "type": "mesh3d"
           }
          ],
          "parcoords": [
           {
            "line": {
             "colorbar": {
              "outlinewidth": 0,
              "ticks": ""
             }
            },
            "type": "parcoords"
           }
          ],
          "pie": [
           {
            "automargin": true,
            "type": "pie"
           }
          ],
          "scatter": [
           {
            "fillpattern": {
             "fillmode": "overlay",
             "size": 10,
             "solidity": 0.2
            },
            "type": "scatter"
           }
          ],
          "scatter3d": [
           {
            "line": {
             "colorbar": {
              "outlinewidth": 0,
              "ticks": ""
             }
            },
            "marker": {
             "colorbar": {
              "outlinewidth": 0,
              "ticks": ""
             }
            },
            "type": "scatter3d"
           }
          ],
          "scattercarpet": [
           {
            "marker": {
             "colorbar": {
              "outlinewidth": 0,
              "ticks": ""
             }
            },
            "type": "scattercarpet"
           }
          ],
          "scattergeo": [
           {
            "marker": {
             "colorbar": {
              "outlinewidth": 0,
              "ticks": ""
             }
            },
            "type": "scattergeo"
           }
          ],
          "scattergl": [
           {
            "marker": {
             "colorbar": {
              "outlinewidth": 0,
              "ticks": ""
             }
            },
            "type": "scattergl"
           }
          ],
          "scattermapbox": [
           {
            "marker": {
             "colorbar": {
              "outlinewidth": 0,
              "ticks": ""
             }
            },
            "type": "scattermapbox"
           }
          ],
          "scatterpolar": [
           {
            "marker": {
             "colorbar": {
              "outlinewidth": 0,
              "ticks": ""
             }
            },
            "type": "scatterpolar"
           }
          ],
          "scatterpolargl": [
           {
            "marker": {
             "colorbar": {
              "outlinewidth": 0,
              "ticks": ""
             }
            },
            "type": "scatterpolargl"
           }
          ],
          "scatterternary": [
           {
            "marker": {
             "colorbar": {
              "outlinewidth": 0,
              "ticks": ""
             }
            },
            "type": "scatterternary"
           }
          ],
          "surface": [
           {
            "colorbar": {
             "outlinewidth": 0,
             "ticks": ""
            },
            "colorscale": [
             [
              0,
              "#0d0887"
             ],
             [
              0.1111111111111111,
              "#46039f"
             ],
             [
              0.2222222222222222,
              "#7201a8"
             ],
             [
              0.3333333333333333,
              "#9c179e"
             ],
             [
              0.4444444444444444,
              "#bd3786"
             ],
             [
              0.5555555555555556,
              "#d8576b"
             ],
             [
              0.6666666666666666,
              "#ed7953"
             ],
             [
              0.7777777777777778,
              "#fb9f3a"
             ],
             [
              0.8888888888888888,
              "#fdca26"
             ],
             [
              1,
              "#f0f921"
             ]
            ],
            "type": "surface"
           }
          ],
          "table": [
           {
            "cells": {
             "fill": {
              "color": "#EBF0F8"
             },
             "line": {
              "color": "white"
             }
            },
            "header": {
             "fill": {
              "color": "#C8D4E3"
             },
             "line": {
              "color": "white"
             }
            },
            "type": "table"
           }
          ]
         },
         "layout": {
          "annotationdefaults": {
           "arrowcolor": "#2a3f5f",
           "arrowhead": 0,
           "arrowwidth": 1
          },
          "autotypenumbers": "strict",
          "coloraxis": {
           "colorbar": {
            "outlinewidth": 0,
            "ticks": ""
           }
          },
          "colorscale": {
           "diverging": [
            [
             0,
             "#8e0152"
            ],
            [
             0.1,
             "#c51b7d"
            ],
            [
             0.2,
             "#de77ae"
            ],
            [
             0.3,
             "#f1b6da"
            ],
            [
             0.4,
             "#fde0ef"
            ],
            [
             0.5,
             "#f7f7f7"
            ],
            [
             0.6,
             "#e6f5d0"
            ],
            [
             0.7,
             "#b8e186"
            ],
            [
             0.8,
             "#7fbc41"
            ],
            [
             0.9,
             "#4d9221"
            ],
            [
             1,
             "#276419"
            ]
           ],
           "sequential": [
            [
             0,
             "#0d0887"
            ],
            [
             0.1111111111111111,
             "#46039f"
            ],
            [
             0.2222222222222222,
             "#7201a8"
            ],
            [
             0.3333333333333333,
             "#9c179e"
            ],
            [
             0.4444444444444444,
             "#bd3786"
            ],
            [
             0.5555555555555556,
             "#d8576b"
            ],
            [
             0.6666666666666666,
             "#ed7953"
            ],
            [
             0.7777777777777778,
             "#fb9f3a"
            ],
            [
             0.8888888888888888,
             "#fdca26"
            ],
            [
             1,
             "#f0f921"
            ]
           ],
           "sequentialminus": [
            [
             0,
             "#0d0887"
            ],
            [
             0.1111111111111111,
             "#46039f"
            ],
            [
             0.2222222222222222,
             "#7201a8"
            ],
            [
             0.3333333333333333,
             "#9c179e"
            ],
            [
             0.4444444444444444,
             "#bd3786"
            ],
            [
             0.5555555555555556,
             "#d8576b"
            ],
            [
             0.6666666666666666,
             "#ed7953"
            ],
            [
             0.7777777777777778,
             "#fb9f3a"
            ],
            [
             0.8888888888888888,
             "#fdca26"
            ],
            [
             1,
             "#f0f921"
            ]
           ]
          },
          "colorway": [
           "#636efa",
           "#EF553B",
           "#00cc96",
           "#ab63fa",
           "#FFA15A",
           "#19d3f3",
           "#FF6692",
           "#B6E880",
           "#FF97FF",
           "#FECB52"
          ],
          "font": {
           "color": "#2a3f5f"
          },
          "geo": {
           "bgcolor": "white",
           "lakecolor": "white",
           "landcolor": "#E5ECF6",
           "showlakes": true,
           "showland": true,
           "subunitcolor": "white"
          },
          "hoverlabel": {
           "align": "left"
          },
          "hovermode": "closest",
          "mapbox": {
           "style": "light"
          },
          "paper_bgcolor": "white",
          "plot_bgcolor": "#E5ECF6",
          "polar": {
           "angularaxis": {
            "gridcolor": "white",
            "linecolor": "white",
            "ticks": ""
           },
           "bgcolor": "#E5ECF6",
           "radialaxis": {
            "gridcolor": "white",
            "linecolor": "white",
            "ticks": ""
           }
          },
          "scene": {
           "xaxis": {
            "backgroundcolor": "#E5ECF6",
            "gridcolor": "white",
            "gridwidth": 2,
            "linecolor": "white",
            "showbackground": true,
            "ticks": "",
            "zerolinecolor": "white"
           },
           "yaxis": {
            "backgroundcolor": "#E5ECF6",
            "gridcolor": "white",
            "gridwidth": 2,
            "linecolor": "white",
            "showbackground": true,
            "ticks": "",
            "zerolinecolor": "white"
           },
           "zaxis": {
            "backgroundcolor": "#E5ECF6",
            "gridcolor": "white",
            "gridwidth": 2,
            "linecolor": "white",
            "showbackground": true,
            "ticks": "",
            "zerolinecolor": "white"
           }
          },
          "shapedefaults": {
           "line": {
            "color": "#2a3f5f"
           }
          },
          "ternary": {
           "aaxis": {
            "gridcolor": "white",
            "linecolor": "white",
            "ticks": ""
           },
           "baxis": {
            "gridcolor": "white",
            "linecolor": "white",
            "ticks": ""
           },
           "bgcolor": "#E5ECF6",
           "caxis": {
            "gridcolor": "white",
            "linecolor": "white",
            "ticks": ""
           }
          },
          "title": {
           "x": 0.05
          },
          "xaxis": {
           "automargin": true,
           "gridcolor": "white",
           "linecolor": "white",
           "ticks": "",
           "title": {
            "standoff": 15
           },
           "zerolinecolor": "white",
           "zerolinewidth": 2
          },
          "yaxis": {
           "automargin": true,
           "gridcolor": "white",
           "linecolor": "white",
           "ticks": "",
           "title": {
            "standoff": 15
           },
           "zerolinecolor": "white",
           "zerolinewidth": 2
          }
         }
        },
        "title": {
         "text": "Average View count by Category id"
        },
        "xaxis": {
         "anchor": "y",
         "domain": [
          0,
          1
         ],
         "tickfont": {
          "family": "Rockwell",
          "size": 10
         },
         "title": {
          "font": {
           "size": 14
          },
          "text": "Category Id"
         }
        },
        "yaxis": {
         "anchor": "x",
         "domain": [
          0,
          1
         ],
         "tickfont": {
          "family": "Rockwell",
          "size": 10
         },
         "title": {
          "font": {
           "size": 14
          },
          "text": "Average View Count"
         }
        }
       }
      },
      "text/html": [
       "<div>                            <div id=\"aa207751-f678-44ca-8cd0-97b84c5923a3\" class=\"plotly-graph-div\" style=\"height:525px; width:100%;\"></div>            <script type=\"text/javascript\">                require([\"plotly\"], function(Plotly) {                    window.PLOTLYENV=window.PLOTLYENV || {};                                    if (document.getElementById(\"aa207751-f678-44ca-8cd0-97b84c5923a3\")) {                    Plotly.newPlot(                        \"aa207751-f678-44ca-8cd0-97b84c5923a3\",                        [{\"alignmentgroup\":\"True\",\"hovertemplate\":\"categoryId=%{x}<br>y=%{y}<br>color=%{marker.color}<extra></extra>\",\"legendgroup\":\"\",\"marker\":{\"color\":[820651.7361246349,648314.1532163742,5408494.651713619,822978.3357335733,1028132.8362386448,803749.8123620308,1393807.276849642,817888.4727629183,959231.9465102975,1132104.059030028,827086.3258582503,617978.7028231798,613252.4236486487,1932921.5727181544,332265.193877551],\"coloraxis\":\"coloraxis\",\"pattern\":{\"shape\":\"\"}},\"name\":\"\",\"offsetgroup\":\"\",\"orientation\":\"v\",\"showlegend\":false,\"textposition\":\"auto\",\"x\":[1,2,10,15,17,19,20,22,23,24,25,26,27,28,29],\"xaxis\":\"x\",\"y\":[820651.7361246349,648314.1532163742,5408494.651713619,822978.3357335733,1028132.8362386448,803749.8123620308,1393807.276849642,817888.4727629183,959231.9465102975,1132104.059030028,827086.3258582503,617978.7028231798,613252.4236486487,1932921.5727181544,332265.193877551],\"yaxis\":\"y\",\"type\":\"bar\"}],                        {\"template\":{\"data\":{\"histogram2dcontour\":[{\"type\":\"histogram2dcontour\",\"colorbar\":{\"outlinewidth\":0,\"ticks\":\"\"},\"colorscale\":[[0.0,\"#0d0887\"],[0.1111111111111111,\"#46039f\"],[0.2222222222222222,\"#7201a8\"],[0.3333333333333333,\"#9c179e\"],[0.4444444444444444,\"#bd3786\"],[0.5555555555555556,\"#d8576b\"],[0.6666666666666666,\"#ed7953\"],[0.7777777777777778,\"#fb9f3a\"],[0.8888888888888888,\"#fdca26\"],[1.0,\"#f0f921\"]]}],\"choropleth\":[{\"type\":\"choropleth\",\"colorbar\":{\"outlinewidth\":0,\"ticks\":\"\"}}],\"histogram2d\":[{\"type\":\"histogram2d\",\"colorbar\":{\"outlinewidth\":0,\"ticks\":\"\"},\"colorscale\":[[0.0,\"#0d0887\"],[0.1111111111111111,\"#46039f\"],[0.2222222222222222,\"#7201a8\"],[0.3333333333333333,\"#9c179e\"],[0.4444444444444444,\"#bd3786\"],[0.5555555555555556,\"#d8576b\"],[0.6666666666666666,\"#ed7953\"],[0.7777777777777778,\"#fb9f3a\"],[0.8888888888888888,\"#fdca26\"],[1.0,\"#f0f921\"]]}],\"heatmap\":[{\"type\":\"heatmap\",\"colorbar\":{\"outlinewidth\":0,\"ticks\":\"\"},\"colorscale\":[[0.0,\"#0d0887\"],[0.1111111111111111,\"#46039f\"],[0.2222222222222222,\"#7201a8\"],[0.3333333333333333,\"#9c179e\"],[0.4444444444444444,\"#bd3786\"],[0.5555555555555556,\"#d8576b\"],[0.6666666666666666,\"#ed7953\"],[0.7777777777777778,\"#fb9f3a\"],[0.8888888888888888,\"#fdca26\"],[1.0,\"#f0f921\"]]}],\"heatmapgl\":[{\"type\":\"heatmapgl\",\"colorbar\":{\"outlinewidth\":0,\"ticks\":\"\"},\"colorscale\":[[0.0,\"#0d0887\"],[0.1111111111111111,\"#46039f\"],[0.2222222222222222,\"#7201a8\"],[0.3333333333333333,\"#9c179e\"],[0.4444444444444444,\"#bd3786\"],[0.5555555555555556,\"#d8576b\"],[0.6666666666666666,\"#ed7953\"],[0.7777777777777778,\"#fb9f3a\"],[0.8888888888888888,\"#fdca26\"],[1.0,\"#f0f921\"]]}],\"contourcarpet\":[{\"type\":\"contourcarpet\",\"colorbar\":{\"outlinewidth\":0,\"ticks\":\"\"}}],\"contour\":[{\"type\":\"contour\",\"colorbar\":{\"outlinewidth\":0,\"ticks\":\"\"},\"colorscale\":[[0.0,\"#0d0887\"],[0.1111111111111111,\"#46039f\"],[0.2222222222222222,\"#7201a8\"],[0.3333333333333333,\"#9c179e\"],[0.4444444444444444,\"#bd3786\"],[0.5555555555555556,\"#d8576b\"],[0.6666666666666666,\"#ed7953\"],[0.7777777777777778,\"#fb9f3a\"],[0.8888888888888888,\"#fdca26\"],[1.0,\"#f0f921\"]]}],\"surface\":[{\"type\":\"surface\",\"colorbar\":{\"outlinewidth\":0,\"ticks\":\"\"},\"colorscale\":[[0.0,\"#0d0887\"],[0.1111111111111111,\"#46039f\"],[0.2222222222222222,\"#7201a8\"],[0.3333333333333333,\"#9c179e\"],[0.4444444444444444,\"#bd3786\"],[0.5555555555555556,\"#d8576b\"],[0.6666666666666666,\"#ed7953\"],[0.7777777777777778,\"#fb9f3a\"],[0.8888888888888888,\"#fdca26\"],[1.0,\"#f0f921\"]]}],\"mesh3d\":[{\"type\":\"mesh3d\",\"colorbar\":{\"outlinewidth\":0,\"ticks\":\"\"}}],\"scatter\":[{\"fillpattern\":{\"fillmode\":\"overlay\",\"size\":10,\"solidity\":0.2},\"type\":\"scatter\"}],\"parcoords\":[{\"type\":\"parcoords\",\"line\":{\"colorbar\":{\"outlinewidth\":0,\"ticks\":\"\"}}}],\"scatterpolargl\":[{\"type\":\"scatterpolargl\",\"marker\":{\"colorbar\":{\"outlinewidth\":0,\"ticks\":\"\"}}}],\"bar\":[{\"error_x\":{\"color\":\"#2a3f5f\"},\"error_y\":{\"color\":\"#2a3f5f\"},\"marker\":{\"line\":{\"color\":\"#E5ECF6\",\"width\":0.5},\"pattern\":{\"fillmode\":\"overlay\",\"size\":10,\"solidity\":0.2}},\"type\":\"bar\"}],\"scattergeo\":[{\"type\":\"scattergeo\",\"marker\":{\"colorbar\":{\"outlinewidth\":0,\"ticks\":\"\"}}}],\"scatterpolar\":[{\"type\":\"scatterpolar\",\"marker\":{\"colorbar\":{\"outlinewidth\":0,\"ticks\":\"\"}}}],\"histogram\":[{\"marker\":{\"pattern\":{\"fillmode\":\"overlay\",\"size\":10,\"solidity\":0.2}},\"type\":\"histogram\"}],\"scattergl\":[{\"type\":\"scattergl\",\"marker\":{\"colorbar\":{\"outlinewidth\":0,\"ticks\":\"\"}}}],\"scatter3d\":[{\"type\":\"scatter3d\",\"line\":{\"colorbar\":{\"outlinewidth\":0,\"ticks\":\"\"}},\"marker\":{\"colorbar\":{\"outlinewidth\":0,\"ticks\":\"\"}}}],\"scattermapbox\":[{\"type\":\"scattermapbox\",\"marker\":{\"colorbar\":{\"outlinewidth\":0,\"ticks\":\"\"}}}],\"scatterternary\":[{\"type\":\"scatterternary\",\"marker\":{\"colorbar\":{\"outlinewidth\":0,\"ticks\":\"\"}}}],\"scattercarpet\":[{\"type\":\"scattercarpet\",\"marker\":{\"colorbar\":{\"outlinewidth\":0,\"ticks\":\"\"}}}],\"carpet\":[{\"aaxis\":{\"endlinecolor\":\"#2a3f5f\",\"gridcolor\":\"white\",\"linecolor\":\"white\",\"minorgridcolor\":\"white\",\"startlinecolor\":\"#2a3f5f\"},\"baxis\":{\"endlinecolor\":\"#2a3f5f\",\"gridcolor\":\"white\",\"linecolor\":\"white\",\"minorgridcolor\":\"white\",\"startlinecolor\":\"#2a3f5f\"},\"type\":\"carpet\"}],\"table\":[{\"cells\":{\"fill\":{\"color\":\"#EBF0F8\"},\"line\":{\"color\":\"white\"}},\"header\":{\"fill\":{\"color\":\"#C8D4E3\"},\"line\":{\"color\":\"white\"}},\"type\":\"table\"}],\"barpolar\":[{\"marker\":{\"line\":{\"color\":\"#E5ECF6\",\"width\":0.5},\"pattern\":{\"fillmode\":\"overlay\",\"size\":10,\"solidity\":0.2}},\"type\":\"barpolar\"}],\"pie\":[{\"automargin\":true,\"type\":\"pie\"}]},\"layout\":{\"autotypenumbers\":\"strict\",\"colorway\":[\"#636efa\",\"#EF553B\",\"#00cc96\",\"#ab63fa\",\"#FFA15A\",\"#19d3f3\",\"#FF6692\",\"#B6E880\",\"#FF97FF\",\"#FECB52\"],\"font\":{\"color\":\"#2a3f5f\"},\"hovermode\":\"closest\",\"hoverlabel\":{\"align\":\"left\"},\"paper_bgcolor\":\"white\",\"plot_bgcolor\":\"#E5ECF6\",\"polar\":{\"bgcolor\":\"#E5ECF6\",\"angularaxis\":{\"gridcolor\":\"white\",\"linecolor\":\"white\",\"ticks\":\"\"},\"radialaxis\":{\"gridcolor\":\"white\",\"linecolor\":\"white\",\"ticks\":\"\"}},\"ternary\":{\"bgcolor\":\"#E5ECF6\",\"aaxis\":{\"gridcolor\":\"white\",\"linecolor\":\"white\",\"ticks\":\"\"},\"baxis\":{\"gridcolor\":\"white\",\"linecolor\":\"white\",\"ticks\":\"\"},\"caxis\":{\"gridcolor\":\"white\",\"linecolor\":\"white\",\"ticks\":\"\"}},\"coloraxis\":{\"colorbar\":{\"outlinewidth\":0,\"ticks\":\"\"}},\"colorscale\":{\"sequential\":[[0.0,\"#0d0887\"],[0.1111111111111111,\"#46039f\"],[0.2222222222222222,\"#7201a8\"],[0.3333333333333333,\"#9c179e\"],[0.4444444444444444,\"#bd3786\"],[0.5555555555555556,\"#d8576b\"],[0.6666666666666666,\"#ed7953\"],[0.7777777777777778,\"#fb9f3a\"],[0.8888888888888888,\"#fdca26\"],[1.0,\"#f0f921\"]],\"sequentialminus\":[[0.0,\"#0d0887\"],[0.1111111111111111,\"#46039f\"],[0.2222222222222222,\"#7201a8\"],[0.3333333333333333,\"#9c179e\"],[0.4444444444444444,\"#bd3786\"],[0.5555555555555556,\"#d8576b\"],[0.6666666666666666,\"#ed7953\"],[0.7777777777777778,\"#fb9f3a\"],[0.8888888888888888,\"#fdca26\"],[1.0,\"#f0f921\"]],\"diverging\":[[0,\"#8e0152\"],[0.1,\"#c51b7d\"],[0.2,\"#de77ae\"],[0.3,\"#f1b6da\"],[0.4,\"#fde0ef\"],[0.5,\"#f7f7f7\"],[0.6,\"#e6f5d0\"],[0.7,\"#b8e186\"],[0.8,\"#7fbc41\"],[0.9,\"#4d9221\"],[1,\"#276419\"]]},\"xaxis\":{\"gridcolor\":\"white\",\"linecolor\":\"white\",\"ticks\":\"\",\"title\":{\"standoff\":15},\"zerolinecolor\":\"white\",\"automargin\":true,\"zerolinewidth\":2},\"yaxis\":{\"gridcolor\":\"white\",\"linecolor\":\"white\",\"ticks\":\"\",\"title\":{\"standoff\":15},\"zerolinecolor\":\"white\",\"automargin\":true,\"zerolinewidth\":2},\"scene\":{\"xaxis\":{\"backgroundcolor\":\"#E5ECF6\",\"gridcolor\":\"white\",\"linecolor\":\"white\",\"showbackground\":true,\"ticks\":\"\",\"zerolinecolor\":\"white\",\"gridwidth\":2},\"yaxis\":{\"backgroundcolor\":\"#E5ECF6\",\"gridcolor\":\"white\",\"linecolor\":\"white\",\"showbackground\":true,\"ticks\":\"\",\"zerolinecolor\":\"white\",\"gridwidth\":2},\"zaxis\":{\"backgroundcolor\":\"#E5ECF6\",\"gridcolor\":\"white\",\"linecolor\":\"white\",\"showbackground\":true,\"ticks\":\"\",\"zerolinecolor\":\"white\",\"gridwidth\":2}},\"shapedefaults\":{\"line\":{\"color\":\"#2a3f5f\"}},\"annotationdefaults\":{\"arrowcolor\":\"#2a3f5f\",\"arrowhead\":0,\"arrowwidth\":1},\"geo\":{\"bgcolor\":\"white\",\"landcolor\":\"#E5ECF6\",\"subunitcolor\":\"white\",\"showland\":true,\"showlakes\":true,\"lakecolor\":\"white\"},\"title\":{\"x\":0.05},\"mapbox\":{\"style\":\"light\"}}},\"xaxis\":{\"anchor\":\"y\",\"domain\":[0.0,1.0],\"title\":{\"text\":\"Category Id\",\"font\":{\"size\":14}},\"tickfont\":{\"family\":\"Rockwell\",\"size\":10}},\"yaxis\":{\"anchor\":\"x\",\"domain\":[0.0,1.0],\"title\":{\"text\":\"Average View Count\",\"font\":{\"size\":14}},\"tickfont\":{\"family\":\"Rockwell\",\"size\":10}},\"coloraxis\":{\"colorbar\":{\"title\":{\"text\":\"color\"}},\"colorscale\":[[0.0,\"#0d0887\"],[0.1111111111111111,\"#46039f\"],[0.2222222222222222,\"#7201a8\"],[0.3333333333333333,\"#9c179e\"],[0.4444444444444444,\"#bd3786\"],[0.5555555555555556,\"#d8576b\"],[0.6666666666666666,\"#ed7953\"],[0.7777777777777778,\"#fb9f3a\"],[0.8888888888888888,\"#fdca26\"],[1.0,\"#f0f921\"]]},\"legend\":{\"tracegroupgap\":0},\"margin\":{\"t\":60},\"barmode\":\"relative\",\"title\":{\"text\":\"Average View count by Category id\"}},                        {\"responsive\": true}                    ).then(function(){\n",
       "                            \n",
       "var gd = document.getElementById('aa207751-f678-44ca-8cd0-97b84c5923a3');\n",
       "var x = new MutationObserver(function (mutations, observer) {{\n",
       "        var display = window.getComputedStyle(gd).display;\n",
       "        if (!display || display === 'none') {{\n",
       "            console.log([gd, 'removed!']);\n",
       "            Plotly.purge(gd);\n",
       "            observer.disconnect();\n",
       "        }}\n",
       "}});\n",
       "\n",
       "// Listen for the removal of the full notebook cells\n",
       "var notebookContainer = gd.closest('#notebook-container');\n",
       "if (notebookContainer) {{\n",
       "    x.observe(notebookContainer, {childList: true});\n",
       "}}\n",
       "\n",
       "// Listen for the clearing of the current output cell\n",
       "var outputEl = gd.closest('.output');\n",
       "if (outputEl) {{\n",
       "    x.observe(outputEl, {childList: true});\n",
       "}}\n",
       "\n",
       "                        })                };                });            </script>        </div>"
      ]
     },
     "metadata": {},
     "output_type": "display_data"
    }
   ],
   "source": [
    "import plotly.express as px\n",
    "import json\n",
    "\n",
    "cat_count=df.groupby(\"categoryId\")[\"view_count\"].mean()\n",
    "\n",
    "fig = px.bar(cat_count, x=cat_count.index, y=cat_count.values ,color=cat_count.values)\n",
    "\n",
    "fig.update_xaxes(title_text='Category Id',title_font = {\"size\": 14},tickfont=dict(family='Rockwell', size=10))\n",
    "fig.update_yaxes(title_text='Average View Count',title_font = {\"size\": 14},tickfont=dict(family='Rockwell', size=10))\n",
    "\n",
    "fig.update_layout(title_text='Average View count by Category id')\n",
    "fig.show()"
   ]
  },
  {
   "cell_type": "code",
   "execution_count": 100,
   "id": "fd679024",
   "metadata": {},
   "outputs": [],
   "source": [
    "with open(\"KR_category_id.json\") as f:\n",
    "    categories = json.load(f)[\"items\"]\n",
    "cat_dict = {}\n",
    "for cat in categories:\n",
    "    cat_dict[int(cat[\"id\"])] = cat[\"snippet\"][\"title\"]\n",
    "df['category_name'] = df['categoryId'].map(cat_dict)"
   ]
  },
  {
   "cell_type": "code",
   "execution_count": 103,
   "id": "eb305e1f",
   "metadata": {},
   "outputs": [
    {
     "data": {
      "text/plain": [
       "Entertainment           18516\n",
       "People & Blogs           7141\n",
       "Music                    5573\n",
       "Sports                   4073\n",
       "News & Politics          3612\n",
       "Comedy                   3496\n",
       "Film & Animation         2054\n",
       "Howto & Style            2019\n",
       "Gaming                   1676\n",
       "Education                1480\n",
       "Pets & Animals           1111\n",
       "Science & Technology      997\n",
       "Autos & Vehicles          855\n",
       "Travel & Events           453\n",
       "Name: category_name, dtype: int64"
      ]
     },
     "execution_count": 103,
     "metadata": {},
     "output_type": "execute_result"
    }
   ],
   "source": [
    "df['category_name'].value_counts()"
   ]
  },
  {
   "cell_type": "code",
   "execution_count": 105,
   "id": "d4c4ede9",
   "metadata": {},
   "outputs": [
    {
     "data": {
      "image/png": "[encoded data removed]",
      "text/plain": [
       "<Figure size 1170x827 with 1 Axes>"
      ]
     },
     "metadata": {},
     "output_type": "display_data"
    }
   ],
   "source": [
    "sns.set(rc={'figure.figsize':(11.7,8.27)})\n",
    "sns.countplot(y = \"category_name\",data=df)\n",
    "plt.show()"
   ]
  },
  {
   "cell_type": "code",
   "execution_count": 107,
   "id": "32c31dcd",
   "metadata": {},
   "outputs": [
    {
     "name": "stdout",
     "output_type": "stream",
     "text": [
      "<class 'pandas.core.frame.DataFrame'>\n",
      "RangeIndex: 53154 entries, 0 to 53153\n",
      "Data columns (total 17 columns):\n",
      " #   Column             Non-Null Count  Dtype              \n",
      "---  ------             --------------  -----              \n",
      " 0   video_id           53154 non-null  object             \n",
      " 1   title              53154 non-null  object             \n",
      " 2   publishedAt        53154 non-null  datetime64[ns, UTC]\n",
      " 3   channelId          53154 non-null  object             \n",
      " 4   channelTitle       53154 non-null  object             \n",
      " 5   categoryId         53154 non-null  int64              \n",
      " 6   trending_date      53154 non-null  object             \n",
      " 7   tags               53154 non-null  object             \n",
      " 8   view_count         53154 non-null  int64              \n",
      " 9   likes              53154 non-null  int64              \n",
      " 10  dislikes           53154 non-null  int64              \n",
      " 11  comment_count      53154 non-null  int64              \n",
      " 12  comments_disabled  53154 non-null  bool               \n",
      " 13  ratings_disabled   53154 non-null  bool               \n",
      " 14  description        52261 non-null  object             \n",
      " 15  country            53154 non-null  object             \n",
      " 16  category_name      53056 non-null  object             \n",
      "dtypes: bool(2), datetime64[ns, UTC](1), int64(5), object(9)\n",
      "memory usage: 6.2+ MB\n"
     ]
    }
   ],
   "source": [
    "df.info()"
   ]
  },
  {
   "cell_type": "code",
   "execution_count": 108,
   "id": "b45f4aab",
   "metadata": {},
   "outputs": [
    {
     "data": {
      "text/html": [
       "<div>\n",
       "<style scoped>\n",
       "    .dataframe tbody tr th:only-of-type {\n",
       "        vertical-align: middle;\n",
       "    }\n",
       "\n",
       "    .dataframe tbody tr th {\n",
       "        vertical-align: top;\n",
       "    }\n",
       "\n",
       "    .dataframe thead th {\n",
       "        text-align: right;\n",
       "    }\n",
       "</style>\n",
       "<table border=\"1\" class=\"dataframe\">\n",
       "  <thead>\n",
       "    <tr style=\"text-align: right;\">\n",
       "      <th></th>\n",
       "      <th>video_id</th>\n",
       "      <th>title</th>\n",
       "      <th>publishedAt</th>\n",
       "      <th>channelId</th>\n",
       "      <th>channelTitle</th>\n",
       "      <th>categoryId</th>\n",
       "      <th>trending_date</th>\n",
       "      <th>tags</th>\n",
       "      <th>view_count</th>\n",
       "      <th>likes</th>\n",
       "      <th>dislikes</th>\n",
       "      <th>comment_count</th>\n",
       "      <th>comments_disabled</th>\n",
       "      <th>ratings_disabled</th>\n",
       "      <th>description</th>\n",
       "      <th>country</th>\n",
       "      <th>category_name</th>\n",
       "    </tr>\n",
       "  </thead>\n",
       "  <tbody>\n",
       "    <tr>\n",
       "      <th>0</th>\n",
       "      <td>uq5LClQN3cE</td>\n",
       "      <td>안녕하세요 보겸입니다</td>\n",
       "      <td>2020-08-09 09:32:48+00:00</td>\n",
       "      <td>UCu9BCtGIEr73LXZsKmoujKw</td>\n",
       "      <td>보겸 BK</td>\n",
       "      <td>24</td>\n",
       "      <td>2020-08-12</td>\n",
       "      <td>보겸|bokyem</td>\n",
       "      <td>5947503</td>\n",
       "      <td>53326</td>\n",
       "      <td>105756</td>\n",
       "      <td>139946</td>\n",
       "      <td>False</td>\n",
       "      <td>False</td>\n",
       "      <td>NaN</td>\n",
       "      <td>KR</td>\n",
       "      <td>Entertainment</td>\n",
       "    </tr>\n",
       "    <tr>\n",
       "      <th>1</th>\n",
       "      <td>I-ZbZCHsHD0</td>\n",
       "      <td>부락토스의 계획 [총몇명 프리퀄]</td>\n",
       "      <td>2020-08-12 09:00:08+00:00</td>\n",
       "      <td>UCRuSxVu4iqTK5kCh90ntAgA</td>\n",
       "      <td>총몇명</td>\n",
       "      <td>1</td>\n",
       "      <td>2020-08-12</td>\n",
       "      <td>총몇명|재밌는 만화|부락토스|루시퍼|총몇명 프리퀄|총몇명 스토리</td>\n",
       "      <td>963384</td>\n",
       "      <td>28244</td>\n",
       "      <td>494</td>\n",
       "      <td>3339</td>\n",
       "      <td>False</td>\n",
       "      <td>False</td>\n",
       "      <td>오늘도 정말 감사드립니다!!총몇명 스튜디오 - 총몇명, 십제곱, 5G민, MOVE혁...</td>\n",
       "      <td>KR</td>\n",
       "      <td>Film &amp; Animation</td>\n",
       "    </tr>\n",
       "    <tr>\n",
       "      <th>2</th>\n",
       "      <td>9d7jNUjBoss</td>\n",
       "      <td>평생 반성하면서 살겠습니다.</td>\n",
       "      <td>2020-08-10 09:54:13+00:00</td>\n",
       "      <td>UCMVC92EOs9yDJG5JS-CMesQ</td>\n",
       "      <td>양팡 YangPang</td>\n",
       "      <td>22</td>\n",
       "      <td>2020-08-12</td>\n",
       "      <td>양팡|양팡유튜브|팡튜브|가족시트콤|양팡가족|양팡가족시트콤|양팡언니|현실남매|현실자매...</td>\n",
       "      <td>2950885</td>\n",
       "      <td>17974</td>\n",
       "      <td>68898</td>\n",
       "      <td>50688</td>\n",
       "      <td>False</td>\n",
       "      <td>False</td>\n",
       "      <td>NaN</td>\n",
       "      <td>KR</td>\n",
       "      <td>People &amp; Blogs</td>\n",
       "    </tr>\n",
       "    <tr>\n",
       "      <th>3</th>\n",
       "      <td>3pI_L3-sMVg</td>\n",
       "      <td>안녕하세요 꽈뚜룹입니다.</td>\n",
       "      <td>2020-08-11 15:00:58+00:00</td>\n",
       "      <td>UCkQCwnkQfgSuPTTnw_Y7v7w</td>\n",
       "      <td>꽈뚜룹 Quaddurup</td>\n",
       "      <td>24</td>\n",
       "      <td>2020-08-12</td>\n",
       "      <td>꽈뚜룹|한국여행기|quaddurup|뚜룹이|korea|southkorea|vlog|...</td>\n",
       "      <td>1743374</td>\n",
       "      <td>36893</td>\n",
       "      <td>1798</td>\n",
       "      <td>8751</td>\n",
       "      <td>False</td>\n",
       "      <td>False</td>\n",
       "      <td>앞으로 좀 더 깔끔한 영상제작 약속 드리겠습니다.늘 감사드립니다</td>\n",
       "      <td>KR</td>\n",
       "      <td>Entertainment</td>\n",
       "    </tr>\n",
       "    <tr>\n",
       "      <th>4</th>\n",
       "      <td>zrsBjYukE8s</td>\n",
       "      <td>박진영 (J.Y. Park) When We Disco (Duet with 선미) M/V</td>\n",
       "      <td>2020-08-11 09:00:13+00:00</td>\n",
       "      <td>UCaO6TYtlC8U5ttz62hTrZgg</td>\n",
       "      <td>JYP Entertainment</td>\n",
       "      <td>10</td>\n",
       "      <td>2020-08-12</td>\n",
       "      <td>JYP Entertainment|JYP|J.Y.Park|JYPark|박진영|선미|S...</td>\n",
       "      <td>3433885</td>\n",
       "      <td>353337</td>\n",
       "      <td>9763</td>\n",
       "      <td>23405</td>\n",
       "      <td>False</td>\n",
       "      <td>False</td>\n",
       "      <td>MelOn http://kko.to/TWyXd7zYjSpotify https://s...</td>\n",
       "      <td>KR</td>\n",
       "      <td>Music</td>\n",
       "    </tr>\n",
       "    <tr>\n",
       "      <th>...</th>\n",
       "      <td>...</td>\n",
       "      <td>...</td>\n",
       "      <td>...</td>\n",
       "      <td>...</td>\n",
       "      <td>...</td>\n",
       "      <td>...</td>\n",
       "      <td>...</td>\n",
       "      <td>...</td>\n",
       "      <td>...</td>\n",
       "      <td>...</td>\n",
       "      <td>...</td>\n",
       "      <td>...</td>\n",
       "      <td>...</td>\n",
       "      <td>...</td>\n",
       "      <td>...</td>\n",
       "      <td>...</td>\n",
       "      <td>...</td>\n",
       "    </tr>\n",
       "    <tr>\n",
       "      <th>53149</th>\n",
       "      <td>wkVlb8rSies</td>\n",
       "      <td>Dun Dun Dance</td>\n",
       "      <td>2021-05-10 09:00:32+00:00</td>\n",
       "      <td>UCArTAXmvvTohDgCsegudy4w</td>\n",
       "      <td>OH MY GIRL - Topic</td>\n",
       "      <td>10</td>\n",
       "      <td>2021-05-23</td>\n",
       "      <td>OH MY GIRL|オーマイガール|Dear OHMYGIRL|Dun Dun Dance</td>\n",
       "      <td>2637425</td>\n",
       "      <td>22788</td>\n",
       "      <td>742</td>\n",
       "      <td>5</td>\n",
       "      <td>False</td>\n",
       "      <td>False</td>\n",
       "      <td>Provided to YouTube by WM EntertainmentDun Dun...</td>\n",
       "      <td>KR</td>\n",
       "      <td>Music</td>\n",
       "    </tr>\n",
       "    <tr>\n",
       "      <th>53150</th>\n",
       "      <td>3Gqqr43XZ2s</td>\n",
       "      <td>오마이걸(OH MY GIRL) - Dun Dun Dance (Practice ver.)</td>\n",
       "      <td>2021-05-11 10:30:01+00:00</td>\n",
       "      <td>UC-qYkzKFdekoEniRu_FS3zg</td>\n",
       "      <td>OH MY GIRL</td>\n",
       "      <td>10</td>\n",
       "      <td>2021-05-23</td>\n",
       "      <td>오마이걸|OHMYGIRL</td>\n",
       "      <td>2256635</td>\n",
       "      <td>0</td>\n",
       "      <td>0</td>\n",
       "      <td>4157</td>\n",
       "      <td>False</td>\n",
       "      <td>True</td>\n",
       "      <td>오마이걸(OH MY GIRL) - Dun Dun Dance (Practice ver...</td>\n",
       "      <td>KR</td>\n",
       "      <td>Music</td>\n",
       "    </tr>\n",
       "    <tr>\n",
       "      <th>53151</th>\n",
       "      <td>AWU8HaHuSBk</td>\n",
       "      <td>K 빈지노가 K 추천하는 K-래퍼 5선 EP.13 [ENG]</td>\n",
       "      <td>2021-05-13 08:00:04+00:00</td>\n",
       "      <td>UCl-tyxErWS-1ElS8UM8jryQ</td>\n",
       "      <td>개인사업자 임성빈</td>\n",
       "      <td>22</td>\n",
       "      <td>2021-05-23</td>\n",
       "      <td>개인사업자 임성빈|개인사업자 빈지노|beenzino|빈지노|임성빈|빈지노 유튜브|b...</td>\n",
       "      <td>316996</td>\n",
       "      <td>4469</td>\n",
       "      <td>71</td>\n",
       "      <td>841</td>\n",
       "      <td>False</td>\n",
       "      <td>False</td>\n",
       "      <td>나만 아는 그런 아티스트가 있었다면           전 여러분에게 추천 박기도 전...</td>\n",
       "      <td>KR</td>\n",
       "      <td>People &amp; Blogs</td>\n",
       "    </tr>\n",
       "    <tr>\n",
       "      <th>53152</th>\n",
       "      <td>wIoms4zFQPI</td>\n",
       "      <td>BTS | The Rolling Stone Cover</td>\n",
       "      <td>2021-05-13 12:05:05+00:00</td>\n",
       "      <td>UC-JblcinswY50lrUdSaRNEg</td>\n",
       "      <td>Rolling Stone</td>\n",
       "      <td>24</td>\n",
       "      <td>2021-05-23</td>\n",
       "      <td>bts|rm|jimin|jungkook|jin|j-hope|suga</td>\n",
       "      <td>2371827</td>\n",
       "      <td>495754</td>\n",
       "      <td>1054</td>\n",
       "      <td>14454</td>\n",
       "      <td>False</td>\n",
       "      <td>False</td>\n",
       "      <td>Go behind the scenes of the BTS Rolling Stone ...</td>\n",
       "      <td>KR</td>\n",
       "      <td>Entertainment</td>\n",
       "    </tr>\n",
       "    <tr>\n",
       "      <th>53153</th>\n",
       "      <td>FHgiOvz6aUQ</td>\n",
       "      <td>영국에서 난리난 한국치킨을 먹으려고 드디어 재회한 영국쌍둥이!! (신부님+소령님)</td>\n",
       "      <td>2021-05-12 13:59:26+00:00</td>\n",
       "      <td>UCg-p3lQIqmhh7gHpyaOmOiQ</td>\n",
       "      <td>영국남자 Korean Englishman</td>\n",
       "      <td>23</td>\n",
       "      <td>2021-05-23</td>\n",
       "      <td>Korean|영국남자|영국|조쉬|올리|Josh|Ollie|KoreanEnglish|...</td>\n",
       "      <td>1055328</td>\n",
       "      <td>66603</td>\n",
       "      <td>1638</td>\n",
       "      <td>5536</td>\n",
       "      <td>False</td>\n",
       "      <td>False</td>\n",
       "      <td>영상의 모든 출연진을 포함한 스태프 전원은 촬영 이전 코로나19 음성 확진을 받았습...</td>\n",
       "      <td>KR</td>\n",
       "      <td>Comedy</td>\n",
       "    </tr>\n",
       "  </tbody>\n",
       "</table>\n",
       "<p>53154 rows × 17 columns</p>\n",
       "</div>"
      ],
      "text/plain": [
       "          video_id                                             title  \\\n",
       "0      uq5LClQN3cE                                       안녕하세요 보겸입니다   \n",
       "1      I-ZbZCHsHD0                                부락토스의 계획 [총몇명 프리퀄]   \n",
       "2      9d7jNUjBoss                                   평생 반성하면서 살겠습니다.   \n",
       "3      3pI_L3-sMVg                              안녕하세요 꽈뚜룹입니다.   \n",
       "4      zrsBjYukE8s  박진영 (J.Y. Park) When We Disco (Duet with 선미) M/V   \n",
       "...            ...                                               ...   \n",
       "53149  wkVlb8rSies                                     Dun Dun Dance   \n",
       "53150  3Gqqr43XZ2s  오마이걸(OH MY GIRL) - Dun Dun Dance (Practice ver.)   \n",
       "53151  AWU8HaHuSBk                 K 빈지노가 K 추천하는 K-래퍼 5선 EP.13 [ENG]   \n",
       "53152  wIoms4zFQPI                     BTS | The Rolling Stone Cover   \n",
       "53153  FHgiOvz6aUQ     영국에서 난리난 한국치킨을 먹으려고 드디어 재회한 영국쌍둥이!! (신부님+소령님)   \n",
       "\n",
       "                    publishedAt                 channelId  \\\n",
       "0     2020-08-09 09:32:48+00:00  UCu9BCtGIEr73LXZsKmoujKw   \n",
       "1     2020-08-12 09:00:08+00:00  UCRuSxVu4iqTK5kCh90ntAgA   \n",
       "2     2020-08-10 09:54:13+00:00  UCMVC92EOs9yDJG5JS-CMesQ   \n",
       "3     2020-08-11 15:00:58+00:00  UCkQCwnkQfgSuPTTnw_Y7v7w   \n",
       "4     2020-08-11 09:00:13+00:00  UCaO6TYtlC8U5ttz62hTrZgg   \n",
       "...                         ...                       ...   \n",
       "53149 2021-05-10 09:00:32+00:00  UCArTAXmvvTohDgCsegudy4w   \n",
       "53150 2021-05-11 10:30:01+00:00  UC-qYkzKFdekoEniRu_FS3zg   \n",
       "53151 2021-05-13 08:00:04+00:00  UCl-tyxErWS-1ElS8UM8jryQ   \n",
       "53152 2021-05-13 12:05:05+00:00  UC-JblcinswY50lrUdSaRNEg   \n",
       "53153 2021-05-12 13:59:26+00:00  UCg-p3lQIqmhh7gHpyaOmOiQ   \n",
       "\n",
       "                 channelTitle  categoryId trending_date  \\\n",
       "0                       보겸 BK          24    2020-08-12   \n",
       "1                         총몇명           1    2020-08-12   \n",
       "2                 양팡 YangPang          22    2020-08-12   \n",
       "3               꽈뚜룹 Quaddurup          24    2020-08-12   \n",
       "4           JYP Entertainment          10    2020-08-12   \n",
       "...                       ...         ...           ...   \n",
       "53149      OH MY GIRL - Topic          10    2021-05-23   \n",
       "53150              OH MY GIRL          10    2021-05-23   \n",
       "53151               개인사업자 임성빈          22    2021-05-23   \n",
       "53152           Rolling Stone          24    2021-05-23   \n",
       "53153  영국남자 Korean Englishman          23    2021-05-23   \n",
       "\n",
       "                                                    tags  view_count   likes  \\\n",
       "0                                              보겸|bokyem     5947503   53326   \n",
       "1                    총몇명|재밌는 만화|부락토스|루시퍼|총몇명 프리퀄|총몇명 스토리      963384   28244   \n",
       "2      양팡|양팡유튜브|팡튜브|가족시트콤|양팡가족|양팡가족시트콤|양팡언니|현실남매|현실자매...     2950885   17974   \n",
       "3      꽈뚜룹|한국여행기|quaddurup|뚜룹이|korea|southkorea|vlog|...     1743374   36893   \n",
       "4      JYP Entertainment|JYP|J.Y.Park|JYPark|박진영|선미|S...     3433885  353337   \n",
       "...                                                  ...         ...     ...   \n",
       "53149     OH MY GIRL|オーマイガール|Dear OHMYGIRL|Dun Dun Dance     2637425   22788   \n",
       "53150                                      오마이걸|OHMYGIRL     2256635       0   \n",
       "53151  개인사업자 임성빈|개인사업자 빈지노|beenzino|빈지노|임성빈|빈지노 유튜브|b...      316996    4469   \n",
       "53152              bts|rm|jimin|jungkook|jin|j-hope|suga     2371827  495754   \n",
       "53153  Korean|영국남자|영국|조쉬|올리|Josh|Ollie|KoreanEnglish|...     1055328   66603   \n",
       "\n",
       "       dislikes  comment_count  comments_disabled  ratings_disabled  \\\n",
       "0        105756         139946              False             False   \n",
       "1           494           3339              False             False   \n",
       "2         68898          50688              False             False   \n",
       "3          1798           8751              False             False   \n",
       "4          9763          23405              False             False   \n",
       "...         ...            ...                ...               ...   \n",
       "53149       742              5              False             False   \n",
       "53150         0           4157              False              True   \n",
       "53151        71            841              False             False   \n",
       "53152      1054          14454              False             False   \n",
       "53153      1638           5536              False             False   \n",
       "\n",
       "                                             description country  \\\n",
       "0                                                    NaN      KR   \n",
       "1      오늘도 정말 감사드립니다!!총몇명 스튜디오 - 총몇명, 십제곱, 5G민, MOVE혁...      KR   \n",
       "2                                                    NaN      KR   \n",
       "3                    앞으로 좀 더 깔끔한 영상제작 약속 드리겠습니다.늘 감사드립니다      KR   \n",
       "4      MelOn http://kko.to/TWyXd7zYjSpotify https://s...      KR   \n",
       "...                                                  ...     ...   \n",
       "53149  Provided to YouTube by WM EntertainmentDun Dun...      KR   \n",
       "53150  오마이걸(OH MY GIRL) - Dun Dun Dance (Practice ver...      KR   \n",
       "53151  나만 아는 그런 아티스트가 있었다면           전 여러분에게 추천 박기도 전...      KR   \n",
       "53152  Go behind the scenes of the BTS Rolling Stone ...      KR   \n",
       "53153  영상의 모든 출연진을 포함한 스태프 전원은 촬영 이전 코로나19 음성 확진을 받았습...      KR   \n",
       "\n",
       "          category_name  \n",
       "0         Entertainment  \n",
       "1      Film & Animation  \n",
       "2        People & Blogs  \n",
       "3         Entertainment  \n",
       "4                 Music  \n",
       "...                 ...  \n",
       "53149             Music  \n",
       "53150             Music  \n",
       "53151    People & Blogs  \n",
       "53152     Entertainment  \n",
       "53153            Comedy  \n",
       "\n",
       "[53154 rows x 17 columns]"
      ]
     },
     "execution_count": 108,
     "metadata": {},
     "output_type": "execute_result"
    }
   ],
   "source": [
    "df"
   ]
  }
 ],
 "metadata": {
  "kernelspec": {
   "display_name": "Python 3 (ipykernel)",
   "language": "python",
   "name": "python3"
  },
  "language_info": {
   "codemirror_mode": {
    "name": "ipython",
    "version": 3
   },
   "file_extension": ".py",
   "mimetype": "text/x-python",
   "name": "python",
   "nbconvert_exporter": "python",
   "pygments_lexer": "ipython3",
   "version": "3.9.13"
  }
 },
 "nbformat": 4,
 "nbformat_minor": 5
}
